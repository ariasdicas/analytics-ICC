{
 "cells": [
  {
   "cell_type": "markdown",
   "metadata": {},
   "source": [
    "### Procesamiento de data para identificar periodos análogos"
   ]
  },
  {
   "cell_type": "markdown",
   "metadata": {},
   "source": [
    "### Librerias"
   ]
  },
  {
   "cell_type": "code",
   "execution_count": 28,
   "metadata": {},
   "outputs": [
    {
     "name": "stdout",
     "output_type": "stream",
     "text": [
      "Requirement already satisfied: plotly in c:\\users\\darias\\anaconda3\\lib\\site-packages (5.19.0)"
     ]
    },
    {
     "name": "stderr",
     "output_type": "stream",
     "text": [
      "WARNING: Ignoring invalid distribution -umpy (c:\\users\\darias\\anaconda3\\lib\\site-packages)\n",
      "WARNING: Ignoring invalid distribution -umpy (c:\\users\\darias\\anaconda3\\lib\\site-packages)\n",
      "WARNING: Ignoring invalid distribution -umpy (c:\\users\\darias\\anaconda3\\lib\\site-packages)\n",
      "WARNING: Ignoring invalid distribution -umpy (c:\\users\\darias\\anaconda3\\lib\\site-packages)\n",
      "WARNING: Ignoring invalid distribution -umpy (c:\\users\\darias\\anaconda3\\lib\\site-packages)\n",
      "WARNING: Ignoring invalid distribution -umpy (c:\\users\\darias\\anaconda3\\lib\\site-packages)\n"
     ]
    },
    {
     "name": "stdout",
     "output_type": "stream",
     "text": [
      "\n",
      "Requirement already satisfied: packaging in c:\\users\\darias\\anaconda3\\lib\\site-packages (from plotly) (23.2)\n",
      "Requirement already satisfied: tenacity>=6.2.0 in c:\\users\\darias\\anaconda3\\lib\\site-packages (from plotly) (8.2.3)\n"
     ]
    }
   ],
   "source": [
    "! pip install plotly"
   ]
  },
  {
   "cell_type": "code",
   "execution_count": 29,
   "metadata": {},
   "outputs": [],
   "source": [
    "import pandas as pd\n",
    "%matplotlib inline\n",
    "import numpy as np\n",
    "import seaborn as sns\n",
    "import matplotlib.pyplot as plt\n",
    "import matplotlib.ticker as ticker\n",
    "import glob\n",
    "from pathlib import PureWindowsPath\n",
    "from datetime import datetime\n",
    "import re\n",
    "import warnings\n",
    "import os\n",
    "import xlrd\n",
    "from sklearn.cluster import KMeans\n",
    "from sklearn.preprocessing import StandardScaler\n",
    "from sklearn.cluster import KMeans\n",
    "import matplotlib.pyplot as plt\n",
    "import plotly.express as px\n",
    "\n",
    "from scipy.cluster.hierarchy import dendrogram, linkage\n",
    "from scipy.spatial.distance import pdist\n",
    "\n",
    "\n",
    "from scipy.cluster.hierarchy import linkage, fcluster\n",
    "from scipy.spatial.distance import pdist\n",
    "\n",
    "from sklearn.cluster import DBSCAN\n",
    "from sklearn.metrics import silhouette_score\n",
    "from sklearn.model_selection import GridSearchCV\n",
    "from sklearn.base import BaseEstimator, ClusterMixin\n",
    "from sklearn.metrics import silhouette_score, make_scorer\n",
    "\n",
    "\n",
    "warnings.filterwarnings(\"ignore\")\n",
    "# set the max columns to none\n",
    "pd.set_option('display.max_columns', None)"
   ]
  },
  {
   "cell_type": "markdown",
   "metadata": {},
   "source": [
    "En esta primera parte, se replican los resultados obtenidos del análisis de conglomerados para cada una de las variables utilizando el aplicativo Infostat. Para cada variable, se realiza un análisis de conglomerados aplicando el método de clustering jerárquico, sin normalizar los datos y utilizando el método de enlace promedio. Posteriormente, de forma visual, se identifican los periodos más semejantes."
   ]
  },
  {
   "cell_type": "code",
   "execution_count": 3,
   "metadata": {},
   "outputs": [],
   "source": [
    "### Cambiar estructura de tablas\n",
    "\n",
    "def estructura_df(df):\n",
    "    df= df.copy()\n",
    "    month_names = {1: 'Enero', 2: 'Febrero', 3: 'Marzo', 4: 'Abril', 5: 'Mayo', 6: 'Junio'}\n",
    "    df['Mes'] =df['Mes'].map(month_names)\n",
    "\n",
    "    df = df.set_index('Mes').transpose()\n",
    "    ordered_columns = ['Enero', 'Febrero', 'Marzo', 'Abril', 'Mayo', 'Junio']\n",
    "    df= df[ordered_columns]\n",
    "    df = df.reset_index()\n",
    "    df = df.rename(columns={'index': 'Año'})\n",
    "    df.index.name = None\n",
    "    df.columns.name = None\n",
    "   \n",
    "    return df"
   ]
  },
  {
   "cell_type": "markdown",
   "metadata": {},
   "source": [
    "####################################\n",
    "# Data lluvia\n",
    "####################################"
   ]
  },
  {
   "cell_type": "code",
   "execution_count": 81,
   "metadata": {},
   "outputs": [
    {
     "data": {
      "text/html": [
       "<div>\n",
       "<style scoped>\n",
       "    .dataframe tbody tr th:only-of-type {\n",
       "        vertical-align: middle;\n",
       "    }\n",
       "\n",
       "    .dataframe tbody tr th {\n",
       "        vertical-align: top;\n",
       "    }\n",
       "\n",
       "    .dataframe thead th {\n",
       "        text-align: right;\n",
       "    }\n",
       "</style>\n",
       "<table border=\"1\" class=\"dataframe\">\n",
       "  <thead>\n",
       "    <tr style=\"text-align: right;\">\n",
       "      <th></th>\n",
       "      <th>Año</th>\n",
       "      <th>Enero</th>\n",
       "      <th>Febrero</th>\n",
       "      <th>Marzo</th>\n",
       "      <th>Abril</th>\n",
       "      <th>Mayo</th>\n",
       "      <th>Junio</th>\n",
       "    </tr>\n",
       "  </thead>\n",
       "  <tbody>\n",
       "    <tr>\n",
       "      <th>0</th>\n",
       "      <td>1998</td>\n",
       "      <td>0.0</td>\n",
       "      <td>0.0</td>\n",
       "      <td>0.0</td>\n",
       "      <td>4.8</td>\n",
       "      <td>23.8</td>\n",
       "      <td>84.8</td>\n",
       "    </tr>\n",
       "    <tr>\n",
       "      <th>1</th>\n",
       "      <td>1999</td>\n",
       "      <td>0.4</td>\n",
       "      <td>49.6</td>\n",
       "      <td>47.8</td>\n",
       "      <td>294.0</td>\n",
       "      <td>494.2</td>\n",
       "      <td>662.4</td>\n",
       "    </tr>\n",
       "    <tr>\n",
       "      <th>2</th>\n",
       "      <td>2000</td>\n",
       "      <td>12.0</td>\n",
       "      <td>12.0</td>\n",
       "      <td>7.4</td>\n",
       "      <td>21.4</td>\n",
       "      <td>319.4</td>\n",
       "      <td>405.4</td>\n",
       "    </tr>\n",
       "    <tr>\n",
       "      <th>3</th>\n",
       "      <td>2001</td>\n",
       "      <td>1.4</td>\n",
       "      <td>68.0</td>\n",
       "      <td>25.2</td>\n",
       "      <td>91.8</td>\n",
       "      <td>501.8</td>\n",
       "      <td>633.8</td>\n",
       "    </tr>\n",
       "    <tr>\n",
       "      <th>4</th>\n",
       "      <td>2002</td>\n",
       "      <td>27.0</td>\n",
       "      <td>6.8</td>\n",
       "      <td>44.4</td>\n",
       "      <td>46.8</td>\n",
       "      <td>389.0</td>\n",
       "      <td>425.5</td>\n",
       "    </tr>\n",
       "  </tbody>\n",
       "</table>\n",
       "</div>"
      ],
      "text/plain": [
       "    Año  Enero  Febrero  Marzo  Abril   Mayo  Junio\n",
       "0  1998    0.0      0.0    0.0    4.8   23.8   84.8\n",
       "1  1999    0.4     49.6   47.8  294.0  494.2  662.4\n",
       "2  2000   12.0     12.0    7.4   21.4  319.4  405.4\n",
       "3  2001    1.4     68.0   25.2   91.8  501.8  633.8\n",
       "4  2002   27.0      6.8   44.4   46.8  389.0  425.5"
      ]
     },
     "execution_count": 81,
     "metadata": {},
     "output_type": "execute_result"
    }
   ],
   "source": [
    "df_lluvia=pd.read_excel(\"D:\\\\OneDrive - CGIAR\\\\Proyectos\\\\AgriLAC-ICC\\\\Analytics\\\\Datos para estimación años análogos junio 2024.xlsx\", sheet_name=\"Datos lluvias\")\n",
    "df_lluvia=estructura_df(df_lluvia)\n",
    "df_lluvia.head()"
   ]
  },
  {
   "cell_type": "code",
   "execution_count": 70,
   "metadata": {},
   "outputs": [
    {
     "data": {
      "text/html": [
       "<div>\n",
       "<style scoped>\n",
       "    .dataframe tbody tr th:only-of-type {\n",
       "        vertical-align: middle;\n",
       "    }\n",
       "\n",
       "    .dataframe tbody tr th {\n",
       "        vertical-align: top;\n",
       "    }\n",
       "\n",
       "    .dataframe thead th {\n",
       "        text-align: right;\n",
       "    }\n",
       "</style>\n",
       "<table border=\"1\" class=\"dataframe\">\n",
       "  <thead>\n",
       "    <tr style=\"text-align: right;\">\n",
       "      <th></th>\n",
       "      <th>Año</th>\n",
       "      <th>Mes</th>\n",
       "      <th>Lluvia</th>\n",
       "    </tr>\n",
       "  </thead>\n",
       "  <tbody>\n",
       "    <tr>\n",
       "      <th>0</th>\n",
       "      <td>1998</td>\n",
       "      <td>Enero</td>\n",
       "      <td>0.0</td>\n",
       "    </tr>\n",
       "    <tr>\n",
       "      <th>1</th>\n",
       "      <td>1999</td>\n",
       "      <td>Enero</td>\n",
       "      <td>0.4</td>\n",
       "    </tr>\n",
       "    <tr>\n",
       "      <th>2</th>\n",
       "      <td>2000</td>\n",
       "      <td>Enero</td>\n",
       "      <td>12.0</td>\n",
       "    </tr>\n",
       "    <tr>\n",
       "      <th>3</th>\n",
       "      <td>2001</td>\n",
       "      <td>Enero</td>\n",
       "      <td>1.4</td>\n",
       "    </tr>\n",
       "    <tr>\n",
       "      <th>4</th>\n",
       "      <td>2002</td>\n",
       "      <td>Enero</td>\n",
       "      <td>27.0</td>\n",
       "    </tr>\n",
       "    <tr>\n",
       "      <th>...</th>\n",
       "      <td>...</td>\n",
       "      <td>...</td>\n",
       "      <td>...</td>\n",
       "    </tr>\n",
       "    <tr>\n",
       "      <th>184</th>\n",
       "      <td>2020</td>\n",
       "      <td>Cluster</td>\n",
       "      <td>1.0</td>\n",
       "    </tr>\n",
       "    <tr>\n",
       "      <th>185</th>\n",
       "      <td>2021</td>\n",
       "      <td>Cluster</td>\n",
       "      <td>1.0</td>\n",
       "    </tr>\n",
       "    <tr>\n",
       "      <th>186</th>\n",
       "      <td>2022</td>\n",
       "      <td>Cluster</td>\n",
       "      <td>1.0</td>\n",
       "    </tr>\n",
       "    <tr>\n",
       "      <th>187</th>\n",
       "      <td>2023</td>\n",
       "      <td>Cluster</td>\n",
       "      <td>1.0</td>\n",
       "    </tr>\n",
       "    <tr>\n",
       "      <th>188</th>\n",
       "      <td>2024</td>\n",
       "      <td>Cluster</td>\n",
       "      <td>1.0</td>\n",
       "    </tr>\n",
       "  </tbody>\n",
       "</table>\n",
       "<p>189 rows × 3 columns</p>\n",
       "</div>"
      ],
      "text/plain": [
       "      Año      Mes  Lluvia\n",
       "0    1998    Enero     0.0\n",
       "1    1999    Enero     0.4\n",
       "2    2000    Enero    12.0\n",
       "3    2001    Enero     1.4\n",
       "4    2002    Enero    27.0\n",
       "..    ...      ...     ...\n",
       "184  2020  Cluster     1.0\n",
       "185  2021  Cluster     1.0\n",
       "186  2022  Cluster     1.0\n",
       "187  2023  Cluster     1.0\n",
       "188  2024  Cluster     1.0\n",
       "\n",
       "[189 rows x 3 columns]"
      ]
     },
     "execution_count": 70,
     "metadata": {},
     "output_type": "execute_result"
    }
   ],
   "source": [
    "#### tabla formato largo\n",
    "df_melted = df_lluvia.melt(id_vars='Año', var_name='Mes', value_name='Lluvia')\n",
    "df_melted"
   ]
  },
  {
   "cell_type": "markdown",
   "metadata": {},
   "source": [
    "####################################\n",
    "### Comportamiento de la lluvia por periodo\n",
    "####################################"
   ]
  },
  {
   "cell_type": "code",
   "execution_count": 66,
   "metadata": {},
   "outputs": [
    {
     "data": {
      "application/vnd.plotly.v1+json": {
       "config": {
        "plotlyServerURL": "https://plot.ly"
       },
       "data": [
        {
         "hovertemplate": "Año=1998<br>Mes=%{x}<br>Lluvia (mm)=%{y}<extra></extra>",
         "legendgroup": "1998",
         "line": {
          "color": "#636efa",
          "dash": "solid"
         },
         "marker": {
          "symbol": "circle"
         },
         "mode": "lines",
         "name": "1998",
         "orientation": "v",
         "showlegend": true,
         "type": "scatter",
         "x": [
          "Enero",
          "Febrero",
          "Marzo",
          "Abril",
          "Mayo",
          "Junio"
         ],
         "xaxis": "x",
         "y": [
          0,
          0,
          0,
          4.8,
          23.8,
          84.8
         ],
         "yaxis": "y"
        },
        {
         "hovertemplate": "Año=1999<br>Mes=%{x}<br>Lluvia (mm)=%{y}<extra></extra>",
         "legendgroup": "1999",
         "line": {
          "color": "#EF553B",
          "dash": "solid"
         },
         "marker": {
          "symbol": "circle"
         },
         "mode": "lines",
         "name": "1999",
         "orientation": "v",
         "showlegend": true,
         "type": "scatter",
         "x": [
          "Enero",
          "Febrero",
          "Marzo",
          "Abril",
          "Mayo",
          "Junio"
         ],
         "xaxis": "x",
         "y": [
          0.4,
          49.6,
          47.8,
          294,
          494.2,
          662.4
         ],
         "yaxis": "y"
        },
        {
         "hovertemplate": "Año=2000<br>Mes=%{x}<br>Lluvia (mm)=%{y}<extra></extra>",
         "legendgroup": "2000",
         "line": {
          "color": "#00cc96",
          "dash": "solid"
         },
         "marker": {
          "symbol": "circle"
         },
         "mode": "lines",
         "name": "2000",
         "orientation": "v",
         "showlegend": true,
         "type": "scatter",
         "x": [
          "Enero",
          "Febrero",
          "Marzo",
          "Abril",
          "Mayo",
          "Junio"
         ],
         "xaxis": "x",
         "y": [
          12,
          12,
          7.4,
          21.4,
          319.4,
          405.4
         ],
         "yaxis": "y"
        },
        {
         "hovertemplate": "Año=2001<br>Mes=%{x}<br>Lluvia (mm)=%{y}<extra></extra>",
         "legendgroup": "2001",
         "line": {
          "color": "#ab63fa",
          "dash": "solid"
         },
         "marker": {
          "symbol": "circle"
         },
         "mode": "lines",
         "name": "2001",
         "orientation": "v",
         "showlegend": true,
         "type": "scatter",
         "x": [
          "Enero",
          "Febrero",
          "Marzo",
          "Abril",
          "Mayo",
          "Junio"
         ],
         "xaxis": "x",
         "y": [
          1.4,
          68,
          25.2,
          91.8,
          501.8,
          633.8
         ],
         "yaxis": "y"
        },
        {
         "hovertemplate": "Año=2002<br>Mes=%{x}<br>Lluvia (mm)=%{y}<extra></extra>",
         "legendgroup": "2002",
         "line": {
          "color": "#FFA15A",
          "dash": "solid"
         },
         "marker": {
          "symbol": "circle"
         },
         "mode": "lines",
         "name": "2002",
         "orientation": "v",
         "showlegend": true,
         "type": "scatter",
         "x": [
          "Enero",
          "Febrero",
          "Marzo",
          "Abril",
          "Mayo",
          "Junio"
         ],
         "xaxis": "x",
         "y": [
          27,
          6.8,
          44.4,
          46.8,
          389,
          425.5
         ],
         "yaxis": "y"
        },
        {
         "hovertemplate": "Año=2003<br>Mes=%{x}<br>Lluvia (mm)=%{y}<extra></extra>",
         "legendgroup": "2003",
         "line": {
          "color": "#19d3f3",
          "dash": "solid"
         },
         "marker": {
          "symbol": "circle"
         },
         "mode": "lines",
         "name": "2003",
         "orientation": "v",
         "showlegend": true,
         "type": "scatter",
         "x": [
          "Enero",
          "Febrero",
          "Marzo",
          "Abril",
          "Mayo",
          "Junio"
         ],
         "xaxis": "x",
         "y": [
          0,
          39.7,
          85.6,
          283.3,
          1260.8,
          1122
         ],
         "yaxis": "y"
        },
        {
         "hovertemplate": "Año=2004<br>Mes=%{x}<br>Lluvia (mm)=%{y}<extra></extra>",
         "legendgroup": "2004",
         "line": {
          "color": "#FF6692",
          "dash": "solid"
         },
         "marker": {
          "symbol": "circle"
         },
         "mode": "lines",
         "name": "2004",
         "orientation": "v",
         "showlegend": true,
         "type": "scatter",
         "x": [
          "Enero",
          "Febrero",
          "Marzo",
          "Abril",
          "Mayo",
          "Junio"
         ],
         "xaxis": "x",
         "y": [
          12,
          24.6,
          108.4,
          70.9,
          757.6,
          505.8
         ],
         "yaxis": "y"
        },
        {
         "hovertemplate": "Año=2005<br>Mes=%{x}<br>Lluvia (mm)=%{y}<extra></extra>",
         "legendgroup": "2005",
         "line": {
          "color": "#B6E880",
          "dash": "solid"
         },
         "marker": {
          "symbol": "circle"
         },
         "mode": "lines",
         "name": "2005",
         "orientation": "v",
         "showlegend": true,
         "type": "scatter",
         "x": [
          "Enero",
          "Febrero",
          "Marzo",
          "Abril",
          "Mayo",
          "Junio"
         ],
         "xaxis": "x",
         "y": [
          34,
          1.8,
          60,
          162.2,
          581,
          1290.8
         ],
         "yaxis": "y"
        },
        {
         "hovertemplate": "Año=2006<br>Mes=%{x}<br>Lluvia (mm)=%{y}<extra></extra>",
         "legendgroup": "2006",
         "line": {
          "color": "#FF97FF",
          "dash": "solid"
         },
         "marker": {
          "symbol": "circle"
         },
         "mode": "lines",
         "name": "2006",
         "orientation": "v",
         "showlegend": true,
         "type": "scatter",
         "x": [
          "Enero",
          "Febrero",
          "Marzo",
          "Abril",
          "Mayo",
          "Junio"
         ],
         "xaxis": "x",
         "y": [
          23.7,
          0,
          0,
          196,
          433,
          289.3
         ],
         "yaxis": "y"
        },
        {
         "hovertemplate": "Año=2007<br>Mes=%{x}<br>Lluvia (mm)=%{y}<extra></extra>",
         "legendgroup": "2007",
         "line": {
          "color": "#FECB52",
          "dash": "solid"
         },
         "marker": {
          "symbol": "circle"
         },
         "mode": "lines",
         "name": "2007",
         "orientation": "v",
         "showlegend": true,
         "type": "scatter",
         "x": [
          "Enero",
          "Febrero",
          "Marzo",
          "Abril",
          "Mayo",
          "Junio"
         ],
         "xaxis": "x",
         "y": [
          0,
          18,
          44.2,
          265.2,
          484.8,
          587.4
         ],
         "yaxis": "y"
        },
        {
         "hovertemplate": "Año=2008<br>Mes=%{x}<br>Lluvia (mm)=%{y}<extra></extra>",
         "legendgroup": "2008",
         "line": {
          "color": "#636efa",
          "dash": "solid"
         },
         "marker": {
          "symbol": "circle"
         },
         "mode": "lines",
         "name": "2008",
         "orientation": "v",
         "showlegend": true,
         "type": "scatter",
         "x": [
          "Enero",
          "Febrero",
          "Marzo",
          "Abril",
          "Mayo",
          "Junio"
         ],
         "xaxis": "x",
         "y": [
          0,
          73.4,
          66.4,
          176,
          208.6,
          654.6
         ],
         "yaxis": "y"
        },
        {
         "hovertemplate": "Año=2009<br>Mes=%{x}<br>Lluvia (mm)=%{y}<extra></extra>",
         "legendgroup": "2009",
         "line": {
          "color": "#EF553B",
          "dash": "solid"
         },
         "marker": {
          "symbol": "circle"
         },
         "mode": "lines",
         "name": "2009",
         "orientation": "v",
         "showlegend": true,
         "type": "scatter",
         "x": [
          "Enero",
          "Febrero",
          "Marzo",
          "Abril",
          "Mayo",
          "Junio"
         ],
         "xaxis": "x",
         "y": [
          46.3,
          5.8,
          36.6,
          54.2,
          671.6,
          689.2
         ],
         "yaxis": "y"
        },
        {
         "hovertemplate": "Año=2010<br>Mes=%{x}<br>Lluvia (mm)=%{y}<extra></extra>",
         "legendgroup": "2010",
         "line": {
          "color": "#00cc96",
          "dash": "solid"
         },
         "marker": {
          "symbol": "circle"
         },
         "mode": "lines",
         "name": "2010",
         "orientation": "v",
         "showlegend": true,
         "type": "scatter",
         "x": [
          "Enero",
          "Febrero",
          "Marzo",
          "Abril",
          "Mayo",
          "Junio"
         ],
         "xaxis": "x",
         "y": [
          26.2,
          2.6,
          7,
          301,
          859.6,
          782.4
         ],
         "yaxis": "y"
        },
        {
         "hovertemplate": "Año=2011<br>Mes=%{x}<br>Lluvia (mm)=%{y}<extra></extra>",
         "legendgroup": "2011",
         "line": {
          "color": "#ab63fa",
          "dash": "solid"
         },
         "marker": {
          "symbol": "circle"
         },
         "mode": "lines",
         "name": "2011",
         "orientation": "v",
         "showlegend": true,
         "type": "scatter",
         "x": [
          "Enero",
          "Febrero",
          "Marzo",
          "Abril",
          "Mayo",
          "Junio"
         ],
         "xaxis": "x",
         "y": [
          69,
          79.8,
          82.6,
          251,
          530.8,
          449
         ],
         "yaxis": "y"
        },
        {
         "hovertemplate": "Año=2012<br>Mes=%{x}<br>Lluvia (mm)=%{y}<extra></extra>",
         "legendgroup": "2012",
         "line": {
          "color": "#FFA15A",
          "dash": "solid"
         },
         "marker": {
          "symbol": "circle"
         },
         "mode": "lines",
         "name": "2012",
         "orientation": "v",
         "showlegend": true,
         "type": "scatter",
         "x": [
          "Enero",
          "Febrero",
          "Marzo",
          "Abril",
          "Mayo",
          "Junio"
         ],
         "xaxis": "x",
         "y": [
          27.6,
          21.6,
          137.4,
          308.2,
          500.8,
          282.8
         ],
         "yaxis": "y"
        },
        {
         "hovertemplate": "Año=2013<br>Mes=%{x}<br>Lluvia (mm)=%{y}<extra></extra>",
         "legendgroup": "2013",
         "line": {
          "color": "#19d3f3",
          "dash": "solid"
         },
         "marker": {
          "symbol": "circle"
         },
         "mode": "lines",
         "name": "2013",
         "orientation": "v",
         "showlegend": true,
         "type": "scatter",
         "x": [
          "Enero",
          "Febrero",
          "Marzo",
          "Abril",
          "Mayo",
          "Junio"
         ],
         "xaxis": "x",
         "y": [
          7,
          106.2,
          21.2,
          112,
          470,
          565
         ],
         "yaxis": "y"
        },
        {
         "hovertemplate": "Año=2014<br>Mes=%{x}<br>Lluvia (mm)=%{y}<extra></extra>",
         "legendgroup": "2014",
         "line": {
          "color": "#FF6692",
          "dash": "solid"
         },
         "marker": {
          "symbol": "circle"
         },
         "mode": "lines",
         "name": "2014",
         "orientation": "v",
         "showlegend": true,
         "type": "scatter",
         "x": [
          "Enero",
          "Febrero",
          "Marzo",
          "Abril",
          "Mayo",
          "Junio"
         ],
         "xaxis": "x",
         "y": [
          3.6,
          112.8,
          112.4,
          279.6,
          642.2,
          445
         ],
         "yaxis": "y"
        },
        {
         "hovertemplate": "Año=2015<br>Mes=%{x}<br>Lluvia (mm)=%{y}<extra></extra>",
         "legendgroup": "2015",
         "line": {
          "color": "#B6E880",
          "dash": "solid"
         },
         "marker": {
          "symbol": "circle"
         },
         "mode": "lines",
         "name": "2015",
         "orientation": "v",
         "showlegend": true,
         "type": "scatter",
         "x": [
          "Enero",
          "Febrero",
          "Marzo",
          "Abril",
          "Mayo",
          "Junio"
         ],
         "xaxis": "x",
         "y": [
          61.2,
          0.4,
          134.2,
          198.8,
          268.4,
          302.8
         ],
         "yaxis": "y"
        },
        {
         "hovertemplate": "Año=2016<br>Mes=%{x}<br>Lluvia (mm)=%{y}<extra></extra>",
         "legendgroup": "2016",
         "line": {
          "color": "#FF97FF",
          "dash": "solid"
         },
         "marker": {
          "symbol": "circle"
         },
         "mode": "lines",
         "name": "2016",
         "orientation": "v",
         "showlegend": true,
         "type": "scatter",
         "x": [
          "Enero",
          "Febrero",
          "Marzo",
          "Abril",
          "Mayo",
          "Junio"
         ],
         "xaxis": "x",
         "y": [
          33.4,
          43.6,
          36,
          196.2,
          304.4,
          507
         ],
         "yaxis": "y"
        },
        {
         "hovertemplate": "Año=2017<br>Mes=%{x}<br>Lluvia (mm)=%{y}<extra></extra>",
         "legendgroup": "2017",
         "line": {
          "color": "#FECB52",
          "dash": "solid"
         },
         "marker": {
          "symbol": "circle"
         },
         "mode": "lines",
         "name": "2017",
         "orientation": "v",
         "showlegend": true,
         "type": "scatter",
         "x": [
          "Enero",
          "Febrero",
          "Marzo",
          "Abril",
          "Mayo",
          "Junio"
         ],
         "xaxis": "x",
         "y": [
          10.8,
          10.8,
          20,
          137,
          473.6,
          420.4
         ],
         "yaxis": "y"
        },
        {
         "hovertemplate": "Año=2018<br>Mes=%{x}<br>Lluvia (mm)=%{y}<extra></extra>",
         "legendgroup": "2018",
         "line": {
          "color": "#636efa",
          "dash": "solid"
         },
         "marker": {
          "symbol": "circle"
         },
         "mode": "lines",
         "name": "2018",
         "orientation": "v",
         "showlegend": true,
         "type": "scatter",
         "x": [
          "Enero",
          "Febrero",
          "Marzo",
          "Abril",
          "Mayo",
          "Junio"
         ],
         "xaxis": "x",
         "y": [
          38.2,
          30.6,
          73.6,
          219.6,
          548,
          284.4
         ],
         "yaxis": "y"
        },
        {
         "hovertemplate": "Año=2019<br>Mes=%{x}<br>Lluvia (mm)=%{y}<extra></extra>",
         "legendgroup": "2019",
         "line": {
          "color": "#EF553B",
          "dash": "solid"
         },
         "marker": {
          "symbol": "circle"
         },
         "mode": "lines",
         "name": "2019",
         "orientation": "v",
         "showlegend": true,
         "type": "scatter",
         "x": [
          "Enero",
          "Febrero",
          "Marzo",
          "Abril",
          "Mayo",
          "Junio"
         ],
         "xaxis": "x",
         "y": [
          18,
          13.6,
          90,
          55.6,
          597.6,
          332.6
         ],
         "yaxis": "y"
        },
        {
         "hovertemplate": "Año=2020<br>Mes=%{x}<br>Lluvia (mm)=%{y}<extra></extra>",
         "legendgroup": "2020",
         "line": {
          "color": "#00cc96",
          "dash": "solid"
         },
         "marker": {
          "symbol": "circle"
         },
         "mode": "lines",
         "name": "2020",
         "orientation": "v",
         "showlegend": true,
         "type": "scatter",
         "x": [
          "Enero",
          "Febrero",
          "Marzo",
          "Abril",
          "Mayo",
          "Junio"
         ],
         "xaxis": "x",
         "y": [
          21.6,
          50.6,
          18.8,
          141,
          508.6,
          594
         ],
         "yaxis": "y"
        },
        {
         "hovertemplate": "Año=2021<br>Mes=%{x}<br>Lluvia (mm)=%{y}<extra></extra>",
         "legendgroup": "2021",
         "line": {
          "color": "#ab63fa",
          "dash": "solid"
         },
         "marker": {
          "symbol": "circle"
         },
         "mode": "lines",
         "name": "2021",
         "orientation": "v",
         "showlegend": true,
         "type": "scatter",
         "x": [
          "Enero",
          "Febrero",
          "Marzo",
          "Abril",
          "Mayo",
          "Junio"
         ],
         "xaxis": "x",
         "y": [
          80,
          44,
          108.2,
          249.4,
          633.4,
          447.8
         ],
         "yaxis": "y"
        },
        {
         "hovertemplate": "Año=2022<br>Mes=%{x}<br>Lluvia (mm)=%{y}<extra></extra>",
         "legendgroup": "2022",
         "line": {
          "color": "#FFA15A",
          "dash": "solid"
         },
         "marker": {
          "symbol": "circle"
         },
         "mode": "lines",
         "name": "2022",
         "orientation": "v",
         "showlegend": true,
         "type": "scatter",
         "x": [
          "Enero",
          "Febrero",
          "Marzo",
          "Abril",
          "Mayo",
          "Junio"
         ],
         "xaxis": "x",
         "y": [
          42.4,
          1,
          58.2,
          357.4,
          456.8,
          545.6
         ],
         "yaxis": "y"
        },
        {
         "hovertemplate": "Año=2023<br>Mes=%{x}<br>Lluvia (mm)=%{y}<extra></extra>",
         "legendgroup": "2023",
         "line": {
          "color": "#19d3f3",
          "dash": "solid"
         },
         "marker": {
          "symbol": "circle"
         },
         "mode": "lines",
         "name": "2023",
         "orientation": "v",
         "showlegend": true,
         "type": "scatter",
         "x": [
          "Enero",
          "Febrero",
          "Marzo",
          "Abril",
          "Mayo",
          "Junio"
         ],
         "xaxis": "x",
         "y": [
          43.2,
          0.4,
          216,
          113.2,
          247.2,
          474.2
         ],
         "yaxis": "y"
        },
        {
         "hovertemplate": "Año=2024<br>Mes=%{x}<br>Lluvia (mm)=%{y}<extra></extra>",
         "legendgroup": "2024",
         "line": {
          "color": "#FF6692",
          "dash": "solid"
         },
         "marker": {
          "symbol": "circle"
         },
         "mode": "lines",
         "name": "2024",
         "orientation": "v",
         "showlegend": true,
         "type": "scatter",
         "x": [
          "Enero",
          "Febrero",
          "Marzo",
          "Abril",
          "Mayo",
          "Junio"
         ],
         "xaxis": "x",
         "y": [
          2.6,
          11.6,
          0,
          141.6,
          239.4,
          650
         ],
         "yaxis": "y"
        }
       ],
       "layout": {
        "legend": {
         "title": {
          "text": "Año"
         },
         "tracegroupgap": 0
        },
        "template": {
         "data": {
          "bar": [
           {
            "error_x": {
             "color": "#2a3f5f"
            },
            "error_y": {
             "color": "#2a3f5f"
            },
            "marker": {
             "line": {
              "color": "#E5ECF6",
              "width": 0.5
             },
             "pattern": {
              "fillmode": "overlay",
              "size": 10,
              "solidity": 0.2
             }
            },
            "type": "bar"
           }
          ],
          "barpolar": [
           {
            "marker": {
             "line": {
              "color": "#E5ECF6",
              "width": 0.5
             },
             "pattern": {
              "fillmode": "overlay",
              "size": 10,
              "solidity": 0.2
             }
            },
            "type": "barpolar"
           }
          ],
          "carpet": [
           {
            "aaxis": {
             "endlinecolor": "#2a3f5f",
             "gridcolor": "white",
             "linecolor": "white",
             "minorgridcolor": "white",
             "startlinecolor": "#2a3f5f"
            },
            "baxis": {
             "endlinecolor": "#2a3f5f",
             "gridcolor": "white",
             "linecolor": "white",
             "minorgridcolor": "white",
             "startlinecolor": "#2a3f5f"
            },
            "type": "carpet"
           }
          ],
          "choropleth": [
           {
            "colorbar": {
             "outlinewidth": 0,
             "ticks": ""
            },
            "type": "choropleth"
           }
          ],
          "contour": [
           {
            "colorbar": {
             "outlinewidth": 0,
             "ticks": ""
            },
            "colorscale": [
             [
              0,
              "#0d0887"
             ],
             [
              0.1111111111111111,
              "#46039f"
             ],
             [
              0.2222222222222222,
              "#7201a8"
             ],
             [
              0.3333333333333333,
              "#9c179e"
             ],
             [
              0.4444444444444444,
              "#bd3786"
             ],
             [
              0.5555555555555556,
              "#d8576b"
             ],
             [
              0.6666666666666666,
              "#ed7953"
             ],
             [
              0.7777777777777778,
              "#fb9f3a"
             ],
             [
              0.8888888888888888,
              "#fdca26"
             ],
             [
              1,
              "#f0f921"
             ]
            ],
            "type": "contour"
           }
          ],
          "contourcarpet": [
           {
            "colorbar": {
             "outlinewidth": 0,
             "ticks": ""
            },
            "type": "contourcarpet"
           }
          ],
          "heatmap": [
           {
            "colorbar": {
             "outlinewidth": 0,
             "ticks": ""
            },
            "colorscale": [
             [
              0,
              "#0d0887"
             ],
             [
              0.1111111111111111,
              "#46039f"
             ],
             [
              0.2222222222222222,
              "#7201a8"
             ],
             [
              0.3333333333333333,
              "#9c179e"
             ],
             [
              0.4444444444444444,
              "#bd3786"
             ],
             [
              0.5555555555555556,
              "#d8576b"
             ],
             [
              0.6666666666666666,
              "#ed7953"
             ],
             [
              0.7777777777777778,
              "#fb9f3a"
             ],
             [
              0.8888888888888888,
              "#fdca26"
             ],
             [
              1,
              "#f0f921"
             ]
            ],
            "type": "heatmap"
           }
          ],
          "heatmapgl": [
           {
            "colorbar": {
             "outlinewidth": 0,
             "ticks": ""
            },
            "colorscale": [
             [
              0,
              "#0d0887"
             ],
             [
              0.1111111111111111,
              "#46039f"
             ],
             [
              0.2222222222222222,
              "#7201a8"
             ],
             [
              0.3333333333333333,
              "#9c179e"
             ],
             [
              0.4444444444444444,
              "#bd3786"
             ],
             [
              0.5555555555555556,
              "#d8576b"
             ],
             [
              0.6666666666666666,
              "#ed7953"
             ],
             [
              0.7777777777777778,
              "#fb9f3a"
             ],
             [
              0.8888888888888888,
              "#fdca26"
             ],
             [
              1,
              "#f0f921"
             ]
            ],
            "type": "heatmapgl"
           }
          ],
          "histogram": [
           {
            "marker": {
             "pattern": {
              "fillmode": "overlay",
              "size": 10,
              "solidity": 0.2
             }
            },
            "type": "histogram"
           }
          ],
          "histogram2d": [
           {
            "colorbar": {
             "outlinewidth": 0,
             "ticks": ""
            },
            "colorscale": [
             [
              0,
              "#0d0887"
             ],
             [
              0.1111111111111111,
              "#46039f"
             ],
             [
              0.2222222222222222,
              "#7201a8"
             ],
             [
              0.3333333333333333,
              "#9c179e"
             ],
             [
              0.4444444444444444,
              "#bd3786"
             ],
             [
              0.5555555555555556,
              "#d8576b"
             ],
             [
              0.6666666666666666,
              "#ed7953"
             ],
             [
              0.7777777777777778,
              "#fb9f3a"
             ],
             [
              0.8888888888888888,
              "#fdca26"
             ],
             [
              1,
              "#f0f921"
             ]
            ],
            "type": "histogram2d"
           }
          ],
          "histogram2dcontour": [
           {
            "colorbar": {
             "outlinewidth": 0,
             "ticks": ""
            },
            "colorscale": [
             [
              0,
              "#0d0887"
             ],
             [
              0.1111111111111111,
              "#46039f"
             ],
             [
              0.2222222222222222,
              "#7201a8"
             ],
             [
              0.3333333333333333,
              "#9c179e"
             ],
             [
              0.4444444444444444,
              "#bd3786"
             ],
             [
              0.5555555555555556,
              "#d8576b"
             ],
             [
              0.6666666666666666,
              "#ed7953"
             ],
             [
              0.7777777777777778,
              "#fb9f3a"
             ],
             [
              0.8888888888888888,
              "#fdca26"
             ],
             [
              1,
              "#f0f921"
             ]
            ],
            "type": "histogram2dcontour"
           }
          ],
          "mesh3d": [
           {
            "colorbar": {
             "outlinewidth": 0,
             "ticks": ""
            },
            "type": "mesh3d"
           }
          ],
          "parcoords": [
           {
            "line": {
             "colorbar": {
              "outlinewidth": 0,
              "ticks": ""
             }
            },
            "type": "parcoords"
           }
          ],
          "pie": [
           {
            "automargin": true,
            "type": "pie"
           }
          ],
          "scatter": [
           {
            "fillpattern": {
             "fillmode": "overlay",
             "size": 10,
             "solidity": 0.2
            },
            "type": "scatter"
           }
          ],
          "scatter3d": [
           {
            "line": {
             "colorbar": {
              "outlinewidth": 0,
              "ticks": ""
             }
            },
            "marker": {
             "colorbar": {
              "outlinewidth": 0,
              "ticks": ""
             }
            },
            "type": "scatter3d"
           }
          ],
          "scattercarpet": [
           {
            "marker": {
             "colorbar": {
              "outlinewidth": 0,
              "ticks": ""
             }
            },
            "type": "scattercarpet"
           }
          ],
          "scattergeo": [
           {
            "marker": {
             "colorbar": {
              "outlinewidth": 0,
              "ticks": ""
             }
            },
            "type": "scattergeo"
           }
          ],
          "scattergl": [
           {
            "marker": {
             "colorbar": {
              "outlinewidth": 0,
              "ticks": ""
             }
            },
            "type": "scattergl"
           }
          ],
          "scattermapbox": [
           {
            "marker": {
             "colorbar": {
              "outlinewidth": 0,
              "ticks": ""
             }
            },
            "type": "scattermapbox"
           }
          ],
          "scatterpolar": [
           {
            "marker": {
             "colorbar": {
              "outlinewidth": 0,
              "ticks": ""
             }
            },
            "type": "scatterpolar"
           }
          ],
          "scatterpolargl": [
           {
            "marker": {
             "colorbar": {
              "outlinewidth": 0,
              "ticks": ""
             }
            },
            "type": "scatterpolargl"
           }
          ],
          "scatterternary": [
           {
            "marker": {
             "colorbar": {
              "outlinewidth": 0,
              "ticks": ""
             }
            },
            "type": "scatterternary"
           }
          ],
          "surface": [
           {
            "colorbar": {
             "outlinewidth": 0,
             "ticks": ""
            },
            "colorscale": [
             [
              0,
              "#0d0887"
             ],
             [
              0.1111111111111111,
              "#46039f"
             ],
             [
              0.2222222222222222,
              "#7201a8"
             ],
             [
              0.3333333333333333,
              "#9c179e"
             ],
             [
              0.4444444444444444,
              "#bd3786"
             ],
             [
              0.5555555555555556,
              "#d8576b"
             ],
             [
              0.6666666666666666,
              "#ed7953"
             ],
             [
              0.7777777777777778,
              "#fb9f3a"
             ],
             [
              0.8888888888888888,
              "#fdca26"
             ],
             [
              1,
              "#f0f921"
             ]
            ],
            "type": "surface"
           }
          ],
          "table": [
           {
            "cells": {
             "fill": {
              "color": "#EBF0F8"
             },
             "line": {
              "color": "white"
             }
            },
            "header": {
             "fill": {
              "color": "#C8D4E3"
             },
             "line": {
              "color": "white"
             }
            },
            "type": "table"
           }
          ]
         },
         "layout": {
          "annotationdefaults": {
           "arrowcolor": "#2a3f5f",
           "arrowhead": 0,
           "arrowwidth": 1
          },
          "autotypenumbers": "strict",
          "coloraxis": {
           "colorbar": {
            "outlinewidth": 0,
            "ticks": ""
           }
          },
          "colorscale": {
           "diverging": [
            [
             0,
             "#8e0152"
            ],
            [
             0.1,
             "#c51b7d"
            ],
            [
             0.2,
             "#de77ae"
            ],
            [
             0.3,
             "#f1b6da"
            ],
            [
             0.4,
             "#fde0ef"
            ],
            [
             0.5,
             "#f7f7f7"
            ],
            [
             0.6,
             "#e6f5d0"
            ],
            [
             0.7,
             "#b8e186"
            ],
            [
             0.8,
             "#7fbc41"
            ],
            [
             0.9,
             "#4d9221"
            ],
            [
             1,
             "#276419"
            ]
           ],
           "sequential": [
            [
             0,
             "#0d0887"
            ],
            [
             0.1111111111111111,
             "#46039f"
            ],
            [
             0.2222222222222222,
             "#7201a8"
            ],
            [
             0.3333333333333333,
             "#9c179e"
            ],
            [
             0.4444444444444444,
             "#bd3786"
            ],
            [
             0.5555555555555556,
             "#d8576b"
            ],
            [
             0.6666666666666666,
             "#ed7953"
            ],
            [
             0.7777777777777778,
             "#fb9f3a"
            ],
            [
             0.8888888888888888,
             "#fdca26"
            ],
            [
             1,
             "#f0f921"
            ]
           ],
           "sequentialminus": [
            [
             0,
             "#0d0887"
            ],
            [
             0.1111111111111111,
             "#46039f"
            ],
            [
             0.2222222222222222,
             "#7201a8"
            ],
            [
             0.3333333333333333,
             "#9c179e"
            ],
            [
             0.4444444444444444,
             "#bd3786"
            ],
            [
             0.5555555555555556,
             "#d8576b"
            ],
            [
             0.6666666666666666,
             "#ed7953"
            ],
            [
             0.7777777777777778,
             "#fb9f3a"
            ],
            [
             0.8888888888888888,
             "#fdca26"
            ],
            [
             1,
             "#f0f921"
            ]
           ]
          },
          "colorway": [
           "#636efa",
           "#EF553B",
           "#00cc96",
           "#ab63fa",
           "#FFA15A",
           "#19d3f3",
           "#FF6692",
           "#B6E880",
           "#FF97FF",
           "#FECB52"
          ],
          "font": {
           "color": "#2a3f5f"
          },
          "geo": {
           "bgcolor": "white",
           "lakecolor": "white",
           "landcolor": "#E5ECF6",
           "showlakes": true,
           "showland": true,
           "subunitcolor": "white"
          },
          "hoverlabel": {
           "align": "left"
          },
          "hovermode": "closest",
          "mapbox": {
           "style": "light"
          },
          "paper_bgcolor": "white",
          "plot_bgcolor": "#E5ECF6",
          "polar": {
           "angularaxis": {
            "gridcolor": "white",
            "linecolor": "white",
            "ticks": ""
           },
           "bgcolor": "#E5ECF6",
           "radialaxis": {
            "gridcolor": "white",
            "linecolor": "white",
            "ticks": ""
           }
          },
          "scene": {
           "xaxis": {
            "backgroundcolor": "#E5ECF6",
            "gridcolor": "white",
            "gridwidth": 2,
            "linecolor": "white",
            "showbackground": true,
            "ticks": "",
            "zerolinecolor": "white"
           },
           "yaxis": {
            "backgroundcolor": "#E5ECF6",
            "gridcolor": "white",
            "gridwidth": 2,
            "linecolor": "white",
            "showbackground": true,
            "ticks": "",
            "zerolinecolor": "white"
           },
           "zaxis": {
            "backgroundcolor": "#E5ECF6",
            "gridcolor": "white",
            "gridwidth": 2,
            "linecolor": "white",
            "showbackground": true,
            "ticks": "",
            "zerolinecolor": "white"
           }
          },
          "shapedefaults": {
           "line": {
            "color": "#2a3f5f"
           }
          },
          "ternary": {
           "aaxis": {
            "gridcolor": "white",
            "linecolor": "white",
            "ticks": ""
           },
           "baxis": {
            "gridcolor": "white",
            "linecolor": "white",
            "ticks": ""
           },
           "bgcolor": "#E5ECF6",
           "caxis": {
            "gridcolor": "white",
            "linecolor": "white",
            "ticks": ""
           }
          },
          "title": {
           "x": 0.05
          },
          "xaxis": {
           "automargin": true,
           "gridcolor": "white",
           "linecolor": "white",
           "ticks": "",
           "title": {
            "standoff": 15
           },
           "zerolinecolor": "white",
           "zerolinewidth": 2
          },
          "yaxis": {
           "automargin": true,
           "gridcolor": "white",
           "linecolor": "white",
           "ticks": "",
           "title": {
            "standoff": 15
           },
           "zerolinecolor": "white",
           "zerolinewidth": 2
          }
         }
        },
        "title": {
         "text": "Comportamiento de Lluvias por Año"
        },
        "xaxis": {
         "anchor": "y",
         "domain": [
          0,
          1
         ],
         "title": {
          "text": "Mes"
         }
        },
        "yaxis": {
         "anchor": "x",
         "domain": [
          0,
          1
         ],
         "title": {
          "text": "Lluvia (mm)"
         }
        }
       }
      }
     },
     "metadata": {},
     "output_type": "display_data"
    }
   ],
   "source": [
    "\n",
    "meses_orden = [\"Enero\", \"Febrero\", \"Marzo\", \"Abril\", \"Mayo\", \"Junio\"]\n",
    "df_melted['Mes'] = pd.Categorical(df_melted['Mes'], categories=meses_orden, ordered=True)\n",
    "\n",
    "# Graficar la serie de tiempo\n",
    "fig = px.line(df_melted, x='Mes', y='Lluvia', color='Año',\n",
    "              labels={'Mes': 'Mes', 'Lluvia': 'Lluvia (mm)', 'Año': 'Año'},\n",
    "              title='Comportamiento de Lluvias por Año')\n",
    "\n",
    "fig.show()"
   ]
  },
  {
   "cell_type": "code",
   "execution_count": 72,
   "metadata": {},
   "outputs": [
    {
     "data": {
      "image/png": "[encoded data removed]",
      "text/plain": [
       "<Figure size 1000x700 with 1 Axes>"
      ]
     },
     "metadata": {},
     "output_type": "display_data"
    },
    {
     "data": {
      "text/html": [
       "<div>\n",
       "<style scoped>\n",
       "    .dataframe tbody tr th:only-of-type {\n",
       "        vertical-align: middle;\n",
       "    }\n",
       "\n",
       "    .dataframe tbody tr th {\n",
       "        vertical-align: top;\n",
       "    }\n",
       "\n",
       "    .dataframe thead th {\n",
       "        text-align: right;\n",
       "    }\n",
       "</style>\n",
       "<table border=\"1\" class=\"dataframe\">\n",
       "  <thead>\n",
       "    <tr style=\"text-align: right;\">\n",
       "      <th></th>\n",
       "      <th>Cluster1</th>\n",
       "      <th>Cluster2</th>\n",
       "      <th>Cluster3</th>\n",
       "      <th>Cluster4</th>\n",
       "      <th>Cluster5</th>\n",
       "      <th>Cluster6</th>\n",
       "    </tr>\n",
       "  </thead>\n",
       "  <tbody>\n",
       "    <tr>\n",
       "      <th>0</th>\n",
       "      <td>1999</td>\n",
       "      <td>2004.0</td>\n",
       "      <td>2010.0</td>\n",
       "      <td>1998.0</td>\n",
       "      <td>2003.0</td>\n",
       "      <td>2005.0</td>\n",
       "    </tr>\n",
       "    <tr>\n",
       "      <th>1</th>\n",
       "      <td>2000</td>\n",
       "      <td>2009.0</td>\n",
       "      <td>NaN</td>\n",
       "      <td>NaN</td>\n",
       "      <td>NaN</td>\n",
       "      <td>NaN</td>\n",
       "    </tr>\n",
       "    <tr>\n",
       "      <th>2</th>\n",
       "      <td>2001</td>\n",
       "      <td>NaN</td>\n",
       "      <td>NaN</td>\n",
       "      <td>NaN</td>\n",
       "      <td>NaN</td>\n",
       "      <td>NaN</td>\n",
       "    </tr>\n",
       "    <tr>\n",
       "      <th>3</th>\n",
       "      <td>2002</td>\n",
       "      <td>NaN</td>\n",
       "      <td>NaN</td>\n",
       "      <td>NaN</td>\n",
       "      <td>NaN</td>\n",
       "      <td>NaN</td>\n",
       "    </tr>\n",
       "    <tr>\n",
       "      <th>4</th>\n",
       "      <td>2006</td>\n",
       "      <td>NaN</td>\n",
       "      <td>NaN</td>\n",
       "      <td>NaN</td>\n",
       "      <td>NaN</td>\n",
       "      <td>NaN</td>\n",
       "    </tr>\n",
       "    <tr>\n",
       "      <th>5</th>\n",
       "      <td>2007</td>\n",
       "      <td>NaN</td>\n",
       "      <td>NaN</td>\n",
       "      <td>NaN</td>\n",
       "      <td>NaN</td>\n",
       "      <td>NaN</td>\n",
       "    </tr>\n",
       "    <tr>\n",
       "      <th>6</th>\n",
       "      <td>2008</td>\n",
       "      <td>NaN</td>\n",
       "      <td>NaN</td>\n",
       "      <td>NaN</td>\n",
       "      <td>NaN</td>\n",
       "      <td>NaN</td>\n",
       "    </tr>\n",
       "    <tr>\n",
       "      <th>7</th>\n",
       "      <td>2011</td>\n",
       "      <td>NaN</td>\n",
       "      <td>NaN</td>\n",
       "      <td>NaN</td>\n",
       "      <td>NaN</td>\n",
       "      <td>NaN</td>\n",
       "    </tr>\n",
       "    <tr>\n",
       "      <th>8</th>\n",
       "      <td>2012</td>\n",
       "      <td>NaN</td>\n",
       "      <td>NaN</td>\n",
       "      <td>NaN</td>\n",
       "      <td>NaN</td>\n",
       "      <td>NaN</td>\n",
       "    </tr>\n",
       "    <tr>\n",
       "      <th>9</th>\n",
       "      <td>2013</td>\n",
       "      <td>NaN</td>\n",
       "      <td>NaN</td>\n",
       "      <td>NaN</td>\n",
       "      <td>NaN</td>\n",
       "      <td>NaN</td>\n",
       "    </tr>\n",
       "    <tr>\n",
       "      <th>10</th>\n",
       "      <td>2014</td>\n",
       "      <td>NaN</td>\n",
       "      <td>NaN</td>\n",
       "      <td>NaN</td>\n",
       "      <td>NaN</td>\n",
       "      <td>NaN</td>\n",
       "    </tr>\n",
       "    <tr>\n",
       "      <th>11</th>\n",
       "      <td>2015</td>\n",
       "      <td>NaN</td>\n",
       "      <td>NaN</td>\n",
       "      <td>NaN</td>\n",
       "      <td>NaN</td>\n",
       "      <td>NaN</td>\n",
       "    </tr>\n",
       "    <tr>\n",
       "      <th>12</th>\n",
       "      <td>2016</td>\n",
       "      <td>NaN</td>\n",
       "      <td>NaN</td>\n",
       "      <td>NaN</td>\n",
       "      <td>NaN</td>\n",
       "      <td>NaN</td>\n",
       "    </tr>\n",
       "    <tr>\n",
       "      <th>13</th>\n",
       "      <td>2017</td>\n",
       "      <td>NaN</td>\n",
       "      <td>NaN</td>\n",
       "      <td>NaN</td>\n",
       "      <td>NaN</td>\n",
       "      <td>NaN</td>\n",
       "    </tr>\n",
       "    <tr>\n",
       "      <th>14</th>\n",
       "      <td>2018</td>\n",
       "      <td>NaN</td>\n",
       "      <td>NaN</td>\n",
       "      <td>NaN</td>\n",
       "      <td>NaN</td>\n",
       "      <td>NaN</td>\n",
       "    </tr>\n",
       "    <tr>\n",
       "      <th>15</th>\n",
       "      <td>2019</td>\n",
       "      <td>NaN</td>\n",
       "      <td>NaN</td>\n",
       "      <td>NaN</td>\n",
       "      <td>NaN</td>\n",
       "      <td>NaN</td>\n",
       "    </tr>\n",
       "    <tr>\n",
       "      <th>16</th>\n",
       "      <td>2020</td>\n",
       "      <td>NaN</td>\n",
       "      <td>NaN</td>\n",
       "      <td>NaN</td>\n",
       "      <td>NaN</td>\n",
       "      <td>NaN</td>\n",
       "    </tr>\n",
       "    <tr>\n",
       "      <th>17</th>\n",
       "      <td>2021</td>\n",
       "      <td>NaN</td>\n",
       "      <td>NaN</td>\n",
       "      <td>NaN</td>\n",
       "      <td>NaN</td>\n",
       "      <td>NaN</td>\n",
       "    </tr>\n",
       "    <tr>\n",
       "      <th>18</th>\n",
       "      <td>2022</td>\n",
       "      <td>NaN</td>\n",
       "      <td>NaN</td>\n",
       "      <td>NaN</td>\n",
       "      <td>NaN</td>\n",
       "      <td>NaN</td>\n",
       "    </tr>\n",
       "    <tr>\n",
       "      <th>19</th>\n",
       "      <td>2023</td>\n",
       "      <td>NaN</td>\n",
       "      <td>NaN</td>\n",
       "      <td>NaN</td>\n",
       "      <td>NaN</td>\n",
       "      <td>NaN</td>\n",
       "    </tr>\n",
       "    <tr>\n",
       "      <th>20</th>\n",
       "      <td>2024</td>\n",
       "      <td>NaN</td>\n",
       "      <td>NaN</td>\n",
       "      <td>NaN</td>\n",
       "      <td>NaN</td>\n",
       "      <td>NaN</td>\n",
       "    </tr>\n",
       "  </tbody>\n",
       "</table>\n",
       "</div>"
      ],
      "text/plain": [
       "    Cluster1  Cluster2  Cluster3  Cluster4  Cluster5  Cluster6\n",
       "0       1999    2004.0    2010.0    1998.0    2003.0    2005.0\n",
       "1       2000    2009.0       NaN       NaN       NaN       NaN\n",
       "2       2001       NaN       NaN       NaN       NaN       NaN\n",
       "3       2002       NaN       NaN       NaN       NaN       NaN\n",
       "4       2006       NaN       NaN       NaN       NaN       NaN\n",
       "5       2007       NaN       NaN       NaN       NaN       NaN\n",
       "6       2008       NaN       NaN       NaN       NaN       NaN\n",
       "7       2011       NaN       NaN       NaN       NaN       NaN\n",
       "8       2012       NaN       NaN       NaN       NaN       NaN\n",
       "9       2013       NaN       NaN       NaN       NaN       NaN\n",
       "10      2014       NaN       NaN       NaN       NaN       NaN\n",
       "11      2015       NaN       NaN       NaN       NaN       NaN\n",
       "12      2016       NaN       NaN       NaN       NaN       NaN\n",
       "13      2017       NaN       NaN       NaN       NaN       NaN\n",
       "14      2018       NaN       NaN       NaN       NaN       NaN\n",
       "15      2019       NaN       NaN       NaN       NaN       NaN\n",
       "16      2020       NaN       NaN       NaN       NaN       NaN\n",
       "17      2021       NaN       NaN       NaN       NaN       NaN\n",
       "18      2022       NaN       NaN       NaN       NaN       NaN\n",
       "19      2023       NaN       NaN       NaN       NaN       NaN\n",
       "20      2024       NaN       NaN       NaN       NaN       NaN"
      ]
     },
     "execution_count": 72,
     "metadata": {},
     "output_type": "execute_result"
    }
   ],
   "source": [
    "# Normalizar los datos (opcional, pero recomendable)\n",
    "df_scaled = df_lluvia.copy()\n",
    "#df_scaled.iloc[:, 1:] = (df_scaled.iloc[:, 1:] - df_scaled.iloc[:, 1:].mean()) / df_scaled.iloc[:, 1:].std()\n",
    "\n",
    "# Calcular la matriz de distancias\n",
    "dist_matrix = pdist(df_scaled.iloc[:, 1:], metric='euclidean')\n",
    "\n",
    "# Aplicar el algoritmo de clustering jerárquico\n",
    "Z = linkage(dist_matrix, method='average')\n",
    "\n",
    "# Dibujar el dendrograma\n",
    "plt.figure(figsize=(10, 7))\n",
    "dendrogram(Z, labels=df_lluvia['Año'].values, leaf_rotation=90)\n",
    "plt.title('Dendrograma de Clustering Jerárquico')\n",
    "plt.xlabel('Año')\n",
    "plt.ylabel('Distancia')\n",
    "plt.show()\n",
    "\n",
    "\n",
    "\n",
    "\n",
    "#  criterio para el número máximo de clusters\n",
    "max_clusters = 6 # máximo de 5 clusters\n",
    "clusters = fcluster(Z, max_clusters, criterion='maxclust')\n",
    "\n",
    "df_lluvia['Cluster'] = clusters\n",
    "\n",
    "df_lluvia[['Año', 'Cluster']]\n",
    "\n",
    "\n",
    "# Agrupar los años por cada cluster\n",
    "cluster_groups = df_lluvia.groupby('Cluster')['Año'].apply(list).reset_index()\n",
    "\n",
    "\n",
    "cluster_results = {}\n",
    "for index, row in cluster_groups.iterrows():\n",
    "    cluster_results[f'Cluster{row[\"Cluster\"]}'] = row['Año']\n",
    "\n",
    "lluvia= pd.DataFrame(dict([(k, pd.Series(v)) for k, v in cluster_results.items()]))\n",
    "\n",
    "\n",
    "lluvia"
   ]
  },
  {
   "cell_type": "code",
   "execution_count": 88,
   "metadata": {},
   "outputs": [],
   "source": [
    "# Transformar tabla para obtener columnas \"Año\" y \"Cluster\"\n",
    "clusters_melted = lluvia.melt(var_name='ClusterLluvia', value_name='Año').dropna().reset_index(drop=True)\n"
   ]
  },
  {
   "cell_type": "markdown",
   "metadata": {},
   "source": [
    "### Resultado por el programa de  Infostat (lluvia) 6 clusters"
   ]
  },
  {
   "attachments": {
    "image.png": {
     "image/png": "[encoded data removed]"
    }
   },
   "cell_type": "markdown",
   "metadata": {},
   "source": [
    "![image.png](attachment:image.png)"
   ]
  },
  {
   "cell_type": "code",
   "execution_count": 97,
   "metadata": {},
   "outputs": [
    {
     "data": {
      "text/html": [
       "<div>\n",
       "<style scoped>\n",
       "    .dataframe tbody tr th:only-of-type {\n",
       "        vertical-align: middle;\n",
       "    }\n",
       "\n",
       "    .dataframe tbody tr th {\n",
       "        vertical-align: top;\n",
       "    }\n",
       "\n",
       "    .dataframe thead th {\n",
       "        text-align: right;\n",
       "    }\n",
       "</style>\n",
       "<table border=\"1\" class=\"dataframe\">\n",
       "  <thead>\n",
       "    <tr style=\"text-align: right;\">\n",
       "      <th></th>\n",
       "      <th>Año</th>\n",
       "      <th>Enero</th>\n",
       "      <th>Febrero</th>\n",
       "      <th>Marzo</th>\n",
       "      <th>Abril</th>\n",
       "      <th>Mayo</th>\n",
       "      <th>Junio</th>\n",
       "      <th>ClusterLluvia</th>\n",
       "    </tr>\n",
       "  </thead>\n",
       "  <tbody>\n",
       "    <tr>\n",
       "      <th>0</th>\n",
       "      <td>1998</td>\n",
       "      <td>0.0</td>\n",
       "      <td>0.0</td>\n",
       "      <td>0.0</td>\n",
       "      <td>4.8</td>\n",
       "      <td>23.8</td>\n",
       "      <td>84.8</td>\n",
       "      <td>Cluster4</td>\n",
       "    </tr>\n",
       "    <tr>\n",
       "      <th>1</th>\n",
       "      <td>1999</td>\n",
       "      <td>0.4</td>\n",
       "      <td>49.6</td>\n",
       "      <td>47.8</td>\n",
       "      <td>294.0</td>\n",
       "      <td>494.2</td>\n",
       "      <td>662.4</td>\n",
       "      <td>Cluster1</td>\n",
       "    </tr>\n",
       "    <tr>\n",
       "      <th>2</th>\n",
       "      <td>2000</td>\n",
       "      <td>12.0</td>\n",
       "      <td>12.0</td>\n",
       "      <td>7.4</td>\n",
       "      <td>21.4</td>\n",
       "      <td>319.4</td>\n",
       "      <td>405.4</td>\n",
       "      <td>Cluster1</td>\n",
       "    </tr>\n",
       "    <tr>\n",
       "      <th>3</th>\n",
       "      <td>2001</td>\n",
       "      <td>1.4</td>\n",
       "      <td>68.0</td>\n",
       "      <td>25.2</td>\n",
       "      <td>91.8</td>\n",
       "      <td>501.8</td>\n",
       "      <td>633.8</td>\n",
       "      <td>Cluster1</td>\n",
       "    </tr>\n",
       "    <tr>\n",
       "      <th>4</th>\n",
       "      <td>2002</td>\n",
       "      <td>27.0</td>\n",
       "      <td>6.8</td>\n",
       "      <td>44.4</td>\n",
       "      <td>46.8</td>\n",
       "      <td>389.0</td>\n",
       "      <td>425.5</td>\n",
       "      <td>Cluster1</td>\n",
       "    </tr>\n",
       "  </tbody>\n",
       "</table>\n",
       "</div>"
      ],
      "text/plain": [
       "    Año  Enero  Febrero  Marzo  Abril   Mayo  Junio ClusterLluvia\n",
       "0  1998    0.0      0.0    0.0    4.8   23.8   84.8      Cluster4\n",
       "1  1999    0.4     49.6   47.8  294.0  494.2  662.4      Cluster1\n",
       "2  2000   12.0     12.0    7.4   21.4  319.4  405.4      Cluster1\n",
       "3  2001    1.4     68.0   25.2   91.8  501.8  633.8      Cluster1\n",
       "4  2002   27.0      6.8   44.4   46.8  389.0  425.5      Cluster1"
      ]
     },
     "execution_count": 97,
     "metadata": {},
     "output_type": "execute_result"
    }
   ],
   "source": [
    "df_lluvia_clusters = df_lluvia.merge(clusters_melted, on='Año', how='left')\n",
    "df_lluvia_clusters.head()"
   ]
  },
  {
   "cell_type": "code",
   "execution_count": 90,
   "metadata": {},
   "outputs": [
    {
     "data": {
      "text/html": [
       "<div>\n",
       "<style scoped>\n",
       "    .dataframe tbody tr th:only-of-type {\n",
       "        vertical-align: middle;\n",
       "    }\n",
       "\n",
       "    .dataframe tbody tr th {\n",
       "        vertical-align: top;\n",
       "    }\n",
       "\n",
       "    .dataframe thead th {\n",
       "        text-align: right;\n",
       "    }\n",
       "</style>\n",
       "<table border=\"1\" class=\"dataframe\">\n",
       "  <thead>\n",
       "    <tr style=\"text-align: right;\">\n",
       "      <th></th>\n",
       "      <th>Año</th>\n",
       "      <th>ClusterLluvia</th>\n",
       "      <th>Mes</th>\n",
       "      <th>Lluvia</th>\n",
       "    </tr>\n",
       "  </thead>\n",
       "  <tbody>\n",
       "    <tr>\n",
       "      <th>0</th>\n",
       "      <td>1998</td>\n",
       "      <td>Cluster4</td>\n",
       "      <td>Enero</td>\n",
       "      <td>0.0</td>\n",
       "    </tr>\n",
       "    <tr>\n",
       "      <th>1</th>\n",
       "      <td>1999</td>\n",
       "      <td>Cluster1</td>\n",
       "      <td>Enero</td>\n",
       "      <td>0.4</td>\n",
       "    </tr>\n",
       "    <tr>\n",
       "      <th>2</th>\n",
       "      <td>2000</td>\n",
       "      <td>Cluster1</td>\n",
       "      <td>Enero</td>\n",
       "      <td>12.0</td>\n",
       "    </tr>\n",
       "    <tr>\n",
       "      <th>3</th>\n",
       "      <td>2001</td>\n",
       "      <td>Cluster1</td>\n",
       "      <td>Enero</td>\n",
       "      <td>1.4</td>\n",
       "    </tr>\n",
       "    <tr>\n",
       "      <th>4</th>\n",
       "      <td>2002</td>\n",
       "      <td>Cluster1</td>\n",
       "      <td>Enero</td>\n",
       "      <td>27.0</td>\n",
       "    </tr>\n",
       "    <tr>\n",
       "      <th>...</th>\n",
       "      <td>...</td>\n",
       "      <td>...</td>\n",
       "      <td>...</td>\n",
       "      <td>...</td>\n",
       "    </tr>\n",
       "    <tr>\n",
       "      <th>157</th>\n",
       "      <td>2020</td>\n",
       "      <td>Cluster1</td>\n",
       "      <td>Junio</td>\n",
       "      <td>594.0</td>\n",
       "    </tr>\n",
       "    <tr>\n",
       "      <th>158</th>\n",
       "      <td>2021</td>\n",
       "      <td>Cluster1</td>\n",
       "      <td>Junio</td>\n",
       "      <td>447.8</td>\n",
       "    </tr>\n",
       "    <tr>\n",
       "      <th>159</th>\n",
       "      <td>2022</td>\n",
       "      <td>Cluster1</td>\n",
       "      <td>Junio</td>\n",
       "      <td>545.6</td>\n",
       "    </tr>\n",
       "    <tr>\n",
       "      <th>160</th>\n",
       "      <td>2023</td>\n",
       "      <td>Cluster1</td>\n",
       "      <td>Junio</td>\n",
       "      <td>474.2</td>\n",
       "    </tr>\n",
       "    <tr>\n",
       "      <th>161</th>\n",
       "      <td>2024</td>\n",
       "      <td>Cluster1</td>\n",
       "      <td>Junio</td>\n",
       "      <td>650.0</td>\n",
       "    </tr>\n",
       "  </tbody>\n",
       "</table>\n",
       "<p>162 rows × 4 columns</p>\n",
       "</div>"
      ],
      "text/plain": [
       "      Año ClusterLluvia    Mes  Lluvia\n",
       "0    1998      Cluster4  Enero     0.0\n",
       "1    1999      Cluster1  Enero     0.4\n",
       "2    2000      Cluster1  Enero    12.0\n",
       "3    2001      Cluster1  Enero     1.4\n",
       "4    2002      Cluster1  Enero    27.0\n",
       "..    ...           ...    ...     ...\n",
       "157  2020      Cluster1  Junio   594.0\n",
       "158  2021      Cluster1  Junio   447.8\n",
       "159  2022      Cluster1  Junio   545.6\n",
       "160  2023      Cluster1  Junio   474.2\n",
       "161  2024      Cluster1  Junio   650.0\n",
       "\n",
       "[162 rows x 4 columns]"
      ]
     },
     "execution_count": 90,
     "metadata": {},
     "output_type": "execute_result"
    }
   ],
   "source": [
    "df_melted = df_lluvia_clusters.melt(id_vars=['Año', 'ClusterLluvia'], \n",
    "                           var_name='Mes', \n",
    "                           value_name='Lluvia')\n",
    "df_melted"
   ]
  },
  {
   "cell_type": "code",
   "execution_count": 91,
   "metadata": {},
   "outputs": [
    {
     "data": {
      "application/vnd.plotly.v1+json": {
       "config": {
        "plotlyServerURL": "https://plot.ly"
       },
       "data": [
        {
         "hovertemplate": "Cluster=Cluster4<br>Mes=%{x}<br>Lluvia (mm)=%{y}<extra></extra>",
         "legendgroup": "Cluster4",
         "line": {
          "color": "#636efa",
          "dash": "solid"
         },
         "marker": {
          "symbol": "circle"
         },
         "mode": "lines",
         "name": "Cluster4",
         "orientation": "v",
         "showlegend": true,
         "type": "scatter",
         "x": [
          "Enero",
          "Febrero",
          "Marzo",
          "Abril",
          "Mayo",
          "Junio"
         ],
         "xaxis": "x",
         "y": [
          0,
          0,
          0,
          4.8,
          23.8,
          84.8
         ],
         "yaxis": "y"
        },
        {
         "hovertemplate": "Cluster=Cluster1<br>Mes=%{x}<br>Lluvia (mm)=%{y}<extra></extra>",
         "legendgroup": "Cluster1",
         "line": {
          "color": "#EF553B",
          "dash": "solid"
         },
         "marker": {
          "symbol": "circle"
         },
         "mode": "lines",
         "name": "Cluster1",
         "orientation": "v",
         "showlegend": true,
         "type": "scatter",
         "x": [
          "Enero",
          "Enero",
          "Enero",
          "Enero",
          "Enero",
          "Enero",
          "Enero",
          "Enero",
          "Enero",
          "Enero",
          "Enero",
          "Enero",
          "Enero",
          "Enero",
          "Enero",
          "Enero",
          "Enero",
          "Enero",
          "Enero",
          "Enero",
          "Enero",
          "Febrero",
          "Febrero",
          "Febrero",
          "Febrero",
          "Febrero",
          "Febrero",
          "Febrero",
          "Febrero",
          "Febrero",
          "Febrero",
          "Febrero",
          "Febrero",
          "Febrero",
          "Febrero",
          "Febrero",
          "Febrero",
          "Febrero",
          "Febrero",
          "Febrero",
          "Febrero",
          "Febrero",
          "Marzo",
          "Marzo",
          "Marzo",
          "Marzo",
          "Marzo",
          "Marzo",
          "Marzo",
          "Marzo",
          "Marzo",
          "Marzo",
          "Marzo",
          "Marzo",
          "Marzo",
          "Marzo",
          "Marzo",
          "Marzo",
          "Marzo",
          "Marzo",
          "Marzo",
          "Marzo",
          "Marzo",
          "Abril",
          "Abril",
          "Abril",
          "Abril",
          "Abril",
          "Abril",
          "Abril",
          "Abril",
          "Abril",
          "Abril",
          "Abril",
          "Abril",
          "Abril",
          "Abril",
          "Abril",
          "Abril",
          "Abril",
          "Abril",
          "Abril",
          "Abril",
          "Abril",
          "Mayo",
          "Mayo",
          "Mayo",
          "Mayo",
          "Mayo",
          "Mayo",
          "Mayo",
          "Mayo",
          "Mayo",
          "Mayo",
          "Mayo",
          "Mayo",
          "Mayo",
          "Mayo",
          "Mayo",
          "Mayo",
          "Mayo",
          "Mayo",
          "Mayo",
          "Mayo",
          "Mayo",
          "Junio",
          "Junio",
          "Junio",
          "Junio",
          "Junio",
          "Junio",
          "Junio",
          "Junio",
          "Junio",
          "Junio",
          "Junio",
          "Junio",
          "Junio",
          "Junio",
          "Junio",
          "Junio",
          "Junio",
          "Junio",
          "Junio",
          "Junio",
          "Junio"
         ],
         "xaxis": "x",
         "y": [
          0.4,
          12,
          1.4,
          27,
          23.7,
          0,
          0,
          69,
          27.6,
          7,
          3.6,
          61.2,
          33.4,
          10.8,
          38.2,
          18,
          21.6,
          80,
          42.4,
          43.2,
          2.6,
          49.6,
          12,
          68,
          6.8,
          0,
          18,
          73.4,
          79.8,
          21.6,
          106.2,
          112.8,
          0.4,
          43.6,
          10.8,
          30.6,
          13.6,
          50.6,
          44,
          1,
          0.4,
          11.6,
          47.8,
          7.4,
          25.2,
          44.4,
          0,
          44.2,
          66.4,
          82.6,
          137.4,
          21.2,
          112.4,
          134.2,
          36,
          20,
          73.6,
          90,
          18.8,
          108.2,
          58.2,
          216,
          0,
          294,
          21.4,
          91.8,
          46.8,
          196,
          265.2,
          176,
          251,
          308.2,
          112,
          279.6,
          198.8,
          196.2,
          137,
          219.6,
          55.6,
          141,
          249.4,
          357.4,
          113.2,
          141.6,
          494.2,
          319.4,
          501.8,
          389,
          433,
          484.8,
          208.6,
          530.8,
          500.8,
          470,
          642.2,
          268.4,
          304.4,
          473.6,
          548,
          597.6,
          508.6,
          633.4,
          456.8,
          247.2,
          239.4,
          662.4,
          405.4,
          633.8,
          425.5,
          289.3,
          587.4,
          654.6,
          449,
          282.8,
          565,
          445,
          302.8,
          507,
          420.4,
          284.4,
          332.6,
          594,
          447.8,
          545.6,
          474.2,
          650
         ],
         "yaxis": "y"
        },
        {
         "hovertemplate": "Cluster=Cluster5<br>Mes=%{x}<br>Lluvia (mm)=%{y}<extra></extra>",
         "legendgroup": "Cluster5",
         "line": {
          "color": "#00cc96",
          "dash": "solid"
         },
         "marker": {
          "symbol": "circle"
         },
         "mode": "lines",
         "name": "Cluster5",
         "orientation": "v",
         "showlegend": true,
         "type": "scatter",
         "x": [
          "Enero",
          "Febrero",
          "Marzo",
          "Abril",
          "Mayo",
          "Junio"
         ],
         "xaxis": "x",
         "y": [
          0,
          39.7,
          85.6,
          283.3,
          1260.8,
          1122
         ],
         "yaxis": "y"
        },
        {
         "hovertemplate": "Cluster=Cluster2<br>Mes=%{x}<br>Lluvia (mm)=%{y}<extra></extra>",
         "legendgroup": "Cluster2",
         "line": {
          "color": "#ab63fa",
          "dash": "solid"
         },
         "marker": {
          "symbol": "circle"
         },
         "mode": "lines",
         "name": "Cluster2",
         "orientation": "v",
         "showlegend": true,
         "type": "scatter",
         "x": [
          "Enero",
          "Enero",
          "Febrero",
          "Febrero",
          "Marzo",
          "Marzo",
          "Abril",
          "Abril",
          "Mayo",
          "Mayo",
          "Junio",
          "Junio"
         ],
         "xaxis": "x",
         "y": [
          12,
          46.3,
          24.6,
          5.8,
          108.4,
          36.6,
          70.9,
          54.2,
          757.6,
          671.6,
          505.8,
          689.2
         ],
         "yaxis": "y"
        },
        {
         "hovertemplate": "Cluster=Cluster6<br>Mes=%{x}<br>Lluvia (mm)=%{y}<extra></extra>",
         "legendgroup": "Cluster6",
         "line": {
          "color": "#FFA15A",
          "dash": "solid"
         },
         "marker": {
          "symbol": "circle"
         },
         "mode": "lines",
         "name": "Cluster6",
         "orientation": "v",
         "showlegend": true,
         "type": "scatter",
         "x": [
          "Enero",
          "Febrero",
          "Marzo",
          "Abril",
          "Mayo",
          "Junio"
         ],
         "xaxis": "x",
         "y": [
          34,
          1.8,
          60,
          162.2,
          581,
          1290.8
         ],
         "yaxis": "y"
        },
        {
         "hovertemplate": "Cluster=Cluster3<br>Mes=%{x}<br>Lluvia (mm)=%{y}<extra></extra>",
         "legendgroup": "Cluster3",
         "line": {
          "color": "#19d3f3",
          "dash": "solid"
         },
         "marker": {
          "symbol": "circle"
         },
         "mode": "lines",
         "name": "Cluster3",
         "orientation": "v",
         "showlegend": true,
         "type": "scatter",
         "x": [
          "Enero",
          "Febrero",
          "Marzo",
          "Abril",
          "Mayo",
          "Junio"
         ],
         "xaxis": "x",
         "y": [
          26.2,
          2.6,
          7,
          301,
          859.6,
          782.4
         ],
         "yaxis": "y"
        }
       ],
       "layout": {
        "legend": {
         "title": {
          "text": "Cluster"
         },
         "tracegroupgap": 0
        },
        "template": {
         "data": {
          "bar": [
           {
            "error_x": {
             "color": "#2a3f5f"
            },
            "error_y": {
             "color": "#2a3f5f"
            },
            "marker": {
             "line": {
              "color": "#E5ECF6",
              "width": 0.5
             },
             "pattern": {
              "fillmode": "overlay",
              "size": 10,
              "solidity": 0.2
             }
            },
            "type": "bar"
           }
          ],
          "barpolar": [
           {
            "marker": {
             "line": {
              "color": "#E5ECF6",
              "width": 0.5
             },
             "pattern": {
              "fillmode": "overlay",
              "size": 10,
              "solidity": 0.2
             }
            },
            "type": "barpolar"
           }
          ],
          "carpet": [
           {
            "aaxis": {
             "endlinecolor": "#2a3f5f",
             "gridcolor": "white",
             "linecolor": "white",
             "minorgridcolor": "white",
             "startlinecolor": "#2a3f5f"
            },
            "baxis": {
             "endlinecolor": "#2a3f5f",
             "gridcolor": "white",
             "linecolor": "white",
             "minorgridcolor": "white",
             "startlinecolor": "#2a3f5f"
            },
            "type": "carpet"
           }
          ],
          "choropleth": [
           {
            "colorbar": {
             "outlinewidth": 0,
             "ticks": ""
            },
            "type": "choropleth"
           }
          ],
          "contour": [
           {
            "colorbar": {
             "outlinewidth": 0,
             "ticks": ""
            },
            "colorscale": [
             [
              0,
              "#0d0887"
             ],
             [
              0.1111111111111111,
              "#46039f"
             ],
             [
              0.2222222222222222,
              "#7201a8"
             ],
             [
              0.3333333333333333,
              "#9c179e"
             ],
             [
              0.4444444444444444,
              "#bd3786"
             ],
             [
              0.5555555555555556,
              "#d8576b"
             ],
             [
              0.6666666666666666,
              "#ed7953"
             ],
             [
              0.7777777777777778,
              "#fb9f3a"
             ],
             [
              0.8888888888888888,
              "#fdca26"
             ],
             [
              1,
              "#f0f921"
             ]
            ],
            "type": "contour"
           }
          ],
          "contourcarpet": [
           {
            "colorbar": {
             "outlinewidth": 0,
             "ticks": ""
            },
            "type": "contourcarpet"
           }
          ],
          "heatmap": [
           {
            "colorbar": {
             "outlinewidth": 0,
             "ticks": ""
            },
            "colorscale": [
             [
              0,
              "#0d0887"
             ],
             [
              0.1111111111111111,
              "#46039f"
             ],
             [
              0.2222222222222222,
              "#7201a8"
             ],
             [
              0.3333333333333333,
              "#9c179e"
             ],
             [
              0.4444444444444444,
              "#bd3786"
             ],
             [
              0.5555555555555556,
              "#d8576b"
             ],
             [
              0.6666666666666666,
              "#ed7953"
             ],
             [
              0.7777777777777778,
              "#fb9f3a"
             ],
             [
              0.8888888888888888,
              "#fdca26"
             ],
             [
              1,
              "#f0f921"
             ]
            ],
            "type": "heatmap"
           }
          ],
          "heatmapgl": [
           {
            "colorbar": {
             "outlinewidth": 0,
             "ticks": ""
            },
            "colorscale": [
             [
              0,
              "#0d0887"
             ],
             [
              0.1111111111111111,
              "#46039f"
             ],
             [
              0.2222222222222222,
              "#7201a8"
             ],
             [
              0.3333333333333333,
              "#9c179e"
             ],
             [
              0.4444444444444444,
              "#bd3786"
             ],
             [
              0.5555555555555556,
              "#d8576b"
             ],
             [
              0.6666666666666666,
              "#ed7953"
             ],
             [
              0.7777777777777778,
              "#fb9f3a"
             ],
             [
              0.8888888888888888,
              "#fdca26"
             ],
             [
              1,
              "#f0f921"
             ]
            ],
            "type": "heatmapgl"
           }
          ],
          "histogram": [
           {
            "marker": {
             "pattern": {
              "fillmode": "overlay",
              "size": 10,
              "solidity": 0.2
             }
            },
            "type": "histogram"
           }
          ],
          "histogram2d": [
           {
            "colorbar": {
             "outlinewidth": 0,
             "ticks": ""
            },
            "colorscale": [
             [
              0,
              "#0d0887"
             ],
             [
              0.1111111111111111,
              "#46039f"
             ],
             [
              0.2222222222222222,
              "#7201a8"
             ],
             [
              0.3333333333333333,
              "#9c179e"
             ],
             [
              0.4444444444444444,
              "#bd3786"
             ],
             [
              0.5555555555555556,
              "#d8576b"
             ],
             [
              0.6666666666666666,
              "#ed7953"
             ],
             [
              0.7777777777777778,
              "#fb9f3a"
             ],
             [
              0.8888888888888888,
              "#fdca26"
             ],
             [
              1,
              "#f0f921"
             ]
            ],
            "type": "histogram2d"
           }
          ],
          "histogram2dcontour": [
           {
            "colorbar": {
             "outlinewidth": 0,
             "ticks": ""
            },
            "colorscale": [
             [
              0,
              "#0d0887"
             ],
             [
              0.1111111111111111,
              "#46039f"
             ],
             [
              0.2222222222222222,
              "#7201a8"
             ],
             [
              0.3333333333333333,
              "#9c179e"
             ],
             [
              0.4444444444444444,
              "#bd3786"
             ],
             [
              0.5555555555555556,
              "#d8576b"
             ],
             [
              0.6666666666666666,
              "#ed7953"
             ],
             [
              0.7777777777777778,
              "#fb9f3a"
             ],
             [
              0.8888888888888888,
              "#fdca26"
             ],
             [
              1,
              "#f0f921"
             ]
            ],
            "type": "histogram2dcontour"
           }
          ],
          "mesh3d": [
           {
            "colorbar": {
             "outlinewidth": 0,
             "ticks": ""
            },
            "type": "mesh3d"
           }
          ],
          "parcoords": [
           {
            "line": {
             "colorbar": {
              "outlinewidth": 0,
              "ticks": ""
             }
            },
            "type": "parcoords"
           }
          ],
          "pie": [
           {
            "automargin": true,
            "type": "pie"
           }
          ],
          "scatter": [
           {
            "fillpattern": {
             "fillmode": "overlay",
             "size": 10,
             "solidity": 0.2
            },
            "type": "scatter"
           }
          ],
          "scatter3d": [
           {
            "line": {
             "colorbar": {
              "outlinewidth": 0,
              "ticks": ""
             }
            },
            "marker": {
             "colorbar": {
              "outlinewidth": 0,
              "ticks": ""
             }
            },
            "type": "scatter3d"
           }
          ],
          "scattercarpet": [
           {
            "marker": {
             "colorbar": {
              "outlinewidth": 0,
              "ticks": ""
             }
            },
            "type": "scattercarpet"
           }
          ],
          "scattergeo": [
           {
            "marker": {
             "colorbar": {
              "outlinewidth": 0,
              "ticks": ""
             }
            },
            "type": "scattergeo"
           }
          ],
          "scattergl": [
           {
            "marker": {
             "colorbar": {
              "outlinewidth": 0,
              "ticks": ""
             }
            },
            "type": "scattergl"
           }
          ],
          "scattermapbox": [
           {
            "marker": {
             "colorbar": {
              "outlinewidth": 0,
              "ticks": ""
             }
            },
            "type": "scattermapbox"
           }
          ],
          "scatterpolar": [
           {
            "marker": {
             "colorbar": {
              "outlinewidth": 0,
              "ticks": ""
             }
            },
            "type": "scatterpolar"
           }
          ],
          "scatterpolargl": [
           {
            "marker": {
             "colorbar": {
              "outlinewidth": 0,
              "ticks": ""
             }
            },
            "type": "scatterpolargl"
           }
          ],
          "scatterternary": [
           {
            "marker": {
             "colorbar": {
              "outlinewidth": 0,
              "ticks": ""
             }
            },
            "type": "scatterternary"
           }
          ],
          "surface": [
           {
            "colorbar": {
             "outlinewidth": 0,
             "ticks": ""
            },
            "colorscale": [
             [
              0,
              "#0d0887"
             ],
             [
              0.1111111111111111,
              "#46039f"
             ],
             [
              0.2222222222222222,
              "#7201a8"
             ],
             [
              0.3333333333333333,
              "#9c179e"
             ],
             [
              0.4444444444444444,
              "#bd3786"
             ],
             [
              0.5555555555555556,
              "#d8576b"
             ],
             [
              0.6666666666666666,
              "#ed7953"
             ],
             [
              0.7777777777777778,
              "#fb9f3a"
             ],
             [
              0.8888888888888888,
              "#fdca26"
             ],
             [
              1,
              "#f0f921"
             ]
            ],
            "type": "surface"
           }
          ],
          "table": [
           {
            "cells": {
             "fill": {
              "color": "#EBF0F8"
             },
             "line": {
              "color": "white"
             }
            },
            "header": {
             "fill": {
              "color": "#C8D4E3"
             },
             "line": {
              "color": "white"
             }
            },
            "type": "table"
           }
          ]
         },
         "layout": {
          "annotationdefaults": {
           "arrowcolor": "#2a3f5f",
           "arrowhead": 0,
           "arrowwidth": 1
          },
          "autotypenumbers": "strict",
          "coloraxis": {
           "colorbar": {
            "outlinewidth": 0,
            "ticks": ""
           }
          },
          "colorscale": {
           "diverging": [
            [
             0,
             "#8e0152"
            ],
            [
             0.1,
             "#c51b7d"
            ],
            [
             0.2,
             "#de77ae"
            ],
            [
             0.3,
             "#f1b6da"
            ],
            [
             0.4,
             "#fde0ef"
            ],
            [
             0.5,
             "#f7f7f7"
            ],
            [
             0.6,
             "#e6f5d0"
            ],
            [
             0.7,
             "#b8e186"
            ],
            [
             0.8,
             "#7fbc41"
            ],
            [
             0.9,
             "#4d9221"
            ],
            [
             1,
             "#276419"
            ]
           ],
           "sequential": [
            [
             0,
             "#0d0887"
            ],
            [
             0.1111111111111111,
             "#46039f"
            ],
            [
             0.2222222222222222,
             "#7201a8"
            ],
            [
             0.3333333333333333,
             "#9c179e"
            ],
            [
             0.4444444444444444,
             "#bd3786"
            ],
            [
             0.5555555555555556,
             "#d8576b"
            ],
            [
             0.6666666666666666,
             "#ed7953"
            ],
            [
             0.7777777777777778,
             "#fb9f3a"
            ],
            [
             0.8888888888888888,
             "#fdca26"
            ],
            [
             1,
             "#f0f921"
            ]
           ],
           "sequentialminus": [
            [
             0,
             "#0d0887"
            ],
            [
             0.1111111111111111,
             "#46039f"
            ],
            [
             0.2222222222222222,
             "#7201a8"
            ],
            [
             0.3333333333333333,
             "#9c179e"
            ],
            [
             0.4444444444444444,
             "#bd3786"
            ],
            [
             0.5555555555555556,
             "#d8576b"
            ],
            [
             0.6666666666666666,
             "#ed7953"
            ],
            [
             0.7777777777777778,
             "#fb9f3a"
            ],
            [
             0.8888888888888888,
             "#fdca26"
            ],
            [
             1,
             "#f0f921"
            ]
           ]
          },
          "colorway": [
           "#636efa",
           "#EF553B",
           "#00cc96",
           "#ab63fa",
           "#FFA15A",
           "#19d3f3",
           "#FF6692",
           "#B6E880",
           "#FF97FF",
           "#FECB52"
          ],
          "font": {
           "color": "#2a3f5f"
          },
          "geo": {
           "bgcolor": "white",
           "lakecolor": "white",
           "landcolor": "#E5ECF6",
           "showlakes": true,
           "showland": true,
           "subunitcolor": "white"
          },
          "hoverlabel": {
           "align": "left"
          },
          "hovermode": "closest",
          "mapbox": {
           "style": "light"
          },
          "paper_bgcolor": "white",
          "plot_bgcolor": "#E5ECF6",
          "polar": {
           "angularaxis": {
            "gridcolor": "white",
            "linecolor": "white",
            "ticks": ""
           },
           "bgcolor": "#E5ECF6",
           "radialaxis": {
            "gridcolor": "white",
            "linecolor": "white",
            "ticks": ""
           }
          },
          "scene": {
           "xaxis": {
            "backgroundcolor": "#E5ECF6",
            "gridcolor": "white",
            "gridwidth": 2,
            "linecolor": "white",
            "showbackground": true,
            "ticks": "",
            "zerolinecolor": "white"
           },
           "yaxis": {
            "backgroundcolor": "#E5ECF6",
            "gridcolor": "white",
            "gridwidth": 2,
            "linecolor": "white",
            "showbackground": true,
            "ticks": "",
            "zerolinecolor": "white"
           },
           "zaxis": {
            "backgroundcolor": "#E5ECF6",
            "gridcolor": "white",
            "gridwidth": 2,
            "linecolor": "white",
            "showbackground": true,
            "ticks": "",
            "zerolinecolor": "white"
           }
          },
          "shapedefaults": {
           "line": {
            "color": "#2a3f5f"
           }
          },
          "ternary": {
           "aaxis": {
            "gridcolor": "white",
            "linecolor": "white",
            "ticks": ""
           },
           "baxis": {
            "gridcolor": "white",
            "linecolor": "white",
            "ticks": ""
           },
           "bgcolor": "#E5ECF6",
           "caxis": {
            "gridcolor": "white",
            "linecolor": "white",
            "ticks": ""
           }
          },
          "title": {
           "x": 0.05
          },
          "xaxis": {
           "automargin": true,
           "gridcolor": "white",
           "linecolor": "white",
           "ticks": "",
           "title": {
            "standoff": 15
           },
           "zerolinecolor": "white",
           "zerolinewidth": 2
          },
          "yaxis": {
           "automargin": true,
           "gridcolor": "white",
           "linecolor": "white",
           "ticks": "",
           "title": {
            "standoff": 15
           },
           "zerolinecolor": "white",
           "zerolinewidth": 2
          }
         }
        },
        "title": {
         "text": "Comportamiento de Lluvias por Cluster"
        },
        "xaxis": {
         "anchor": "y",
         "domain": [
          0,
          1
         ],
         "title": {
          "text": "Mes"
         }
        },
        "yaxis": {
         "anchor": "x",
         "domain": [
          0,
          1
         ],
         "title": {
          "text": "Lluvia (mm)"
         }
        }
       }
      }
     },
     "metadata": {},
     "output_type": "display_data"
    }
   ],
   "source": [
    "\n",
    "meses_orden = [\"Enero\", \"Febrero\", \"Marzo\", \"Abril\", \"Mayo\", \"Junio\"]\n",
    "df_melted['Mes'] = pd.Categorical(df_melted['Mes'], categories=meses_orden, ordered=True)\n",
    "\n",
    "# Graficar la serie de tiempo\n",
    "fig = px.line(df_melted, x='Mes', y='Lluvia', color='ClusterLluvia', \n",
    "              labels={'Mes': 'Mes', 'Lluvia': 'Lluvia (mm)', 'ClusterLluvia': 'Cluster'},\n",
    "              title='Comportamiento de Lluvias por Cluster')\n",
    "\n",
    "fig.show()"
   ]
  },
  {
   "cell_type": "code",
   "execution_count": 92,
   "metadata": {},
   "outputs": [
    {
     "data": {
      "application/vnd.plotly.v1+json": {
       "config": {
        "plotlyServerURL": "https://plot.ly"
       },
       "data": [
        {
         "alignmentgroup": "True",
         "hovertemplate": "Cluster=Cluster4<br>Mes=%{x}<br>Lluvia (mm)=%{y}<extra></extra>",
         "legendgroup": "Cluster4",
         "marker": {
          "color": "#636efa"
         },
         "name": "Cluster4",
         "notched": false,
         "offsetgroup": "Cluster4",
         "orientation": "v",
         "showlegend": true,
         "type": "box",
         "x": [
          "Enero",
          "Febrero",
          "Marzo",
          "Abril",
          "Mayo",
          "Junio"
         ],
         "x0": " ",
         "xaxis": "x",
         "y": [
          0,
          0,
          0,
          4.8,
          23.8,
          84.8
         ],
         "y0": " ",
         "yaxis": "y"
        },
        {
         "alignmentgroup": "True",
         "hovertemplate": "Cluster=Cluster1<br>Mes=%{x}<br>Lluvia (mm)=%{y}<extra></extra>",
         "legendgroup": "Cluster1",
         "marker": {
          "color": "#EF553B"
         },
         "name": "Cluster1",
         "notched": false,
         "offsetgroup": "Cluster1",
         "orientation": "v",
         "showlegend": true,
         "type": "box",
         "x": [
          "Enero",
          "Enero",
          "Enero",
          "Enero",
          "Enero",
          "Enero",
          "Enero",
          "Enero",
          "Enero",
          "Enero",
          "Enero",
          "Enero",
          "Enero",
          "Enero",
          "Enero",
          "Enero",
          "Enero",
          "Enero",
          "Enero",
          "Enero",
          "Enero",
          "Febrero",
          "Febrero",
          "Febrero",
          "Febrero",
          "Febrero",
          "Febrero",
          "Febrero",
          "Febrero",
          "Febrero",
          "Febrero",
          "Febrero",
          "Febrero",
          "Febrero",
          "Febrero",
          "Febrero",
          "Febrero",
          "Febrero",
          "Febrero",
          "Febrero",
          "Febrero",
          "Febrero",
          "Marzo",
          "Marzo",
          "Marzo",
          "Marzo",
          "Marzo",
          "Marzo",
          "Marzo",
          "Marzo",
          "Marzo",
          "Marzo",
          "Marzo",
          "Marzo",
          "Marzo",
          "Marzo",
          "Marzo",
          "Marzo",
          "Marzo",
          "Marzo",
          "Marzo",
          "Marzo",
          "Marzo",
          "Abril",
          "Abril",
          "Abril",
          "Abril",
          "Abril",
          "Abril",
          "Abril",
          "Abril",
          "Abril",
          "Abril",
          "Abril",
          "Abril",
          "Abril",
          "Abril",
          "Abril",
          "Abril",
          "Abril",
          "Abril",
          "Abril",
          "Abril",
          "Abril",
          "Mayo",
          "Mayo",
          "Mayo",
          "Mayo",
          "Mayo",
          "Mayo",
          "Mayo",
          "Mayo",
          "Mayo",
          "Mayo",
          "Mayo",
          "Mayo",
          "Mayo",
          "Mayo",
          "Mayo",
          "Mayo",
          "Mayo",
          "Mayo",
          "Mayo",
          "Mayo",
          "Mayo",
          "Junio",
          "Junio",
          "Junio",
          "Junio",
          "Junio",
          "Junio",
          "Junio",
          "Junio",
          "Junio",
          "Junio",
          "Junio",
          "Junio",
          "Junio",
          "Junio",
          "Junio",
          "Junio",
          "Junio",
          "Junio",
          "Junio",
          "Junio",
          "Junio"
         ],
         "x0": " ",
         "xaxis": "x",
         "y": [
          0.4,
          12,
          1.4,
          27,
          23.7,
          0,
          0,
          69,
          27.6,
          7,
          3.6,
          61.2,
          33.4,
          10.8,
          38.2,
          18,
          21.6,
          80,
          42.4,
          43.2,
          2.6,
          49.6,
          12,
          68,
          6.8,
          0,
          18,
          73.4,
          79.8,
          21.6,
          106.2,
          112.8,
          0.4,
          43.6,
          10.8,
          30.6,
          13.6,
          50.6,
          44,
          1,
          0.4,
          11.6,
          47.8,
          7.4,
          25.2,
          44.4,
          0,
          44.2,
          66.4,
          82.6,
          137.4,
          21.2,
          112.4,
          134.2,
          36,
          20,
          73.6,
          90,
          18.8,
          108.2,
          58.2,
          216,
          0,
          294,
          21.4,
          91.8,
          46.8,
          196,
          265.2,
          176,
          251,
          308.2,
          112,
          279.6,
          198.8,
          196.2,
          137,
          219.6,
          55.6,
          141,
          249.4,
          357.4,
          113.2,
          141.6,
          494.2,
          319.4,
          501.8,
          389,
          433,
          484.8,
          208.6,
          530.8,
          500.8,
          470,
          642.2,
          268.4,
          304.4,
          473.6,
          548,
          597.6,
          508.6,
          633.4,
          456.8,
          247.2,
          239.4,
          662.4,
          405.4,
          633.8,
          425.5,
          289.3,
          587.4,
          654.6,
          449,
          282.8,
          565,
          445,
          302.8,
          507,
          420.4,
          284.4,
          332.6,
          594,
          447.8,
          545.6,
          474.2,
          650
         ],
         "y0": " ",
         "yaxis": "y"
        },
        {
         "alignmentgroup": "True",
         "hovertemplate": "Cluster=Cluster5<br>Mes=%{x}<br>Lluvia (mm)=%{y}<extra></extra>",
         "legendgroup": "Cluster5",
         "marker": {
          "color": "#00cc96"
         },
         "name": "Cluster5",
         "notched": false,
         "offsetgroup": "Cluster5",
         "orientation": "v",
         "showlegend": true,
         "type": "box",
         "x": [
          "Enero",
          "Febrero",
          "Marzo",
          "Abril",
          "Mayo",
          "Junio"
         ],
         "x0": " ",
         "xaxis": "x",
         "y": [
          0,
          39.7,
          85.6,
          283.3,
          1260.8,
          1122
         ],
         "y0": " ",
         "yaxis": "y"
        },
        {
         "alignmentgroup": "True",
         "hovertemplate": "Cluster=Cluster2<br>Mes=%{x}<br>Lluvia (mm)=%{y}<extra></extra>",
         "legendgroup": "Cluster2",
         "marker": {
          "color": "#ab63fa"
         },
         "name": "Cluster2",
         "notched": false,
         "offsetgroup": "Cluster2",
         "orientation": "v",
         "showlegend": true,
         "type": "box",
         "x": [
          "Enero",
          "Enero",
          "Febrero",
          "Febrero",
          "Marzo",
          "Marzo",
          "Abril",
          "Abril",
          "Mayo",
          "Mayo",
          "Junio",
          "Junio"
         ],
         "x0": " ",
         "xaxis": "x",
         "y": [
          12,
          46.3,
          24.6,
          5.8,
          108.4,
          36.6,
          70.9,
          54.2,
          757.6,
          671.6,
          505.8,
          689.2
         ],
         "y0": " ",
         "yaxis": "y"
        },
        {
         "alignmentgroup": "True",
         "hovertemplate": "Cluster=Cluster6<br>Mes=%{x}<br>Lluvia (mm)=%{y}<extra></extra>",
         "legendgroup": "Cluster6",
         "marker": {
          "color": "#FFA15A"
         },
         "name": "Cluster6",
         "notched": false,
         "offsetgroup": "Cluster6",
         "orientation": "v",
         "showlegend": true,
         "type": "box",
         "x": [
          "Enero",
          "Febrero",
          "Marzo",
          "Abril",
          "Mayo",
          "Junio"
         ],
         "x0": " ",
         "xaxis": "x",
         "y": [
          34,
          1.8,
          60,
          162.2,
          581,
          1290.8
         ],
         "y0": " ",
         "yaxis": "y"
        },
        {
         "alignmentgroup": "True",
         "hovertemplate": "Cluster=Cluster3<br>Mes=%{x}<br>Lluvia (mm)=%{y}<extra></extra>",
         "legendgroup": "Cluster3",
         "marker": {
          "color": "#19d3f3"
         },
         "name": "Cluster3",
         "notched": false,
         "offsetgroup": "Cluster3",
         "orientation": "v",
         "showlegend": true,
         "type": "box",
         "x": [
          "Enero",
          "Febrero",
          "Marzo",
          "Abril",
          "Mayo",
          "Junio"
         ],
         "x0": " ",
         "xaxis": "x",
         "y": [
          26.2,
          2.6,
          7,
          301,
          859.6,
          782.4
         ],
         "y0": " ",
         "yaxis": "y"
        }
       ],
       "layout": {
        "boxmode": "group",
        "legend": {
         "title": {
          "text": "Cluster"
         },
         "tracegroupgap": 0
        },
        "template": {
         "data": {
          "bar": [
           {
            "error_x": {
             "color": "#2a3f5f"
            },
            "error_y": {
             "color": "#2a3f5f"
            },
            "marker": {
             "line": {
              "color": "#E5ECF6",
              "width": 0.5
             },
             "pattern": {
              "fillmode": "overlay",
              "size": 10,
              "solidity": 0.2
             }
            },
            "type": "bar"
           }
          ],
          "barpolar": [
           {
            "marker": {
             "line": {
              "color": "#E5ECF6",
              "width": 0.5
             },
             "pattern": {
              "fillmode": "overlay",
              "size": 10,
              "solidity": 0.2
             }
            },
            "type": "barpolar"
           }
          ],
          "carpet": [
           {
            "aaxis": {
             "endlinecolor": "#2a3f5f",
             "gridcolor": "white",
             "linecolor": "white",
             "minorgridcolor": "white",
             "startlinecolor": "#2a3f5f"
            },
            "baxis": {
             "endlinecolor": "#2a3f5f",
             "gridcolor": "white",
             "linecolor": "white",
             "minorgridcolor": "white",
             "startlinecolor": "#2a3f5f"
            },
            "type": "carpet"
           }
          ],
          "choropleth": [
           {
            "colorbar": {
             "outlinewidth": 0,
             "ticks": ""
            },
            "type": "choropleth"
           }
          ],
          "contour": [
           {
            "colorbar": {
             "outlinewidth": 0,
             "ticks": ""
            },
            "colorscale": [
             [
              0,
              "#0d0887"
             ],
             [
              0.1111111111111111,
              "#46039f"
             ],
             [
              0.2222222222222222,
              "#7201a8"
             ],
             [
              0.3333333333333333,
              "#9c179e"
             ],
             [
              0.4444444444444444,
              "#bd3786"
             ],
             [
              0.5555555555555556,
              "#d8576b"
             ],
             [
              0.6666666666666666,
              "#ed7953"
             ],
             [
              0.7777777777777778,
              "#fb9f3a"
             ],
             [
              0.8888888888888888,
              "#fdca26"
             ],
             [
              1,
              "#f0f921"
             ]
            ],
            "type": "contour"
           }
          ],
          "contourcarpet": [
           {
            "colorbar": {
             "outlinewidth": 0,
             "ticks": ""
            },
            "type": "contourcarpet"
           }
          ],
          "heatmap": [
           {
            "colorbar": {
             "outlinewidth": 0,
             "ticks": ""
            },
            "colorscale": [
             [
              0,
              "#0d0887"
             ],
             [
              0.1111111111111111,
              "#46039f"
             ],
             [
              0.2222222222222222,
              "#7201a8"
             ],
             [
              0.3333333333333333,
              "#9c179e"
             ],
             [
              0.4444444444444444,
              "#bd3786"
             ],
             [
              0.5555555555555556,
              "#d8576b"
             ],
             [
              0.6666666666666666,
              "#ed7953"
             ],
             [
              0.7777777777777778,
              "#fb9f3a"
             ],
             [
              0.8888888888888888,
              "#fdca26"
             ],
             [
              1,
              "#f0f921"
             ]
            ],
            "type": "heatmap"
           }
          ],
          "heatmapgl": [
           {
            "colorbar": {
             "outlinewidth": 0,
             "ticks": ""
            },
            "colorscale": [
             [
              0,
              "#0d0887"
             ],
             [
              0.1111111111111111,
              "#46039f"
             ],
             [
              0.2222222222222222,
              "#7201a8"
             ],
             [
              0.3333333333333333,
              "#9c179e"
             ],
             [
              0.4444444444444444,
              "#bd3786"
             ],
             [
              0.5555555555555556,
              "#d8576b"
             ],
             [
              0.6666666666666666,
              "#ed7953"
             ],
             [
              0.7777777777777778,
              "#fb9f3a"
             ],
             [
              0.8888888888888888,
              "#fdca26"
             ],
             [
              1,
              "#f0f921"
             ]
            ],
            "type": "heatmapgl"
           }
          ],
          "histogram": [
           {
            "marker": {
             "pattern": {
              "fillmode": "overlay",
              "size": 10,
              "solidity": 0.2
             }
            },
            "type": "histogram"
           }
          ],
          "histogram2d": [
           {
            "colorbar": {
             "outlinewidth": 0,
             "ticks": ""
            },
            "colorscale": [
             [
              0,
              "#0d0887"
             ],
             [
              0.1111111111111111,
              "#46039f"
             ],
             [
              0.2222222222222222,
              "#7201a8"
             ],
             [
              0.3333333333333333,
              "#9c179e"
             ],
             [
              0.4444444444444444,
              "#bd3786"
             ],
             [
              0.5555555555555556,
              "#d8576b"
             ],
             [
              0.6666666666666666,
              "#ed7953"
             ],
             [
              0.7777777777777778,
              "#fb9f3a"
             ],
             [
              0.8888888888888888,
              "#fdca26"
             ],
             [
              1,
              "#f0f921"
             ]
            ],
            "type": "histogram2d"
           }
          ],
          "histogram2dcontour": [
           {
            "colorbar": {
             "outlinewidth": 0,
             "ticks": ""
            },
            "colorscale": [
             [
              0,
              "#0d0887"
             ],
             [
              0.1111111111111111,
              "#46039f"
             ],
             [
              0.2222222222222222,
              "#7201a8"
             ],
             [
              0.3333333333333333,
              "#9c179e"
             ],
             [
              0.4444444444444444,
              "#bd3786"
             ],
             [
              0.5555555555555556,
              "#d8576b"
             ],
             [
              0.6666666666666666,
              "#ed7953"
             ],
             [
              0.7777777777777778,
              "#fb9f3a"
             ],
             [
              0.8888888888888888,
              "#fdca26"
             ],
             [
              1,
              "#f0f921"
             ]
            ],
            "type": "histogram2dcontour"
           }
          ],
          "mesh3d": [
           {
            "colorbar": {
             "outlinewidth": 0,
             "ticks": ""
            },
            "type": "mesh3d"
           }
          ],
          "parcoords": [
           {
            "line": {
             "colorbar": {
              "outlinewidth": 0,
              "ticks": ""
             }
            },
            "type": "parcoords"
           }
          ],
          "pie": [
           {
            "automargin": true,
            "type": "pie"
           }
          ],
          "scatter": [
           {
            "fillpattern": {
             "fillmode": "overlay",
             "size": 10,
             "solidity": 0.2
            },
            "type": "scatter"
           }
          ],
          "scatter3d": [
           {
            "line": {
             "colorbar": {
              "outlinewidth": 0,
              "ticks": ""
             }
            },
            "marker": {
             "colorbar": {
              "outlinewidth": 0,
              "ticks": ""
             }
            },
            "type": "scatter3d"
           }
          ],
          "scattercarpet": [
           {
            "marker": {
             "colorbar": {
              "outlinewidth": 0,
              "ticks": ""
             }
            },
            "type": "scattercarpet"
           }
          ],
          "scattergeo": [
           {
            "marker": {
             "colorbar": {
              "outlinewidth": 0,
              "ticks": ""
             }
            },
            "type": "scattergeo"
           }
          ],
          "scattergl": [
           {
            "marker": {
             "colorbar": {
              "outlinewidth": 0,
              "ticks": ""
             }
            },
            "type": "scattergl"
           }
          ],
          "scattermapbox": [
           {
            "marker": {
             "colorbar": {
              "outlinewidth": 0,
              "ticks": ""
             }
            },
            "type": "scattermapbox"
           }
          ],
          "scatterpolar": [
           {
            "marker": {
             "colorbar": {
              "outlinewidth": 0,
              "ticks": ""
             }
            },
            "type": "scatterpolar"
           }
          ],
          "scatterpolargl": [
           {
            "marker": {
             "colorbar": {
              "outlinewidth": 0,
              "ticks": ""
             }
            },
            "type": "scatterpolargl"
           }
          ],
          "scatterternary": [
           {
            "marker": {
             "colorbar": {
              "outlinewidth": 0,
              "ticks": ""
             }
            },
            "type": "scatterternary"
           }
          ],
          "surface": [
           {
            "colorbar": {
             "outlinewidth": 0,
             "ticks": ""
            },
            "colorscale": [
             [
              0,
              "#0d0887"
             ],
             [
              0.1111111111111111,
              "#46039f"
             ],
             [
              0.2222222222222222,
              "#7201a8"
             ],
             [
              0.3333333333333333,
              "#9c179e"
             ],
             [
              0.4444444444444444,
              "#bd3786"
             ],
             [
              0.5555555555555556,
              "#d8576b"
             ],
             [
              0.6666666666666666,
              "#ed7953"
             ],
             [
              0.7777777777777778,
              "#fb9f3a"
             ],
             [
              0.8888888888888888,
              "#fdca26"
             ],
             [
              1,
              "#f0f921"
             ]
            ],
            "type": "surface"
           }
          ],
          "table": [
           {
            "cells": {
             "fill": {
              "color": "#EBF0F8"
             },
             "line": {
              "color": "white"
             }
            },
            "header": {
             "fill": {
              "color": "#C8D4E3"
             },
             "line": {
              "color": "white"
             }
            },
            "type": "table"
           }
          ]
         },
         "layout": {
          "annotationdefaults": {
           "arrowcolor": "#2a3f5f",
           "arrowhead": 0,
           "arrowwidth": 1
          },
          "autotypenumbers": "strict",
          "coloraxis": {
           "colorbar": {
            "outlinewidth": 0,
            "ticks": ""
           }
          },
          "colorscale": {
           "diverging": [
            [
             0,
             "#8e0152"
            ],
            [
             0.1,
             "#c51b7d"
            ],
            [
             0.2,
             "#de77ae"
            ],
            [
             0.3,
             "#f1b6da"
            ],
            [
             0.4,
             "#fde0ef"
            ],
            [
             0.5,
             "#f7f7f7"
            ],
            [
             0.6,
             "#e6f5d0"
            ],
            [
             0.7,
             "#b8e186"
            ],
            [
             0.8,
             "#7fbc41"
            ],
            [
             0.9,
             "#4d9221"
            ],
            [
             1,
             "#276419"
            ]
           ],
           "sequential": [
            [
             0,
             "#0d0887"
            ],
            [
             0.1111111111111111,
             "#46039f"
            ],
            [
             0.2222222222222222,
             "#7201a8"
            ],
            [
             0.3333333333333333,
             "#9c179e"
            ],
            [
             0.4444444444444444,
             "#bd3786"
            ],
            [
             0.5555555555555556,
             "#d8576b"
            ],
            [
             0.6666666666666666,
             "#ed7953"
            ],
            [
             0.7777777777777778,
             "#fb9f3a"
            ],
            [
             0.8888888888888888,
             "#fdca26"
            ],
            [
             1,
             "#f0f921"
            ]
           ],
           "sequentialminus": [
            [
             0,
             "#0d0887"
            ],
            [
             0.1111111111111111,
             "#46039f"
            ],
            [
             0.2222222222222222,
             "#7201a8"
            ],
            [
             0.3333333333333333,
             "#9c179e"
            ],
            [
             0.4444444444444444,
             "#bd3786"
            ],
            [
             0.5555555555555556,
             "#d8576b"
            ],
            [
             0.6666666666666666,
             "#ed7953"
            ],
            [
             0.7777777777777778,
             "#fb9f3a"
            ],
            [
             0.8888888888888888,
             "#fdca26"
            ],
            [
             1,
             "#f0f921"
            ]
           ]
          },
          "colorway": [
           "#636efa",
           "#EF553B",
           "#00cc96",
           "#ab63fa",
           "#FFA15A",
           "#19d3f3",
           "#FF6692",
           "#B6E880",
           "#FF97FF",
           "#FECB52"
          ],
          "font": {
           "color": "#2a3f5f"
          },
          "geo": {
           "bgcolor": "white",
           "lakecolor": "white",
           "landcolor": "#E5ECF6",
           "showlakes": true,
           "showland": true,
           "subunitcolor": "white"
          },
          "hoverlabel": {
           "align": "left"
          },
          "hovermode": "closest",
          "mapbox": {
           "style": "light"
          },
          "paper_bgcolor": "white",
          "plot_bgcolor": "#E5ECF6",
          "polar": {
           "angularaxis": {
            "gridcolor": "white",
            "linecolor": "white",
            "ticks": ""
           },
           "bgcolor": "#E5ECF6",
           "radialaxis": {
            "gridcolor": "white",
            "linecolor": "white",
            "ticks": ""
           }
          },
          "scene": {
           "xaxis": {
            "backgroundcolor": "#E5ECF6",
            "gridcolor": "white",
            "gridwidth": 2,
            "linecolor": "white",
            "showbackground": true,
            "ticks": "",
            "zerolinecolor": "white"
           },
           "yaxis": {
            "backgroundcolor": "#E5ECF6",
            "gridcolor": "white",
            "gridwidth": 2,
            "linecolor": "white",
            "showbackground": true,
            "ticks": "",
            "zerolinecolor": "white"
           },
           "zaxis": {
            "backgroundcolor": "#E5ECF6",
            "gridcolor": "white",
            "gridwidth": 2,
            "linecolor": "white",
            "showbackground": true,
            "ticks": "",
            "zerolinecolor": "white"
           }
          },
          "shapedefaults": {
           "line": {
            "color": "#2a3f5f"
           }
          },
          "ternary": {
           "aaxis": {
            "gridcolor": "white",
            "linecolor": "white",
            "ticks": ""
           },
           "baxis": {
            "gridcolor": "white",
            "linecolor": "white",
            "ticks": ""
           },
           "bgcolor": "#E5ECF6",
           "caxis": {
            "gridcolor": "white",
            "linecolor": "white",
            "ticks": ""
           }
          },
          "title": {
           "x": 0.05
          },
          "xaxis": {
           "automargin": true,
           "gridcolor": "white",
           "linecolor": "white",
           "ticks": "",
           "title": {
            "standoff": 15
           },
           "zerolinecolor": "white",
           "zerolinewidth": 2
          },
          "yaxis": {
           "automargin": true,
           "gridcolor": "white",
           "linecolor": "white",
           "ticks": "",
           "title": {
            "standoff": 15
           },
           "zerolinecolor": "white",
           "zerolinewidth": 2
          }
         }
        },
        "title": {
         "text": "Comportamiento de Lluvias por Cluster"
        },
        "xaxis": {
         "anchor": "y",
         "domain": [
          0,
          1
         ],
         "title": {
          "text": "Mes"
         }
        },
        "yaxis": {
         "anchor": "x",
         "domain": [
          0,
          1
         ],
         "title": {
          "text": "Lluvia (mm)"
         }
        }
       }
      }
     },
     "metadata": {},
     "output_type": "display_data"
    }
   ],
   "source": [
    "\n",
    "meses_orden = [\"Enero\", \"Febrero\", \"Marzo\", \"Abril\", \"Mayo\", \"Junio\"]\n",
    "df_melted['Mes'] = pd.Categorical(df_melted['Mes'], categories=meses_orden, ordered=True)\n",
    "\n",
    "# Graficar la serie de tiempo\n",
    "fig = px.box(df_melted, x='Mes', y='Lluvia', color='ClusterLluvia', \n",
    "              labels={'Mes': 'Mes', 'Lluvia': 'Lluvia (mm)', 'ClusterLluvia': 'Cluster'},\n",
    "              title='Comportamiento de Lluvias por Cluster')\n",
    "\n",
    "fig.show()"
   ]
  },
  {
   "cell_type": "markdown",
   "metadata": {},
   "source": [
    "#### Interpretación"
   ]
  },
  {
   "cell_type": "markdown",
   "metadata": {},
   "source": [
    "* Cluster 1: 1999,2000,2001,2002,2006,2007,2008,2011,2012,2013,2014,2015,2016,2017,2018,2019,2020,2021,2022,2023,2024\n",
    "* Cluster 2: 2004,2009\n",
    "* Cluster 3: 2010\n",
    "* Cluster 4: 1998\n",
    "* Cluster 5: 2003\n",
    "* Cluster 6: 2005"
   ]
  },
  {
   "cell_type": "markdown",
   "metadata": {},
   "source": [
    "### Caracterización de clusters lluvia\n",
    "\n",
    "* Cluster 1: Es el más grande, abarcando la mayoría de los años desde 1999 hasta 2024. Representa el patrón de lluvia más común o \"normal\" para la región.\n",
    "* Cluster 2 (2004, 2009): Muestra un patrón de lluvia distinto, con un pico más pronunciado en mayo comparado con el Cluster 1.\n",
    "* Cluster 3 (2010): Presenta el segundo nivel más alto de precipitación, especialmente notable en abril y mayo.\n",
    "* Cluster 4 (1998): Año con el patrón de lluvia más bajo y constante a lo largo de los meses.\n",
    "* Cluster 5 (2003): el cluster con la mayor cantidad de lluvia, mostrando un pico muy pronunciado en mayo y manteniendo niveles altos en junio. Representa el año con el patrón de precipitación más extremo.\n",
    "* Cluster 6 (2005): Muestra un patrón intermedio, con un aumento significativo en mayo pero no tan extremo como los Clusters 3 y 5."
   ]
  },
  {
   "cell_type": "markdown",
   "metadata": {},
   "source": [
    "####################################\n",
    "# Data Atlantico\n",
    "####################################"
   ]
  },
  {
   "cell_type": "code",
   "execution_count": 98,
   "metadata": {},
   "outputs": [
    {
     "data": {
      "text/html": [
       "<div>\n",
       "<style scoped>\n",
       "    .dataframe tbody tr th:only-of-type {\n",
       "        vertical-align: middle;\n",
       "    }\n",
       "\n",
       "    .dataframe tbody tr th {\n",
       "        vertical-align: top;\n",
       "    }\n",
       "\n",
       "    .dataframe thead th {\n",
       "        text-align: right;\n",
       "    }\n",
       "</style>\n",
       "<table border=\"1\" class=\"dataframe\">\n",
       "  <thead>\n",
       "    <tr style=\"text-align: right;\">\n",
       "      <th></th>\n",
       "      <th>Año</th>\n",
       "      <th>Enero</th>\n",
       "      <th>Febrero</th>\n",
       "      <th>Marzo</th>\n",
       "      <th>Abril</th>\n",
       "      <th>Mayo</th>\n",
       "      <th>Junio</th>\n",
       "    </tr>\n",
       "  </thead>\n",
       "  <tbody>\n",
       "    <tr>\n",
       "      <th>0</th>\n",
       "      <td>1998</td>\n",
       "      <td>0.39</td>\n",
       "      <td>-0.11</td>\n",
       "      <td>0.87</td>\n",
       "      <td>-0.68</td>\n",
       "      <td>-1.32</td>\n",
       "      <td>-2.72</td>\n",
       "    </tr>\n",
       "    <tr>\n",
       "      <th>1</th>\n",
       "      <td>1999</td>\n",
       "      <td>0.77</td>\n",
       "      <td>0.29</td>\n",
       "      <td>0.23</td>\n",
       "      <td>-0.95</td>\n",
       "      <td>0.92</td>\n",
       "      <td>1.12</td>\n",
       "    </tr>\n",
       "    <tr>\n",
       "      <th>2</th>\n",
       "      <td>2000</td>\n",
       "      <td>0.60</td>\n",
       "      <td>1.70</td>\n",
       "      <td>0.77</td>\n",
       "      <td>-0.03</td>\n",
       "      <td>1.58</td>\n",
       "      <td>-0.03</td>\n",
       "    </tr>\n",
       "    <tr>\n",
       "      <th>3</th>\n",
       "      <td>2001</td>\n",
       "      <td>0.25</td>\n",
       "      <td>0.45</td>\n",
       "      <td>-1.26</td>\n",
       "      <td>0.00</td>\n",
       "      <td>-0.02</td>\n",
       "      <td>-0.20</td>\n",
       "    </tr>\n",
       "    <tr>\n",
       "      <th>4</th>\n",
       "      <td>2002</td>\n",
       "      <td>0.44</td>\n",
       "      <td>1.10</td>\n",
       "      <td>0.69</td>\n",
       "      <td>1.18</td>\n",
       "      <td>-0.22</td>\n",
       "      <td>0.38</td>\n",
       "    </tr>\n",
       "  </tbody>\n",
       "</table>\n",
       "</div>"
      ],
      "text/plain": [
       "    Año  Enero  Febrero  Marzo  Abril  Mayo  Junio\n",
       "0  1998   0.39    -0.11   0.87  -0.68 -1.32  -2.72\n",
       "1  1999   0.77     0.29   0.23  -0.95  0.92   1.12\n",
       "2  2000   0.60     1.70   0.77  -0.03  1.58  -0.03\n",
       "3  2001   0.25     0.45  -1.26   0.00 -0.02  -0.20\n",
       "4  2002   0.44     1.10   0.69   1.18 -0.22   0.38"
      ]
     },
     "execution_count": 98,
     "metadata": {},
     "output_type": "execute_result"
    }
   ],
   "source": [
    "df_atlantico=pd.read_excel(\"D:\\\\OneDrive - CGIAR\\\\Proyectos\\\\AgriLAC-ICC\\\\Analytics\\\\Datos para estimación años análogos junio 2024.xlsx\", sheet_name=\"Datos Atlántico\")\n",
    "df_atlantico=estructura_df(df_atlantico)\n",
    "df_atlantico.head() "
   ]
  },
  {
   "cell_type": "code",
   "execution_count": 99,
   "metadata": {},
   "outputs": [
    {
     "data": {
      "text/html": [
       "<div>\n",
       "<style scoped>\n",
       "    .dataframe tbody tr th:only-of-type {\n",
       "        vertical-align: middle;\n",
       "    }\n",
       "\n",
       "    .dataframe tbody tr th {\n",
       "        vertical-align: top;\n",
       "    }\n",
       "\n",
       "    .dataframe thead th {\n",
       "        text-align: right;\n",
       "    }\n",
       "</style>\n",
       "<table border=\"1\" class=\"dataframe\">\n",
       "  <thead>\n",
       "    <tr style=\"text-align: right;\">\n",
       "      <th></th>\n",
       "      <th>Año</th>\n",
       "      <th>Mes</th>\n",
       "      <th>a_atlantico</th>\n",
       "    </tr>\n",
       "  </thead>\n",
       "  <tbody>\n",
       "    <tr>\n",
       "      <th>0</th>\n",
       "      <td>1998</td>\n",
       "      <td>Enero</td>\n",
       "      <td>0.39</td>\n",
       "    </tr>\n",
       "    <tr>\n",
       "      <th>1</th>\n",
       "      <td>1999</td>\n",
       "      <td>Enero</td>\n",
       "      <td>0.77</td>\n",
       "    </tr>\n",
       "    <tr>\n",
       "      <th>2</th>\n",
       "      <td>2000</td>\n",
       "      <td>Enero</td>\n",
       "      <td>0.60</td>\n",
       "    </tr>\n",
       "    <tr>\n",
       "      <th>3</th>\n",
       "      <td>2001</td>\n",
       "      <td>Enero</td>\n",
       "      <td>0.25</td>\n",
       "    </tr>\n",
       "    <tr>\n",
       "      <th>4</th>\n",
       "      <td>2002</td>\n",
       "      <td>Enero</td>\n",
       "      <td>0.44</td>\n",
       "    </tr>\n",
       "    <tr>\n",
       "      <th>...</th>\n",
       "      <td>...</td>\n",
       "      <td>...</td>\n",
       "      <td>...</td>\n",
       "    </tr>\n",
       "    <tr>\n",
       "      <th>157</th>\n",
       "      <td>2020</td>\n",
       "      <td>Junio</td>\n",
       "      <td>-0.15</td>\n",
       "    </tr>\n",
       "    <tr>\n",
       "      <th>158</th>\n",
       "      <td>2021</td>\n",
       "      <td>Junio</td>\n",
       "      <td>0.77</td>\n",
       "    </tr>\n",
       "    <tr>\n",
       "      <th>159</th>\n",
       "      <td>2022</td>\n",
       "      <td>Junio</td>\n",
       "      <td>-0.12</td>\n",
       "    </tr>\n",
       "    <tr>\n",
       "      <th>160</th>\n",
       "      <td>2023</td>\n",
       "      <td>Junio</td>\n",
       "      <td>-0.58</td>\n",
       "    </tr>\n",
       "    <tr>\n",
       "      <th>161</th>\n",
       "      <td>2024</td>\n",
       "      <td>Junio</td>\n",
       "      <td>1.70</td>\n",
       "    </tr>\n",
       "  </tbody>\n",
       "</table>\n",
       "<p>162 rows × 3 columns</p>\n",
       "</div>"
      ],
      "text/plain": [
       "      Año    Mes  a_atlantico\n",
       "0    1998  Enero         0.39\n",
       "1    1999  Enero         0.77\n",
       "2    2000  Enero         0.60\n",
       "3    2001  Enero         0.25\n",
       "4    2002  Enero         0.44\n",
       "..    ...    ...          ...\n",
       "157  2020  Junio        -0.15\n",
       "158  2021  Junio         0.77\n",
       "159  2022  Junio        -0.12\n",
       "160  2023  Junio        -0.58\n",
       "161  2024  Junio         1.70\n",
       "\n",
       "[162 rows x 3 columns]"
      ]
     },
     "execution_count": 99,
     "metadata": {},
     "output_type": "execute_result"
    }
   ],
   "source": [
    "#### tabla formato largo\n",
    "df_melted = df_atlantico.melt(id_vars='Año', var_name='Mes', value_name='a_atlantico')\n",
    "df_melted"
   ]
  },
  {
   "cell_type": "code",
   "execution_count": 100,
   "metadata": {},
   "outputs": [
    {
     "data": {
      "application/vnd.plotly.v1+json": {
       "config": {
        "plotlyServerURL": "https://plot.ly"
       },
       "data": [
        {
         "hovertemplate": "Año=1998<br>Mes=%{x}<br>anomalia=%{y}<extra></extra>",
         "legendgroup": "1998",
         "line": {
          "color": "#636efa",
          "dash": "solid"
         },
         "marker": {
          "symbol": "circle"
         },
         "mode": "lines",
         "name": "1998",
         "orientation": "v",
         "showlegend": true,
         "type": "scatter",
         "x": [
          "Enero",
          "Febrero",
          "Marzo",
          "Abril",
          "Mayo",
          "Junio"
         ],
         "xaxis": "x",
         "y": [
          0.39,
          -0.11,
          0.87,
          -0.68,
          -1.32,
          -2.72
         ],
         "yaxis": "y"
        },
        {
         "hovertemplate": "Año=1999<br>Mes=%{x}<br>anomalia=%{y}<extra></extra>",
         "legendgroup": "1999",
         "line": {
          "color": "#EF553B",
          "dash": "solid"
         },
         "marker": {
          "symbol": "circle"
         },
         "mode": "lines",
         "name": "1999",
         "orientation": "v",
         "showlegend": true,
         "type": "scatter",
         "x": [
          "Enero",
          "Febrero",
          "Marzo",
          "Abril",
          "Mayo",
          "Junio"
         ],
         "xaxis": "x",
         "y": [
          0.77,
          0.29,
          0.23,
          -0.95,
          0.92,
          1.12
         ],
         "yaxis": "y"
        },
        {
         "hovertemplate": "Año=2000<br>Mes=%{x}<br>anomalia=%{y}<extra></extra>",
         "legendgroup": "2000",
         "line": {
          "color": "#00cc96",
          "dash": "solid"
         },
         "marker": {
          "symbol": "circle"
         },
         "mode": "lines",
         "name": "2000",
         "orientation": "v",
         "showlegend": true,
         "type": "scatter",
         "x": [
          "Enero",
          "Febrero",
          "Marzo",
          "Abril",
          "Mayo",
          "Junio"
         ],
         "xaxis": "x",
         "y": [
          0.6,
          1.7,
          0.77,
          -0.03,
          1.58,
          -0.03
         ],
         "yaxis": "y"
        },
        {
         "hovertemplate": "Año=2001<br>Mes=%{x}<br>anomalia=%{y}<extra></extra>",
         "legendgroup": "2001",
         "line": {
          "color": "#ab63fa",
          "dash": "solid"
         },
         "marker": {
          "symbol": "circle"
         },
         "mode": "lines",
         "name": "2001",
         "orientation": "v",
         "showlegend": true,
         "type": "scatter",
         "x": [
          "Enero",
          "Febrero",
          "Marzo",
          "Abril",
          "Mayo",
          "Junio"
         ],
         "xaxis": "x",
         "y": [
          0.25,
          0.45,
          -1.26,
          0,
          -0.02,
          -0.2
         ],
         "yaxis": "y"
        },
        {
         "hovertemplate": "Año=2002<br>Mes=%{x}<br>anomalia=%{y}<extra></extra>",
         "legendgroup": "2002",
         "line": {
          "color": "#FFA15A",
          "dash": "solid"
         },
         "marker": {
          "symbol": "circle"
         },
         "mode": "lines",
         "name": "2002",
         "orientation": "v",
         "showlegend": true,
         "type": "scatter",
         "x": [
          "Enero",
          "Febrero",
          "Marzo",
          "Abril",
          "Mayo",
          "Junio"
         ],
         "xaxis": "x",
         "y": [
          0.44,
          1.1,
          0.69,
          1.18,
          -0.22,
          0.38
         ],
         "yaxis": "y"
        },
        {
         "hovertemplate": "Año=2003<br>Mes=%{x}<br>anomalia=%{y}<extra></extra>",
         "legendgroup": "2003",
         "line": {
          "color": "#19d3f3",
          "dash": "solid"
         },
         "marker": {
          "symbol": "circle"
         },
         "mode": "lines",
         "name": "2003",
         "orientation": "v",
         "showlegend": true,
         "type": "scatter",
         "x": [
          "Enero",
          "Febrero",
          "Marzo",
          "Abril",
          "Mayo",
          "Junio"
         ],
         "xaxis": "x",
         "y": [
          0.16,
          0.62,
          0.32,
          -0.18,
          0.01,
          -0.07
         ],
         "yaxis": "y"
        },
        {
         "hovertemplate": "Año=2004<br>Mes=%{x}<br>anomalia=%{y}<extra></extra>",
         "legendgroup": "2004",
         "line": {
          "color": "#FF6692",
          "dash": "solid"
         },
         "marker": {
          "symbol": "circle"
         },
         "mode": "lines",
         "name": "2004",
         "orientation": "v",
         "showlegend": true,
         "type": "scatter",
         "x": [
          "Enero",
          "Febrero",
          "Marzo",
          "Abril",
          "Mayo",
          "Junio"
         ],
         "xaxis": "x",
         "y": [
          -0.29,
          -0.14,
          1.02,
          1.15,
          0.19,
          -0.89
         ],
         "yaxis": "y"
        },
        {
         "hovertemplate": "Año=2005<br>Mes=%{x}<br>anomalia=%{y}<extra></extra>",
         "legendgroup": "2005",
         "line": {
          "color": "#B6E880",
          "dash": "solid"
         },
         "marker": {
          "symbol": "circle"
         },
         "mode": "lines",
         "name": "2005",
         "orientation": "v",
         "showlegend": true,
         "type": "scatter",
         "x": [
          "Enero",
          "Febrero",
          "Marzo",
          "Abril",
          "Mayo",
          "Junio"
         ],
         "xaxis": "x",
         "y": [
          1.52,
          -0.06,
          -1.83,
          -0.3,
          -1.25,
          -0.05
         ],
         "yaxis": "y"
        },
        {
         "hovertemplate": "Año=2006<br>Mes=%{x}<br>anomalia=%{y}<extra></extra>",
         "legendgroup": "2006",
         "line": {
          "color": "#FF97FF",
          "dash": "solid"
         },
         "marker": {
          "symbol": "circle"
         },
         "mode": "lines",
         "name": "2006",
         "orientation": "v",
         "showlegend": true,
         "type": "scatter",
         "x": [
          "Enero",
          "Febrero",
          "Marzo",
          "Abril",
          "Mayo",
          "Junio"
         ],
         "xaxis": "x",
         "y": [
          1.27,
          -0.51,
          -1.28,
          1.24,
          -1.14,
          0.84
         ],
         "yaxis": "y"
        },
        {
         "hovertemplate": "Año=2007<br>Mes=%{x}<br>anomalia=%{y}<extra></extra>",
         "legendgroup": "2007",
         "line": {
          "color": "#FECB52",
          "dash": "solid"
         },
         "marker": {
          "symbol": "circle"
         },
         "mode": "lines",
         "name": "2007",
         "orientation": "v",
         "showlegend": true,
         "type": "scatter",
         "x": [
          "Enero",
          "Febrero",
          "Marzo",
          "Abril",
          "Mayo",
          "Junio"
         ],
         "xaxis": "x",
         "y": [
          0.22,
          -0.47,
          1.44,
          0.17,
          0.66,
          -1.31
         ],
         "yaxis": "y"
        },
        {
         "hovertemplate": "Año=2008<br>Mes=%{x}<br>anomalia=%{y}<extra></extra>",
         "legendgroup": "2008",
         "line": {
          "color": "#636efa",
          "dash": "solid"
         },
         "marker": {
          "symbol": "circle"
         },
         "mode": "lines",
         "name": "2008",
         "orientation": "v",
         "showlegend": true,
         "type": "scatter",
         "x": [
          "Enero",
          "Febrero",
          "Marzo",
          "Abril",
          "Mayo",
          "Junio"
         ],
         "xaxis": "x",
         "y": [
          0.89,
          0.73,
          0.08,
          -1.07,
          -1.73,
          -1.39
         ],
         "yaxis": "y"
        },
        {
         "hovertemplate": "Año=2009<br>Mes=%{x}<br>anomalia=%{y}<extra></extra>",
         "legendgroup": "2009",
         "line": {
          "color": "#EF553B",
          "dash": "solid"
         },
         "marker": {
          "symbol": "circle"
         },
         "mode": "lines",
         "name": "2009",
         "orientation": "v",
         "showlegend": true,
         "type": "scatter",
         "x": [
          "Enero",
          "Febrero",
          "Marzo",
          "Abril",
          "Mayo",
          "Junio"
         ],
         "xaxis": "x",
         "y": [
          -0.01,
          0.06,
          0.57,
          -0.2,
          1.68,
          -1.21
         ],
         "yaxis": "y"
        },
        {
         "hovertemplate": "Año=2010<br>Mes=%{x}<br>anomalia=%{y}<extra></extra>",
         "legendgroup": "2010",
         "line": {
          "color": "#00cc96",
          "dash": "solid"
         },
         "marker": {
          "symbol": "circle"
         },
         "mode": "lines",
         "name": "2010",
         "orientation": "v",
         "showlegend": true,
         "type": "scatter",
         "x": [
          "Enero",
          "Febrero",
          "Marzo",
          "Abril",
          "Mayo",
          "Junio"
         ],
         "xaxis": "x",
         "y": [
          -1.11,
          -1.98,
          -0.88,
          -0.72,
          -1.49,
          -0.82
         ],
         "yaxis": "y"
        },
        {
         "hovertemplate": "Año=2011<br>Mes=%{x}<br>anomalia=%{y}<extra></extra>",
         "legendgroup": "2011",
         "line": {
          "color": "#ab63fa",
          "dash": "solid"
         },
         "marker": {
          "symbol": "circle"
         },
         "mode": "lines",
         "name": "2011",
         "orientation": "v",
         "showlegend": true,
         "type": "scatter",
         "x": [
          "Enero",
          "Febrero",
          "Marzo",
          "Abril",
          "Mayo",
          "Junio"
         ],
         "xaxis": "x",
         "y": [
          -0.88,
          0.7,
          0.61,
          2.48,
          -0.06,
          -1.28
         ],
         "yaxis": "y"
        },
        {
         "hovertemplate": "Año=2012<br>Mes=%{x}<br>anomalia=%{y}<extra></extra>",
         "legendgroup": "2012",
         "line": {
          "color": "#FFA15A",
          "dash": "solid"
         },
         "marker": {
          "symbol": "circle"
         },
         "mode": "lines",
         "name": "2012",
         "orientation": "v",
         "showlegend": true,
         "type": "scatter",
         "x": [
          "Enero",
          "Febrero",
          "Marzo",
          "Abril",
          "Mayo",
          "Junio"
         ],
         "xaxis": "x",
         "y": [
          1.17,
          0.42,
          1.27,
          0.47,
          -0.91,
          -2.53
         ],
         "yaxis": "y"
        },
        {
         "hovertemplate": "Año=2013<br>Mes=%{x}<br>anomalia=%{y}<extra></extra>",
         "legendgroup": "2013",
         "line": {
          "color": "#19d3f3",
          "dash": "solid"
         },
         "marker": {
          "symbol": "circle"
         },
         "mode": "lines",
         "name": "2013",
         "orientation": "v",
         "showlegend": true,
         "type": "scatter",
         "x": [
          "Enero",
          "Febrero",
          "Marzo",
          "Abril",
          "Mayo",
          "Junio"
         ],
         "xaxis": "x",
         "y": [
          0.35,
          -0.45,
          -1.61,
          0.69,
          0.57,
          0.52
         ],
         "yaxis": "y"
        },
        {
         "hovertemplate": "Año=2014<br>Mes=%{x}<br>anomalia=%{y}<extra></extra>",
         "legendgroup": "2014",
         "line": {
          "color": "#FF6692",
          "dash": "solid"
         },
         "marker": {
          "symbol": "circle"
         },
         "mode": "lines",
         "name": "2014",
         "orientation": "v",
         "showlegend": true,
         "type": "scatter",
         "x": [
          "Enero",
          "Febrero",
          "Marzo",
          "Abril",
          "Mayo",
          "Junio"
         ],
         "xaxis": "x",
         "y": [
          0.29,
          1.34,
          0.8,
          0.31,
          -0.92,
          -0.97
         ],
         "yaxis": "y"
        },
        {
         "hovertemplate": "Año=2015<br>Mes=%{x}<br>anomalia=%{y}<extra></extra>",
         "legendgroup": "2015",
         "line": {
          "color": "#B6E880",
          "dash": "solid"
         },
         "marker": {
          "symbol": "circle"
         },
         "mode": "lines",
         "name": "2015",
         "orientation": "v",
         "showlegend": true,
         "type": "scatter",
         "x": [
          "Enero",
          "Febrero",
          "Marzo",
          "Abril",
          "Mayo",
          "Junio"
         ],
         "xaxis": "x",
         "y": [
          1.79,
          1.32,
          1.45,
          0.73,
          0.15,
          -0.07
         ],
         "yaxis": "y"
        },
        {
         "hovertemplate": "Año=2016<br>Mes=%{x}<br>anomalia=%{y}<extra></extra>",
         "legendgroup": "2016",
         "line": {
          "color": "#FF97FF",
          "dash": "solid"
         },
         "marker": {
          "symbol": "circle"
         },
         "mode": "lines",
         "name": "2016",
         "orientation": "v",
         "showlegend": true,
         "type": "scatter",
         "x": [
          "Enero",
          "Febrero",
          "Marzo",
          "Abril",
          "Mayo",
          "Junio"
         ],
         "xaxis": "x",
         "y": [
          0.12,
          1.58,
          0.73,
          0.38,
          -0.77,
          -0.43
         ],
         "yaxis": "y"
        },
        {
         "hovertemplate": "Año=2017<br>Mes=%{x}<br>anomalia=%{y}<extra></extra>",
         "legendgroup": "2017",
         "line": {
          "color": "#FECB52",
          "dash": "solid"
         },
         "marker": {
          "symbol": "circle"
         },
         "mode": "lines",
         "name": "2017",
         "orientation": "v",
         "showlegend": true,
         "type": "scatter",
         "x": [
          "Enero",
          "Febrero",
          "Marzo",
          "Abril",
          "Mayo",
          "Junio"
         ],
         "xaxis": "x",
         "y": [
          0.48,
          1,
          0.74,
          1.73,
          -1.91,
          0.05
         ],
         "yaxis": "y"
        },
        {
         "hovertemplate": "Año=2018<br>Mes=%{x}<br>anomalia=%{y}<extra></extra>",
         "legendgroup": "2018",
         "line": {
          "color": "#636efa",
          "dash": "solid"
         },
         "marker": {
          "symbol": "circle"
         },
         "mode": "lines",
         "name": "2018",
         "orientation": "v",
         "showlegend": true,
         "type": "scatter",
         "x": [
          "Enero",
          "Febrero",
          "Marzo",
          "Abril",
          "Mayo",
          "Junio"
         ],
         "xaxis": "x",
         "y": [
          1.44,
          1.58,
          -0.93,
          1.24,
          2.12,
          1.09
         ],
         "yaxis": "y"
        },
        {
         "hovertemplate": "Año=2019<br>Mes=%{x}<br>anomalia=%{y}<extra></extra>",
         "legendgroup": "2019",
         "line": {
          "color": "#EF553B",
          "dash": "solid"
         },
         "marker": {
          "symbol": "circle"
         },
         "mode": "lines",
         "name": "2019",
         "orientation": "v",
         "showlegend": true,
         "type": "scatter",
         "x": [
          "Enero",
          "Febrero",
          "Marzo",
          "Abril",
          "Mayo",
          "Junio"
         ],
         "xaxis": "x",
         "y": [
          0.59,
          0.29,
          1.23,
          0.47,
          -2.62,
          -1.09
         ],
         "yaxis": "y"
        },
        {
         "hovertemplate": "Año=2020<br>Mes=%{x}<br>anomalia=%{y}<extra></extra>",
         "legendgroup": "2020",
         "line": {
          "color": "#00cc96",
          "dash": "solid"
         },
         "marker": {
          "symbol": "circle"
         },
         "mode": "lines",
         "name": "2020",
         "orientation": "v",
         "showlegend": true,
         "type": "scatter",
         "x": [
          "Enero",
          "Febrero",
          "Marzo",
          "Abril",
          "Mayo",
          "Junio"
         ],
         "xaxis": "x",
         "y": [
          1.34,
          1.26,
          1.01,
          -1.02,
          -0.41,
          -0.15
         ],
         "yaxis": "y"
        },
        {
         "hovertemplate": "Año=2021<br>Mes=%{x}<br>anomalia=%{y}<extra></extra>",
         "legendgroup": "2021",
         "line": {
          "color": "#ab63fa",
          "dash": "solid"
         },
         "marker": {
          "symbol": "circle"
         },
         "mode": "lines",
         "name": "2021",
         "orientation": "v",
         "showlegend": true,
         "type": "scatter",
         "x": [
          "Enero",
          "Febrero",
          "Marzo",
          "Abril",
          "Mayo",
          "Junio"
         ],
         "xaxis": "x",
         "y": [
          -1.11,
          0.14,
          0.73,
          -1.43,
          -1.24,
          0.77
         ],
         "yaxis": "y"
        },
        {
         "hovertemplate": "Año=2022<br>Mes=%{x}<br>anomalia=%{y}<extra></extra>",
         "legendgroup": "2022",
         "line": {
          "color": "#FFA15A",
          "dash": "solid"
         },
         "marker": {
          "symbol": "circle"
         },
         "mode": "lines",
         "name": "2022",
         "orientation": "v",
         "showlegend": true,
         "type": "scatter",
         "x": [
          "Enero",
          "Febrero",
          "Marzo",
          "Abril",
          "Mayo",
          "Junio"
         ],
         "xaxis": "x",
         "y": [
          1.08,
          1.68,
          0.77,
          -0.36,
          0.71,
          -0.12
         ],
         "yaxis": "y"
        },
        {
         "hovertemplate": "Año=2023<br>Mes=%{x}<br>anomalia=%{y}<extra></extra>",
         "legendgroup": "2023",
         "line": {
          "color": "#19d3f3",
          "dash": "solid"
         },
         "marker": {
          "symbol": "circle"
         },
         "mode": "lines",
         "name": "2023",
         "orientation": "v",
         "showlegend": true,
         "type": "scatter",
         "x": [
          "Enero",
          "Febrero",
          "Marzo",
          "Abril",
          "Mayo",
          "Junio"
         ],
         "xaxis": "x",
         "y": [
          1.25,
          0.92,
          -1.11,
          -0.63,
          0.39,
          -0.58
         ],
         "yaxis": "y"
        },
        {
         "hovertemplate": "Año=2024<br>Mes=%{x}<br>anomalia=%{y}<extra></extra>",
         "legendgroup": "2024",
         "line": {
          "color": "#FF6692",
          "dash": "solid"
         },
         "marker": {
          "symbol": "circle"
         },
         "mode": "lines",
         "name": "2024",
         "orientation": "v",
         "showlegend": true,
         "type": "scatter",
         "x": [
          "Enero",
          "Febrero",
          "Marzo",
          "Abril",
          "Mayo",
          "Junio"
         ],
         "xaxis": "x",
         "y": [
          0.21,
          1.09,
          -0.21,
          -0.78,
          -0.44,
          1.7
         ],
         "yaxis": "y"
        }
       ],
       "layout": {
        "legend": {
         "title": {
          "text": "Año"
         },
         "tracegroupgap": 0
        },
        "template": {
         "data": {
          "bar": [
           {
            "error_x": {
             "color": "#2a3f5f"
            },
            "error_y": {
             "color": "#2a3f5f"
            },
            "marker": {
             "line": {
              "color": "#E5ECF6",
              "width": 0.5
             },
             "pattern": {
              "fillmode": "overlay",
              "size": 10,
              "solidity": 0.2
             }
            },
            "type": "bar"
           }
          ],
          "barpolar": [
           {
            "marker": {
             "line": {
              "color": "#E5ECF6",
              "width": 0.5
             },
             "pattern": {
              "fillmode": "overlay",
              "size": 10,
              "solidity": 0.2
             }
            },
            "type": "barpolar"
           }
          ],
          "carpet": [
           {
            "aaxis": {
             "endlinecolor": "#2a3f5f",
             "gridcolor": "white",
             "linecolor": "white",
             "minorgridcolor": "white",
             "startlinecolor": "#2a3f5f"
            },
            "baxis": {
             "endlinecolor": "#2a3f5f",
             "gridcolor": "white",
             "linecolor": "white",
             "minorgridcolor": "white",
             "startlinecolor": "#2a3f5f"
            },
            "type": "carpet"
           }
          ],
          "choropleth": [
           {
            "colorbar": {
             "outlinewidth": 0,
             "ticks": ""
            },
            "type": "choropleth"
           }
          ],
          "contour": [
           {
            "colorbar": {
             "outlinewidth": 0,
             "ticks": ""
            },
            "colorscale": [
             [
              0,
              "#0d0887"
             ],
             [
              0.1111111111111111,
              "#46039f"
             ],
             [
              0.2222222222222222,
              "#7201a8"
             ],
             [
              0.3333333333333333,
              "#9c179e"
             ],
             [
              0.4444444444444444,
              "#bd3786"
             ],
             [
              0.5555555555555556,
              "#d8576b"
             ],
             [
              0.6666666666666666,
              "#ed7953"
             ],
             [
              0.7777777777777778,
              "#fb9f3a"
             ],
             [
              0.8888888888888888,
              "#fdca26"
             ],
             [
              1,
              "#f0f921"
             ]
            ],
            "type": "contour"
           }
          ],
          "contourcarpet": [
           {
            "colorbar": {
             "outlinewidth": 0,
             "ticks": ""
            },
            "type": "contourcarpet"
           }
          ],
          "heatmap": [
           {
            "colorbar": {
             "outlinewidth": 0,
             "ticks": ""
            },
            "colorscale": [
             [
              0,
              "#0d0887"
             ],
             [
              0.1111111111111111,
              "#46039f"
             ],
             [
              0.2222222222222222,
              "#7201a8"
             ],
             [
              0.3333333333333333,
              "#9c179e"
             ],
             [
              0.4444444444444444,
              "#bd3786"
             ],
             [
              0.5555555555555556,
              "#d8576b"
             ],
             [
              0.6666666666666666,
              "#ed7953"
             ],
             [
              0.7777777777777778,
              "#fb9f3a"
             ],
             [
              0.8888888888888888,
              "#fdca26"
             ],
             [
              1,
              "#f0f921"
             ]
            ],
            "type": "heatmap"
           }
          ],
          "heatmapgl": [
           {
            "colorbar": {
             "outlinewidth": 0,
             "ticks": ""
            },
            "colorscale": [
             [
              0,
              "#0d0887"
             ],
             [
              0.1111111111111111,
              "#46039f"
             ],
             [
              0.2222222222222222,
              "#7201a8"
             ],
             [
              0.3333333333333333,
              "#9c179e"
             ],
             [
              0.4444444444444444,
              "#bd3786"
             ],
             [
              0.5555555555555556,
              "#d8576b"
             ],
             [
              0.6666666666666666,
              "#ed7953"
             ],
             [
              0.7777777777777778,
              "#fb9f3a"
             ],
             [
              0.8888888888888888,
              "#fdca26"
             ],
             [
              1,
              "#f0f921"
             ]
            ],
            "type": "heatmapgl"
           }
          ],
          "histogram": [
           {
            "marker": {
             "pattern": {
              "fillmode": "overlay",
              "size": 10,
              "solidity": 0.2
             }
            },
            "type": "histogram"
           }
          ],
          "histogram2d": [
           {
            "colorbar": {
             "outlinewidth": 0,
             "ticks": ""
            },
            "colorscale": [
             [
              0,
              "#0d0887"
             ],
             [
              0.1111111111111111,
              "#46039f"
             ],
             [
              0.2222222222222222,
              "#7201a8"
             ],
             [
              0.3333333333333333,
              "#9c179e"
             ],
             [
              0.4444444444444444,
              "#bd3786"
             ],
             [
              0.5555555555555556,
              "#d8576b"
             ],
             [
              0.6666666666666666,
              "#ed7953"
             ],
             [
              0.7777777777777778,
              "#fb9f3a"
             ],
             [
              0.8888888888888888,
              "#fdca26"
             ],
             [
              1,
              "#f0f921"
             ]
            ],
            "type": "histogram2d"
           }
          ],
          "histogram2dcontour": [
           {
            "colorbar": {
             "outlinewidth": 0,
             "ticks": ""
            },
            "colorscale": [
             [
              0,
              "#0d0887"
             ],
             [
              0.1111111111111111,
              "#46039f"
             ],
             [
              0.2222222222222222,
              "#7201a8"
             ],
             [
              0.3333333333333333,
              "#9c179e"
             ],
             [
              0.4444444444444444,
              "#bd3786"
             ],
             [
              0.5555555555555556,
              "#d8576b"
             ],
             [
              0.6666666666666666,
              "#ed7953"
             ],
             [
              0.7777777777777778,
              "#fb9f3a"
             ],
             [
              0.8888888888888888,
              "#fdca26"
             ],
             [
              1,
              "#f0f921"
             ]
            ],
            "type": "histogram2dcontour"
           }
          ],
          "mesh3d": [
           {
            "colorbar": {
             "outlinewidth": 0,
             "ticks": ""
            },
            "type": "mesh3d"
           }
          ],
          "parcoords": [
           {
            "line": {
             "colorbar": {
              "outlinewidth": 0,
              "ticks": ""
             }
            },
            "type": "parcoords"
           }
          ],
          "pie": [
           {
            "automargin": true,
            "type": "pie"
           }
          ],
          "scatter": [
           {
            "fillpattern": {
             "fillmode": "overlay",
             "size": 10,
             "solidity": 0.2
            },
            "type": "scatter"
           }
          ],
          "scatter3d": [
           {
            "line": {
             "colorbar": {
              "outlinewidth": 0,
              "ticks": ""
             }
            },
            "marker": {
             "colorbar": {
              "outlinewidth": 0,
              "ticks": ""
             }
            },
            "type": "scatter3d"
           }
          ],
          "scattercarpet": [
           {
            "marker": {
             "colorbar": {
              "outlinewidth": 0,
              "ticks": ""
             }
            },
            "type": "scattercarpet"
           }
          ],
          "scattergeo": [
           {
            "marker": {
             "colorbar": {
              "outlinewidth": 0,
              "ticks": ""
             }
            },
            "type": "scattergeo"
           }
          ],
          "scattergl": [
           {
            "marker": {
             "colorbar": {
              "outlinewidth": 0,
              "ticks": ""
             }
            },
            "type": "scattergl"
           }
          ],
          "scattermapbox": [
           {
            "marker": {
             "colorbar": {
              "outlinewidth": 0,
              "ticks": ""
             }
            },
            "type": "scattermapbox"
           }
          ],
          "scatterpolar": [
           {
            "marker": {
             "colorbar": {
              "outlinewidth": 0,
              "ticks": ""
             }
            },
            "type": "scatterpolar"
           }
          ],
          "scatterpolargl": [
           {
            "marker": {
             "colorbar": {
              "outlinewidth": 0,
              "ticks": ""
             }
            },
            "type": "scatterpolargl"
           }
          ],
          "scatterternary": [
           {
            "marker": {
             "colorbar": {
              "outlinewidth": 0,
              "ticks": ""
             }
            },
            "type": "scatterternary"
           }
          ],
          "surface": [
           {
            "colorbar": {
             "outlinewidth": 0,
             "ticks": ""
            },
            "colorscale": [
             [
              0,
              "#0d0887"
             ],
             [
              0.1111111111111111,
              "#46039f"
             ],
             [
              0.2222222222222222,
              "#7201a8"
             ],
             [
              0.3333333333333333,
              "#9c179e"
             ],
             [
              0.4444444444444444,
              "#bd3786"
             ],
             [
              0.5555555555555556,
              "#d8576b"
             ],
             [
              0.6666666666666666,
              "#ed7953"
             ],
             [
              0.7777777777777778,
              "#fb9f3a"
             ],
             [
              0.8888888888888888,
              "#fdca26"
             ],
             [
              1,
              "#f0f921"
             ]
            ],
            "type": "surface"
           }
          ],
          "table": [
           {
            "cells": {
             "fill": {
              "color": "#EBF0F8"
             },
             "line": {
              "color": "white"
             }
            },
            "header": {
             "fill": {
              "color": "#C8D4E3"
             },
             "line": {
              "color": "white"
             }
            },
            "type": "table"
           }
          ]
         },
         "layout": {
          "annotationdefaults": {
           "arrowcolor": "#2a3f5f",
           "arrowhead": 0,
           "arrowwidth": 1
          },
          "autotypenumbers": "strict",
          "coloraxis": {
           "colorbar": {
            "outlinewidth": 0,
            "ticks": ""
           }
          },
          "colorscale": {
           "diverging": [
            [
             0,
             "#8e0152"
            ],
            [
             0.1,
             "#c51b7d"
            ],
            [
             0.2,
             "#de77ae"
            ],
            [
             0.3,
             "#f1b6da"
            ],
            [
             0.4,
             "#fde0ef"
            ],
            [
             0.5,
             "#f7f7f7"
            ],
            [
             0.6,
             "#e6f5d0"
            ],
            [
             0.7,
             "#b8e186"
            ],
            [
             0.8,
             "#7fbc41"
            ],
            [
             0.9,
             "#4d9221"
            ],
            [
             1,
             "#276419"
            ]
           ],
           "sequential": [
            [
             0,
             "#0d0887"
            ],
            [
             0.1111111111111111,
             "#46039f"
            ],
            [
             0.2222222222222222,
             "#7201a8"
            ],
            [
             0.3333333333333333,
             "#9c179e"
            ],
            [
             0.4444444444444444,
             "#bd3786"
            ],
            [
             0.5555555555555556,
             "#d8576b"
            ],
            [
             0.6666666666666666,
             "#ed7953"
            ],
            [
             0.7777777777777778,
             "#fb9f3a"
            ],
            [
             0.8888888888888888,
             "#fdca26"
            ],
            [
             1,
             "#f0f921"
            ]
           ],
           "sequentialminus": [
            [
             0,
             "#0d0887"
            ],
            [
             0.1111111111111111,
             "#46039f"
            ],
            [
             0.2222222222222222,
             "#7201a8"
            ],
            [
             0.3333333333333333,
             "#9c179e"
            ],
            [
             0.4444444444444444,
             "#bd3786"
            ],
            [
             0.5555555555555556,
             "#d8576b"
            ],
            [
             0.6666666666666666,
             "#ed7953"
            ],
            [
             0.7777777777777778,
             "#fb9f3a"
            ],
            [
             0.8888888888888888,
             "#fdca26"
            ],
            [
             1,
             "#f0f921"
            ]
           ]
          },
          "colorway": [
           "#636efa",
           "#EF553B",
           "#00cc96",
           "#ab63fa",
           "#FFA15A",
           "#19d3f3",
           "#FF6692",
           "#B6E880",
           "#FF97FF",
           "#FECB52"
          ],
          "font": {
           "color": "#2a3f5f"
          },
          "geo": {
           "bgcolor": "white",
           "lakecolor": "white",
           "landcolor": "#E5ECF6",
           "showlakes": true,
           "showland": true,
           "subunitcolor": "white"
          },
          "hoverlabel": {
           "align": "left"
          },
          "hovermode": "closest",
          "mapbox": {
           "style": "light"
          },
          "paper_bgcolor": "white",
          "plot_bgcolor": "#E5ECF6",
          "polar": {
           "angularaxis": {
            "gridcolor": "white",
            "linecolor": "white",
            "ticks": ""
           },
           "bgcolor": "#E5ECF6",
           "radialaxis": {
            "gridcolor": "white",
            "linecolor": "white",
            "ticks": ""
           }
          },
          "scene": {
           "xaxis": {
            "backgroundcolor": "#E5ECF6",
            "gridcolor": "white",
            "gridwidth": 2,
            "linecolor": "white",
            "showbackground": true,
            "ticks": "",
            "zerolinecolor": "white"
           },
           "yaxis": {
            "backgroundcolor": "#E5ECF6",
            "gridcolor": "white",
            "gridwidth": 2,
            "linecolor": "white",
            "showbackground": true,
            "ticks": "",
            "zerolinecolor": "white"
           },
           "zaxis": {
            "backgroundcolor": "#E5ECF6",
            "gridcolor": "white",
            "gridwidth": 2,
            "linecolor": "white",
            "showbackground": true,
            "ticks": "",
            "zerolinecolor": "white"
           }
          },
          "shapedefaults": {
           "line": {
            "color": "#2a3f5f"
           }
          },
          "ternary": {
           "aaxis": {
            "gridcolor": "white",
            "linecolor": "white",
            "ticks": ""
           },
           "baxis": {
            "gridcolor": "white",
            "linecolor": "white",
            "ticks": ""
           },
           "bgcolor": "#E5ECF6",
           "caxis": {
            "gridcolor": "white",
            "linecolor": "white",
            "ticks": ""
           }
          },
          "title": {
           "x": 0.05
          },
          "xaxis": {
           "automargin": true,
           "gridcolor": "white",
           "linecolor": "white",
           "ticks": "",
           "title": {
            "standoff": 15
           },
           "zerolinecolor": "white",
           "zerolinewidth": 2
          },
          "yaxis": {
           "automargin": true,
           "gridcolor": "white",
           "linecolor": "white",
           "ticks": "",
           "title": {
            "standoff": 15
           },
           "zerolinecolor": "white",
           "zerolinewidth": 2
          }
         }
        },
        "title": {
         "text": "Comportamiento de anomalia STMA"
        },
        "xaxis": {
         "anchor": "y",
         "domain": [
          0,
          1
         ],
         "title": {
          "text": "Mes"
         }
        },
        "yaxis": {
         "anchor": "x",
         "domain": [
          0,
          1
         ],
         "title": {
          "text": "anomalia"
         }
        }
       }
      }
     },
     "metadata": {},
     "output_type": "display_data"
    }
   ],
   "source": [
    "\n",
    "meses_orden = [\"Enero\", \"Febrero\", \"Marzo\", \"Abril\", \"Mayo\", \"Junio\"]\n",
    "df_melted['Mes'] = pd.Categorical(df_melted['Mes'], categories=meses_orden, ordered=True)\n",
    "\n",
    "# Graficar la serie de tiempo\n",
    "fig = px.line(df_melted, x='Mes', y='a_atlantico', color='Año',\n",
    "              labels={'Mes': 'Mes', 'a_atlantico': 'anomalia', 'Año': 'Año'},\n",
    "              title='Comportamiento de anomalia STMA')\n",
    "\n",
    "fig.show()"
   ]
  },
  {
   "cell_type": "code",
   "execution_count": 101,
   "metadata": {},
   "outputs": [
    {
     "data": {
      "image/png": "[encoded data removed]",
      "text/plain": [
       "<Figure size 1000x700 with 1 Axes>"
      ]
     },
     "metadata": {},
     "output_type": "display_data"
    },
    {
     "data": {
      "text/html": [
       "<div>\n",
       "<style scoped>\n",
       "    .dataframe tbody tr th:only-of-type {\n",
       "        vertical-align: middle;\n",
       "    }\n",
       "\n",
       "    .dataframe tbody tr th {\n",
       "        vertical-align: top;\n",
       "    }\n",
       "\n",
       "    .dataframe thead th {\n",
       "        text-align: right;\n",
       "    }\n",
       "</style>\n",
       "<table border=\"1\" class=\"dataframe\">\n",
       "  <thead>\n",
       "    <tr style=\"text-align: right;\">\n",
       "      <th></th>\n",
       "      <th>Cluster1</th>\n",
       "      <th>Cluster2</th>\n",
       "      <th>Cluster3</th>\n",
       "      <th>Cluster4</th>\n",
       "      <th>Cluster5</th>\n",
       "      <th>Cluster6</th>\n",
       "    </tr>\n",
       "  </thead>\n",
       "  <tbody>\n",
       "    <tr>\n",
       "      <th>0</th>\n",
       "      <td>2010.0</td>\n",
       "      <td>2021.0</td>\n",
       "      <td>1998.0</td>\n",
       "      <td>2001.0</td>\n",
       "      <td>1999</td>\n",
       "      <td>2018.0</td>\n",
       "    </tr>\n",
       "    <tr>\n",
       "      <th>1</th>\n",
       "      <td>NaN</td>\n",
       "      <td>NaN</td>\n",
       "      <td>2008.0</td>\n",
       "      <td>2005.0</td>\n",
       "      <td>2000</td>\n",
       "      <td>NaN</td>\n",
       "    </tr>\n",
       "    <tr>\n",
       "      <th>2</th>\n",
       "      <td>NaN</td>\n",
       "      <td>NaN</td>\n",
       "      <td>2012.0</td>\n",
       "      <td>2006.0</td>\n",
       "      <td>2002</td>\n",
       "      <td>NaN</td>\n",
       "    </tr>\n",
       "    <tr>\n",
       "      <th>3</th>\n",
       "      <td>NaN</td>\n",
       "      <td>NaN</td>\n",
       "      <td>2017.0</td>\n",
       "      <td>2013.0</td>\n",
       "      <td>2003</td>\n",
       "      <td>NaN</td>\n",
       "    </tr>\n",
       "    <tr>\n",
       "      <th>4</th>\n",
       "      <td>NaN</td>\n",
       "      <td>NaN</td>\n",
       "      <td>2019.0</td>\n",
       "      <td>2023.0</td>\n",
       "      <td>2004</td>\n",
       "      <td>NaN</td>\n",
       "    </tr>\n",
       "    <tr>\n",
       "      <th>5</th>\n",
       "      <td>NaN</td>\n",
       "      <td>NaN</td>\n",
       "      <td>NaN</td>\n",
       "      <td>NaN</td>\n",
       "      <td>2007</td>\n",
       "      <td>NaN</td>\n",
       "    </tr>\n",
       "    <tr>\n",
       "      <th>6</th>\n",
       "      <td>NaN</td>\n",
       "      <td>NaN</td>\n",
       "      <td>NaN</td>\n",
       "      <td>NaN</td>\n",
       "      <td>2009</td>\n",
       "      <td>NaN</td>\n",
       "    </tr>\n",
       "    <tr>\n",
       "      <th>7</th>\n",
       "      <td>NaN</td>\n",
       "      <td>NaN</td>\n",
       "      <td>NaN</td>\n",
       "      <td>NaN</td>\n",
       "      <td>2011</td>\n",
       "      <td>NaN</td>\n",
       "    </tr>\n",
       "    <tr>\n",
       "      <th>8</th>\n",
       "      <td>NaN</td>\n",
       "      <td>NaN</td>\n",
       "      <td>NaN</td>\n",
       "      <td>NaN</td>\n",
       "      <td>2014</td>\n",
       "      <td>NaN</td>\n",
       "    </tr>\n",
       "    <tr>\n",
       "      <th>9</th>\n",
       "      <td>NaN</td>\n",
       "      <td>NaN</td>\n",
       "      <td>NaN</td>\n",
       "      <td>NaN</td>\n",
       "      <td>2015</td>\n",
       "      <td>NaN</td>\n",
       "    </tr>\n",
       "    <tr>\n",
       "      <th>10</th>\n",
       "      <td>NaN</td>\n",
       "      <td>NaN</td>\n",
       "      <td>NaN</td>\n",
       "      <td>NaN</td>\n",
       "      <td>2016</td>\n",
       "      <td>NaN</td>\n",
       "    </tr>\n",
       "    <tr>\n",
       "      <th>11</th>\n",
       "      <td>NaN</td>\n",
       "      <td>NaN</td>\n",
       "      <td>NaN</td>\n",
       "      <td>NaN</td>\n",
       "      <td>2020</td>\n",
       "      <td>NaN</td>\n",
       "    </tr>\n",
       "    <tr>\n",
       "      <th>12</th>\n",
       "      <td>NaN</td>\n",
       "      <td>NaN</td>\n",
       "      <td>NaN</td>\n",
       "      <td>NaN</td>\n",
       "      <td>2022</td>\n",
       "      <td>NaN</td>\n",
       "    </tr>\n",
       "    <tr>\n",
       "      <th>13</th>\n",
       "      <td>NaN</td>\n",
       "      <td>NaN</td>\n",
       "      <td>NaN</td>\n",
       "      <td>NaN</td>\n",
       "      <td>2024</td>\n",
       "      <td>NaN</td>\n",
       "    </tr>\n",
       "  </tbody>\n",
       "</table>\n",
       "</div>"
      ],
      "text/plain": [
       "    Cluster1  Cluster2  Cluster3  Cluster4  Cluster5  Cluster6\n",
       "0     2010.0    2021.0    1998.0    2001.0      1999    2018.0\n",
       "1        NaN       NaN    2008.0    2005.0      2000       NaN\n",
       "2        NaN       NaN    2012.0    2006.0      2002       NaN\n",
       "3        NaN       NaN    2017.0    2013.0      2003       NaN\n",
       "4        NaN       NaN    2019.0    2023.0      2004       NaN\n",
       "5        NaN       NaN       NaN       NaN      2007       NaN\n",
       "6        NaN       NaN       NaN       NaN      2009       NaN\n",
       "7        NaN       NaN       NaN       NaN      2011       NaN\n",
       "8        NaN       NaN       NaN       NaN      2014       NaN\n",
       "9        NaN       NaN       NaN       NaN      2015       NaN\n",
       "10       NaN       NaN       NaN       NaN      2016       NaN\n",
       "11       NaN       NaN       NaN       NaN      2020       NaN\n",
       "12       NaN       NaN       NaN       NaN      2022       NaN\n",
       "13       NaN       NaN       NaN       NaN      2024       NaN"
      ]
     },
     "execution_count": 101,
     "metadata": {},
     "output_type": "execute_result"
    }
   ],
   "source": [
    "\n",
    "df_scaled = df_atlantico.copy()\n",
    "#df_scaled.iloc[:, 1:] = (df_scaled.iloc[:, 1:] - df_scaled.iloc[:, 1:].mean()) / df_scaled.iloc[:, 1:].std()\n",
    "\n",
    "# Calcular la matriz de distancias\n",
    "dist_matrix = pdist(df_scaled.iloc[:, 1:], metric='euclidean')\n",
    "\n",
    "# Aplicar el algoritmo de clustering jerárquico\n",
    "Z = linkage(dist_matrix, method='average')\n",
    "\n",
    "# Dibujar el dendrograma\n",
    "plt.figure(figsize=(10, 7))\n",
    "dendrogram(Z, labels=df_atlantico['Año'].values, leaf_rotation=90)\n",
    "plt.title('Dendrograma de Clustering Jerárquico')\n",
    "plt.xlabel('Año')\n",
    "plt.ylabel('Distancia')\n",
    "plt.show()\n",
    "\n",
    "\n",
    "\n",
    "#  criterio para el número máximo de clusters\n",
    "max_clusters = 6 # máximo de 5 clusters\n",
    "clusters = fcluster(Z, max_clusters, criterion='maxclust')\n",
    "\n",
    "df_atlantico['Cluster'] = clusters\n",
    "\n",
    "df_atlantico[['Año', 'Cluster']]\n",
    "\n",
    "\n",
    "# Agrupar los años por cada cluster\n",
    "cluster_groups = df_atlantico.groupby('Cluster')['Año'].apply(list).reset_index()\n",
    "\n",
    "\n",
    "cluster_results = {}\n",
    "for index, row in cluster_groups.iterrows():\n",
    "    cluster_results[f'Cluster{row[\"Cluster\"]}'] = row['Año']\n",
    "\n",
    "atlantico = pd.DataFrame(dict([(k, pd.Series(v)) for k, v in cluster_results.items()]))\n",
    "\n",
    "\n",
    "atlantico"
   ]
  },
  {
   "cell_type": "markdown",
   "metadata": {},
   "source": [
    "### Resultado por el programa de  Infostat (Atlantico) 6 clusters"
   ]
  },
  {
   "attachments": {
    "image.png": {
     "image/png": "[encoded data removed]"
    }
   },
   "cell_type": "markdown",
   "metadata": {},
   "source": [
    "![image.png](attachment:image.png)"
   ]
  },
  {
   "cell_type": "code",
   "execution_count": 103,
   "metadata": {},
   "outputs": [],
   "source": [
    "# Transformar tabla para obtener columnas \"Año\" y \"Cluster\"\n",
    "clusters_atlantico = atlantico.melt(var_name='Clusteratlantico', value_name='Año').dropna().reset_index(drop=True)"
   ]
  },
  {
   "cell_type": "code",
   "execution_count": 104,
   "metadata": {},
   "outputs": [
    {
     "data": {
      "text/html": [
       "<div>\n",
       "<style scoped>\n",
       "    .dataframe tbody tr th:only-of-type {\n",
       "        vertical-align: middle;\n",
       "    }\n",
       "\n",
       "    .dataframe tbody tr th {\n",
       "        vertical-align: top;\n",
       "    }\n",
       "\n",
       "    .dataframe thead th {\n",
       "        text-align: right;\n",
       "    }\n",
       "</style>\n",
       "<table border=\"1\" class=\"dataframe\">\n",
       "  <thead>\n",
       "    <tr style=\"text-align: right;\">\n",
       "      <th></th>\n",
       "      <th>Año</th>\n",
       "      <th>Enero</th>\n",
       "      <th>Febrero</th>\n",
       "      <th>Marzo</th>\n",
       "      <th>Abril</th>\n",
       "      <th>Mayo</th>\n",
       "      <th>Junio</th>\n",
       "      <th>Cluster</th>\n",
       "      <th>Clusteratlantico</th>\n",
       "    </tr>\n",
       "  </thead>\n",
       "  <tbody>\n",
       "    <tr>\n",
       "      <th>0</th>\n",
       "      <td>1998</td>\n",
       "      <td>0.39</td>\n",
       "      <td>-0.11</td>\n",
       "      <td>0.87</td>\n",
       "      <td>-0.68</td>\n",
       "      <td>-1.32</td>\n",
       "      <td>-2.72</td>\n",
       "      <td>3</td>\n",
       "      <td>Cluster3</td>\n",
       "    </tr>\n",
       "    <tr>\n",
       "      <th>1</th>\n",
       "      <td>1999</td>\n",
       "      <td>0.77</td>\n",
       "      <td>0.29</td>\n",
       "      <td>0.23</td>\n",
       "      <td>-0.95</td>\n",
       "      <td>0.92</td>\n",
       "      <td>1.12</td>\n",
       "      <td>5</td>\n",
       "      <td>Cluster5</td>\n",
       "    </tr>\n",
       "    <tr>\n",
       "      <th>2</th>\n",
       "      <td>2000</td>\n",
       "      <td>0.60</td>\n",
       "      <td>1.70</td>\n",
       "      <td>0.77</td>\n",
       "      <td>-0.03</td>\n",
       "      <td>1.58</td>\n",
       "      <td>-0.03</td>\n",
       "      <td>5</td>\n",
       "      <td>Cluster5</td>\n",
       "    </tr>\n",
       "    <tr>\n",
       "      <th>3</th>\n",
       "      <td>2001</td>\n",
       "      <td>0.25</td>\n",
       "      <td>0.45</td>\n",
       "      <td>-1.26</td>\n",
       "      <td>0.00</td>\n",
       "      <td>-0.02</td>\n",
       "      <td>-0.20</td>\n",
       "      <td>4</td>\n",
       "      <td>Cluster4</td>\n",
       "    </tr>\n",
       "    <tr>\n",
       "      <th>4</th>\n",
       "      <td>2002</td>\n",
       "      <td>0.44</td>\n",
       "      <td>1.10</td>\n",
       "      <td>0.69</td>\n",
       "      <td>1.18</td>\n",
       "      <td>-0.22</td>\n",
       "      <td>0.38</td>\n",
       "      <td>5</td>\n",
       "      <td>Cluster5</td>\n",
       "    </tr>\n",
       "    <tr>\n",
       "      <th>5</th>\n",
       "      <td>2003</td>\n",
       "      <td>0.16</td>\n",
       "      <td>0.62</td>\n",
       "      <td>0.32</td>\n",
       "      <td>-0.18</td>\n",
       "      <td>0.01</td>\n",
       "      <td>-0.07</td>\n",
       "      <td>5</td>\n",
       "      <td>Cluster5</td>\n",
       "    </tr>\n",
       "    <tr>\n",
       "      <th>6</th>\n",
       "      <td>2004</td>\n",
       "      <td>-0.29</td>\n",
       "      <td>-0.14</td>\n",
       "      <td>1.02</td>\n",
       "      <td>1.15</td>\n",
       "      <td>0.19</td>\n",
       "      <td>-0.89</td>\n",
       "      <td>5</td>\n",
       "      <td>Cluster5</td>\n",
       "    </tr>\n",
       "    <tr>\n",
       "      <th>7</th>\n",
       "      <td>2005</td>\n",
       "      <td>1.52</td>\n",
       "      <td>-0.06</td>\n",
       "      <td>-1.83</td>\n",
       "      <td>-0.30</td>\n",
       "      <td>-1.25</td>\n",
       "      <td>-0.05</td>\n",
       "      <td>4</td>\n",
       "      <td>Cluster4</td>\n",
       "    </tr>\n",
       "    <tr>\n",
       "      <th>8</th>\n",
       "      <td>2006</td>\n",
       "      <td>1.27</td>\n",
       "      <td>-0.51</td>\n",
       "      <td>-1.28</td>\n",
       "      <td>1.24</td>\n",
       "      <td>-1.14</td>\n",
       "      <td>0.84</td>\n",
       "      <td>4</td>\n",
       "      <td>Cluster4</td>\n",
       "    </tr>\n",
       "    <tr>\n",
       "      <th>9</th>\n",
       "      <td>2007</td>\n",
       "      <td>0.22</td>\n",
       "      <td>-0.47</td>\n",
       "      <td>1.44</td>\n",
       "      <td>0.17</td>\n",
       "      <td>0.66</td>\n",
       "      <td>-1.31</td>\n",
       "      <td>5</td>\n",
       "      <td>Cluster5</td>\n",
       "    </tr>\n",
       "    <tr>\n",
       "      <th>10</th>\n",
       "      <td>2008</td>\n",
       "      <td>0.89</td>\n",
       "      <td>0.73</td>\n",
       "      <td>0.08</td>\n",
       "      <td>-1.07</td>\n",
       "      <td>-1.73</td>\n",
       "      <td>-1.39</td>\n",
       "      <td>3</td>\n",
       "      <td>Cluster3</td>\n",
       "    </tr>\n",
       "    <tr>\n",
       "      <th>11</th>\n",
       "      <td>2009</td>\n",
       "      <td>-0.01</td>\n",
       "      <td>0.06</td>\n",
       "      <td>0.57</td>\n",
       "      <td>-0.20</td>\n",
       "      <td>1.68</td>\n",
       "      <td>-1.21</td>\n",
       "      <td>5</td>\n",
       "      <td>Cluster5</td>\n",
       "    </tr>\n",
       "    <tr>\n",
       "      <th>12</th>\n",
       "      <td>2010</td>\n",
       "      <td>-1.11</td>\n",
       "      <td>-1.98</td>\n",
       "      <td>-0.88</td>\n",
       "      <td>-0.72</td>\n",
       "      <td>-1.49</td>\n",
       "      <td>-0.82</td>\n",
       "      <td>1</td>\n",
       "      <td>Cluster1</td>\n",
       "    </tr>\n",
       "    <tr>\n",
       "      <th>13</th>\n",
       "      <td>2011</td>\n",
       "      <td>-0.88</td>\n",
       "      <td>0.70</td>\n",
       "      <td>0.61</td>\n",
       "      <td>2.48</td>\n",
       "      <td>-0.06</td>\n",
       "      <td>-1.28</td>\n",
       "      <td>5</td>\n",
       "      <td>Cluster5</td>\n",
       "    </tr>\n",
       "    <tr>\n",
       "      <th>14</th>\n",
       "      <td>2012</td>\n",
       "      <td>1.17</td>\n",
       "      <td>0.42</td>\n",
       "      <td>1.27</td>\n",
       "      <td>0.47</td>\n",
       "      <td>-0.91</td>\n",
       "      <td>-2.53</td>\n",
       "      <td>3</td>\n",
       "      <td>Cluster3</td>\n",
       "    </tr>\n",
       "    <tr>\n",
       "      <th>15</th>\n",
       "      <td>2013</td>\n",
       "      <td>0.35</td>\n",
       "      <td>-0.45</td>\n",
       "      <td>-1.61</td>\n",
       "      <td>0.69</td>\n",
       "      <td>0.57</td>\n",
       "      <td>0.52</td>\n",
       "      <td>4</td>\n",
       "      <td>Cluster4</td>\n",
       "    </tr>\n",
       "    <tr>\n",
       "      <th>16</th>\n",
       "      <td>2014</td>\n",
       "      <td>0.29</td>\n",
       "      <td>1.34</td>\n",
       "      <td>0.80</td>\n",
       "      <td>0.31</td>\n",
       "      <td>-0.92</td>\n",
       "      <td>-0.97</td>\n",
       "      <td>5</td>\n",
       "      <td>Cluster5</td>\n",
       "    </tr>\n",
       "    <tr>\n",
       "      <th>17</th>\n",
       "      <td>2015</td>\n",
       "      <td>1.79</td>\n",
       "      <td>1.32</td>\n",
       "      <td>1.45</td>\n",
       "      <td>0.73</td>\n",
       "      <td>0.15</td>\n",
       "      <td>-0.07</td>\n",
       "      <td>5</td>\n",
       "      <td>Cluster5</td>\n",
       "    </tr>\n",
       "    <tr>\n",
       "      <th>18</th>\n",
       "      <td>2016</td>\n",
       "      <td>0.12</td>\n",
       "      <td>1.58</td>\n",
       "      <td>0.73</td>\n",
       "      <td>0.38</td>\n",
       "      <td>-0.77</td>\n",
       "      <td>-0.43</td>\n",
       "      <td>5</td>\n",
       "      <td>Cluster5</td>\n",
       "    </tr>\n",
       "    <tr>\n",
       "      <th>19</th>\n",
       "      <td>2017</td>\n",
       "      <td>0.48</td>\n",
       "      <td>1.00</td>\n",
       "      <td>0.74</td>\n",
       "      <td>1.73</td>\n",
       "      <td>-1.91</td>\n",
       "      <td>0.05</td>\n",
       "      <td>3</td>\n",
       "      <td>Cluster3</td>\n",
       "    </tr>\n",
       "    <tr>\n",
       "      <th>20</th>\n",
       "      <td>2018</td>\n",
       "      <td>1.44</td>\n",
       "      <td>1.58</td>\n",
       "      <td>-0.93</td>\n",
       "      <td>1.24</td>\n",
       "      <td>2.12</td>\n",
       "      <td>1.09</td>\n",
       "      <td>6</td>\n",
       "      <td>Cluster6</td>\n",
       "    </tr>\n",
       "    <tr>\n",
       "      <th>21</th>\n",
       "      <td>2019</td>\n",
       "      <td>0.59</td>\n",
       "      <td>0.29</td>\n",
       "      <td>1.23</td>\n",
       "      <td>0.47</td>\n",
       "      <td>-2.62</td>\n",
       "      <td>-1.09</td>\n",
       "      <td>3</td>\n",
       "      <td>Cluster3</td>\n",
       "    </tr>\n",
       "    <tr>\n",
       "      <th>22</th>\n",
       "      <td>2020</td>\n",
       "      <td>1.34</td>\n",
       "      <td>1.26</td>\n",
       "      <td>1.01</td>\n",
       "      <td>-1.02</td>\n",
       "      <td>-0.41</td>\n",
       "      <td>-0.15</td>\n",
       "      <td>5</td>\n",
       "      <td>Cluster5</td>\n",
       "    </tr>\n",
       "    <tr>\n",
       "      <th>23</th>\n",
       "      <td>2021</td>\n",
       "      <td>-1.11</td>\n",
       "      <td>0.14</td>\n",
       "      <td>0.73</td>\n",
       "      <td>-1.43</td>\n",
       "      <td>-1.24</td>\n",
       "      <td>0.77</td>\n",
       "      <td>2</td>\n",
       "      <td>Cluster2</td>\n",
       "    </tr>\n",
       "    <tr>\n",
       "      <th>24</th>\n",
       "      <td>2022</td>\n",
       "      <td>1.08</td>\n",
       "      <td>1.68</td>\n",
       "      <td>0.77</td>\n",
       "      <td>-0.36</td>\n",
       "      <td>0.71</td>\n",
       "      <td>-0.12</td>\n",
       "      <td>5</td>\n",
       "      <td>Cluster5</td>\n",
       "    </tr>\n",
       "    <tr>\n",
       "      <th>25</th>\n",
       "      <td>2023</td>\n",
       "      <td>1.25</td>\n",
       "      <td>0.92</td>\n",
       "      <td>-1.11</td>\n",
       "      <td>-0.63</td>\n",
       "      <td>0.39</td>\n",
       "      <td>-0.58</td>\n",
       "      <td>4</td>\n",
       "      <td>Cluster4</td>\n",
       "    </tr>\n",
       "    <tr>\n",
       "      <th>26</th>\n",
       "      <td>2024</td>\n",
       "      <td>0.21</td>\n",
       "      <td>1.09</td>\n",
       "      <td>-0.21</td>\n",
       "      <td>-0.78</td>\n",
       "      <td>-0.44</td>\n",
       "      <td>1.70</td>\n",
       "      <td>5</td>\n",
       "      <td>Cluster5</td>\n",
       "    </tr>\n",
       "  </tbody>\n",
       "</table>\n",
       "</div>"
      ],
      "text/plain": [
       "     Año  Enero  Febrero  Marzo  Abril  Mayo  Junio  Cluster Clusteratlantico\n",
       "0   1998   0.39    -0.11   0.87  -0.68 -1.32  -2.72        3         Cluster3\n",
       "1   1999   0.77     0.29   0.23  -0.95  0.92   1.12        5         Cluster5\n",
       "2   2000   0.60     1.70   0.77  -0.03  1.58  -0.03        5         Cluster5\n",
       "3   2001   0.25     0.45  -1.26   0.00 -0.02  -0.20        4         Cluster4\n",
       "4   2002   0.44     1.10   0.69   1.18 -0.22   0.38        5         Cluster5\n",
       "5   2003   0.16     0.62   0.32  -0.18  0.01  -0.07        5         Cluster5\n",
       "6   2004  -0.29    -0.14   1.02   1.15  0.19  -0.89        5         Cluster5\n",
       "7   2005   1.52    -0.06  -1.83  -0.30 -1.25  -0.05        4         Cluster4\n",
       "8   2006   1.27    -0.51  -1.28   1.24 -1.14   0.84        4         Cluster4\n",
       "9   2007   0.22    -0.47   1.44   0.17  0.66  -1.31        5         Cluster5\n",
       "10  2008   0.89     0.73   0.08  -1.07 -1.73  -1.39        3         Cluster3\n",
       "11  2009  -0.01     0.06   0.57  -0.20  1.68  -1.21        5         Cluster5\n",
       "12  2010  -1.11    -1.98  -0.88  -0.72 -1.49  -0.82        1         Cluster1\n",
       "13  2011  -0.88     0.70   0.61   2.48 -0.06  -1.28        5         Cluster5\n",
       "14  2012   1.17     0.42   1.27   0.47 -0.91  -2.53        3         Cluster3\n",
       "15  2013   0.35    -0.45  -1.61   0.69  0.57   0.52        4         Cluster4\n",
       "16  2014   0.29     1.34   0.80   0.31 -0.92  -0.97        5         Cluster5\n",
       "17  2015   1.79     1.32   1.45   0.73  0.15  -0.07        5         Cluster5\n",
       "18  2016   0.12     1.58   0.73   0.38 -0.77  -0.43        5         Cluster5\n",
       "19  2017   0.48     1.00   0.74   1.73 -1.91   0.05        3         Cluster3\n",
       "20  2018   1.44     1.58  -0.93   1.24  2.12   1.09        6         Cluster6\n",
       "21  2019   0.59     0.29   1.23   0.47 -2.62  -1.09        3         Cluster3\n",
       "22  2020   1.34     1.26   1.01  -1.02 -0.41  -0.15        5         Cluster5\n",
       "23  2021  -1.11     0.14   0.73  -1.43 -1.24   0.77        2         Cluster2\n",
       "24  2022   1.08     1.68   0.77  -0.36  0.71  -0.12        5         Cluster5\n",
       "25  2023   1.25     0.92  -1.11  -0.63  0.39  -0.58        4         Cluster4\n",
       "26  2024   0.21     1.09  -0.21  -0.78 -0.44   1.70        5         Cluster5"
      ]
     },
     "execution_count": 104,
     "metadata": {},
     "output_type": "execute_result"
    }
   ],
   "source": [
    "df_atlantico_clusters = df_atlantico.merge(clusters_atlantico , on='Año', how='left')\n",
    "df_atlantico_clusters"
   ]
  },
  {
   "cell_type": "code",
   "execution_count": 106,
   "metadata": {},
   "outputs": [
    {
     "data": {
      "text/html": [
       "<div>\n",
       "<style scoped>\n",
       "    .dataframe tbody tr th:only-of-type {\n",
       "        vertical-align: middle;\n",
       "    }\n",
       "\n",
       "    .dataframe tbody tr th {\n",
       "        vertical-align: top;\n",
       "    }\n",
       "\n",
       "    .dataframe thead th {\n",
       "        text-align: right;\n",
       "    }\n",
       "</style>\n",
       "<table border=\"1\" class=\"dataframe\">\n",
       "  <thead>\n",
       "    <tr style=\"text-align: right;\">\n",
       "      <th></th>\n",
       "      <th>Año</th>\n",
       "      <th>Clusteratlantico</th>\n",
       "      <th>Mes</th>\n",
       "      <th>a_atlantico</th>\n",
       "    </tr>\n",
       "  </thead>\n",
       "  <tbody>\n",
       "    <tr>\n",
       "      <th>0</th>\n",
       "      <td>1998</td>\n",
       "      <td>Cluster3</td>\n",
       "      <td>Enero</td>\n",
       "      <td>0.39</td>\n",
       "    </tr>\n",
       "    <tr>\n",
       "      <th>1</th>\n",
       "      <td>1999</td>\n",
       "      <td>Cluster5</td>\n",
       "      <td>Enero</td>\n",
       "      <td>0.77</td>\n",
       "    </tr>\n",
       "    <tr>\n",
       "      <th>2</th>\n",
       "      <td>2000</td>\n",
       "      <td>Cluster5</td>\n",
       "      <td>Enero</td>\n",
       "      <td>0.60</td>\n",
       "    </tr>\n",
       "    <tr>\n",
       "      <th>3</th>\n",
       "      <td>2001</td>\n",
       "      <td>Cluster4</td>\n",
       "      <td>Enero</td>\n",
       "      <td>0.25</td>\n",
       "    </tr>\n",
       "    <tr>\n",
       "      <th>4</th>\n",
       "      <td>2002</td>\n",
       "      <td>Cluster5</td>\n",
       "      <td>Enero</td>\n",
       "      <td>0.44</td>\n",
       "    </tr>\n",
       "    <tr>\n",
       "      <th>...</th>\n",
       "      <td>...</td>\n",
       "      <td>...</td>\n",
       "      <td>...</td>\n",
       "      <td>...</td>\n",
       "    </tr>\n",
       "    <tr>\n",
       "      <th>184</th>\n",
       "      <td>2020</td>\n",
       "      <td>Cluster5</td>\n",
       "      <td>Cluster</td>\n",
       "      <td>5.00</td>\n",
       "    </tr>\n",
       "    <tr>\n",
       "      <th>185</th>\n",
       "      <td>2021</td>\n",
       "      <td>Cluster2</td>\n",
       "      <td>Cluster</td>\n",
       "      <td>2.00</td>\n",
       "    </tr>\n",
       "    <tr>\n",
       "      <th>186</th>\n",
       "      <td>2022</td>\n",
       "      <td>Cluster5</td>\n",
       "      <td>Cluster</td>\n",
       "      <td>5.00</td>\n",
       "    </tr>\n",
       "    <tr>\n",
       "      <th>187</th>\n",
       "      <td>2023</td>\n",
       "      <td>Cluster4</td>\n",
       "      <td>Cluster</td>\n",
       "      <td>4.00</td>\n",
       "    </tr>\n",
       "    <tr>\n",
       "      <th>188</th>\n",
       "      <td>2024</td>\n",
       "      <td>Cluster5</td>\n",
       "      <td>Cluster</td>\n",
       "      <td>5.00</td>\n",
       "    </tr>\n",
       "  </tbody>\n",
       "</table>\n",
       "<p>189 rows × 4 columns</p>\n",
       "</div>"
      ],
      "text/plain": [
       "      Año Clusteratlantico      Mes  a_atlantico\n",
       "0    1998         Cluster3    Enero         0.39\n",
       "1    1999         Cluster5    Enero         0.77\n",
       "2    2000         Cluster5    Enero         0.60\n",
       "3    2001         Cluster4    Enero         0.25\n",
       "4    2002         Cluster5    Enero         0.44\n",
       "..    ...              ...      ...          ...\n",
       "184  2020         Cluster5  Cluster         5.00\n",
       "185  2021         Cluster2  Cluster         2.00\n",
       "186  2022         Cluster5  Cluster         5.00\n",
       "187  2023         Cluster4  Cluster         4.00\n",
       "188  2024         Cluster5  Cluster         5.00\n",
       "\n",
       "[189 rows x 4 columns]"
      ]
     },
     "execution_count": 106,
     "metadata": {},
     "output_type": "execute_result"
    }
   ],
   "source": [
    "df_melted = df_atlantico_clusters.melt(id_vars=['Año', 'Clusteratlantico'], \n",
    "                           var_name='Mes', \n",
    "                           value_name='a_atlantico')\n",
    "df_melted"
   ]
  },
  {
   "cell_type": "code",
   "execution_count": 108,
   "metadata": {},
   "outputs": [
    {
     "data": {
      "application/vnd.plotly.v1+json": {
       "config": {
        "plotlyServerURL": "https://plot.ly"
       },
       "data": [
        {
         "hovertemplate": "Cluster=Cluster3<br>Mes=%{x}<br>Anomalia_atlantico=%{y}<extra></extra>",
         "legendgroup": "Cluster3",
         "line": {
          "color": "#636efa",
          "dash": "solid"
         },
         "marker": {
          "symbol": "circle"
         },
         "mode": "lines",
         "name": "Cluster3",
         "orientation": "v",
         "showlegend": true,
         "type": "scatter",
         "x": [
          "Enero",
          "Enero",
          "Enero",
          "Enero",
          "Enero",
          "Febrero",
          "Febrero",
          "Febrero",
          "Febrero",
          "Febrero",
          "Marzo",
          "Marzo",
          "Marzo",
          "Marzo",
          "Marzo",
          "Abril",
          "Abril",
          "Abril",
          "Abril",
          "Abril",
          "Mayo",
          "Mayo",
          "Mayo",
          "Mayo",
          "Mayo",
          "Junio",
          "Junio",
          "Junio",
          "Junio",
          "Junio",
          null,
          null,
          null,
          null,
          null
         ],
         "xaxis": "x",
         "y": [
          0.39,
          0.89,
          1.17,
          0.48,
          0.59,
          -0.11,
          0.73,
          0.42,
          1,
          0.29,
          0.87,
          0.08,
          1.27,
          0.74,
          1.23,
          -0.68,
          -1.07,
          0.47,
          1.73,
          0.47,
          -1.32,
          -1.73,
          -0.91,
          -1.91,
          -2.62,
          -2.72,
          -1.39,
          -2.53,
          0.05,
          -1.09,
          3,
          3,
          3,
          3,
          3
         ],
         "yaxis": "y"
        },
        {
         "hovertemplate": "Cluster=Cluster5<br>Mes=%{x}<br>Anomalia_atlantico=%{y}<extra></extra>",
         "legendgroup": "Cluster5",
         "line": {
          "color": "#EF553B",
          "dash": "solid"
         },
         "marker": {
          "symbol": "circle"
         },
         "mode": "lines",
         "name": "Cluster5",
         "orientation": "v",
         "showlegend": true,
         "type": "scatter",
         "x": [
          "Enero",
          "Enero",
          "Enero",
          "Enero",
          "Enero",
          "Enero",
          "Enero",
          "Enero",
          "Enero",
          "Enero",
          "Enero",
          "Enero",
          "Enero",
          "Enero",
          "Febrero",
          "Febrero",
          "Febrero",
          "Febrero",
          "Febrero",
          "Febrero",
          "Febrero",
          "Febrero",
          "Febrero",
          "Febrero",
          "Febrero",
          "Febrero",
          "Febrero",
          "Febrero",
          "Marzo",
          "Marzo",
          "Marzo",
          "Marzo",
          "Marzo",
          "Marzo",
          "Marzo",
          "Marzo",
          "Marzo",
          "Marzo",
          "Marzo",
          "Marzo",
          "Marzo",
          "Marzo",
          "Abril",
          "Abril",
          "Abril",
          "Abril",
          "Abril",
          "Abril",
          "Abril",
          "Abril",
          "Abril",
          "Abril",
          "Abril",
          "Abril",
          "Abril",
          "Abril",
          "Mayo",
          "Mayo",
          "Mayo",
          "Mayo",
          "Mayo",
          "Mayo",
          "Mayo",
          "Mayo",
          "Mayo",
          "Mayo",
          "Mayo",
          "Mayo",
          "Mayo",
          "Mayo",
          "Junio",
          "Junio",
          "Junio",
          "Junio",
          "Junio",
          "Junio",
          "Junio",
          "Junio",
          "Junio",
          "Junio",
          "Junio",
          "Junio",
          "Junio",
          "Junio",
          null,
          null,
          null,
          null,
          null,
          null,
          null,
          null,
          null,
          null,
          null,
          null,
          null,
          null
         ],
         "xaxis": "x",
         "y": [
          0.77,
          0.6,
          0.44,
          0.16,
          -0.29,
          0.22,
          -0.01,
          -0.88,
          0.29,
          1.79,
          0.12,
          1.34,
          1.08,
          0.21,
          0.29,
          1.7,
          1.1,
          0.62,
          -0.14,
          -0.47,
          0.06,
          0.7,
          1.34,
          1.32,
          1.58,
          1.26,
          1.68,
          1.09,
          0.23,
          0.77,
          0.69,
          0.32,
          1.02,
          1.44,
          0.57,
          0.61,
          0.8,
          1.45,
          0.73,
          1.01,
          0.77,
          -0.21,
          -0.95,
          -0.03,
          1.18,
          -0.18,
          1.15,
          0.17,
          -0.2,
          2.48,
          0.31,
          0.73,
          0.38,
          -1.02,
          -0.36,
          -0.78,
          0.92,
          1.58,
          -0.22,
          0.01,
          0.19,
          0.66,
          1.68,
          -0.06,
          -0.92,
          0.15,
          -0.77,
          -0.41,
          0.71,
          -0.44,
          1.12,
          -0.03,
          0.38,
          -0.07,
          -0.89,
          -1.31,
          -1.21,
          -1.28,
          -0.97,
          -0.07,
          -0.43,
          -0.15,
          -0.12,
          1.7,
          5,
          5,
          5,
          5,
          5,
          5,
          5,
          5,
          5,
          5,
          5,
          5,
          5,
          5
         ],
         "yaxis": "y"
        },
        {
         "hovertemplate": "Cluster=Cluster4<br>Mes=%{x}<br>Anomalia_atlantico=%{y}<extra></extra>",
         "legendgroup": "Cluster4",
         "line": {
          "color": "#00cc96",
          "dash": "solid"
         },
         "marker": {
          "symbol": "circle"
         },
         "mode": "lines",
         "name": "Cluster4",
         "orientation": "v",
         "showlegend": true,
         "type": "scatter",
         "x": [
          "Enero",
          "Enero",
          "Enero",
          "Enero",
          "Enero",
          "Febrero",
          "Febrero",
          "Febrero",
          "Febrero",
          "Febrero",
          "Marzo",
          "Marzo",
          "Marzo",
          "Marzo",
          "Marzo",
          "Abril",
          "Abril",
          "Abril",
          "Abril",
          "Abril",
          "Mayo",
          "Mayo",
          "Mayo",
          "Mayo",
          "Mayo",
          "Junio",
          "Junio",
          "Junio",
          "Junio",
          "Junio",
          null,
          null,
          null,
          null,
          null
         ],
         "xaxis": "x",
         "y": [
          0.25,
          1.52,
          1.27,
          0.35,
          1.25,
          0.45,
          -0.06,
          -0.51,
          -0.45,
          0.92,
          -1.26,
          -1.83,
          -1.28,
          -1.61,
          -1.11,
          0,
          -0.3,
          1.24,
          0.69,
          -0.63,
          -0.02,
          -1.25,
          -1.14,
          0.57,
          0.39,
          -0.2,
          -0.05,
          0.84,
          0.52,
          -0.58,
          4,
          4,
          4,
          4,
          4
         ],
         "yaxis": "y"
        },
        {
         "hovertemplate": "Cluster=Cluster1<br>Mes=%{x}<br>Anomalia_atlantico=%{y}<extra></extra>",
         "legendgroup": "Cluster1",
         "line": {
          "color": "#ab63fa",
          "dash": "solid"
         },
         "marker": {
          "symbol": "circle"
         },
         "mode": "lines",
         "name": "Cluster1",
         "orientation": "v",
         "showlegend": true,
         "type": "scatter",
         "x": [
          "Enero",
          "Febrero",
          "Marzo",
          "Abril",
          "Mayo",
          "Junio",
          null
         ],
         "xaxis": "x",
         "y": [
          -1.11,
          -1.98,
          -0.88,
          -0.72,
          -1.49,
          -0.82,
          1
         ],
         "yaxis": "y"
        },
        {
         "hovertemplate": "Cluster=Cluster6<br>Mes=%{x}<br>Anomalia_atlantico=%{y}<extra></extra>",
         "legendgroup": "Cluster6",
         "line": {
          "color": "#FFA15A",
          "dash": "solid"
         },
         "marker": {
          "symbol": "circle"
         },
         "mode": "lines",
         "name": "Cluster6",
         "orientation": "v",
         "showlegend": true,
         "type": "scatter",
         "x": [
          "Enero",
          "Febrero",
          "Marzo",
          "Abril",
          "Mayo",
          "Junio",
          null
         ],
         "xaxis": "x",
         "y": [
          1.44,
          1.58,
          -0.93,
          1.24,
          2.12,
          1.09,
          6
         ],
         "yaxis": "y"
        },
        {
         "hovertemplate": "Cluster=Cluster2<br>Mes=%{x}<br>Anomalia_atlantico=%{y}<extra></extra>",
         "legendgroup": "Cluster2",
         "line": {
          "color": "#19d3f3",
          "dash": "solid"
         },
         "marker": {
          "symbol": "circle"
         },
         "mode": "lines",
         "name": "Cluster2",
         "orientation": "v",
         "showlegend": true,
         "type": "scatter",
         "x": [
          "Enero",
          "Febrero",
          "Marzo",
          "Abril",
          "Mayo",
          "Junio",
          null
         ],
         "xaxis": "x",
         "y": [
          -1.11,
          0.14,
          0.73,
          -1.43,
          -1.24,
          0.77,
          2
         ],
         "yaxis": "y"
        }
       ],
       "layout": {
        "legend": {
         "title": {
          "text": "Cluster"
         },
         "tracegroupgap": 0
        },
        "template": {
         "data": {
          "bar": [
           {
            "error_x": {
             "color": "#2a3f5f"
            },
            "error_y": {
             "color": "#2a3f5f"
            },
            "marker": {
             "line": {
              "color": "#E5ECF6",
              "width": 0.5
             },
             "pattern": {
              "fillmode": "overlay",
              "size": 10,
              "solidity": 0.2
             }
            },
            "type": "bar"
           }
          ],
          "barpolar": [
           {
            "marker": {
             "line": {
              "color": "#E5ECF6",
              "width": 0.5
             },
             "pattern": {
              "fillmode": "overlay",
              "size": 10,
              "solidity": 0.2
             }
            },
            "type": "barpolar"
           }
          ],
          "carpet": [
           {
            "aaxis": {
             "endlinecolor": "#2a3f5f",
             "gridcolor": "white",
             "linecolor": "white",
             "minorgridcolor": "white",
             "startlinecolor": "#2a3f5f"
            },
            "baxis": {
             "endlinecolor": "#2a3f5f",
             "gridcolor": "white",
             "linecolor": "white",
             "minorgridcolor": "white",
             "startlinecolor": "#2a3f5f"
            },
            "type": "carpet"
           }
          ],
          "choropleth": [
           {
            "colorbar": {
             "outlinewidth": 0,
             "ticks": ""
            },
            "type": "choropleth"
           }
          ],
          "contour": [
           {
            "colorbar": {
             "outlinewidth": 0,
             "ticks": ""
            },
            "colorscale": [
             [
              0,
              "#0d0887"
             ],
             [
              0.1111111111111111,
              "#46039f"
             ],
             [
              0.2222222222222222,
              "#7201a8"
             ],
             [
              0.3333333333333333,
              "#9c179e"
             ],
             [
              0.4444444444444444,
              "#bd3786"
             ],
             [
              0.5555555555555556,
              "#d8576b"
             ],
             [
              0.6666666666666666,
              "#ed7953"
             ],
             [
              0.7777777777777778,
              "#fb9f3a"
             ],
             [
              0.8888888888888888,
              "#fdca26"
             ],
             [
              1,
              "#f0f921"
             ]
            ],
            "type": "contour"
           }
          ],
          "contourcarpet": [
           {
            "colorbar": {
             "outlinewidth": 0,
             "ticks": ""
            },
            "type": "contourcarpet"
           }
          ],
          "heatmap": [
           {
            "colorbar": {
             "outlinewidth": 0,
             "ticks": ""
            },
            "colorscale": [
             [
              0,
              "#0d0887"
             ],
             [
              0.1111111111111111,
              "#46039f"
             ],
             [
              0.2222222222222222,
              "#7201a8"
             ],
             [
              0.3333333333333333,
              "#9c179e"
             ],
             [
              0.4444444444444444,
              "#bd3786"
             ],
             [
              0.5555555555555556,
              "#d8576b"
             ],
             [
              0.6666666666666666,
              "#ed7953"
             ],
             [
              0.7777777777777778,
              "#fb9f3a"
             ],
             [
              0.8888888888888888,
              "#fdca26"
             ],
             [
              1,
              "#f0f921"
             ]
            ],
            "type": "heatmap"
           }
          ],
          "heatmapgl": [
           {
            "colorbar": {
             "outlinewidth": 0,
             "ticks": ""
            },
            "colorscale": [
             [
              0,
              "#0d0887"
             ],
             [
              0.1111111111111111,
              "#46039f"
             ],
             [
              0.2222222222222222,
              "#7201a8"
             ],
             [
              0.3333333333333333,
              "#9c179e"
             ],
             [
              0.4444444444444444,
              "#bd3786"
             ],
             [
              0.5555555555555556,
              "#d8576b"
             ],
             [
              0.6666666666666666,
              "#ed7953"
             ],
             [
              0.7777777777777778,
              "#fb9f3a"
             ],
             [
              0.8888888888888888,
              "#fdca26"
             ],
             [
              1,
              "#f0f921"
             ]
            ],
            "type": "heatmapgl"
           }
          ],
          "histogram": [
           {
            "marker": {
             "pattern": {
              "fillmode": "overlay",
              "size": 10,
              "solidity": 0.2
             }
            },
            "type": "histogram"
           }
          ],
          "histogram2d": [
           {
            "colorbar": {
             "outlinewidth": 0,
             "ticks": ""
            },
            "colorscale": [
             [
              0,
              "#0d0887"
             ],
             [
              0.1111111111111111,
              "#46039f"
             ],
             [
              0.2222222222222222,
              "#7201a8"
             ],
             [
              0.3333333333333333,
              "#9c179e"
             ],
             [
              0.4444444444444444,
              "#bd3786"
             ],
             [
              0.5555555555555556,
              "#d8576b"
             ],
             [
              0.6666666666666666,
              "#ed7953"
             ],
             [
              0.7777777777777778,
              "#fb9f3a"
             ],
             [
              0.8888888888888888,
              "#fdca26"
             ],
             [
              1,
              "#f0f921"
             ]
            ],
            "type": "histogram2d"
           }
          ],
          "histogram2dcontour": [
           {
            "colorbar": {
             "outlinewidth": 0,
             "ticks": ""
            },
            "colorscale": [
             [
              0,
              "#0d0887"
             ],
             [
              0.1111111111111111,
              "#46039f"
             ],
             [
              0.2222222222222222,
              "#7201a8"
             ],
             [
              0.3333333333333333,
              "#9c179e"
             ],
             [
              0.4444444444444444,
              "#bd3786"
             ],
             [
              0.5555555555555556,
              "#d8576b"
             ],
             [
              0.6666666666666666,
              "#ed7953"
             ],
             [
              0.7777777777777778,
              "#fb9f3a"
             ],
             [
              0.8888888888888888,
              "#fdca26"
             ],
             [
              1,
              "#f0f921"
             ]
            ],
            "type": "histogram2dcontour"
           }
          ],
          "mesh3d": [
           {
            "colorbar": {
             "outlinewidth": 0,
             "ticks": ""
            },
            "type": "mesh3d"
           }
          ],
          "parcoords": [
           {
            "line": {
             "colorbar": {
              "outlinewidth": 0,
              "ticks": ""
             }
            },
            "type": "parcoords"
           }
          ],
          "pie": [
           {
            "automargin": true,
            "type": "pie"
           }
          ],
          "scatter": [
           {
            "fillpattern": {
             "fillmode": "overlay",
             "size": 10,
             "solidity": 0.2
            },
            "type": "scatter"
           }
          ],
          "scatter3d": [
           {
            "line": {
             "colorbar": {
              "outlinewidth": 0,
              "ticks": ""
             }
            },
            "marker": {
             "colorbar": {
              "outlinewidth": 0,
              "ticks": ""
             }
            },
            "type": "scatter3d"
           }
          ],
          "scattercarpet": [
           {
            "marker": {
             "colorbar": {
              "outlinewidth": 0,
              "ticks": ""
             }
            },
            "type": "scattercarpet"
           }
          ],
          "scattergeo": [
           {
            "marker": {
             "colorbar": {
              "outlinewidth": 0,
              "ticks": ""
             }
            },
            "type": "scattergeo"
           }
          ],
          "scattergl": [
           {
            "marker": {
             "colorbar": {
              "outlinewidth": 0,
              "ticks": ""
             }
            },
            "type": "scattergl"
           }
          ],
          "scattermapbox": [
           {
            "marker": {
             "colorbar": {
              "outlinewidth": 0,
              "ticks": ""
             }
            },
            "type": "scattermapbox"
           }
          ],
          "scatterpolar": [
           {
            "marker": {
             "colorbar": {
              "outlinewidth": 0,
              "ticks": ""
             }
            },
            "type": "scatterpolar"
           }
          ],
          "scatterpolargl": [
           {
            "marker": {
             "colorbar": {
              "outlinewidth": 0,
              "ticks": ""
             }
            },
            "type": "scatterpolargl"
           }
          ],
          "scatterternary": [
           {
            "marker": {
             "colorbar": {
              "outlinewidth": 0,
              "ticks": ""
             }
            },
            "type": "scatterternary"
           }
          ],
          "surface": [
           {
            "colorbar": {
             "outlinewidth": 0,
             "ticks": ""
            },
            "colorscale": [
             [
              0,
              "#0d0887"
             ],
             [
              0.1111111111111111,
              "#46039f"
             ],
             [
              0.2222222222222222,
              "#7201a8"
             ],
             [
              0.3333333333333333,
              "#9c179e"
             ],
             [
              0.4444444444444444,
              "#bd3786"
             ],
             [
              0.5555555555555556,
              "#d8576b"
             ],
             [
              0.6666666666666666,
              "#ed7953"
             ],
             [
              0.7777777777777778,
              "#fb9f3a"
             ],
             [
              0.8888888888888888,
              "#fdca26"
             ],
             [
              1,
              "#f0f921"
             ]
            ],
            "type": "surface"
           }
          ],
          "table": [
           {
            "cells": {
             "fill": {
              "color": "#EBF0F8"
             },
             "line": {
              "color": "white"
             }
            },
            "header": {
             "fill": {
              "color": "#C8D4E3"
             },
             "line": {
              "color": "white"
             }
            },
            "type": "table"
           }
          ]
         },
         "layout": {
          "annotationdefaults": {
           "arrowcolor": "#2a3f5f",
           "arrowhead": 0,
           "arrowwidth": 1
          },
          "autotypenumbers": "strict",
          "coloraxis": {
           "colorbar": {
            "outlinewidth": 0,
            "ticks": ""
           }
          },
          "colorscale": {
           "diverging": [
            [
             0,
             "#8e0152"
            ],
            [
             0.1,
             "#c51b7d"
            ],
            [
             0.2,
             "#de77ae"
            ],
            [
             0.3,
             "#f1b6da"
            ],
            [
             0.4,
             "#fde0ef"
            ],
            [
             0.5,
             "#f7f7f7"
            ],
            [
             0.6,
             "#e6f5d0"
            ],
            [
             0.7,
             "#b8e186"
            ],
            [
             0.8,
             "#7fbc41"
            ],
            [
             0.9,
             "#4d9221"
            ],
            [
             1,
             "#276419"
            ]
           ],
           "sequential": [
            [
             0,
             "#0d0887"
            ],
            [
             0.1111111111111111,
             "#46039f"
            ],
            [
             0.2222222222222222,
             "#7201a8"
            ],
            [
             0.3333333333333333,
             "#9c179e"
            ],
            [
             0.4444444444444444,
             "#bd3786"
            ],
            [
             0.5555555555555556,
             "#d8576b"
            ],
            [
             0.6666666666666666,
             "#ed7953"
            ],
            [
             0.7777777777777778,
             "#fb9f3a"
            ],
            [
             0.8888888888888888,
             "#fdca26"
            ],
            [
             1,
             "#f0f921"
            ]
           ],
           "sequentialminus": [
            [
             0,
             "#0d0887"
            ],
            [
             0.1111111111111111,
             "#46039f"
            ],
            [
             0.2222222222222222,
             "#7201a8"
            ],
            [
             0.3333333333333333,
             "#9c179e"
            ],
            [
             0.4444444444444444,
             "#bd3786"
            ],
            [
             0.5555555555555556,
             "#d8576b"
            ],
            [
             0.6666666666666666,
             "#ed7953"
            ],
            [
             0.7777777777777778,
             "#fb9f3a"
            ],
            [
             0.8888888888888888,
             "#fdca26"
            ],
            [
             1,
             "#f0f921"
            ]
           ]
          },
          "colorway": [
           "#636efa",
           "#EF553B",
           "#00cc96",
           "#ab63fa",
           "#FFA15A",
           "#19d3f3",
           "#FF6692",
           "#B6E880",
           "#FF97FF",
           "#FECB52"
          ],
          "font": {
           "color": "#2a3f5f"
          },
          "geo": {
           "bgcolor": "white",
           "lakecolor": "white",
           "landcolor": "#E5ECF6",
           "showlakes": true,
           "showland": true,
           "subunitcolor": "white"
          },
          "hoverlabel": {
           "align": "left"
          },
          "hovermode": "closest",
          "mapbox": {
           "style": "light"
          },
          "paper_bgcolor": "white",
          "plot_bgcolor": "#E5ECF6",
          "polar": {
           "angularaxis": {
            "gridcolor": "white",
            "linecolor": "white",
            "ticks": ""
           },
           "bgcolor": "#E5ECF6",
           "radialaxis": {
            "gridcolor": "white",
            "linecolor": "white",
            "ticks": ""
           }
          },
          "scene": {
           "xaxis": {
            "backgroundcolor": "#E5ECF6",
            "gridcolor": "white",
            "gridwidth": 2,
            "linecolor": "white",
            "showbackground": true,
            "ticks": "",
            "zerolinecolor": "white"
           },
           "yaxis": {
            "backgroundcolor": "#E5ECF6",
            "gridcolor": "white",
            "gridwidth": 2,
            "linecolor": "white",
            "showbackground": true,
            "ticks": "",
            "zerolinecolor": "white"
           },
           "zaxis": {
            "backgroundcolor": "#E5ECF6",
            "gridcolor": "white",
            "gridwidth": 2,
            "linecolor": "white",
            "showbackground": true,
            "ticks": "",
            "zerolinecolor": "white"
           }
          },
          "shapedefaults": {
           "line": {
            "color": "#2a3f5f"
           }
          },
          "ternary": {
           "aaxis": {
            "gridcolor": "white",
            "linecolor": "white",
            "ticks": ""
           },
           "baxis": {
            "gridcolor": "white",
            "linecolor": "white",
            "ticks": ""
           },
           "bgcolor": "#E5ECF6",
           "caxis": {
            "gridcolor": "white",
            "linecolor": "white",
            "ticks": ""
           }
          },
          "title": {
           "x": 0.05
          },
          "xaxis": {
           "automargin": true,
           "gridcolor": "white",
           "linecolor": "white",
           "ticks": "",
           "title": {
            "standoff": 15
           },
           "zerolinecolor": "white",
           "zerolinewidth": 2
          },
          "yaxis": {
           "automargin": true,
           "gridcolor": "white",
           "linecolor": "white",
           "ticks": "",
           "title": {
            "standoff": 15
           },
           "zerolinecolor": "white",
           "zerolinewidth": 2
          }
         }
        },
        "title": {
         "text": "Comportamiento de anomlias atlantico por Cluster"
        },
        "xaxis": {
         "anchor": "y",
         "domain": [
          0,
          1
         ],
         "title": {
          "text": "Mes"
         }
        },
        "yaxis": {
         "anchor": "x",
         "domain": [
          0,
          1
         ],
         "title": {
          "text": "Anomalia_atlantico"
         }
        }
       }
      }
     },
     "metadata": {},
     "output_type": "display_data"
    }
   ],
   "source": [
    "meses_orden = [\"Enero\", \"Febrero\", \"Marzo\", \"Abril\", \"Mayo\", \"Junio\"]\n",
    "df_melted['Mes'] = pd.Categorical(df_melted['Mes'], categories=meses_orden, ordered=True)\n",
    "\n",
    "# Graficar la serie de tiempo\n",
    "fig = px.line(df_melted, x='Mes', y='a_atlantico', color='Clusteratlantico', \n",
    "              labels={'Mes': 'Mes', 'a_atlantico': 'Anomalia_atlantico', 'Clusteratlantico': 'Cluster'},\n",
    "              title='Comportamiento de anomlias atlantico por Cluster')\n",
    "\n",
    "fig.show()"
   ]
  },
  {
   "cell_type": "code",
   "execution_count": 110,
   "metadata": {},
   "outputs": [
    {
     "data": {
      "application/vnd.plotly.v1+json": {
       "config": {
        "plotlyServerURL": "https://plot.ly"
       },
       "data": [
        {
         "alignmentgroup": "True",
         "hovertemplate": "Cluster=Cluster3<br>Mes=%{x}<br>Anomalia_atlantico=%{y}<extra></extra>",
         "legendgroup": "Cluster3",
         "marker": {
          "color": "#636efa"
         },
         "name": "Cluster3",
         "notched": false,
         "offsetgroup": "Cluster3",
         "orientation": "v",
         "showlegend": true,
         "type": "box",
         "x": [
          "Enero",
          "Enero",
          "Enero",
          "Enero",
          "Enero",
          "Febrero",
          "Febrero",
          "Febrero",
          "Febrero",
          "Febrero",
          "Marzo",
          "Marzo",
          "Marzo",
          "Marzo",
          "Marzo",
          "Abril",
          "Abril",
          "Abril",
          "Abril",
          "Abril",
          "Mayo",
          "Mayo",
          "Mayo",
          "Mayo",
          "Mayo",
          "Junio",
          "Junio",
          "Junio",
          "Junio",
          "Junio",
          null,
          null,
          null,
          null,
          null
         ],
         "x0": " ",
         "xaxis": "x",
         "y": [
          0.39,
          0.89,
          1.17,
          0.48,
          0.59,
          -0.11,
          0.73,
          0.42,
          1,
          0.29,
          0.87,
          0.08,
          1.27,
          0.74,
          1.23,
          -0.68,
          -1.07,
          0.47,
          1.73,
          0.47,
          -1.32,
          -1.73,
          -0.91,
          -1.91,
          -2.62,
          -2.72,
          -1.39,
          -2.53,
          0.05,
          -1.09,
          3,
          3,
          3,
          3,
          3
         ],
         "y0": " ",
         "yaxis": "y"
        },
        {
         "alignmentgroup": "True",
         "hovertemplate": "Cluster=Cluster5<br>Mes=%{x}<br>Anomalia_atlantico=%{y}<extra></extra>",
         "legendgroup": "Cluster5",
         "marker": {
          "color": "#EF553B"
         },
         "name": "Cluster5",
         "notched": false,
         "offsetgroup": "Cluster5",
         "orientation": "v",
         "showlegend": true,
         "type": "box",
         "x": [
          "Enero",
          "Enero",
          "Enero",
          "Enero",
          "Enero",
          "Enero",
          "Enero",
          "Enero",
          "Enero",
          "Enero",
          "Enero",
          "Enero",
          "Enero",
          "Enero",
          "Febrero",
          "Febrero",
          "Febrero",
          "Febrero",
          "Febrero",
          "Febrero",
          "Febrero",
          "Febrero",
          "Febrero",
          "Febrero",
          "Febrero",
          "Febrero",
          "Febrero",
          "Febrero",
          "Marzo",
          "Marzo",
          "Marzo",
          "Marzo",
          "Marzo",
          "Marzo",
          "Marzo",
          "Marzo",
          "Marzo",
          "Marzo",
          "Marzo",
          "Marzo",
          "Marzo",
          "Marzo",
          "Abril",
          "Abril",
          "Abril",
          "Abril",
          "Abril",
          "Abril",
          "Abril",
          "Abril",
          "Abril",
          "Abril",
          "Abril",
          "Abril",
          "Abril",
          "Abril",
          "Mayo",
          "Mayo",
          "Mayo",
          "Mayo",
          "Mayo",
          "Mayo",
          "Mayo",
          "Mayo",
          "Mayo",
          "Mayo",
          "Mayo",
          "Mayo",
          "Mayo",
          "Mayo",
          "Junio",
          "Junio",
          "Junio",
          "Junio",
          "Junio",
          "Junio",
          "Junio",
          "Junio",
          "Junio",
          "Junio",
          "Junio",
          "Junio",
          "Junio",
          "Junio",
          null,
          null,
          null,
          null,
          null,
          null,
          null,
          null,
          null,
          null,
          null,
          null,
          null,
          null
         ],
         "x0": " ",
         "xaxis": "x",
         "y": [
          0.77,
          0.6,
          0.44,
          0.16,
          -0.29,
          0.22,
          -0.01,
          -0.88,
          0.29,
          1.79,
          0.12,
          1.34,
          1.08,
          0.21,
          0.29,
          1.7,
          1.1,
          0.62,
          -0.14,
          -0.47,
          0.06,
          0.7,
          1.34,
          1.32,
          1.58,
          1.26,
          1.68,
          1.09,
          0.23,
          0.77,
          0.69,
          0.32,
          1.02,
          1.44,
          0.57,
          0.61,
          0.8,
          1.45,
          0.73,
          1.01,
          0.77,
          -0.21,
          -0.95,
          -0.03,
          1.18,
          -0.18,
          1.15,
          0.17,
          -0.2,
          2.48,
          0.31,
          0.73,
          0.38,
          -1.02,
          -0.36,
          -0.78,
          0.92,
          1.58,
          -0.22,
          0.01,
          0.19,
          0.66,
          1.68,
          -0.06,
          -0.92,
          0.15,
          -0.77,
          -0.41,
          0.71,
          -0.44,
          1.12,
          -0.03,
          0.38,
          -0.07,
          -0.89,
          -1.31,
          -1.21,
          -1.28,
          -0.97,
          -0.07,
          -0.43,
          -0.15,
          -0.12,
          1.7,
          5,
          5,
          5,
          5,
          5,
          5,
          5,
          5,
          5,
          5,
          5,
          5,
          5,
          5
         ],
         "y0": " ",
         "yaxis": "y"
        },
        {
         "alignmentgroup": "True",
         "hovertemplate": "Cluster=Cluster4<br>Mes=%{x}<br>Anomalia_atlantico=%{y}<extra></extra>",
         "legendgroup": "Cluster4",
         "marker": {
          "color": "#00cc96"
         },
         "name": "Cluster4",
         "notched": false,
         "offsetgroup": "Cluster4",
         "orientation": "v",
         "showlegend": true,
         "type": "box",
         "x": [
          "Enero",
          "Enero",
          "Enero",
          "Enero",
          "Enero",
          "Febrero",
          "Febrero",
          "Febrero",
          "Febrero",
          "Febrero",
          "Marzo",
          "Marzo",
          "Marzo",
          "Marzo",
          "Marzo",
          "Abril",
          "Abril",
          "Abril",
          "Abril",
          "Abril",
          "Mayo",
          "Mayo",
          "Mayo",
          "Mayo",
          "Mayo",
          "Junio",
          "Junio",
          "Junio",
          "Junio",
          "Junio",
          null,
          null,
          null,
          null,
          null
         ],
         "x0": " ",
         "xaxis": "x",
         "y": [
          0.25,
          1.52,
          1.27,
          0.35,
          1.25,
          0.45,
          -0.06,
          -0.51,
          -0.45,
          0.92,
          -1.26,
          -1.83,
          -1.28,
          -1.61,
          -1.11,
          0,
          -0.3,
          1.24,
          0.69,
          -0.63,
          -0.02,
          -1.25,
          -1.14,
          0.57,
          0.39,
          -0.2,
          -0.05,
          0.84,
          0.52,
          -0.58,
          4,
          4,
          4,
          4,
          4
         ],
         "y0": " ",
         "yaxis": "y"
        },
        {
         "alignmentgroup": "True",
         "hovertemplate": "Cluster=Cluster1<br>Mes=%{x}<br>Anomalia_atlantico=%{y}<extra></extra>",
         "legendgroup": "Cluster1",
         "marker": {
          "color": "#ab63fa"
         },
         "name": "Cluster1",
         "notched": false,
         "offsetgroup": "Cluster1",
         "orientation": "v",
         "showlegend": true,
         "type": "box",
         "x": [
          "Enero",
          "Febrero",
          "Marzo",
          "Abril",
          "Mayo",
          "Junio",
          null
         ],
         "x0": " ",
         "xaxis": "x",
         "y": [
          -1.11,
          -1.98,
          -0.88,
          -0.72,
          -1.49,
          -0.82,
          1
         ],
         "y0": " ",
         "yaxis": "y"
        },
        {
         "alignmentgroup": "True",
         "hovertemplate": "Cluster=Cluster6<br>Mes=%{x}<br>Anomalia_atlantico=%{y}<extra></extra>",
         "legendgroup": "Cluster6",
         "marker": {
          "color": "#FFA15A"
         },
         "name": "Cluster6",
         "notched": false,
         "offsetgroup": "Cluster6",
         "orientation": "v",
         "showlegend": true,
         "type": "box",
         "x": [
          "Enero",
          "Febrero",
          "Marzo",
          "Abril",
          "Mayo",
          "Junio",
          null
         ],
         "x0": " ",
         "xaxis": "x",
         "y": [
          1.44,
          1.58,
          -0.93,
          1.24,
          2.12,
          1.09,
          6
         ],
         "y0": " ",
         "yaxis": "y"
        },
        {
         "alignmentgroup": "True",
         "hovertemplate": "Cluster=Cluster2<br>Mes=%{x}<br>Anomalia_atlantico=%{y}<extra></extra>",
         "legendgroup": "Cluster2",
         "marker": {
          "color": "#19d3f3"
         },
         "name": "Cluster2",
         "notched": false,
         "offsetgroup": "Cluster2",
         "orientation": "v",
         "showlegend": true,
         "type": "box",
         "x": [
          "Enero",
          "Febrero",
          "Marzo",
          "Abril",
          "Mayo",
          "Junio",
          null
         ],
         "x0": " ",
         "xaxis": "x",
         "y": [
          -1.11,
          0.14,
          0.73,
          -1.43,
          -1.24,
          0.77,
          2
         ],
         "y0": " ",
         "yaxis": "y"
        }
       ],
       "layout": {
        "boxmode": "group",
        "legend": {
         "title": {
          "text": "Cluster"
         },
         "tracegroupgap": 0
        },
        "template": {
         "data": {
          "bar": [
           {
            "error_x": {
             "color": "#2a3f5f"
            },
            "error_y": {
             "color": "#2a3f5f"
            },
            "marker": {
             "line": {
              "color": "#E5ECF6",
              "width": 0.5
             },
             "pattern": {
              "fillmode": "overlay",
              "size": 10,
              "solidity": 0.2
             }
            },
            "type": "bar"
           }
          ],
          "barpolar": [
           {
            "marker": {
             "line": {
              "color": "#E5ECF6",
              "width": 0.5
             },
             "pattern": {
              "fillmode": "overlay",
              "size": 10,
              "solidity": 0.2
             }
            },
            "type": "barpolar"
           }
          ],
          "carpet": [
           {
            "aaxis": {
             "endlinecolor": "#2a3f5f",
             "gridcolor": "white",
             "linecolor": "white",
             "minorgridcolor": "white",
             "startlinecolor": "#2a3f5f"
            },
            "baxis": {
             "endlinecolor": "#2a3f5f",
             "gridcolor": "white",
             "linecolor": "white",
             "minorgridcolor": "white",
             "startlinecolor": "#2a3f5f"
            },
            "type": "carpet"
           }
          ],
          "choropleth": [
           {
            "colorbar": {
             "outlinewidth": 0,
             "ticks": ""
            },
            "type": "choropleth"
           }
          ],
          "contour": [
           {
            "colorbar": {
             "outlinewidth": 0,
             "ticks": ""
            },
            "colorscale": [
             [
              0,
              "#0d0887"
             ],
             [
              0.1111111111111111,
              "#46039f"
             ],
             [
              0.2222222222222222,
              "#7201a8"
             ],
             [
              0.3333333333333333,
              "#9c179e"
             ],
             [
              0.4444444444444444,
              "#bd3786"
             ],
             [
              0.5555555555555556,
              "#d8576b"
             ],
             [
              0.6666666666666666,
              "#ed7953"
             ],
             [
              0.7777777777777778,
              "#fb9f3a"
             ],
             [
              0.8888888888888888,
              "#fdca26"
             ],
             [
              1,
              "#f0f921"
             ]
            ],
            "type": "contour"
           }
          ],
          "contourcarpet": [
           {
            "colorbar": {
             "outlinewidth": 0,
             "ticks": ""
            },
            "type": "contourcarpet"
           }
          ],
          "heatmap": [
           {
            "colorbar": {
             "outlinewidth": 0,
             "ticks": ""
            },
            "colorscale": [
             [
              0,
              "#0d0887"
             ],
             [
              0.1111111111111111,
              "#46039f"
             ],
             [
              0.2222222222222222,
              "#7201a8"
             ],
             [
              0.3333333333333333,
              "#9c179e"
             ],
             [
              0.4444444444444444,
              "#bd3786"
             ],
             [
              0.5555555555555556,
              "#d8576b"
             ],
             [
              0.6666666666666666,
              "#ed7953"
             ],
             [
              0.7777777777777778,
              "#fb9f3a"
             ],
             [
              0.8888888888888888,
              "#fdca26"
             ],
             [
              1,
              "#f0f921"
             ]
            ],
            "type": "heatmap"
           }
          ],
          "heatmapgl": [
           {
            "colorbar": {
             "outlinewidth": 0,
             "ticks": ""
            },
            "colorscale": [
             [
              0,
              "#0d0887"
             ],
             [
              0.1111111111111111,
              "#46039f"
             ],
             [
              0.2222222222222222,
              "#7201a8"
             ],
             [
              0.3333333333333333,
              "#9c179e"
             ],
             [
              0.4444444444444444,
              "#bd3786"
             ],
             [
              0.5555555555555556,
              "#d8576b"
             ],
             [
              0.6666666666666666,
              "#ed7953"
             ],
             [
              0.7777777777777778,
              "#fb9f3a"
             ],
             [
              0.8888888888888888,
              "#fdca26"
             ],
             [
              1,
              "#f0f921"
             ]
            ],
            "type": "heatmapgl"
           }
          ],
          "histogram": [
           {
            "marker": {
             "pattern": {
              "fillmode": "overlay",
              "size": 10,
              "solidity": 0.2
             }
            },
            "type": "histogram"
           }
          ],
          "histogram2d": [
           {
            "colorbar": {
             "outlinewidth": 0,
             "ticks": ""
            },
            "colorscale": [
             [
              0,
              "#0d0887"
             ],
             [
              0.1111111111111111,
              "#46039f"
             ],
             [
              0.2222222222222222,
              "#7201a8"
             ],
             [
              0.3333333333333333,
              "#9c179e"
             ],
             [
              0.4444444444444444,
              "#bd3786"
             ],
             [
              0.5555555555555556,
              "#d8576b"
             ],
             [
              0.6666666666666666,
              "#ed7953"
             ],
             [
              0.7777777777777778,
              "#fb9f3a"
             ],
             [
              0.8888888888888888,
              "#fdca26"
             ],
             [
              1,
              "#f0f921"
             ]
            ],
            "type": "histogram2d"
           }
          ],
          "histogram2dcontour": [
           {
            "colorbar": {
             "outlinewidth": 0,
             "ticks": ""
            },
            "colorscale": [
             [
              0,
              "#0d0887"
             ],
             [
              0.1111111111111111,
              "#46039f"
             ],
             [
              0.2222222222222222,
              "#7201a8"
             ],
             [
              0.3333333333333333,
              "#9c179e"
             ],
             [
              0.4444444444444444,
              "#bd3786"
             ],
             [
              0.5555555555555556,
              "#d8576b"
             ],
             [
              0.6666666666666666,
              "#ed7953"
             ],
             [
              0.7777777777777778,
              "#fb9f3a"
             ],
             [
              0.8888888888888888,
              "#fdca26"
             ],
             [
              1,
              "#f0f921"
             ]
            ],
            "type": "histogram2dcontour"
           }
          ],
          "mesh3d": [
           {
            "colorbar": {
             "outlinewidth": 0,
             "ticks": ""
            },
            "type": "mesh3d"
           }
          ],
          "parcoords": [
           {
            "line": {
             "colorbar": {
              "outlinewidth": 0,
              "ticks": ""
             }
            },
            "type": "parcoords"
           }
          ],
          "pie": [
           {
            "automargin": true,
            "type": "pie"
           }
          ],
          "scatter": [
           {
            "fillpattern": {
             "fillmode": "overlay",
             "size": 10,
             "solidity": 0.2
            },
            "type": "scatter"
           }
          ],
          "scatter3d": [
           {
            "line": {
             "colorbar": {
              "outlinewidth": 0,
              "ticks": ""
             }
            },
            "marker": {
             "colorbar": {
              "outlinewidth": 0,
              "ticks": ""
             }
            },
            "type": "scatter3d"
           }
          ],
          "scattercarpet": [
           {
            "marker": {
             "colorbar": {
              "outlinewidth": 0,
              "ticks": ""
             }
            },
            "type": "scattercarpet"
           }
          ],
          "scattergeo": [
           {
            "marker": {
             "colorbar": {
              "outlinewidth": 0,
              "ticks": ""
             }
            },
            "type": "scattergeo"
           }
          ],
          "scattergl": [
           {
            "marker": {
             "colorbar": {
              "outlinewidth": 0,
              "ticks": ""
             }
            },
            "type": "scattergl"
           }
          ],
          "scattermapbox": [
           {
            "marker": {
             "colorbar": {
              "outlinewidth": 0,
              "ticks": ""
             }
            },
            "type": "scattermapbox"
           }
          ],
          "scatterpolar": [
           {
            "marker": {
             "colorbar": {
              "outlinewidth": 0,
              "ticks": ""
             }
            },
            "type": "scatterpolar"
           }
          ],
          "scatterpolargl": [
           {
            "marker": {
             "colorbar": {
              "outlinewidth": 0,
              "ticks": ""
             }
            },
            "type": "scatterpolargl"
           }
          ],
          "scatterternary": [
           {
            "marker": {
             "colorbar": {
              "outlinewidth": 0,
              "ticks": ""
             }
            },
            "type": "scatterternary"
           }
          ],
          "surface": [
           {
            "colorbar": {
             "outlinewidth": 0,
             "ticks": ""
            },
            "colorscale": [
             [
              0,
              "#0d0887"
             ],
             [
              0.1111111111111111,
              "#46039f"
             ],
             [
              0.2222222222222222,
              "#7201a8"
             ],
             [
              0.3333333333333333,
              "#9c179e"
             ],
             [
              0.4444444444444444,
              "#bd3786"
             ],
             [
              0.5555555555555556,
              "#d8576b"
             ],
             [
              0.6666666666666666,
              "#ed7953"
             ],
             [
              0.7777777777777778,
              "#fb9f3a"
             ],
             [
              0.8888888888888888,
              "#fdca26"
             ],
             [
              1,
              "#f0f921"
             ]
            ],
            "type": "surface"
           }
          ],
          "table": [
           {
            "cells": {
             "fill": {
              "color": "#EBF0F8"
             },
             "line": {
              "color": "white"
             }
            },
            "header": {
             "fill": {
              "color": "#C8D4E3"
             },
             "line": {
              "color": "white"
             }
            },
            "type": "table"
           }
          ]
         },
         "layout": {
          "annotationdefaults": {
           "arrowcolor": "#2a3f5f",
           "arrowhead": 0,
           "arrowwidth": 1
          },
          "autotypenumbers": "strict",
          "coloraxis": {
           "colorbar": {
            "outlinewidth": 0,
            "ticks": ""
           }
          },
          "colorscale": {
           "diverging": [
            [
             0,
             "#8e0152"
            ],
            [
             0.1,
             "#c51b7d"
            ],
            [
             0.2,
             "#de77ae"
            ],
            [
             0.3,
             "#f1b6da"
            ],
            [
             0.4,
             "#fde0ef"
            ],
            [
             0.5,
             "#f7f7f7"
            ],
            [
             0.6,
             "#e6f5d0"
            ],
            [
             0.7,
             "#b8e186"
            ],
            [
             0.8,
             "#7fbc41"
            ],
            [
             0.9,
             "#4d9221"
            ],
            [
             1,
             "#276419"
            ]
           ],
           "sequential": [
            [
             0,
             "#0d0887"
            ],
            [
             0.1111111111111111,
             "#46039f"
            ],
            [
             0.2222222222222222,
             "#7201a8"
            ],
            [
             0.3333333333333333,
             "#9c179e"
            ],
            [
             0.4444444444444444,
             "#bd3786"
            ],
            [
             0.5555555555555556,
             "#d8576b"
            ],
            [
             0.6666666666666666,
             "#ed7953"
            ],
            [
             0.7777777777777778,
             "#fb9f3a"
            ],
            [
             0.8888888888888888,
             "#fdca26"
            ],
            [
             1,
             "#f0f921"
            ]
           ],
           "sequentialminus": [
            [
             0,
             "#0d0887"
            ],
            [
             0.1111111111111111,
             "#46039f"
            ],
            [
             0.2222222222222222,
             "#7201a8"
            ],
            [
             0.3333333333333333,
             "#9c179e"
            ],
            [
             0.4444444444444444,
             "#bd3786"
            ],
            [
             0.5555555555555556,
             "#d8576b"
            ],
            [
             0.6666666666666666,
             "#ed7953"
            ],
            [
             0.7777777777777778,
             "#fb9f3a"
            ],
            [
             0.8888888888888888,
             "#fdca26"
            ],
            [
             1,
             "#f0f921"
            ]
           ]
          },
          "colorway": [
           "#636efa",
           "#EF553B",
           "#00cc96",
           "#ab63fa",
           "#FFA15A",
           "#19d3f3",
           "#FF6692",
           "#B6E880",
           "#FF97FF",
           "#FECB52"
          ],
          "font": {
           "color": "#2a3f5f"
          },
          "geo": {
           "bgcolor": "white",
           "lakecolor": "white",
           "landcolor": "#E5ECF6",
           "showlakes": true,
           "showland": true,
           "subunitcolor": "white"
          },
          "hoverlabel": {
           "align": "left"
          },
          "hovermode": "closest",
          "mapbox": {
           "style": "light"
          },
          "paper_bgcolor": "white",
          "plot_bgcolor": "#E5ECF6",
          "polar": {
           "angularaxis": {
            "gridcolor": "white",
            "linecolor": "white",
            "ticks": ""
           },
           "bgcolor": "#E5ECF6",
           "radialaxis": {
            "gridcolor": "white",
            "linecolor": "white",
            "ticks": ""
           }
          },
          "scene": {
           "xaxis": {
            "backgroundcolor": "#E5ECF6",
            "gridcolor": "white",
            "gridwidth": 2,
            "linecolor": "white",
            "showbackground": true,
            "ticks": "",
            "zerolinecolor": "white"
           },
           "yaxis": {
            "backgroundcolor": "#E5ECF6",
            "gridcolor": "white",
            "gridwidth": 2,
            "linecolor": "white",
            "showbackground": true,
            "ticks": "",
            "zerolinecolor": "white"
           },
           "zaxis": {
            "backgroundcolor": "#E5ECF6",
            "gridcolor": "white",
            "gridwidth": 2,
            "linecolor": "white",
            "showbackground": true,
            "ticks": "",
            "zerolinecolor": "white"
           }
          },
          "shapedefaults": {
           "line": {
            "color": "#2a3f5f"
           }
          },
          "ternary": {
           "aaxis": {
            "gridcolor": "white",
            "linecolor": "white",
            "ticks": ""
           },
           "baxis": {
            "gridcolor": "white",
            "linecolor": "white",
            "ticks": ""
           },
           "bgcolor": "#E5ECF6",
           "caxis": {
            "gridcolor": "white",
            "linecolor": "white",
            "ticks": ""
           }
          },
          "title": {
           "x": 0.05
          },
          "xaxis": {
           "automargin": true,
           "gridcolor": "white",
           "linecolor": "white",
           "ticks": "",
           "title": {
            "standoff": 15
           },
           "zerolinecolor": "white",
           "zerolinewidth": 2
          },
          "yaxis": {
           "automargin": true,
           "gridcolor": "white",
           "linecolor": "white",
           "ticks": "",
           "title": {
            "standoff": 15
           },
           "zerolinecolor": "white",
           "zerolinewidth": 2
          }
         }
        },
        "title": {
         "text": "Comportamiento de anomalias atlantico"
        },
        "xaxis": {
         "anchor": "y",
         "domain": [
          0,
          1
         ],
         "title": {
          "text": "Mes"
         }
        },
        "yaxis": {
         "anchor": "x",
         "domain": [
          0,
          1
         ],
         "title": {
          "text": "Anomalia_atlantico"
         }
        }
       }
      }
     },
     "metadata": {},
     "output_type": "display_data"
    }
   ],
   "source": [
    "# Definir el orden de los clusters\n",
    "clusters_orden = [\"Cluster1\", \"Cluster2\", \"Cluster3\", \"Cluster4\", \"Cluster5\", \"Cluster6\"]\n",
    "df_melted['Clusteratlantico'] = pd.Categorical(df_melted['Clusteratlantico'], categories=clusters_orden, ordered=True)\n",
    "\n",
    "# Ordenar los meses\n",
    "meses_orden = [\"Enero\", \"Febrero\", \"Marzo\", \"Abril\", \"Mayo\", \"Junio\"]\n",
    "df_melted['Mes'] = pd.Categorical(df_melted['Mes'], categories=meses_orden, ordered=True)\n",
    "\n",
    "# Crear el boxplot\n",
    "fig = px.box(df_melted, x='Mes', y='a_atlantico', color='Clusteratlantico', \n",
    "             labels={'Mes': 'Mes', 'a_atlantico': 'Anomalia_atlantico', 'Clusteratlantico': 'Cluster'},\n",
    "             title='Comportamiento de anomalias atlantico')\n",
    "\n",
    "# Mostrar la gráfica\n",
    "fig.show()"
   ]
  },
  {
   "cell_type": "markdown",
   "metadata": {},
   "source": [
    "# Caracterización de clusters atlantico  "
   ]
  },
  {
   "cell_type": "markdown",
   "metadata": {},
   "source": [
    "### Entendimiento \n",
    "Las anomalías de temperatura de los océanos se interpretan de la siguiente manera:\n",
    "\n",
    "* Definición: Una anomalía es la desviación de la temperatura observada respecto a un promedio a largo plazo para esa ubicación y época del año.\n",
    "\n",
    "\n",
    "Valores:\n",
    "\n",
    "* Positivos: Indican temperaturas más cálidas que el promedio.\n",
    "* Negativos: Indican temperaturas más frías que el promedio.\n",
    "* Cero: Representa temperaturas cercanas al promedio histórico.\n",
    "\n",
    "\n",
    "Magnitud: Valores más alejados de cero (en ambas direcciones) indican anomalías más fuertes.\n",
    "\n",
    "\n",
    "* Importancia:\n",
    "\n",
    "Ayudan a identificar patrones climáticos como El Niño o La Niña.\n",
    "Son indicadores de cambios climáticos a largo plazo.\n",
    "Pueden influir en patrones meteorológicos, ecosistemas marinos y ciclos de pesca."
   ]
  },
  {
   "cell_type": "markdown",
   "metadata": {},
   "source": [
    "### Clusters\n",
    "* Cluster 1: 2010\n",
    "* Cluster 2: 2021\n",
    "* Cluster 3: 1998,2008,2012,2017,2019\n",
    "* Cluster 4: 2001,2005,2006,2013,2023\n",
    "* Cluster 5: 1999,2000,2002,2003,2004,2005,2007,2009,2011,2014,2015,2016,2020,2022,2024\n",
    "* Cluster 6: 2018"
   ]
  },
  {
   "cell_type": "markdown",
   "metadata": {},
   "source": [
    "### Interpretación \n",
    "* Cluster 5: Es el más grande, abarcando la mayoría de los años desde 1999 hasta 2024. Representa el patrón más común o \"normal\" de anomalías, con variaciones relativamente pequeñas alrededor de cero.\n",
    "* Cluster 3 (1998, 2008, 2012, 2017, 2019): Muestra anomalías positivas más pronunciadas, especialmente en los meses de abril a junio. Esto indica años con temperaturas superficiales del Atlántico más cálidas de lo normal.\n",
    "* Cluster 4 (2001, 2005, 2006, 2013, 2023): Presenta un patrón con anomalías negativas más marcadas en marzo y abril, sugiriendo temperaturas más frías de lo normal en esos meses.\n",
    "* Cluster 1 (2010): Año único con fuertes anomalias sugiriendo temperaturas más frías de lo normal, se marca un pico de temperaturas mas frias en Febrero\n",
    "* Cluster 2 (2021): Otro año único con un patrón distinto, mostrando anomalías negativas al principio del año y un fuerte aumento hacia anomalías positivas en mayo y junio.\n",
    "* Cluster 6 (2018): Presenta un patrón particular con una fuerte anomalía negativa en marzo, indicando un enfriamiento inusual del Atlántico en ese mes."
   ]
  },
  {
   "cell_type": "markdown",
   "metadata": {},
   "source": [
    "####################################\n",
    "# Data pacifico\n",
    "####################################"
   ]
  },
  {
   "cell_type": "code",
   "execution_count": 134,
   "metadata": {},
   "outputs": [
    {
     "data": {
      "text/html": [
       "<div>\n",
       "<style scoped>\n",
       "    .dataframe tbody tr th:only-of-type {\n",
       "        vertical-align: middle;\n",
       "    }\n",
       "\n",
       "    .dataframe tbody tr th {\n",
       "        vertical-align: top;\n",
       "    }\n",
       "\n",
       "    .dataframe thead th {\n",
       "        text-align: right;\n",
       "    }\n",
       "</style>\n",
       "<table border=\"1\" class=\"dataframe\">\n",
       "  <thead>\n",
       "    <tr style=\"text-align: right;\">\n",
       "      <th></th>\n",
       "      <th>Año</th>\n",
       "      <th>Enero</th>\n",
       "      <th>Febrero</th>\n",
       "      <th>Marzo</th>\n",
       "      <th>Abril</th>\n",
       "      <th>Mayo</th>\n",
       "      <th>Junio</th>\n",
       "    </tr>\n",
       "  </thead>\n",
       "  <tbody>\n",
       "    <tr>\n",
       "      <th>0</th>\n",
       "      <td>1998</td>\n",
       "      <td>2.2</td>\n",
       "      <td>1.9</td>\n",
       "      <td>1.4</td>\n",
       "      <td>1.0</td>\n",
       "      <td>0.50</td>\n",
       "      <td>-0.10</td>\n",
       "    </tr>\n",
       "    <tr>\n",
       "      <th>1</th>\n",
       "      <td>1999</td>\n",
       "      <td>-1.5</td>\n",
       "      <td>-1.3</td>\n",
       "      <td>-1.1</td>\n",
       "      <td>-1.0</td>\n",
       "      <td>-1.00</td>\n",
       "      <td>-1.00</td>\n",
       "    </tr>\n",
       "    <tr>\n",
       "      <th>2</th>\n",
       "      <td>2000</td>\n",
       "      <td>-1.7</td>\n",
       "      <td>-1.4</td>\n",
       "      <td>-1.1</td>\n",
       "      <td>-0.8</td>\n",
       "      <td>-0.70</td>\n",
       "      <td>-0.60</td>\n",
       "    </tr>\n",
       "    <tr>\n",
       "      <th>3</th>\n",
       "      <td>2001</td>\n",
       "      <td>-0.7</td>\n",
       "      <td>-0.5</td>\n",
       "      <td>-0.4</td>\n",
       "      <td>-0.3</td>\n",
       "      <td>-0.30</td>\n",
       "      <td>-0.10</td>\n",
       "    </tr>\n",
       "    <tr>\n",
       "      <th>4</th>\n",
       "      <td>2002</td>\n",
       "      <td>-0.1</td>\n",
       "      <td>0.0</td>\n",
       "      <td>0.1</td>\n",
       "      <td>0.2</td>\n",
       "      <td>0.40</td>\n",
       "      <td>0.70</td>\n",
       "    </tr>\n",
       "    <tr>\n",
       "      <th>5</th>\n",
       "      <td>2003</td>\n",
       "      <td>0.9</td>\n",
       "      <td>0.6</td>\n",
       "      <td>0.4</td>\n",
       "      <td>0.0</td>\n",
       "      <td>-0.30</td>\n",
       "      <td>-0.20</td>\n",
       "    </tr>\n",
       "    <tr>\n",
       "      <th>6</th>\n",
       "      <td>2004</td>\n",
       "      <td>0.4</td>\n",
       "      <td>0.3</td>\n",
       "      <td>0.2</td>\n",
       "      <td>0.2</td>\n",
       "      <td>0.20</td>\n",
       "      <td>0.30</td>\n",
       "    </tr>\n",
       "    <tr>\n",
       "      <th>7</th>\n",
       "      <td>2005</td>\n",
       "      <td>0.6</td>\n",
       "      <td>0.6</td>\n",
       "      <td>0.4</td>\n",
       "      <td>0.4</td>\n",
       "      <td>0.30</td>\n",
       "      <td>0.10</td>\n",
       "    </tr>\n",
       "    <tr>\n",
       "      <th>8</th>\n",
       "      <td>2006</td>\n",
       "      <td>-0.9</td>\n",
       "      <td>-0.8</td>\n",
       "      <td>-0.6</td>\n",
       "      <td>-0.4</td>\n",
       "      <td>-0.10</td>\n",
       "      <td>0.00</td>\n",
       "    </tr>\n",
       "    <tr>\n",
       "      <th>9</th>\n",
       "      <td>2007</td>\n",
       "      <td>0.7</td>\n",
       "      <td>0.2</td>\n",
       "      <td>-0.1</td>\n",
       "      <td>-0.3</td>\n",
       "      <td>-0.40</td>\n",
       "      <td>-0.50</td>\n",
       "    </tr>\n",
       "    <tr>\n",
       "      <th>10</th>\n",
       "      <td>2008</td>\n",
       "      <td>-1.6</td>\n",
       "      <td>-1.5</td>\n",
       "      <td>-1.3</td>\n",
       "      <td>-1.0</td>\n",
       "      <td>-0.80</td>\n",
       "      <td>-0.60</td>\n",
       "    </tr>\n",
       "    <tr>\n",
       "      <th>11</th>\n",
       "      <td>2009</td>\n",
       "      <td>-0.8</td>\n",
       "      <td>-0.8</td>\n",
       "      <td>-0.6</td>\n",
       "      <td>-0.3</td>\n",
       "      <td>0.00</td>\n",
       "      <td>0.30</td>\n",
       "    </tr>\n",
       "    <tr>\n",
       "      <th>12</th>\n",
       "      <td>2010</td>\n",
       "      <td>1.5</td>\n",
       "      <td>1.2</td>\n",
       "      <td>0.8</td>\n",
       "      <td>0.4</td>\n",
       "      <td>-0.20</td>\n",
       "      <td>-0.70</td>\n",
       "    </tr>\n",
       "    <tr>\n",
       "      <th>13</th>\n",
       "      <td>2011</td>\n",
       "      <td>-1.4</td>\n",
       "      <td>-1.2</td>\n",
       "      <td>-0.9</td>\n",
       "      <td>-0.7</td>\n",
       "      <td>-0.60</td>\n",
       "      <td>-0.40</td>\n",
       "    </tr>\n",
       "    <tr>\n",
       "      <th>14</th>\n",
       "      <td>2012</td>\n",
       "      <td>-0.9</td>\n",
       "      <td>-0.7</td>\n",
       "      <td>-0.6</td>\n",
       "      <td>-0.5</td>\n",
       "      <td>-0.30</td>\n",
       "      <td>0.00</td>\n",
       "    </tr>\n",
       "    <tr>\n",
       "      <th>15</th>\n",
       "      <td>2013</td>\n",
       "      <td>-0.4</td>\n",
       "      <td>-0.4</td>\n",
       "      <td>-0.3</td>\n",
       "      <td>-0.3</td>\n",
       "      <td>-0.40</td>\n",
       "      <td>-0.40</td>\n",
       "    </tr>\n",
       "    <tr>\n",
       "      <th>16</th>\n",
       "      <td>2014</td>\n",
       "      <td>-0.4</td>\n",
       "      <td>-0.5</td>\n",
       "      <td>-0.3</td>\n",
       "      <td>0.0</td>\n",
       "      <td>0.20</td>\n",
       "      <td>0.20</td>\n",
       "    </tr>\n",
       "    <tr>\n",
       "      <th>17</th>\n",
       "      <td>2015</td>\n",
       "      <td>0.5</td>\n",
       "      <td>0.5</td>\n",
       "      <td>0.5</td>\n",
       "      <td>0.7</td>\n",
       "      <td>0.90</td>\n",
       "      <td>1.20</td>\n",
       "    </tr>\n",
       "    <tr>\n",
       "      <th>18</th>\n",
       "      <td>2016</td>\n",
       "      <td>2.5</td>\n",
       "      <td>2.1</td>\n",
       "      <td>1.6</td>\n",
       "      <td>0.9</td>\n",
       "      <td>0.40</td>\n",
       "      <td>-0.10</td>\n",
       "    </tr>\n",
       "    <tr>\n",
       "      <th>19</th>\n",
       "      <td>2017</td>\n",
       "      <td>-0.3</td>\n",
       "      <td>-0.2</td>\n",
       "      <td>0.1</td>\n",
       "      <td>0.2</td>\n",
       "      <td>0.30</td>\n",
       "      <td>0.30</td>\n",
       "    </tr>\n",
       "    <tr>\n",
       "      <th>20</th>\n",
       "      <td>2018</td>\n",
       "      <td>-0.9</td>\n",
       "      <td>-0.9</td>\n",
       "      <td>-0.7</td>\n",
       "      <td>-0.5</td>\n",
       "      <td>-0.20</td>\n",
       "      <td>0.00</td>\n",
       "    </tr>\n",
       "    <tr>\n",
       "      <th>21</th>\n",
       "      <td>2019</td>\n",
       "      <td>0.7</td>\n",
       "      <td>0.7</td>\n",
       "      <td>0.7</td>\n",
       "      <td>0.7</td>\n",
       "      <td>0.50</td>\n",
       "      <td>0.50</td>\n",
       "    </tr>\n",
       "    <tr>\n",
       "      <th>22</th>\n",
       "      <td>2020</td>\n",
       "      <td>0.5</td>\n",
       "      <td>0.5</td>\n",
       "      <td>0.4</td>\n",
       "      <td>0.2</td>\n",
       "      <td>-0.10</td>\n",
       "      <td>-0.30</td>\n",
       "    </tr>\n",
       "    <tr>\n",
       "      <th>23</th>\n",
       "      <td>2021</td>\n",
       "      <td>-1.0</td>\n",
       "      <td>-0.9</td>\n",
       "      <td>-0.8</td>\n",
       "      <td>-0.7</td>\n",
       "      <td>-0.50</td>\n",
       "      <td>-0.40</td>\n",
       "    </tr>\n",
       "    <tr>\n",
       "      <th>24</th>\n",
       "      <td>2022</td>\n",
       "      <td>-1.0</td>\n",
       "      <td>-0.9</td>\n",
       "      <td>-1.0</td>\n",
       "      <td>-1.1</td>\n",
       "      <td>-1.00</td>\n",
       "      <td>-0.90</td>\n",
       "    </tr>\n",
       "    <tr>\n",
       "      <th>25</th>\n",
       "      <td>2023</td>\n",
       "      <td>-0.7</td>\n",
       "      <td>-0.4</td>\n",
       "      <td>-0.1</td>\n",
       "      <td>0.2</td>\n",
       "      <td>0.50</td>\n",
       "      <td>0.80</td>\n",
       "    </tr>\n",
       "    <tr>\n",
       "      <th>26</th>\n",
       "      <td>2024</td>\n",
       "      <td>1.8</td>\n",
       "      <td>1.5</td>\n",
       "      <td>1.1</td>\n",
       "      <td>0.7</td>\n",
       "      <td>0.44</td>\n",
       "      <td>0.05</td>\n",
       "    </tr>\n",
       "  </tbody>\n",
       "</table>\n",
       "</div>"
      ],
      "text/plain": [
       "     Año  Enero  Febrero  Marzo  Abril  Mayo  Junio\n",
       "0   1998    2.2      1.9    1.4    1.0  0.50  -0.10\n",
       "1   1999   -1.5     -1.3   -1.1   -1.0 -1.00  -1.00\n",
       "2   2000   -1.7     -1.4   -1.1   -0.8 -0.70  -0.60\n",
       "3   2001   -0.7     -0.5   -0.4   -0.3 -0.30  -0.10\n",
       "4   2002   -0.1      0.0    0.1    0.2  0.40   0.70\n",
       "5   2003    0.9      0.6    0.4    0.0 -0.30  -0.20\n",
       "6   2004    0.4      0.3    0.2    0.2  0.20   0.30\n",
       "7   2005    0.6      0.6    0.4    0.4  0.30   0.10\n",
       "8   2006   -0.9     -0.8   -0.6   -0.4 -0.10   0.00\n",
       "9   2007    0.7      0.2   -0.1   -0.3 -0.40  -0.50\n",
       "10  2008   -1.6     -1.5   -1.3   -1.0 -0.80  -0.60\n",
       "11  2009   -0.8     -0.8   -0.6   -0.3  0.00   0.30\n",
       "12  2010    1.5      1.2    0.8    0.4 -0.20  -0.70\n",
       "13  2011   -1.4     -1.2   -0.9   -0.7 -0.60  -0.40\n",
       "14  2012   -0.9     -0.7   -0.6   -0.5 -0.30   0.00\n",
       "15  2013   -0.4     -0.4   -0.3   -0.3 -0.40  -0.40\n",
       "16  2014   -0.4     -0.5   -0.3    0.0  0.20   0.20\n",
       "17  2015    0.5      0.5    0.5    0.7  0.90   1.20\n",
       "18  2016    2.5      2.1    1.6    0.9  0.40  -0.10\n",
       "19  2017   -0.3     -0.2    0.1    0.2  0.30   0.30\n",
       "20  2018   -0.9     -0.9   -0.7   -0.5 -0.20   0.00\n",
       "21  2019    0.7      0.7    0.7    0.7  0.50   0.50\n",
       "22  2020    0.5      0.5    0.4    0.2 -0.10  -0.30\n",
       "23  2021   -1.0     -0.9   -0.8   -0.7 -0.50  -0.40\n",
       "24  2022   -1.0     -0.9   -1.0   -1.1 -1.00  -0.90\n",
       "25  2023   -0.7     -0.4   -0.1    0.2  0.50   0.80\n",
       "26  2024    1.8      1.5    1.1    0.7  0.44   0.05"
      ]
     },
     "execution_count": 134,
     "metadata": {},
     "output_type": "execute_result"
    }
   ],
   "source": [
    "df_pacifico= pd.read_excel(\"D:\\\\OneDrive - CGIAR\\\\Proyectos\\\\AgriLAC-ICC\\\\Analytics\\\\Datos para estimación años análogos junio 2024.xlsx\", sheet_name=\"Datos pacífico\")\n",
    "df_pacifico=estructura_df(df_pacifico)\n",
    "df_pacifico"
   ]
  },
  {
   "cell_type": "code",
   "execution_count": 127,
   "metadata": {},
   "outputs": [
    {
     "data": {
      "image/png": "[encoded data removed]",
      "text/plain": [
       "<Figure size 1000x700 with 1 Axes>"
      ]
     },
     "metadata": {},
     "output_type": "display_data"
    },
    {
     "data": {
      "text/html": [
       "<div>\n",
       "<style scoped>\n",
       "    .dataframe tbody tr th:only-of-type {\n",
       "        vertical-align: middle;\n",
       "    }\n",
       "\n",
       "    .dataframe tbody tr th {\n",
       "        vertical-align: top;\n",
       "    }\n",
       "\n",
       "    .dataframe thead th {\n",
       "        text-align: right;\n",
       "    }\n",
       "</style>\n",
       "<table border=\"1\" class=\"dataframe\">\n",
       "  <thead>\n",
       "    <tr style=\"text-align: right;\">\n",
       "      <th></th>\n",
       "      <th>Cluster1</th>\n",
       "      <th>Cluster2</th>\n",
       "      <th>Cluster3</th>\n",
       "      <th>Cluster4</th>\n",
       "      <th>Cluster5</th>\n",
       "      <th>Cluster6</th>\n",
       "    </tr>\n",
       "  </thead>\n",
       "  <tbody>\n",
       "    <tr>\n",
       "      <th>0</th>\n",
       "      <td>1999.0</td>\n",
       "      <td>2001</td>\n",
       "      <td>1998.0</td>\n",
       "      <td>2010.0</td>\n",
       "      <td>2003.0</td>\n",
       "      <td>2015.0</td>\n",
       "    </tr>\n",
       "    <tr>\n",
       "      <th>1</th>\n",
       "      <td>2000.0</td>\n",
       "      <td>2002</td>\n",
       "      <td>2016.0</td>\n",
       "      <td>NaN</td>\n",
       "      <td>2004.0</td>\n",
       "      <td>NaN</td>\n",
       "    </tr>\n",
       "    <tr>\n",
       "      <th>2</th>\n",
       "      <td>2008.0</td>\n",
       "      <td>2006</td>\n",
       "      <td>2024.0</td>\n",
       "      <td>NaN</td>\n",
       "      <td>2005.0</td>\n",
       "      <td>NaN</td>\n",
       "    </tr>\n",
       "    <tr>\n",
       "      <th>3</th>\n",
       "      <td>2011.0</td>\n",
       "      <td>2009</td>\n",
       "      <td>NaN</td>\n",
       "      <td>NaN</td>\n",
       "      <td>2007.0</td>\n",
       "      <td>NaN</td>\n",
       "    </tr>\n",
       "    <tr>\n",
       "      <th>4</th>\n",
       "      <td>2021.0</td>\n",
       "      <td>2012</td>\n",
       "      <td>NaN</td>\n",
       "      <td>NaN</td>\n",
       "      <td>2019.0</td>\n",
       "      <td>NaN</td>\n",
       "    </tr>\n",
       "    <tr>\n",
       "      <th>5</th>\n",
       "      <td>2022.0</td>\n",
       "      <td>2013</td>\n",
       "      <td>NaN</td>\n",
       "      <td>NaN</td>\n",
       "      <td>2020.0</td>\n",
       "      <td>NaN</td>\n",
       "    </tr>\n",
       "    <tr>\n",
       "      <th>6</th>\n",
       "      <td>NaN</td>\n",
       "      <td>2014</td>\n",
       "      <td>NaN</td>\n",
       "      <td>NaN</td>\n",
       "      <td>NaN</td>\n",
       "      <td>NaN</td>\n",
       "    </tr>\n",
       "    <tr>\n",
       "      <th>7</th>\n",
       "      <td>NaN</td>\n",
       "      <td>2017</td>\n",
       "      <td>NaN</td>\n",
       "      <td>NaN</td>\n",
       "      <td>NaN</td>\n",
       "      <td>NaN</td>\n",
       "    </tr>\n",
       "    <tr>\n",
       "      <th>8</th>\n",
       "      <td>NaN</td>\n",
       "      <td>2018</td>\n",
       "      <td>NaN</td>\n",
       "      <td>NaN</td>\n",
       "      <td>NaN</td>\n",
       "      <td>NaN</td>\n",
       "    </tr>\n",
       "    <tr>\n",
       "      <th>9</th>\n",
       "      <td>NaN</td>\n",
       "      <td>2023</td>\n",
       "      <td>NaN</td>\n",
       "      <td>NaN</td>\n",
       "      <td>NaN</td>\n",
       "      <td>NaN</td>\n",
       "    </tr>\n",
       "  </tbody>\n",
       "</table>\n",
       "</div>"
      ],
      "text/plain": [
       "   Cluster1  Cluster2  Cluster3  Cluster4  Cluster5  Cluster6\n",
       "0    1999.0      2001    1998.0    2010.0    2003.0    2015.0\n",
       "1    2000.0      2002    2016.0       NaN    2004.0       NaN\n",
       "2    2008.0      2006    2024.0       NaN    2005.0       NaN\n",
       "3    2011.0      2009       NaN       NaN    2007.0       NaN\n",
       "4    2021.0      2012       NaN       NaN    2019.0       NaN\n",
       "5    2022.0      2013       NaN       NaN    2020.0       NaN\n",
       "6       NaN      2014       NaN       NaN       NaN       NaN\n",
       "7       NaN      2017       NaN       NaN       NaN       NaN\n",
       "8       NaN      2018       NaN       NaN       NaN       NaN\n",
       "9       NaN      2023       NaN       NaN       NaN       NaN"
      ]
     },
     "execution_count": 127,
     "metadata": {},
     "output_type": "execute_result"
    }
   ],
   "source": [
    "# Normalizar los datos (opcional, pero recomendable)\n",
    "df_scaled = df_pacifico.copy()\n",
    "#df_scaled.iloc[:, 1:] = (df_scaled.iloc[:, 1:] - df_scaled.iloc[:, 1:].mean()) / df_scaled.iloc[:, 1:].std()\n",
    "\n",
    "# Calcular la matriz de distancias\n",
    "dist_matrix = pdist(df_scaled.iloc[:, 1:], metric='euclidean')\n",
    "\n",
    "# Aplicar el algoritmo de clustering jerárquico\n",
    "Z = linkage(dist_matrix, method='average')\n",
    "\n",
    "# Dibujar el dendrograma\n",
    "plt.figure(figsize=(10, 7))\n",
    "dendrogram(Z, labels=df_pacifico['Año'].values, leaf_rotation=90)\n",
    "plt.title('Dendrograma de Clustering Jerárquico')\n",
    "plt.xlabel('Año')\n",
    "plt.ylabel('Distancia')\n",
    "plt.show()\n",
    "\n",
    "\n",
    "#  criterio para el número máximo de clusters\n",
    "max_clusters = 6  # máximo de clusters\n",
    "clusters = fcluster(Z, max_clusters, criterion='maxclust')\n",
    "\n",
    "df_pacifico['Cluster'] = clusters\n",
    "\n",
    "df_pacifico[['Año', 'Cluster']]\n",
    "\n",
    "\n",
    "# Agrupar los años por cada cluster\n",
    "cluster_groups = df_pacifico.groupby('Cluster')['Año'].apply(list).reset_index()\n",
    "\n",
    "\n",
    "cluster_results = {}\n",
    "for index, row in cluster_groups.iterrows():\n",
    "    cluster_results[f'Cluster{row[\"Cluster\"]}'] = row['Año']\n",
    "\n",
    "pacifico = pd.DataFrame(dict([(k, pd.Series(v)) for k, v in cluster_results.items()]))\n",
    "\n",
    "pacifico"
   ]
  },
  {
   "cell_type": "markdown",
   "metadata": {},
   "source": [
    "### Resultado por el programa de  Infostat"
   ]
  },
  {
   "attachments": {
    "image.png": {
     "image/png": "[encoded data removed]"
    }
   },
   "cell_type": "markdown",
   "metadata": {},
   "source": [
    "![image.png](attachment:image.png)"
   ]
  },
  {
   "cell_type": "code",
   "execution_count": 121,
   "metadata": {},
   "outputs": [
    {
     "data": {
      "text/html": [
       "<div>\n",
       "<style scoped>\n",
       "    .dataframe tbody tr th:only-of-type {\n",
       "        vertical-align: middle;\n",
       "    }\n",
       "\n",
       "    .dataframe tbody tr th {\n",
       "        vertical-align: top;\n",
       "    }\n",
       "\n",
       "    .dataframe thead th {\n",
       "        text-align: right;\n",
       "    }\n",
       "</style>\n",
       "<table border=\"1\" class=\"dataframe\">\n",
       "  <thead>\n",
       "    <tr style=\"text-align: right;\">\n",
       "      <th></th>\n",
       "      <th>ClusterPacifico</th>\n",
       "      <th>Año</th>\n",
       "    </tr>\n",
       "  </thead>\n",
       "  <tbody>\n",
       "    <tr>\n",
       "      <th>0</th>\n",
       "      <td>Cluster1</td>\n",
       "      <td>1999.0</td>\n",
       "    </tr>\n",
       "    <tr>\n",
       "      <th>1</th>\n",
       "      <td>Cluster1</td>\n",
       "      <td>2000.0</td>\n",
       "    </tr>\n",
       "    <tr>\n",
       "      <th>2</th>\n",
       "      <td>Cluster1</td>\n",
       "      <td>2008.0</td>\n",
       "    </tr>\n",
       "    <tr>\n",
       "      <th>3</th>\n",
       "      <td>Cluster1</td>\n",
       "      <td>2011.0</td>\n",
       "    </tr>\n",
       "    <tr>\n",
       "      <th>4</th>\n",
       "      <td>Cluster1</td>\n",
       "      <td>2021.0</td>\n",
       "    </tr>\n",
       "    <tr>\n",
       "      <th>5</th>\n",
       "      <td>Cluster1</td>\n",
       "      <td>2022.0</td>\n",
       "    </tr>\n",
       "    <tr>\n",
       "      <th>6</th>\n",
       "      <td>Cluster2</td>\n",
       "      <td>2001.0</td>\n",
       "    </tr>\n",
       "    <tr>\n",
       "      <th>7</th>\n",
       "      <td>Cluster2</td>\n",
       "      <td>2002.0</td>\n",
       "    </tr>\n",
       "    <tr>\n",
       "      <th>8</th>\n",
       "      <td>Cluster2</td>\n",
       "      <td>2006.0</td>\n",
       "    </tr>\n",
       "    <tr>\n",
       "      <th>9</th>\n",
       "      <td>Cluster2</td>\n",
       "      <td>2009.0</td>\n",
       "    </tr>\n",
       "    <tr>\n",
       "      <th>10</th>\n",
       "      <td>Cluster2</td>\n",
       "      <td>2012.0</td>\n",
       "    </tr>\n",
       "    <tr>\n",
       "      <th>11</th>\n",
       "      <td>Cluster2</td>\n",
       "      <td>2013.0</td>\n",
       "    </tr>\n",
       "    <tr>\n",
       "      <th>12</th>\n",
       "      <td>Cluster2</td>\n",
       "      <td>2014.0</td>\n",
       "    </tr>\n",
       "    <tr>\n",
       "      <th>13</th>\n",
       "      <td>Cluster2</td>\n",
       "      <td>2017.0</td>\n",
       "    </tr>\n",
       "    <tr>\n",
       "      <th>14</th>\n",
       "      <td>Cluster2</td>\n",
       "      <td>2018.0</td>\n",
       "    </tr>\n",
       "    <tr>\n",
       "      <th>15</th>\n",
       "      <td>Cluster2</td>\n",
       "      <td>2023.0</td>\n",
       "    </tr>\n",
       "    <tr>\n",
       "      <th>16</th>\n",
       "      <td>Cluster3</td>\n",
       "      <td>1998.0</td>\n",
       "    </tr>\n",
       "    <tr>\n",
       "      <th>17</th>\n",
       "      <td>Cluster3</td>\n",
       "      <td>2016.0</td>\n",
       "    </tr>\n",
       "    <tr>\n",
       "      <th>18</th>\n",
       "      <td>Cluster3</td>\n",
       "      <td>2024.0</td>\n",
       "    </tr>\n",
       "    <tr>\n",
       "      <th>19</th>\n",
       "      <td>Cluster4</td>\n",
       "      <td>2010.0</td>\n",
       "    </tr>\n",
       "    <tr>\n",
       "      <th>20</th>\n",
       "      <td>Cluster5</td>\n",
       "      <td>2003.0</td>\n",
       "    </tr>\n",
       "    <tr>\n",
       "      <th>21</th>\n",
       "      <td>Cluster5</td>\n",
       "      <td>2004.0</td>\n",
       "    </tr>\n",
       "    <tr>\n",
       "      <th>22</th>\n",
       "      <td>Cluster5</td>\n",
       "      <td>2005.0</td>\n",
       "    </tr>\n",
       "    <tr>\n",
       "      <th>23</th>\n",
       "      <td>Cluster5</td>\n",
       "      <td>2007.0</td>\n",
       "    </tr>\n",
       "    <tr>\n",
       "      <th>24</th>\n",
       "      <td>Cluster5</td>\n",
       "      <td>2019.0</td>\n",
       "    </tr>\n",
       "    <tr>\n",
       "      <th>25</th>\n",
       "      <td>Cluster5</td>\n",
       "      <td>2020.0</td>\n",
       "    </tr>\n",
       "    <tr>\n",
       "      <th>26</th>\n",
       "      <td>Cluster6</td>\n",
       "      <td>2015.0</td>\n",
       "    </tr>\n",
       "  </tbody>\n",
       "</table>\n",
       "</div>"
      ],
      "text/plain": [
       "   ClusterPacifico     Año\n",
       "0         Cluster1  1999.0\n",
       "1         Cluster1  2000.0\n",
       "2         Cluster1  2008.0\n",
       "3         Cluster1  2011.0\n",
       "4         Cluster1  2021.0\n",
       "5         Cluster1  2022.0\n",
       "6         Cluster2  2001.0\n",
       "7         Cluster2  2002.0\n",
       "8         Cluster2  2006.0\n",
       "9         Cluster2  2009.0\n",
       "10        Cluster2  2012.0\n",
       "11        Cluster2  2013.0\n",
       "12        Cluster2  2014.0\n",
       "13        Cluster2  2017.0\n",
       "14        Cluster2  2018.0\n",
       "15        Cluster2  2023.0\n",
       "16        Cluster3  1998.0\n",
       "17        Cluster3  2016.0\n",
       "18        Cluster3  2024.0\n",
       "19        Cluster4  2010.0\n",
       "20        Cluster5  2003.0\n",
       "21        Cluster5  2004.0\n",
       "22        Cluster5  2005.0\n",
       "23        Cluster5  2007.0\n",
       "24        Cluster5  2019.0\n",
       "25        Cluster5  2020.0\n",
       "26        Cluster6  2015.0"
      ]
     },
     "execution_count": 121,
     "metadata": {},
     "output_type": "execute_result"
    }
   ],
   "source": [
    "# Transformar tabla para obtener columnas \"Año\" y \"Cluster\"\n",
    "clusters_pacifico = pacifico.melt(var_name='ClusterPacifico', value_name='Año').dropna().reset_index(drop=True)\n",
    "clusters_pacifico"
   ]
  },
  {
   "cell_type": "code",
   "execution_count": 135,
   "metadata": {},
   "outputs": [
    {
     "data": {
      "text/html": [
       "<div>\n",
       "<style scoped>\n",
       "    .dataframe tbody tr th:only-of-type {\n",
       "        vertical-align: middle;\n",
       "    }\n",
       "\n",
       "    .dataframe tbody tr th {\n",
       "        vertical-align: top;\n",
       "    }\n",
       "\n",
       "    .dataframe thead th {\n",
       "        text-align: right;\n",
       "    }\n",
       "</style>\n",
       "<table border=\"1\" class=\"dataframe\">\n",
       "  <thead>\n",
       "    <tr style=\"text-align: right;\">\n",
       "      <th></th>\n",
       "      <th>Año</th>\n",
       "      <th>Mes</th>\n",
       "      <th>a_pacifico</th>\n",
       "    </tr>\n",
       "  </thead>\n",
       "  <tbody>\n",
       "    <tr>\n",
       "      <th>0</th>\n",
       "      <td>1998</td>\n",
       "      <td>Enero</td>\n",
       "      <td>2.20</td>\n",
       "    </tr>\n",
       "    <tr>\n",
       "      <th>1</th>\n",
       "      <td>1999</td>\n",
       "      <td>Enero</td>\n",
       "      <td>-1.50</td>\n",
       "    </tr>\n",
       "    <tr>\n",
       "      <th>2</th>\n",
       "      <td>2000</td>\n",
       "      <td>Enero</td>\n",
       "      <td>-1.70</td>\n",
       "    </tr>\n",
       "    <tr>\n",
       "      <th>3</th>\n",
       "      <td>2001</td>\n",
       "      <td>Enero</td>\n",
       "      <td>-0.70</td>\n",
       "    </tr>\n",
       "    <tr>\n",
       "      <th>4</th>\n",
       "      <td>2002</td>\n",
       "      <td>Enero</td>\n",
       "      <td>-0.10</td>\n",
       "    </tr>\n",
       "    <tr>\n",
       "      <th>...</th>\n",
       "      <td>...</td>\n",
       "      <td>...</td>\n",
       "      <td>...</td>\n",
       "    </tr>\n",
       "    <tr>\n",
       "      <th>157</th>\n",
       "      <td>2020</td>\n",
       "      <td>Junio</td>\n",
       "      <td>-0.30</td>\n",
       "    </tr>\n",
       "    <tr>\n",
       "      <th>158</th>\n",
       "      <td>2021</td>\n",
       "      <td>Junio</td>\n",
       "      <td>-0.40</td>\n",
       "    </tr>\n",
       "    <tr>\n",
       "      <th>159</th>\n",
       "      <td>2022</td>\n",
       "      <td>Junio</td>\n",
       "      <td>-0.90</td>\n",
       "    </tr>\n",
       "    <tr>\n",
       "      <th>160</th>\n",
       "      <td>2023</td>\n",
       "      <td>Junio</td>\n",
       "      <td>0.80</td>\n",
       "    </tr>\n",
       "    <tr>\n",
       "      <th>161</th>\n",
       "      <td>2024</td>\n",
       "      <td>Junio</td>\n",
       "      <td>0.05</td>\n",
       "    </tr>\n",
       "  </tbody>\n",
       "</table>\n",
       "<p>162 rows × 3 columns</p>\n",
       "</div>"
      ],
      "text/plain": [
       "      Año    Mes  a_pacifico\n",
       "0    1998  Enero        2.20\n",
       "1    1999  Enero       -1.50\n",
       "2    2000  Enero       -1.70\n",
       "3    2001  Enero       -0.70\n",
       "4    2002  Enero       -0.10\n",
       "..    ...    ...         ...\n",
       "157  2020  Junio       -0.30\n",
       "158  2021  Junio       -0.40\n",
       "159  2022  Junio       -0.90\n",
       "160  2023  Junio        0.80\n",
       "161  2024  Junio        0.05\n",
       "\n",
       "[162 rows x 3 columns]"
      ]
     },
     "execution_count": 135,
     "metadata": {},
     "output_type": "execute_result"
    }
   ],
   "source": [
    "#### tabla formato largo\n",
    "df_melted = df_pacifico.melt(id_vars='Año', var_name='Mes', value_name='a_pacifico')\n",
    "df_melted"
   ]
  },
  {
   "cell_type": "code",
   "execution_count": 136,
   "metadata": {},
   "outputs": [
    {
     "data": {
      "application/vnd.plotly.v1+json": {
       "config": {
        "plotlyServerURL": "https://plot.ly"
       },
       "data": [
        {
         "hovertemplate": "Año=1998<br>Mes=%{x}<br>anomalia=%{y}<extra></extra>",
         "legendgroup": "1998",
         "line": {
          "color": "#636efa",
          "dash": "solid"
         },
         "marker": {
          "symbol": "circle"
         },
         "mode": "lines",
         "name": "1998",
         "orientation": "v",
         "showlegend": true,
         "type": "scatter",
         "x": [
          "Enero",
          "Febrero",
          "Marzo",
          "Abril",
          "Mayo",
          "Junio"
         ],
         "xaxis": "x",
         "y": [
          2.2,
          1.9,
          1.4,
          1,
          0.5,
          -0.1
         ],
         "yaxis": "y"
        },
        {
         "hovertemplate": "Año=1999<br>Mes=%{x}<br>anomalia=%{y}<extra></extra>",
         "legendgroup": "1999",
         "line": {
          "color": "#EF553B",
          "dash": "solid"
         },
         "marker": {
          "symbol": "circle"
         },
         "mode": "lines",
         "name": "1999",
         "orientation": "v",
         "showlegend": true,
         "type": "scatter",
         "x": [
          "Enero",
          "Febrero",
          "Marzo",
          "Abril",
          "Mayo",
          "Junio"
         ],
         "xaxis": "x",
         "y": [
          -1.5,
          -1.3,
          -1.1,
          -1,
          -1,
          -1
         ],
         "yaxis": "y"
        },
        {
         "hovertemplate": "Año=2000<br>Mes=%{x}<br>anomalia=%{y}<extra></extra>",
         "legendgroup": "2000",
         "line": {
          "color": "#00cc96",
          "dash": "solid"
         },
         "marker": {
          "symbol": "circle"
         },
         "mode": "lines",
         "name": "2000",
         "orientation": "v",
         "showlegend": true,
         "type": "scatter",
         "x": [
          "Enero",
          "Febrero",
          "Marzo",
          "Abril",
          "Mayo",
          "Junio"
         ],
         "xaxis": "x",
         "y": [
          -1.7,
          -1.4,
          -1.1,
          -0.8,
          -0.7,
          -0.6
         ],
         "yaxis": "y"
        },
        {
         "hovertemplate": "Año=2001<br>Mes=%{x}<br>anomalia=%{y}<extra></extra>",
         "legendgroup": "2001",
         "line": {
          "color": "#ab63fa",
          "dash": "solid"
         },
         "marker": {
          "symbol": "circle"
         },
         "mode": "lines",
         "name": "2001",
         "orientation": "v",
         "showlegend": true,
         "type": "scatter",
         "x": [
          "Enero",
          "Febrero",
          "Marzo",
          "Abril",
          "Mayo",
          "Junio"
         ],
         "xaxis": "x",
         "y": [
          -0.7,
          -0.5,
          -0.4,
          -0.3,
          -0.3,
          -0.1
         ],
         "yaxis": "y"
        },
        {
         "hovertemplate": "Año=2002<br>Mes=%{x}<br>anomalia=%{y}<extra></extra>",
         "legendgroup": "2002",
         "line": {
          "color": "#FFA15A",
          "dash": "solid"
         },
         "marker": {
          "symbol": "circle"
         },
         "mode": "lines",
         "name": "2002",
         "orientation": "v",
         "showlegend": true,
         "type": "scatter",
         "x": [
          "Enero",
          "Febrero",
          "Marzo",
          "Abril",
          "Mayo",
          "Junio"
         ],
         "xaxis": "x",
         "y": [
          -0.1,
          0,
          0.1,
          0.2,
          0.4,
          0.7
         ],
         "yaxis": "y"
        },
        {
         "hovertemplate": "Año=2003<br>Mes=%{x}<br>anomalia=%{y}<extra></extra>",
         "legendgroup": "2003",
         "line": {
          "color": "#19d3f3",
          "dash": "solid"
         },
         "marker": {
          "symbol": "circle"
         },
         "mode": "lines",
         "name": "2003",
         "orientation": "v",
         "showlegend": true,
         "type": "scatter",
         "x": [
          "Enero",
          "Febrero",
          "Marzo",
          "Abril",
          "Mayo",
          "Junio"
         ],
         "xaxis": "x",
         "y": [
          0.9,
          0.6,
          0.4,
          0,
          -0.3,
          -0.2
         ],
         "yaxis": "y"
        },
        {
         "hovertemplate": "Año=2004<br>Mes=%{x}<br>anomalia=%{y}<extra></extra>",
         "legendgroup": "2004",
         "line": {
          "color": "#FF6692",
          "dash": "solid"
         },
         "marker": {
          "symbol": "circle"
         },
         "mode": "lines",
         "name": "2004",
         "orientation": "v",
         "showlegend": true,
         "type": "scatter",
         "x": [
          "Enero",
          "Febrero",
          "Marzo",
          "Abril",
          "Mayo",
          "Junio"
         ],
         "xaxis": "x",
         "y": [
          0.4,
          0.3,
          0.2,
          0.2,
          0.2,
          0.3
         ],
         "yaxis": "y"
        },
        {
         "hovertemplate": "Año=2005<br>Mes=%{x}<br>anomalia=%{y}<extra></extra>",
         "legendgroup": "2005",
         "line": {
          "color": "#B6E880",
          "dash": "solid"
         },
         "marker": {
          "symbol": "circle"
         },
         "mode": "lines",
         "name": "2005",
         "orientation": "v",
         "showlegend": true,
         "type": "scatter",
         "x": [
          "Enero",
          "Febrero",
          "Marzo",
          "Abril",
          "Mayo",
          "Junio"
         ],
         "xaxis": "x",
         "y": [
          0.6,
          0.6,
          0.4,
          0.4,
          0.3,
          0.1
         ],
         "yaxis": "y"
        },
        {
         "hovertemplate": "Año=2006<br>Mes=%{x}<br>anomalia=%{y}<extra></extra>",
         "legendgroup": "2006",
         "line": {
          "color": "#FF97FF",
          "dash": "solid"
         },
         "marker": {
          "symbol": "circle"
         },
         "mode": "lines",
         "name": "2006",
         "orientation": "v",
         "showlegend": true,
         "type": "scatter",
         "x": [
          "Enero",
          "Febrero",
          "Marzo",
          "Abril",
          "Mayo",
          "Junio"
         ],
         "xaxis": "x",
         "y": [
          -0.9,
          -0.8,
          -0.6,
          -0.4,
          -0.1,
          0
         ],
         "yaxis": "y"
        },
        {
         "hovertemplate": "Año=2007<br>Mes=%{x}<br>anomalia=%{y}<extra></extra>",
         "legendgroup": "2007",
         "line": {
          "color": "#FECB52",
          "dash": "solid"
         },
         "marker": {
          "symbol": "circle"
         },
         "mode": "lines",
         "name": "2007",
         "orientation": "v",
         "showlegend": true,
         "type": "scatter",
         "x": [
          "Enero",
          "Febrero",
          "Marzo",
          "Abril",
          "Mayo",
          "Junio"
         ],
         "xaxis": "x",
         "y": [
          0.7,
          0.2,
          -0.1,
          -0.3,
          -0.4,
          -0.5
         ],
         "yaxis": "y"
        },
        {
         "hovertemplate": "Año=2008<br>Mes=%{x}<br>anomalia=%{y}<extra></extra>",
         "legendgroup": "2008",
         "line": {
          "color": "#636efa",
          "dash": "solid"
         },
         "marker": {
          "symbol": "circle"
         },
         "mode": "lines",
         "name": "2008",
         "orientation": "v",
         "showlegend": true,
         "type": "scatter",
         "x": [
          "Enero",
          "Febrero",
          "Marzo",
          "Abril",
          "Mayo",
          "Junio"
         ],
         "xaxis": "x",
         "y": [
          -1.6,
          -1.5,
          -1.3,
          -1,
          -0.8,
          -0.6
         ],
         "yaxis": "y"
        },
        {
         "hovertemplate": "Año=2009<br>Mes=%{x}<br>anomalia=%{y}<extra></extra>",
         "legendgroup": "2009",
         "line": {
          "color": "#EF553B",
          "dash": "solid"
         },
         "marker": {
          "symbol": "circle"
         },
         "mode": "lines",
         "name": "2009",
         "orientation": "v",
         "showlegend": true,
         "type": "scatter",
         "x": [
          "Enero",
          "Febrero",
          "Marzo",
          "Abril",
          "Mayo",
          "Junio"
         ],
         "xaxis": "x",
         "y": [
          -0.8,
          -0.8,
          -0.6,
          -0.3,
          0,
          0.3
         ],
         "yaxis": "y"
        },
        {
         "hovertemplate": "Año=2010<br>Mes=%{x}<br>anomalia=%{y}<extra></extra>",
         "legendgroup": "2010",
         "line": {
          "color": "#00cc96",
          "dash": "solid"
         },
         "marker": {
          "symbol": "circle"
         },
         "mode": "lines",
         "name": "2010",
         "orientation": "v",
         "showlegend": true,
         "type": "scatter",
         "x": [
          "Enero",
          "Febrero",
          "Marzo",
          "Abril",
          "Mayo",
          "Junio"
         ],
         "xaxis": "x",
         "y": [
          1.5,
          1.2,
          0.8,
          0.4,
          -0.2,
          -0.7
         ],
         "yaxis": "y"
        },
        {
         "hovertemplate": "Año=2011<br>Mes=%{x}<br>anomalia=%{y}<extra></extra>",
         "legendgroup": "2011",
         "line": {
          "color": "#ab63fa",
          "dash": "solid"
         },
         "marker": {
          "symbol": "circle"
         },
         "mode": "lines",
         "name": "2011",
         "orientation": "v",
         "showlegend": true,
         "type": "scatter",
         "x": [
          "Enero",
          "Febrero",
          "Marzo",
          "Abril",
          "Mayo",
          "Junio"
         ],
         "xaxis": "x",
         "y": [
          -1.4,
          -1.2,
          -0.9,
          -0.7,
          -0.6,
          -0.4
         ],
         "yaxis": "y"
        },
        {
         "hovertemplate": "Año=2012<br>Mes=%{x}<br>anomalia=%{y}<extra></extra>",
         "legendgroup": "2012",
         "line": {
          "color": "#FFA15A",
          "dash": "solid"
         },
         "marker": {
          "symbol": "circle"
         },
         "mode": "lines",
         "name": "2012",
         "orientation": "v",
         "showlegend": true,
         "type": "scatter",
         "x": [
          "Enero",
          "Febrero",
          "Marzo",
          "Abril",
          "Mayo",
          "Junio"
         ],
         "xaxis": "x",
         "y": [
          -0.9,
          -0.7,
          -0.6,
          -0.5,
          -0.3,
          0
         ],
         "yaxis": "y"
        },
        {
         "hovertemplate": "Año=2013<br>Mes=%{x}<br>anomalia=%{y}<extra></extra>",
         "legendgroup": "2013",
         "line": {
          "color": "#19d3f3",
          "dash": "solid"
         },
         "marker": {
          "symbol": "circle"
         },
         "mode": "lines",
         "name": "2013",
         "orientation": "v",
         "showlegend": true,
         "type": "scatter",
         "x": [
          "Enero",
          "Febrero",
          "Marzo",
          "Abril",
          "Mayo",
          "Junio"
         ],
         "xaxis": "x",
         "y": [
          -0.4,
          -0.4,
          -0.3,
          -0.3,
          -0.4,
          -0.4
         ],
         "yaxis": "y"
        },
        {
         "hovertemplate": "Año=2014<br>Mes=%{x}<br>anomalia=%{y}<extra></extra>",
         "legendgroup": "2014",
         "line": {
          "color": "#FF6692",
          "dash": "solid"
         },
         "marker": {
          "symbol": "circle"
         },
         "mode": "lines",
         "name": "2014",
         "orientation": "v",
         "showlegend": true,
         "type": "scatter",
         "x": [
          "Enero",
          "Febrero",
          "Marzo",
          "Abril",
          "Mayo",
          "Junio"
         ],
         "xaxis": "x",
         "y": [
          -0.4,
          -0.5,
          -0.3,
          0,
          0.2,
          0.2
         ],
         "yaxis": "y"
        },
        {
         "hovertemplate": "Año=2015<br>Mes=%{x}<br>anomalia=%{y}<extra></extra>",
         "legendgroup": "2015",
         "line": {
          "color": "#B6E880",
          "dash": "solid"
         },
         "marker": {
          "symbol": "circle"
         },
         "mode": "lines",
         "name": "2015",
         "orientation": "v",
         "showlegend": true,
         "type": "scatter",
         "x": [
          "Enero",
          "Febrero",
          "Marzo",
          "Abril",
          "Mayo",
          "Junio"
         ],
         "xaxis": "x",
         "y": [
          0.5,
          0.5,
          0.5,
          0.7,
          0.9,
          1.2
         ],
         "yaxis": "y"
        },
        {
         "hovertemplate": "Año=2016<br>Mes=%{x}<br>anomalia=%{y}<extra></extra>",
         "legendgroup": "2016",
         "line": {
          "color": "#FF97FF",
          "dash": "solid"
         },
         "marker": {
          "symbol": "circle"
         },
         "mode": "lines",
         "name": "2016",
         "orientation": "v",
         "showlegend": true,
         "type": "scatter",
         "x": [
          "Enero",
          "Febrero",
          "Marzo",
          "Abril",
          "Mayo",
          "Junio"
         ],
         "xaxis": "x",
         "y": [
          2.5,
          2.1,
          1.6,
          0.9,
          0.4,
          -0.1
         ],
         "yaxis": "y"
        },
        {
         "hovertemplate": "Año=2017<br>Mes=%{x}<br>anomalia=%{y}<extra></extra>",
         "legendgroup": "2017",
         "line": {
          "color": "#FECB52",
          "dash": "solid"
         },
         "marker": {
          "symbol": "circle"
         },
         "mode": "lines",
         "name": "2017",
         "orientation": "v",
         "showlegend": true,
         "type": "scatter",
         "x": [
          "Enero",
          "Febrero",
          "Marzo",
          "Abril",
          "Mayo",
          "Junio"
         ],
         "xaxis": "x",
         "y": [
          -0.3,
          -0.2,
          0.1,
          0.2,
          0.3,
          0.3
         ],
         "yaxis": "y"
        },
        {
         "hovertemplate": "Año=2018<br>Mes=%{x}<br>anomalia=%{y}<extra></extra>",
         "legendgroup": "2018",
         "line": {
          "color": "#636efa",
          "dash": "solid"
         },
         "marker": {
          "symbol": "circle"
         },
         "mode": "lines",
         "name": "2018",
         "orientation": "v",
         "showlegend": true,
         "type": "scatter",
         "x": [
          "Enero",
          "Febrero",
          "Marzo",
          "Abril",
          "Mayo",
          "Junio"
         ],
         "xaxis": "x",
         "y": [
          -0.9,
          -0.9,
          -0.7,
          -0.5,
          -0.2,
          0
         ],
         "yaxis": "y"
        },
        {
         "hovertemplate": "Año=2019<br>Mes=%{x}<br>anomalia=%{y}<extra></extra>",
         "legendgroup": "2019",
         "line": {
          "color": "#EF553B",
          "dash": "solid"
         },
         "marker": {
          "symbol": "circle"
         },
         "mode": "lines",
         "name": "2019",
         "orientation": "v",
         "showlegend": true,
         "type": "scatter",
         "x": [
          "Enero",
          "Febrero",
          "Marzo",
          "Abril",
          "Mayo",
          "Junio"
         ],
         "xaxis": "x",
         "y": [
          0.7,
          0.7,
          0.7,
          0.7,
          0.5,
          0.5
         ],
         "yaxis": "y"
        },
        {
         "hovertemplate": "Año=2020<br>Mes=%{x}<br>anomalia=%{y}<extra></extra>",
         "legendgroup": "2020",
         "line": {
          "color": "#00cc96",
          "dash": "solid"
         },
         "marker": {
          "symbol": "circle"
         },
         "mode": "lines",
         "name": "2020",
         "orientation": "v",
         "showlegend": true,
         "type": "scatter",
         "x": [
          "Enero",
          "Febrero",
          "Marzo",
          "Abril",
          "Mayo",
          "Junio"
         ],
         "xaxis": "x",
         "y": [
          0.5,
          0.5,
          0.4,
          0.2,
          -0.1,
          -0.3
         ],
         "yaxis": "y"
        },
        {
         "hovertemplate": "Año=2021<br>Mes=%{x}<br>anomalia=%{y}<extra></extra>",
         "legendgroup": "2021",
         "line": {
          "color": "#ab63fa",
          "dash": "solid"
         },
         "marker": {
          "symbol": "circle"
         },
         "mode": "lines",
         "name": "2021",
         "orientation": "v",
         "showlegend": true,
         "type": "scatter",
         "x": [
          "Enero",
          "Febrero",
          "Marzo",
          "Abril",
          "Mayo",
          "Junio"
         ],
         "xaxis": "x",
         "y": [
          -1,
          -0.9,
          -0.8,
          -0.7,
          -0.5,
          -0.4
         ],
         "yaxis": "y"
        },
        {
         "hovertemplate": "Año=2022<br>Mes=%{x}<br>anomalia=%{y}<extra></extra>",
         "legendgroup": "2022",
         "line": {
          "color": "#FFA15A",
          "dash": "solid"
         },
         "marker": {
          "symbol": "circle"
         },
         "mode": "lines",
         "name": "2022",
         "orientation": "v",
         "showlegend": true,
         "type": "scatter",
         "x": [
          "Enero",
          "Febrero",
          "Marzo",
          "Abril",
          "Mayo",
          "Junio"
         ],
         "xaxis": "x",
         "y": [
          -1,
          -0.9,
          -1,
          -1.1,
          -1,
          -0.9
         ],
         "yaxis": "y"
        },
        {
         "hovertemplate": "Año=2023<br>Mes=%{x}<br>anomalia=%{y}<extra></extra>",
         "legendgroup": "2023",
         "line": {
          "color": "#19d3f3",
          "dash": "solid"
         },
         "marker": {
          "symbol": "circle"
         },
         "mode": "lines",
         "name": "2023",
         "orientation": "v",
         "showlegend": true,
         "type": "scatter",
         "x": [
          "Enero",
          "Febrero",
          "Marzo",
          "Abril",
          "Mayo",
          "Junio"
         ],
         "xaxis": "x",
         "y": [
          -0.7,
          -0.4,
          -0.1,
          0.2,
          0.5,
          0.8
         ],
         "yaxis": "y"
        },
        {
         "hovertemplate": "Año=2024<br>Mes=%{x}<br>anomalia=%{y}<extra></extra>",
         "legendgroup": "2024",
         "line": {
          "color": "#FF6692",
          "dash": "solid"
         },
         "marker": {
          "symbol": "circle"
         },
         "mode": "lines",
         "name": "2024",
         "orientation": "v",
         "showlegend": true,
         "type": "scatter",
         "x": [
          "Enero",
          "Febrero",
          "Marzo",
          "Abril",
          "Mayo",
          "Junio"
         ],
         "xaxis": "x",
         "y": [
          1.8,
          1.5,
          1.1,
          0.7,
          0.44,
          0.05
         ],
         "yaxis": "y"
        }
       ],
       "layout": {
        "legend": {
         "title": {
          "text": "Año"
         },
         "tracegroupgap": 0
        },
        "template": {
         "data": {
          "bar": [
           {
            "error_x": {
             "color": "#2a3f5f"
            },
            "error_y": {
             "color": "#2a3f5f"
            },
            "marker": {
             "line": {
              "color": "#E5ECF6",
              "width": 0.5
             },
             "pattern": {
              "fillmode": "overlay",
              "size": 10,
              "solidity": 0.2
             }
            },
            "type": "bar"
           }
          ],
          "barpolar": [
           {
            "marker": {
             "line": {
              "color": "#E5ECF6",
              "width": 0.5
             },
             "pattern": {
              "fillmode": "overlay",
              "size": 10,
              "solidity": 0.2
             }
            },
            "type": "barpolar"
           }
          ],
          "carpet": [
           {
            "aaxis": {
             "endlinecolor": "#2a3f5f",
             "gridcolor": "white",
             "linecolor": "white",
             "minorgridcolor": "white",
             "startlinecolor": "#2a3f5f"
            },
            "baxis": {
             "endlinecolor": "#2a3f5f",
             "gridcolor": "white",
             "linecolor": "white",
             "minorgridcolor": "white",
             "startlinecolor": "#2a3f5f"
            },
            "type": "carpet"
           }
          ],
          "choropleth": [
           {
            "colorbar": {
             "outlinewidth": 0,
             "ticks": ""
            },
            "type": "choropleth"
           }
          ],
          "contour": [
           {
            "colorbar": {
             "outlinewidth": 0,
             "ticks": ""
            },
            "colorscale": [
             [
              0,
              "#0d0887"
             ],
             [
              0.1111111111111111,
              "#46039f"
             ],
             [
              0.2222222222222222,
              "#7201a8"
             ],
             [
              0.3333333333333333,
              "#9c179e"
             ],
             [
              0.4444444444444444,
              "#bd3786"
             ],
             [
              0.5555555555555556,
              "#d8576b"
             ],
             [
              0.6666666666666666,
              "#ed7953"
             ],
             [
              0.7777777777777778,
              "#fb9f3a"
             ],
             [
              0.8888888888888888,
              "#fdca26"
             ],
             [
              1,
              "#f0f921"
             ]
            ],
            "type": "contour"
           }
          ],
          "contourcarpet": [
           {
            "colorbar": {
             "outlinewidth": 0,
             "ticks": ""
            },
            "type": "contourcarpet"
           }
          ],
          "heatmap": [
           {
            "colorbar": {
             "outlinewidth": 0,
             "ticks": ""
            },
            "colorscale": [
             [
              0,
              "#0d0887"
             ],
             [
              0.1111111111111111,
              "#46039f"
             ],
             [
              0.2222222222222222,
              "#7201a8"
             ],
             [
              0.3333333333333333,
              "#9c179e"
             ],
             [
              0.4444444444444444,
              "#bd3786"
             ],
             [
              0.5555555555555556,
              "#d8576b"
             ],
             [
              0.6666666666666666,
              "#ed7953"
             ],
             [
              0.7777777777777778,
              "#fb9f3a"
             ],
             [
              0.8888888888888888,
              "#fdca26"
             ],
             [
              1,
              "#f0f921"
             ]
            ],
            "type": "heatmap"
           }
          ],
          "heatmapgl": [
           {
            "colorbar": {
             "outlinewidth": 0,
             "ticks": ""
            },
            "colorscale": [
             [
              0,
              "#0d0887"
             ],
             [
              0.1111111111111111,
              "#46039f"
             ],
             [
              0.2222222222222222,
              "#7201a8"
             ],
             [
              0.3333333333333333,
              "#9c179e"
             ],
             [
              0.4444444444444444,
              "#bd3786"
             ],
             [
              0.5555555555555556,
              "#d8576b"
             ],
             [
              0.6666666666666666,
              "#ed7953"
             ],
             [
              0.7777777777777778,
              "#fb9f3a"
             ],
             [
              0.8888888888888888,
              "#fdca26"
             ],
             [
              1,
              "#f0f921"
             ]
            ],
            "type": "heatmapgl"
           }
          ],
          "histogram": [
           {
            "marker": {
             "pattern": {
              "fillmode": "overlay",
              "size": 10,
              "solidity": 0.2
             }
            },
            "type": "histogram"
           }
          ],
          "histogram2d": [
           {
            "colorbar": {
             "outlinewidth": 0,
             "ticks": ""
            },
            "colorscale": [
             [
              0,
              "#0d0887"
             ],
             [
              0.1111111111111111,
              "#46039f"
             ],
             [
              0.2222222222222222,
              "#7201a8"
             ],
             [
              0.3333333333333333,
              "#9c179e"
             ],
             [
              0.4444444444444444,
              "#bd3786"
             ],
             [
              0.5555555555555556,
              "#d8576b"
             ],
             [
              0.6666666666666666,
              "#ed7953"
             ],
             [
              0.7777777777777778,
              "#fb9f3a"
             ],
             [
              0.8888888888888888,
              "#fdca26"
             ],
             [
              1,
              "#f0f921"
             ]
            ],
            "type": "histogram2d"
           }
          ],
          "histogram2dcontour": [
           {
            "colorbar": {
             "outlinewidth": 0,
             "ticks": ""
            },
            "colorscale": [
             [
              0,
              "#0d0887"
             ],
             [
              0.1111111111111111,
              "#46039f"
             ],
             [
              0.2222222222222222,
              "#7201a8"
             ],
             [
              0.3333333333333333,
              "#9c179e"
             ],
             [
              0.4444444444444444,
              "#bd3786"
             ],
             [
              0.5555555555555556,
              "#d8576b"
             ],
             [
              0.6666666666666666,
              "#ed7953"
             ],
             [
              0.7777777777777778,
              "#fb9f3a"
             ],
             [
              0.8888888888888888,
              "#fdca26"
             ],
             [
              1,
              "#f0f921"
             ]
            ],
            "type": "histogram2dcontour"
           }
          ],
          "mesh3d": [
           {
            "colorbar": {
             "outlinewidth": 0,
             "ticks": ""
            },
            "type": "mesh3d"
           }
          ],
          "parcoords": [
           {
            "line": {
             "colorbar": {
              "outlinewidth": 0,
              "ticks": ""
             }
            },
            "type": "parcoords"
           }
          ],
          "pie": [
           {
            "automargin": true,
            "type": "pie"
           }
          ],
          "scatter": [
           {
            "fillpattern": {
             "fillmode": "overlay",
             "size": 10,
             "solidity": 0.2
            },
            "type": "scatter"
           }
          ],
          "scatter3d": [
           {
            "line": {
             "colorbar": {
              "outlinewidth": 0,
              "ticks": ""
             }
            },
            "marker": {
             "colorbar": {
              "outlinewidth": 0,
              "ticks": ""
             }
            },
            "type": "scatter3d"
           }
          ],
          "scattercarpet": [
           {
            "marker": {
             "colorbar": {
              "outlinewidth": 0,
              "ticks": ""
             }
            },
            "type": "scattercarpet"
           }
          ],
          "scattergeo": [
           {
            "marker": {
             "colorbar": {
              "outlinewidth": 0,
              "ticks": ""
             }
            },
            "type": "scattergeo"
           }
          ],
          "scattergl": [
           {
            "marker": {
             "colorbar": {
              "outlinewidth": 0,
              "ticks": ""
             }
            },
            "type": "scattergl"
           }
          ],
          "scattermapbox": [
           {
            "marker": {
             "colorbar": {
              "outlinewidth": 0,
              "ticks": ""
             }
            },
            "type": "scattermapbox"
           }
          ],
          "scatterpolar": [
           {
            "marker": {
             "colorbar": {
              "outlinewidth": 0,
              "ticks": ""
             }
            },
            "type": "scatterpolar"
           }
          ],
          "scatterpolargl": [
           {
            "marker": {
             "colorbar": {
              "outlinewidth": 0,
              "ticks": ""
             }
            },
            "type": "scatterpolargl"
           }
          ],
          "scatterternary": [
           {
            "marker": {
             "colorbar": {
              "outlinewidth": 0,
              "ticks": ""
             }
            },
            "type": "scatterternary"
           }
          ],
          "surface": [
           {
            "colorbar": {
             "outlinewidth": 0,
             "ticks": ""
            },
            "colorscale": [
             [
              0,
              "#0d0887"
             ],
             [
              0.1111111111111111,
              "#46039f"
             ],
             [
              0.2222222222222222,
              "#7201a8"
             ],
             [
              0.3333333333333333,
              "#9c179e"
             ],
             [
              0.4444444444444444,
              "#bd3786"
             ],
             [
              0.5555555555555556,
              "#d8576b"
             ],
             [
              0.6666666666666666,
              "#ed7953"
             ],
             [
              0.7777777777777778,
              "#fb9f3a"
             ],
             [
              0.8888888888888888,
              "#fdca26"
             ],
             [
              1,
              "#f0f921"
             ]
            ],
            "type": "surface"
           }
          ],
          "table": [
           {
            "cells": {
             "fill": {
              "color": "#EBF0F8"
             },
             "line": {
              "color": "white"
             }
            },
            "header": {
             "fill": {
              "color": "#C8D4E3"
             },
             "line": {
              "color": "white"
             }
            },
            "type": "table"
           }
          ]
         },
         "layout": {
          "annotationdefaults": {
           "arrowcolor": "#2a3f5f",
           "arrowhead": 0,
           "arrowwidth": 1
          },
          "autotypenumbers": "strict",
          "coloraxis": {
           "colorbar": {
            "outlinewidth": 0,
            "ticks": ""
           }
          },
          "colorscale": {
           "diverging": [
            [
             0,
             "#8e0152"
            ],
            [
             0.1,
             "#c51b7d"
            ],
            [
             0.2,
             "#de77ae"
            ],
            [
             0.3,
             "#f1b6da"
            ],
            [
             0.4,
             "#fde0ef"
            ],
            [
             0.5,
             "#f7f7f7"
            ],
            [
             0.6,
             "#e6f5d0"
            ],
            [
             0.7,
             "#b8e186"
            ],
            [
             0.8,
             "#7fbc41"
            ],
            [
             0.9,
             "#4d9221"
            ],
            [
             1,
             "#276419"
            ]
           ],
           "sequential": [
            [
             0,
             "#0d0887"
            ],
            [
             0.1111111111111111,
             "#46039f"
            ],
            [
             0.2222222222222222,
             "#7201a8"
            ],
            [
             0.3333333333333333,
             "#9c179e"
            ],
            [
             0.4444444444444444,
             "#bd3786"
            ],
            [
             0.5555555555555556,
             "#d8576b"
            ],
            [
             0.6666666666666666,
             "#ed7953"
            ],
            [
             0.7777777777777778,
             "#fb9f3a"
            ],
            [
             0.8888888888888888,
             "#fdca26"
            ],
            [
             1,
             "#f0f921"
            ]
           ],
           "sequentialminus": [
            [
             0,
             "#0d0887"
            ],
            [
             0.1111111111111111,
             "#46039f"
            ],
            [
             0.2222222222222222,
             "#7201a8"
            ],
            [
             0.3333333333333333,
             "#9c179e"
            ],
            [
             0.4444444444444444,
             "#bd3786"
            ],
            [
             0.5555555555555556,
             "#d8576b"
            ],
            [
             0.6666666666666666,
             "#ed7953"
            ],
            [
             0.7777777777777778,
             "#fb9f3a"
            ],
            [
             0.8888888888888888,
             "#fdca26"
            ],
            [
             1,
             "#f0f921"
            ]
           ]
          },
          "colorway": [
           "#636efa",
           "#EF553B",
           "#00cc96",
           "#ab63fa",
           "#FFA15A",
           "#19d3f3",
           "#FF6692",
           "#B6E880",
           "#FF97FF",
           "#FECB52"
          ],
          "font": {
           "color": "#2a3f5f"
          },
          "geo": {
           "bgcolor": "white",
           "lakecolor": "white",
           "landcolor": "#E5ECF6",
           "showlakes": true,
           "showland": true,
           "subunitcolor": "white"
          },
          "hoverlabel": {
           "align": "left"
          },
          "hovermode": "closest",
          "mapbox": {
           "style": "light"
          },
          "paper_bgcolor": "white",
          "plot_bgcolor": "#E5ECF6",
          "polar": {
           "angularaxis": {
            "gridcolor": "white",
            "linecolor": "white",
            "ticks": ""
           },
           "bgcolor": "#E5ECF6",
           "radialaxis": {
            "gridcolor": "white",
            "linecolor": "white",
            "ticks": ""
           }
          },
          "scene": {
           "xaxis": {
            "backgroundcolor": "#E5ECF6",
            "gridcolor": "white",
            "gridwidth": 2,
            "linecolor": "white",
            "showbackground": true,
            "ticks": "",
            "zerolinecolor": "white"
           },
           "yaxis": {
            "backgroundcolor": "#E5ECF6",
            "gridcolor": "white",
            "gridwidth": 2,
            "linecolor": "white",
            "showbackground": true,
            "ticks": "",
            "zerolinecolor": "white"
           },
           "zaxis": {
            "backgroundcolor": "#E5ECF6",
            "gridcolor": "white",
            "gridwidth": 2,
            "linecolor": "white",
            "showbackground": true,
            "ticks": "",
            "zerolinecolor": "white"
           }
          },
          "shapedefaults": {
           "line": {
            "color": "#2a3f5f"
           }
          },
          "ternary": {
           "aaxis": {
            "gridcolor": "white",
            "linecolor": "white",
            "ticks": ""
           },
           "baxis": {
            "gridcolor": "white",
            "linecolor": "white",
            "ticks": ""
           },
           "bgcolor": "#E5ECF6",
           "caxis": {
            "gridcolor": "white",
            "linecolor": "white",
            "ticks": ""
           }
          },
          "title": {
           "x": 0.05
          },
          "xaxis": {
           "automargin": true,
           "gridcolor": "white",
           "linecolor": "white",
           "ticks": "",
           "title": {
            "standoff": 15
           },
           "zerolinecolor": "white",
           "zerolinewidth": 2
          },
          "yaxis": {
           "automargin": true,
           "gridcolor": "white",
           "linecolor": "white",
           "ticks": "",
           "title": {
            "standoff": 15
           },
           "zerolinecolor": "white",
           "zerolinewidth": 2
          }
         }
        },
        "title": {
         "text": "Comportamiento de anomalia temperatura oceano pacifico"
        },
        "xaxis": {
         "anchor": "y",
         "domain": [
          0,
          1
         ],
         "title": {
          "text": "Mes"
         }
        },
        "yaxis": {
         "anchor": "x",
         "domain": [
          0,
          1
         ],
         "title": {
          "text": "anomalia"
         }
        }
       }
      }
     },
     "metadata": {},
     "output_type": "display_data"
    }
   ],
   "source": [
    "\n",
    "meses_orden = [\"Enero\", \"Febrero\", \"Marzo\", \"Abril\", \"Mayo\", \"Junio\"]\n",
    "df_melted['Mes'] = pd.Categorical(df_melted['Mes'], categories=meses_orden, ordered=True)\n",
    "\n",
    "# Graficar la serie de tiempo\n",
    "fig = px.line(df_melted, x='Mes', y='a_pacifico', color='Año',\n",
    "              labels={'Mes': 'Mes', 'a_pacifico': 'anomalia', 'Año': 'Año'},\n",
    "              title='Comportamiento de anomalia temperatura oceano pacifico')\n",
    "\n",
    "fig.show()"
   ]
  },
  {
   "cell_type": "code",
   "execution_count": 137,
   "metadata": {},
   "outputs": [
    {
     "data": {
      "text/html": [
       "<div>\n",
       "<style scoped>\n",
       "    .dataframe tbody tr th:only-of-type {\n",
       "        vertical-align: middle;\n",
       "    }\n",
       "\n",
       "    .dataframe tbody tr th {\n",
       "        vertical-align: top;\n",
       "    }\n",
       "\n",
       "    .dataframe thead th {\n",
       "        text-align: right;\n",
       "    }\n",
       "</style>\n",
       "<table border=\"1\" class=\"dataframe\">\n",
       "  <thead>\n",
       "    <tr style=\"text-align: right;\">\n",
       "      <th></th>\n",
       "      <th>Año</th>\n",
       "      <th>Enero</th>\n",
       "      <th>Febrero</th>\n",
       "      <th>Marzo</th>\n",
       "      <th>Abril</th>\n",
       "      <th>Mayo</th>\n",
       "      <th>Junio</th>\n",
       "      <th>ClusterPacifico</th>\n",
       "    </tr>\n",
       "  </thead>\n",
       "  <tbody>\n",
       "    <tr>\n",
       "      <th>0</th>\n",
       "      <td>1998</td>\n",
       "      <td>2.2</td>\n",
       "      <td>1.9</td>\n",
       "      <td>1.4</td>\n",
       "      <td>1.0</td>\n",
       "      <td>0.50</td>\n",
       "      <td>-0.10</td>\n",
       "      <td>Cluster3</td>\n",
       "    </tr>\n",
       "    <tr>\n",
       "      <th>1</th>\n",
       "      <td>1999</td>\n",
       "      <td>-1.5</td>\n",
       "      <td>-1.3</td>\n",
       "      <td>-1.1</td>\n",
       "      <td>-1.0</td>\n",
       "      <td>-1.00</td>\n",
       "      <td>-1.00</td>\n",
       "      <td>Cluster1</td>\n",
       "    </tr>\n",
       "    <tr>\n",
       "      <th>2</th>\n",
       "      <td>2000</td>\n",
       "      <td>-1.7</td>\n",
       "      <td>-1.4</td>\n",
       "      <td>-1.1</td>\n",
       "      <td>-0.8</td>\n",
       "      <td>-0.70</td>\n",
       "      <td>-0.60</td>\n",
       "      <td>Cluster1</td>\n",
       "    </tr>\n",
       "    <tr>\n",
       "      <th>3</th>\n",
       "      <td>2001</td>\n",
       "      <td>-0.7</td>\n",
       "      <td>-0.5</td>\n",
       "      <td>-0.4</td>\n",
       "      <td>-0.3</td>\n",
       "      <td>-0.30</td>\n",
       "      <td>-0.10</td>\n",
       "      <td>Cluster2</td>\n",
       "    </tr>\n",
       "    <tr>\n",
       "      <th>4</th>\n",
       "      <td>2002</td>\n",
       "      <td>-0.1</td>\n",
       "      <td>0.0</td>\n",
       "      <td>0.1</td>\n",
       "      <td>0.2</td>\n",
       "      <td>0.40</td>\n",
       "      <td>0.70</td>\n",
       "      <td>Cluster2</td>\n",
       "    </tr>\n",
       "    <tr>\n",
       "      <th>5</th>\n",
       "      <td>2003</td>\n",
       "      <td>0.9</td>\n",
       "      <td>0.6</td>\n",
       "      <td>0.4</td>\n",
       "      <td>0.0</td>\n",
       "      <td>-0.30</td>\n",
       "      <td>-0.20</td>\n",
       "      <td>Cluster5</td>\n",
       "    </tr>\n",
       "    <tr>\n",
       "      <th>6</th>\n",
       "      <td>2004</td>\n",
       "      <td>0.4</td>\n",
       "      <td>0.3</td>\n",
       "      <td>0.2</td>\n",
       "      <td>0.2</td>\n",
       "      <td>0.20</td>\n",
       "      <td>0.30</td>\n",
       "      <td>Cluster5</td>\n",
       "    </tr>\n",
       "    <tr>\n",
       "      <th>7</th>\n",
       "      <td>2005</td>\n",
       "      <td>0.6</td>\n",
       "      <td>0.6</td>\n",
       "      <td>0.4</td>\n",
       "      <td>0.4</td>\n",
       "      <td>0.30</td>\n",
       "      <td>0.10</td>\n",
       "      <td>Cluster5</td>\n",
       "    </tr>\n",
       "    <tr>\n",
       "      <th>8</th>\n",
       "      <td>2006</td>\n",
       "      <td>-0.9</td>\n",
       "      <td>-0.8</td>\n",
       "      <td>-0.6</td>\n",
       "      <td>-0.4</td>\n",
       "      <td>-0.10</td>\n",
       "      <td>0.00</td>\n",
       "      <td>Cluster2</td>\n",
       "    </tr>\n",
       "    <tr>\n",
       "      <th>9</th>\n",
       "      <td>2007</td>\n",
       "      <td>0.7</td>\n",
       "      <td>0.2</td>\n",
       "      <td>-0.1</td>\n",
       "      <td>-0.3</td>\n",
       "      <td>-0.40</td>\n",
       "      <td>-0.50</td>\n",
       "      <td>Cluster5</td>\n",
       "    </tr>\n",
       "    <tr>\n",
       "      <th>10</th>\n",
       "      <td>2008</td>\n",
       "      <td>-1.6</td>\n",
       "      <td>-1.5</td>\n",
       "      <td>-1.3</td>\n",
       "      <td>-1.0</td>\n",
       "      <td>-0.80</td>\n",
       "      <td>-0.60</td>\n",
       "      <td>Cluster1</td>\n",
       "    </tr>\n",
       "    <tr>\n",
       "      <th>11</th>\n",
       "      <td>2009</td>\n",
       "      <td>-0.8</td>\n",
       "      <td>-0.8</td>\n",
       "      <td>-0.6</td>\n",
       "      <td>-0.3</td>\n",
       "      <td>0.00</td>\n",
       "      <td>0.30</td>\n",
       "      <td>Cluster2</td>\n",
       "    </tr>\n",
       "    <tr>\n",
       "      <th>12</th>\n",
       "      <td>2010</td>\n",
       "      <td>1.5</td>\n",
       "      <td>1.2</td>\n",
       "      <td>0.8</td>\n",
       "      <td>0.4</td>\n",
       "      <td>-0.20</td>\n",
       "      <td>-0.70</td>\n",
       "      <td>Cluster4</td>\n",
       "    </tr>\n",
       "    <tr>\n",
       "      <th>13</th>\n",
       "      <td>2011</td>\n",
       "      <td>-1.4</td>\n",
       "      <td>-1.2</td>\n",
       "      <td>-0.9</td>\n",
       "      <td>-0.7</td>\n",
       "      <td>-0.60</td>\n",
       "      <td>-0.40</td>\n",
       "      <td>Cluster1</td>\n",
       "    </tr>\n",
       "    <tr>\n",
       "      <th>14</th>\n",
       "      <td>2012</td>\n",
       "      <td>-0.9</td>\n",
       "      <td>-0.7</td>\n",
       "      <td>-0.6</td>\n",
       "      <td>-0.5</td>\n",
       "      <td>-0.30</td>\n",
       "      <td>0.00</td>\n",
       "      <td>Cluster2</td>\n",
       "    </tr>\n",
       "    <tr>\n",
       "      <th>15</th>\n",
       "      <td>2013</td>\n",
       "      <td>-0.4</td>\n",
       "      <td>-0.4</td>\n",
       "      <td>-0.3</td>\n",
       "      <td>-0.3</td>\n",
       "      <td>-0.40</td>\n",
       "      <td>-0.40</td>\n",
       "      <td>Cluster2</td>\n",
       "    </tr>\n",
       "    <tr>\n",
       "      <th>16</th>\n",
       "      <td>2014</td>\n",
       "      <td>-0.4</td>\n",
       "      <td>-0.5</td>\n",
       "      <td>-0.3</td>\n",
       "      <td>0.0</td>\n",
       "      <td>0.20</td>\n",
       "      <td>0.20</td>\n",
       "      <td>Cluster2</td>\n",
       "    </tr>\n",
       "    <tr>\n",
       "      <th>17</th>\n",
       "      <td>2015</td>\n",
       "      <td>0.5</td>\n",
       "      <td>0.5</td>\n",
       "      <td>0.5</td>\n",
       "      <td>0.7</td>\n",
       "      <td>0.90</td>\n",
       "      <td>1.20</td>\n",
       "      <td>Cluster6</td>\n",
       "    </tr>\n",
       "    <tr>\n",
       "      <th>18</th>\n",
       "      <td>2016</td>\n",
       "      <td>2.5</td>\n",
       "      <td>2.1</td>\n",
       "      <td>1.6</td>\n",
       "      <td>0.9</td>\n",
       "      <td>0.40</td>\n",
       "      <td>-0.10</td>\n",
       "      <td>Cluster3</td>\n",
       "    </tr>\n",
       "    <tr>\n",
       "      <th>19</th>\n",
       "      <td>2017</td>\n",
       "      <td>-0.3</td>\n",
       "      <td>-0.2</td>\n",
       "      <td>0.1</td>\n",
       "      <td>0.2</td>\n",
       "      <td>0.30</td>\n",
       "      <td>0.30</td>\n",
       "      <td>Cluster2</td>\n",
       "    </tr>\n",
       "    <tr>\n",
       "      <th>20</th>\n",
       "      <td>2018</td>\n",
       "      <td>-0.9</td>\n",
       "      <td>-0.9</td>\n",
       "      <td>-0.7</td>\n",
       "      <td>-0.5</td>\n",
       "      <td>-0.20</td>\n",
       "      <td>0.00</td>\n",
       "      <td>Cluster2</td>\n",
       "    </tr>\n",
       "    <tr>\n",
       "      <th>21</th>\n",
       "      <td>2019</td>\n",
       "      <td>0.7</td>\n",
       "      <td>0.7</td>\n",
       "      <td>0.7</td>\n",
       "      <td>0.7</td>\n",
       "      <td>0.50</td>\n",
       "      <td>0.50</td>\n",
       "      <td>Cluster5</td>\n",
       "    </tr>\n",
       "    <tr>\n",
       "      <th>22</th>\n",
       "      <td>2020</td>\n",
       "      <td>0.5</td>\n",
       "      <td>0.5</td>\n",
       "      <td>0.4</td>\n",
       "      <td>0.2</td>\n",
       "      <td>-0.10</td>\n",
       "      <td>-0.30</td>\n",
       "      <td>Cluster5</td>\n",
       "    </tr>\n",
       "    <tr>\n",
       "      <th>23</th>\n",
       "      <td>2021</td>\n",
       "      <td>-1.0</td>\n",
       "      <td>-0.9</td>\n",
       "      <td>-0.8</td>\n",
       "      <td>-0.7</td>\n",
       "      <td>-0.50</td>\n",
       "      <td>-0.40</td>\n",
       "      <td>Cluster1</td>\n",
       "    </tr>\n",
       "    <tr>\n",
       "      <th>24</th>\n",
       "      <td>2022</td>\n",
       "      <td>-1.0</td>\n",
       "      <td>-0.9</td>\n",
       "      <td>-1.0</td>\n",
       "      <td>-1.1</td>\n",
       "      <td>-1.00</td>\n",
       "      <td>-0.90</td>\n",
       "      <td>Cluster1</td>\n",
       "    </tr>\n",
       "    <tr>\n",
       "      <th>25</th>\n",
       "      <td>2023</td>\n",
       "      <td>-0.7</td>\n",
       "      <td>-0.4</td>\n",
       "      <td>-0.1</td>\n",
       "      <td>0.2</td>\n",
       "      <td>0.50</td>\n",
       "      <td>0.80</td>\n",
       "      <td>Cluster2</td>\n",
       "    </tr>\n",
       "    <tr>\n",
       "      <th>26</th>\n",
       "      <td>2024</td>\n",
       "      <td>1.8</td>\n",
       "      <td>1.5</td>\n",
       "      <td>1.1</td>\n",
       "      <td>0.7</td>\n",
       "      <td>0.44</td>\n",
       "      <td>0.05</td>\n",
       "      <td>Cluster3</td>\n",
       "    </tr>\n",
       "  </tbody>\n",
       "</table>\n",
       "</div>"
      ],
      "text/plain": [
       "     Año  Enero  Febrero  Marzo  Abril  Mayo  Junio ClusterPacifico\n",
       "0   1998    2.2      1.9    1.4    1.0  0.50  -0.10        Cluster3\n",
       "1   1999   -1.5     -1.3   -1.1   -1.0 -1.00  -1.00        Cluster1\n",
       "2   2000   -1.7     -1.4   -1.1   -0.8 -0.70  -0.60        Cluster1\n",
       "3   2001   -0.7     -0.5   -0.4   -0.3 -0.30  -0.10        Cluster2\n",
       "4   2002   -0.1      0.0    0.1    0.2  0.40   0.70        Cluster2\n",
       "5   2003    0.9      0.6    0.4    0.0 -0.30  -0.20        Cluster5\n",
       "6   2004    0.4      0.3    0.2    0.2  0.20   0.30        Cluster5\n",
       "7   2005    0.6      0.6    0.4    0.4  0.30   0.10        Cluster5\n",
       "8   2006   -0.9     -0.8   -0.6   -0.4 -0.10   0.00        Cluster2\n",
       "9   2007    0.7      0.2   -0.1   -0.3 -0.40  -0.50        Cluster5\n",
       "10  2008   -1.6     -1.5   -1.3   -1.0 -0.80  -0.60        Cluster1\n",
       "11  2009   -0.8     -0.8   -0.6   -0.3  0.00   0.30        Cluster2\n",
       "12  2010    1.5      1.2    0.8    0.4 -0.20  -0.70        Cluster4\n",
       "13  2011   -1.4     -1.2   -0.9   -0.7 -0.60  -0.40        Cluster1\n",
       "14  2012   -0.9     -0.7   -0.6   -0.5 -0.30   0.00        Cluster2\n",
       "15  2013   -0.4     -0.4   -0.3   -0.3 -0.40  -0.40        Cluster2\n",
       "16  2014   -0.4     -0.5   -0.3    0.0  0.20   0.20        Cluster2\n",
       "17  2015    0.5      0.5    0.5    0.7  0.90   1.20        Cluster6\n",
       "18  2016    2.5      2.1    1.6    0.9  0.40  -0.10        Cluster3\n",
       "19  2017   -0.3     -0.2    0.1    0.2  0.30   0.30        Cluster2\n",
       "20  2018   -0.9     -0.9   -0.7   -0.5 -0.20   0.00        Cluster2\n",
       "21  2019    0.7      0.7    0.7    0.7  0.50   0.50        Cluster5\n",
       "22  2020    0.5      0.5    0.4    0.2 -0.10  -0.30        Cluster5\n",
       "23  2021   -1.0     -0.9   -0.8   -0.7 -0.50  -0.40        Cluster1\n",
       "24  2022   -1.0     -0.9   -1.0   -1.1 -1.00  -0.90        Cluster1\n",
       "25  2023   -0.7     -0.4   -0.1    0.2  0.50   0.80        Cluster2\n",
       "26  2024    1.8      1.5    1.1    0.7  0.44   0.05        Cluster3"
      ]
     },
     "execution_count": 137,
     "metadata": {},
     "output_type": "execute_result"
    }
   ],
   "source": [
    "df_pacifico_clusters = df_pacifico.merge(clusters_pacifico, on='Año', how='left')\n",
    "df_pacifico_clusters"
   ]
  },
  {
   "cell_type": "code",
   "execution_count": 138,
   "metadata": {},
   "outputs": [
    {
     "data": {
      "text/html": [
       "<div>\n",
       "<style scoped>\n",
       "    .dataframe tbody tr th:only-of-type {\n",
       "        vertical-align: middle;\n",
       "    }\n",
       "\n",
       "    .dataframe tbody tr th {\n",
       "        vertical-align: top;\n",
       "    }\n",
       "\n",
       "    .dataframe thead th {\n",
       "        text-align: right;\n",
       "    }\n",
       "</style>\n",
       "<table border=\"1\" class=\"dataframe\">\n",
       "  <thead>\n",
       "    <tr style=\"text-align: right;\">\n",
       "      <th></th>\n",
       "      <th>Año</th>\n",
       "      <th>ClusterPacifico</th>\n",
       "      <th>Mes</th>\n",
       "      <th>a_pacifico</th>\n",
       "    </tr>\n",
       "  </thead>\n",
       "  <tbody>\n",
       "    <tr>\n",
       "      <th>0</th>\n",
       "      <td>1998</td>\n",
       "      <td>Cluster3</td>\n",
       "      <td>Enero</td>\n",
       "      <td>2.20</td>\n",
       "    </tr>\n",
       "    <tr>\n",
       "      <th>1</th>\n",
       "      <td>1999</td>\n",
       "      <td>Cluster1</td>\n",
       "      <td>Enero</td>\n",
       "      <td>-1.50</td>\n",
       "    </tr>\n",
       "    <tr>\n",
       "      <th>2</th>\n",
       "      <td>2000</td>\n",
       "      <td>Cluster1</td>\n",
       "      <td>Enero</td>\n",
       "      <td>-1.70</td>\n",
       "    </tr>\n",
       "    <tr>\n",
       "      <th>3</th>\n",
       "      <td>2001</td>\n",
       "      <td>Cluster2</td>\n",
       "      <td>Enero</td>\n",
       "      <td>-0.70</td>\n",
       "    </tr>\n",
       "    <tr>\n",
       "      <th>4</th>\n",
       "      <td>2002</td>\n",
       "      <td>Cluster2</td>\n",
       "      <td>Enero</td>\n",
       "      <td>-0.10</td>\n",
       "    </tr>\n",
       "    <tr>\n",
       "      <th>...</th>\n",
       "      <td>...</td>\n",
       "      <td>...</td>\n",
       "      <td>...</td>\n",
       "      <td>...</td>\n",
       "    </tr>\n",
       "    <tr>\n",
       "      <th>157</th>\n",
       "      <td>2020</td>\n",
       "      <td>Cluster5</td>\n",
       "      <td>Junio</td>\n",
       "      <td>-0.30</td>\n",
       "    </tr>\n",
       "    <tr>\n",
       "      <th>158</th>\n",
       "      <td>2021</td>\n",
       "      <td>Cluster1</td>\n",
       "      <td>Junio</td>\n",
       "      <td>-0.40</td>\n",
       "    </tr>\n",
       "    <tr>\n",
       "      <th>159</th>\n",
       "      <td>2022</td>\n",
       "      <td>Cluster1</td>\n",
       "      <td>Junio</td>\n",
       "      <td>-0.90</td>\n",
       "    </tr>\n",
       "    <tr>\n",
       "      <th>160</th>\n",
       "      <td>2023</td>\n",
       "      <td>Cluster2</td>\n",
       "      <td>Junio</td>\n",
       "      <td>0.80</td>\n",
       "    </tr>\n",
       "    <tr>\n",
       "      <th>161</th>\n",
       "      <td>2024</td>\n",
       "      <td>Cluster3</td>\n",
       "      <td>Junio</td>\n",
       "      <td>0.05</td>\n",
       "    </tr>\n",
       "  </tbody>\n",
       "</table>\n",
       "<p>162 rows × 4 columns</p>\n",
       "</div>"
      ],
      "text/plain": [
       "      Año ClusterPacifico    Mes  a_pacifico\n",
       "0    1998        Cluster3  Enero        2.20\n",
       "1    1999        Cluster1  Enero       -1.50\n",
       "2    2000        Cluster1  Enero       -1.70\n",
       "3    2001        Cluster2  Enero       -0.70\n",
       "4    2002        Cluster2  Enero       -0.10\n",
       "..    ...             ...    ...         ...\n",
       "157  2020        Cluster5  Junio       -0.30\n",
       "158  2021        Cluster1  Junio       -0.40\n",
       "159  2022        Cluster1  Junio       -0.90\n",
       "160  2023        Cluster2  Junio        0.80\n",
       "161  2024        Cluster3  Junio        0.05\n",
       "\n",
       "[162 rows x 4 columns]"
      ]
     },
     "execution_count": 138,
     "metadata": {},
     "output_type": "execute_result"
    }
   ],
   "source": [
    "df_melted = df_pacifico_clusters.melt(id_vars=['Año', 'ClusterPacifico'], \n",
    "                           var_name='Mes', \n",
    "                           value_name='a_pacifico')\n",
    "df_melted"
   ]
  },
  {
   "cell_type": "code",
   "execution_count": 139,
   "metadata": {},
   "outputs": [
    {
     "data": {
      "application/vnd.plotly.v1+json": {
       "config": {
        "plotlyServerURL": "https://plot.ly"
       },
       "data": [
        {
         "hovertemplate": "Cluster=Cluster3<br>Mes=%{x}<br>Anomalia_pacifico=%{y}<extra></extra>",
         "legendgroup": "Cluster3",
         "line": {
          "color": "#636efa",
          "dash": "solid"
         },
         "marker": {
          "symbol": "circle"
         },
         "mode": "lines",
         "name": "Cluster3",
         "orientation": "v",
         "showlegend": true,
         "type": "scatter",
         "x": [
          "Enero",
          "Enero",
          "Enero",
          "Febrero",
          "Febrero",
          "Febrero",
          "Marzo",
          "Marzo",
          "Marzo",
          "Abril",
          "Abril",
          "Abril",
          "Mayo",
          "Mayo",
          "Mayo",
          "Junio",
          "Junio",
          "Junio"
         ],
         "xaxis": "x",
         "y": [
          2.2,
          2.5,
          1.8,
          1.9,
          2.1,
          1.5,
          1.4,
          1.6,
          1.1,
          1,
          0.9,
          0.7,
          0.5,
          0.4,
          0.44,
          -0.1,
          -0.1,
          0.05
         ],
         "yaxis": "y"
        },
        {
         "hovertemplate": "Cluster=Cluster1<br>Mes=%{x}<br>Anomalia_pacifico=%{y}<extra></extra>",
         "legendgroup": "Cluster1",
         "line": {
          "color": "#EF553B",
          "dash": "solid"
         },
         "marker": {
          "symbol": "circle"
         },
         "mode": "lines",
         "name": "Cluster1",
         "orientation": "v",
         "showlegend": true,
         "type": "scatter",
         "x": [
          "Enero",
          "Enero",
          "Enero",
          "Enero",
          "Enero",
          "Enero",
          "Febrero",
          "Febrero",
          "Febrero",
          "Febrero",
          "Febrero",
          "Febrero",
          "Marzo",
          "Marzo",
          "Marzo",
          "Marzo",
          "Marzo",
          "Marzo",
          "Abril",
          "Abril",
          "Abril",
          "Abril",
          "Abril",
          "Abril",
          "Mayo",
          "Mayo",
          "Mayo",
          "Mayo",
          "Mayo",
          "Mayo",
          "Junio",
          "Junio",
          "Junio",
          "Junio",
          "Junio",
          "Junio"
         ],
         "xaxis": "x",
         "y": [
          -1.5,
          -1.7,
          -1.6,
          -1.4,
          -1,
          -1,
          -1.3,
          -1.4,
          -1.5,
          -1.2,
          -0.9,
          -0.9,
          -1.1,
          -1.1,
          -1.3,
          -0.9,
          -0.8,
          -1,
          -1,
          -0.8,
          -1,
          -0.7,
          -0.7,
          -1.1,
          -1,
          -0.7,
          -0.8,
          -0.6,
          -0.5,
          -1,
          -1,
          -0.6,
          -0.6,
          -0.4,
          -0.4,
          -0.9
         ],
         "yaxis": "y"
        },
        {
         "hovertemplate": "Cluster=Cluster2<br>Mes=%{x}<br>Anomalia_pacifico=%{y}<extra></extra>",
         "legendgroup": "Cluster2",
         "line": {
          "color": "#00cc96",
          "dash": "solid"
         },
         "marker": {
          "symbol": "circle"
         },
         "mode": "lines",
         "name": "Cluster2",
         "orientation": "v",
         "showlegend": true,
         "type": "scatter",
         "x": [
          "Enero",
          "Enero",
          "Enero",
          "Enero",
          "Enero",
          "Enero",
          "Enero",
          "Enero",
          "Enero",
          "Enero",
          "Febrero",
          "Febrero",
          "Febrero",
          "Febrero",
          "Febrero",
          "Febrero",
          "Febrero",
          "Febrero",
          "Febrero",
          "Febrero",
          "Marzo",
          "Marzo",
          "Marzo",
          "Marzo",
          "Marzo",
          "Marzo",
          "Marzo",
          "Marzo",
          "Marzo",
          "Marzo",
          "Abril",
          "Abril",
          "Abril",
          "Abril",
          "Abril",
          "Abril",
          "Abril",
          "Abril",
          "Abril",
          "Abril",
          "Mayo",
          "Mayo",
          "Mayo",
          "Mayo",
          "Mayo",
          "Mayo",
          "Mayo",
          "Mayo",
          "Mayo",
          "Mayo",
          "Junio",
          "Junio",
          "Junio",
          "Junio",
          "Junio",
          "Junio",
          "Junio",
          "Junio",
          "Junio",
          "Junio"
         ],
         "xaxis": "x",
         "y": [
          -0.7,
          -0.1,
          -0.9,
          -0.8,
          -0.9,
          -0.4,
          -0.4,
          -0.3,
          -0.9,
          -0.7,
          -0.5,
          0,
          -0.8,
          -0.8,
          -0.7,
          -0.4,
          -0.5,
          -0.2,
          -0.9,
          -0.4,
          -0.4,
          0.1,
          -0.6,
          -0.6,
          -0.6,
          -0.3,
          -0.3,
          0.1,
          -0.7,
          -0.1,
          -0.3,
          0.2,
          -0.4,
          -0.3,
          -0.5,
          -0.3,
          0,
          0.2,
          -0.5,
          0.2,
          -0.3,
          0.4,
          -0.1,
          0,
          -0.3,
          -0.4,
          0.2,
          0.3,
          -0.2,
          0.5,
          -0.1,
          0.7,
          0,
          0.3,
          0,
          -0.4,
          0.2,
          0.3,
          0,
          0.8
         ],
         "yaxis": "y"
        },
        {
         "hovertemplate": "Cluster=Cluster5<br>Mes=%{x}<br>Anomalia_pacifico=%{y}<extra></extra>",
         "legendgroup": "Cluster5",
         "line": {
          "color": "#ab63fa",
          "dash": "solid"
         },
         "marker": {
          "symbol": "circle"
         },
         "mode": "lines",
         "name": "Cluster5",
         "orientation": "v",
         "showlegend": true,
         "type": "scatter",
         "x": [
          "Enero",
          "Enero",
          "Enero",
          "Enero",
          "Enero",
          "Enero",
          "Febrero",
          "Febrero",
          "Febrero",
          "Febrero",
          "Febrero",
          "Febrero",
          "Marzo",
          "Marzo",
          "Marzo",
          "Marzo",
          "Marzo",
          "Marzo",
          "Abril",
          "Abril",
          "Abril",
          "Abril",
          "Abril",
          "Abril",
          "Mayo",
          "Mayo",
          "Mayo",
          "Mayo",
          "Mayo",
          "Mayo",
          "Junio",
          "Junio",
          "Junio",
          "Junio",
          "Junio",
          "Junio"
         ],
         "xaxis": "x",
         "y": [
          0.9,
          0.4,
          0.6,
          0.7,
          0.7,
          0.5,
          0.6,
          0.3,
          0.6,
          0.2,
          0.7,
          0.5,
          0.4,
          0.2,
          0.4,
          -0.1,
          0.7,
          0.4,
          0,
          0.2,
          0.4,
          -0.3,
          0.7,
          0.2,
          -0.3,
          0.2,
          0.3,
          -0.4,
          0.5,
          -0.1,
          -0.2,
          0.3,
          0.1,
          -0.5,
          0.5,
          -0.3
         ],
         "yaxis": "y"
        },
        {
         "hovertemplate": "Cluster=Cluster4<br>Mes=%{x}<br>Anomalia_pacifico=%{y}<extra></extra>",
         "legendgroup": "Cluster4",
         "line": {
          "color": "#FFA15A",
          "dash": "solid"
         },
         "marker": {
          "symbol": "circle"
         },
         "mode": "lines",
         "name": "Cluster4",
         "orientation": "v",
         "showlegend": true,
         "type": "scatter",
         "x": [
          "Enero",
          "Febrero",
          "Marzo",
          "Abril",
          "Mayo",
          "Junio"
         ],
         "xaxis": "x",
         "y": [
          1.5,
          1.2,
          0.8,
          0.4,
          -0.2,
          -0.7
         ],
         "yaxis": "y"
        },
        {
         "hovertemplate": "Cluster=Cluster6<br>Mes=%{x}<br>Anomalia_pacifico=%{y}<extra></extra>",
         "legendgroup": "Cluster6",
         "line": {
          "color": "#19d3f3",
          "dash": "solid"
         },
         "marker": {
          "symbol": "circle"
         },
         "mode": "lines",
         "name": "Cluster6",
         "orientation": "v",
         "showlegend": true,
         "type": "scatter",
         "x": [
          "Enero",
          "Febrero",
          "Marzo",
          "Abril",
          "Mayo",
          "Junio"
         ],
         "xaxis": "x",
         "y": [
          0.5,
          0.5,
          0.5,
          0.7,
          0.9,
          1.2
         ],
         "yaxis": "y"
        }
       ],
       "layout": {
        "legend": {
         "title": {
          "text": "Cluster"
         },
         "tracegroupgap": 0
        },
        "template": {
         "data": {
          "bar": [
           {
            "error_x": {
             "color": "#2a3f5f"
            },
            "error_y": {
             "color": "#2a3f5f"
            },
            "marker": {
             "line": {
              "color": "#E5ECF6",
              "width": 0.5
             },
             "pattern": {
              "fillmode": "overlay",
              "size": 10,
              "solidity": 0.2
             }
            },
            "type": "bar"
           }
          ],
          "barpolar": [
           {
            "marker": {
             "line": {
              "color": "#E5ECF6",
              "width": 0.5
             },
             "pattern": {
              "fillmode": "overlay",
              "size": 10,
              "solidity": 0.2
             }
            },
            "type": "barpolar"
           }
          ],
          "carpet": [
           {
            "aaxis": {
             "endlinecolor": "#2a3f5f",
             "gridcolor": "white",
             "linecolor": "white",
             "minorgridcolor": "white",
             "startlinecolor": "#2a3f5f"
            },
            "baxis": {
             "endlinecolor": "#2a3f5f",
             "gridcolor": "white",
             "linecolor": "white",
             "minorgridcolor": "white",
             "startlinecolor": "#2a3f5f"
            },
            "type": "carpet"
           }
          ],
          "choropleth": [
           {
            "colorbar": {
             "outlinewidth": 0,
             "ticks": ""
            },
            "type": "choropleth"
           }
          ],
          "contour": [
           {
            "colorbar": {
             "outlinewidth": 0,
             "ticks": ""
            },
            "colorscale": [
             [
              0,
              "#0d0887"
             ],
             [
              0.1111111111111111,
              "#46039f"
             ],
             [
              0.2222222222222222,
              "#7201a8"
             ],
             [
              0.3333333333333333,
              "#9c179e"
             ],
             [
              0.4444444444444444,
              "#bd3786"
             ],
             [
              0.5555555555555556,
              "#d8576b"
             ],
             [
              0.6666666666666666,
              "#ed7953"
             ],
             [
              0.7777777777777778,
              "#fb9f3a"
             ],
             [
              0.8888888888888888,
              "#fdca26"
             ],
             [
              1,
              "#f0f921"
             ]
            ],
            "type": "contour"
           }
          ],
          "contourcarpet": [
           {
            "colorbar": {
             "outlinewidth": 0,
             "ticks": ""
            },
            "type": "contourcarpet"
           }
          ],
          "heatmap": [
           {
            "colorbar": {
             "outlinewidth": 0,
             "ticks": ""
            },
            "colorscale": [
             [
              0,
              "#0d0887"
             ],
             [
              0.1111111111111111,
              "#46039f"
             ],
             [
              0.2222222222222222,
              "#7201a8"
             ],
             [
              0.3333333333333333,
              "#9c179e"
             ],
             [
              0.4444444444444444,
              "#bd3786"
             ],
             [
              0.5555555555555556,
              "#d8576b"
             ],
             [
              0.6666666666666666,
              "#ed7953"
             ],
             [
              0.7777777777777778,
              "#fb9f3a"
             ],
             [
              0.8888888888888888,
              "#fdca26"
             ],
             [
              1,
              "#f0f921"
             ]
            ],
            "type": "heatmap"
           }
          ],
          "heatmapgl": [
           {
            "colorbar": {
             "outlinewidth": 0,
             "ticks": ""
            },
            "colorscale": [
             [
              0,
              "#0d0887"
             ],
             [
              0.1111111111111111,
              "#46039f"
             ],
             [
              0.2222222222222222,
              "#7201a8"
             ],
             [
              0.3333333333333333,
              "#9c179e"
             ],
             [
              0.4444444444444444,
              "#bd3786"
             ],
             [
              0.5555555555555556,
              "#d8576b"
             ],
             [
              0.6666666666666666,
              "#ed7953"
             ],
             [
              0.7777777777777778,
              "#fb9f3a"
             ],
             [
              0.8888888888888888,
              "#fdca26"
             ],
             [
              1,
              "#f0f921"
             ]
            ],
            "type": "heatmapgl"
           }
          ],
          "histogram": [
           {
            "marker": {
             "pattern": {
              "fillmode": "overlay",
              "size": 10,
              "solidity": 0.2
             }
            },
            "type": "histogram"
           }
          ],
          "histogram2d": [
           {
            "colorbar": {
             "outlinewidth": 0,
             "ticks": ""
            },
            "colorscale": [
             [
              0,
              "#0d0887"
             ],
             [
              0.1111111111111111,
              "#46039f"
             ],
             [
              0.2222222222222222,
              "#7201a8"
             ],
             [
              0.3333333333333333,
              "#9c179e"
             ],
             [
              0.4444444444444444,
              "#bd3786"
             ],
             [
              0.5555555555555556,
              "#d8576b"
             ],
             [
              0.6666666666666666,
              "#ed7953"
             ],
             [
              0.7777777777777778,
              "#fb9f3a"
             ],
             [
              0.8888888888888888,
              "#fdca26"
             ],
             [
              1,
              "#f0f921"
             ]
            ],
            "type": "histogram2d"
           }
          ],
          "histogram2dcontour": [
           {
            "colorbar": {
             "outlinewidth": 0,
             "ticks": ""
            },
            "colorscale": [
             [
              0,
              "#0d0887"
             ],
             [
              0.1111111111111111,
              "#46039f"
             ],
             [
              0.2222222222222222,
              "#7201a8"
             ],
             [
              0.3333333333333333,
              "#9c179e"
             ],
             [
              0.4444444444444444,
              "#bd3786"
             ],
             [
              0.5555555555555556,
              "#d8576b"
             ],
             [
              0.6666666666666666,
              "#ed7953"
             ],
             [
              0.7777777777777778,
              "#fb9f3a"
             ],
             [
              0.8888888888888888,
              "#fdca26"
             ],
             [
              1,
              "#f0f921"
             ]
            ],
            "type": "histogram2dcontour"
           }
          ],
          "mesh3d": [
           {
            "colorbar": {
             "outlinewidth": 0,
             "ticks": ""
            },
            "type": "mesh3d"
           }
          ],
          "parcoords": [
           {
            "line": {
             "colorbar": {
              "outlinewidth": 0,
              "ticks": ""
             }
            },
            "type": "parcoords"
           }
          ],
          "pie": [
           {
            "automargin": true,
            "type": "pie"
           }
          ],
          "scatter": [
           {
            "fillpattern": {
             "fillmode": "overlay",
             "size": 10,
             "solidity": 0.2
            },
            "type": "scatter"
           }
          ],
          "scatter3d": [
           {
            "line": {
             "colorbar": {
              "outlinewidth": 0,
              "ticks": ""
             }
            },
            "marker": {
             "colorbar": {
              "outlinewidth": 0,
              "ticks": ""
             }
            },
            "type": "scatter3d"
           }
          ],
          "scattercarpet": [
           {
            "marker": {
             "colorbar": {
              "outlinewidth": 0,
              "ticks": ""
             }
            },
            "type": "scattercarpet"
           }
          ],
          "scattergeo": [
           {
            "marker": {
             "colorbar": {
              "outlinewidth": 0,
              "ticks": ""
             }
            },
            "type": "scattergeo"
           }
          ],
          "scattergl": [
           {
            "marker": {
             "colorbar": {
              "outlinewidth": 0,
              "ticks": ""
             }
            },
            "type": "scattergl"
           }
          ],
          "scattermapbox": [
           {
            "marker": {
             "colorbar": {
              "outlinewidth": 0,
              "ticks": ""
             }
            },
            "type": "scattermapbox"
           }
          ],
          "scatterpolar": [
           {
            "marker": {
             "colorbar": {
              "outlinewidth": 0,
              "ticks": ""
             }
            },
            "type": "scatterpolar"
           }
          ],
          "scatterpolargl": [
           {
            "marker": {
             "colorbar": {
              "outlinewidth": 0,
              "ticks": ""
             }
            },
            "type": "scatterpolargl"
           }
          ],
          "scatterternary": [
           {
            "marker": {
             "colorbar": {
              "outlinewidth": 0,
              "ticks": ""
             }
            },
            "type": "scatterternary"
           }
          ],
          "surface": [
           {
            "colorbar": {
             "outlinewidth": 0,
             "ticks": ""
            },
            "colorscale": [
             [
              0,
              "#0d0887"
             ],
             [
              0.1111111111111111,
              "#46039f"
             ],
             [
              0.2222222222222222,
              "#7201a8"
             ],
             [
              0.3333333333333333,
              "#9c179e"
             ],
             [
              0.4444444444444444,
              "#bd3786"
             ],
             [
              0.5555555555555556,
              "#d8576b"
             ],
             [
              0.6666666666666666,
              "#ed7953"
             ],
             [
              0.7777777777777778,
              "#fb9f3a"
             ],
             [
              0.8888888888888888,
              "#fdca26"
             ],
             [
              1,
              "#f0f921"
             ]
            ],
            "type": "surface"
           }
          ],
          "table": [
           {
            "cells": {
             "fill": {
              "color": "#EBF0F8"
             },
             "line": {
              "color": "white"
             }
            },
            "header": {
             "fill": {
              "color": "#C8D4E3"
             },
             "line": {
              "color": "white"
             }
            },
            "type": "table"
           }
          ]
         },
         "layout": {
          "annotationdefaults": {
           "arrowcolor": "#2a3f5f",
           "arrowhead": 0,
           "arrowwidth": 1
          },
          "autotypenumbers": "strict",
          "coloraxis": {
           "colorbar": {
            "outlinewidth": 0,
            "ticks": ""
           }
          },
          "colorscale": {
           "diverging": [
            [
             0,
             "#8e0152"
            ],
            [
             0.1,
             "#c51b7d"
            ],
            [
             0.2,
             "#de77ae"
            ],
            [
             0.3,
             "#f1b6da"
            ],
            [
             0.4,
             "#fde0ef"
            ],
            [
             0.5,
             "#f7f7f7"
            ],
            [
             0.6,
             "#e6f5d0"
            ],
            [
             0.7,
             "#b8e186"
            ],
            [
             0.8,
             "#7fbc41"
            ],
            [
             0.9,
             "#4d9221"
            ],
            [
             1,
             "#276419"
            ]
           ],
           "sequential": [
            [
             0,
             "#0d0887"
            ],
            [
             0.1111111111111111,
             "#46039f"
            ],
            [
             0.2222222222222222,
             "#7201a8"
            ],
            [
             0.3333333333333333,
             "#9c179e"
            ],
            [
             0.4444444444444444,
             "#bd3786"
            ],
            [
             0.5555555555555556,
             "#d8576b"
            ],
            [
             0.6666666666666666,
             "#ed7953"
            ],
            [
             0.7777777777777778,
             "#fb9f3a"
            ],
            [
             0.8888888888888888,
             "#fdca26"
            ],
            [
             1,
             "#f0f921"
            ]
           ],
           "sequentialminus": [
            [
             0,
             "#0d0887"
            ],
            [
             0.1111111111111111,
             "#46039f"
            ],
            [
             0.2222222222222222,
             "#7201a8"
            ],
            [
             0.3333333333333333,
             "#9c179e"
            ],
            [
             0.4444444444444444,
             "#bd3786"
            ],
            [
             0.5555555555555556,
             "#d8576b"
            ],
            [
             0.6666666666666666,
             "#ed7953"
            ],
            [
             0.7777777777777778,
             "#fb9f3a"
            ],
            [
             0.8888888888888888,
             "#fdca26"
            ],
            [
             1,
             "#f0f921"
            ]
           ]
          },
          "colorway": [
           "#636efa",
           "#EF553B",
           "#00cc96",
           "#ab63fa",
           "#FFA15A",
           "#19d3f3",
           "#FF6692",
           "#B6E880",
           "#FF97FF",
           "#FECB52"
          ],
          "font": {
           "color": "#2a3f5f"
          },
          "geo": {
           "bgcolor": "white",
           "lakecolor": "white",
           "landcolor": "#E5ECF6",
           "showlakes": true,
           "showland": true,
           "subunitcolor": "white"
          },
          "hoverlabel": {
           "align": "left"
          },
          "hovermode": "closest",
          "mapbox": {
           "style": "light"
          },
          "paper_bgcolor": "white",
          "plot_bgcolor": "#E5ECF6",
          "polar": {
           "angularaxis": {
            "gridcolor": "white",
            "linecolor": "white",
            "ticks": ""
           },
           "bgcolor": "#E5ECF6",
           "radialaxis": {
            "gridcolor": "white",
            "linecolor": "white",
            "ticks": ""
           }
          },
          "scene": {
           "xaxis": {
            "backgroundcolor": "#E5ECF6",
            "gridcolor": "white",
            "gridwidth": 2,
            "linecolor": "white",
            "showbackground": true,
            "ticks": "",
            "zerolinecolor": "white"
           },
           "yaxis": {
            "backgroundcolor": "#E5ECF6",
            "gridcolor": "white",
            "gridwidth": 2,
            "linecolor": "white",
            "showbackground": true,
            "ticks": "",
            "zerolinecolor": "white"
           },
           "zaxis": {
            "backgroundcolor": "#E5ECF6",
            "gridcolor": "white",
            "gridwidth": 2,
            "linecolor": "white",
            "showbackground": true,
            "ticks": "",
            "zerolinecolor": "white"
           }
          },
          "shapedefaults": {
           "line": {
            "color": "#2a3f5f"
           }
          },
          "ternary": {
           "aaxis": {
            "gridcolor": "white",
            "linecolor": "white",
            "ticks": ""
           },
           "baxis": {
            "gridcolor": "white",
            "linecolor": "white",
            "ticks": ""
           },
           "bgcolor": "#E5ECF6",
           "caxis": {
            "gridcolor": "white",
            "linecolor": "white",
            "ticks": ""
           }
          },
          "title": {
           "x": 0.05
          },
          "xaxis": {
           "automargin": true,
           "gridcolor": "white",
           "linecolor": "white",
           "ticks": "",
           "title": {
            "standoff": 15
           },
           "zerolinecolor": "white",
           "zerolinewidth": 2
          },
          "yaxis": {
           "automargin": true,
           "gridcolor": "white",
           "linecolor": "white",
           "ticks": "",
           "title": {
            "standoff": 15
           },
           "zerolinecolor": "white",
           "zerolinewidth": 2
          }
         }
        },
        "title": {
         "text": "Comportamiento de anomlias pacifico por Cluster"
        },
        "xaxis": {
         "anchor": "y",
         "domain": [
          0,
          1
         ],
         "title": {
          "text": "Mes"
         }
        },
        "yaxis": {
         "anchor": "x",
         "domain": [
          0,
          1
         ],
         "title": {
          "text": "Anomalia_pacifico"
         }
        }
       }
      }
     },
     "metadata": {},
     "output_type": "display_data"
    }
   ],
   "source": [
    "meses_orden = [\"Enero\", \"Febrero\", \"Marzo\", \"Abril\", \"Mayo\", \"Junio\"]\n",
    "df_melted['Mes'] = pd.Categorical(df_melted['Mes'], categories=meses_orden, ordered=True)\n",
    "\n",
    "# Graficar la serie de tiempo\n",
    "fig = px.line(df_melted, x='Mes', y='a_pacifico', color='ClusterPacifico', \n",
    "              labels={'Mes': 'Mes', 'a_pacifico': 'Anomalia_pacifico', 'a_pacifico': 'Cluster'},\n",
    "              title='Comportamiento de anomlias pacifico por Cluster')\n",
    "\n",
    "fig.show()"
   ]
  },
  {
   "cell_type": "code",
   "execution_count": 141,
   "metadata": {},
   "outputs": [
    {
     "data": {
      "application/vnd.plotly.v1+json": {
       "config": {
        "plotlyServerURL": "https://plot.ly"
       },
       "data": [
        {
         "alignmentgroup": "True",
         "hovertemplate": "Cluster=Cluster3<br>Mes=%{x}<br>anomalia pacifico=%{y}<extra></extra>",
         "legendgroup": "Cluster3",
         "marker": {
          "color": "#636efa"
         },
         "name": "Cluster3",
         "notched": false,
         "offsetgroup": "Cluster3",
         "orientation": "v",
         "showlegend": true,
         "type": "box",
         "x": [
          "Enero",
          "Enero",
          "Enero",
          "Febrero",
          "Febrero",
          "Febrero",
          "Marzo",
          "Marzo",
          "Marzo",
          "Abril",
          "Abril",
          "Abril",
          "Mayo",
          "Mayo",
          "Mayo",
          "Junio",
          "Junio",
          "Junio"
         ],
         "x0": " ",
         "xaxis": "x",
         "y": [
          2.2,
          2.5,
          1.8,
          1.9,
          2.1,
          1.5,
          1.4,
          1.6,
          1.1,
          1,
          0.9,
          0.7,
          0.5,
          0.4,
          0.44,
          -0.1,
          -0.1,
          0.05
         ],
         "y0": " ",
         "yaxis": "y"
        },
        {
         "alignmentgroup": "True",
         "hovertemplate": "Cluster=Cluster1<br>Mes=%{x}<br>anomalia pacifico=%{y}<extra></extra>",
         "legendgroup": "Cluster1",
         "marker": {
          "color": "#EF553B"
         },
         "name": "Cluster1",
         "notched": false,
         "offsetgroup": "Cluster1",
         "orientation": "v",
         "showlegend": true,
         "type": "box",
         "x": [
          "Enero",
          "Enero",
          "Enero",
          "Enero",
          "Enero",
          "Enero",
          "Febrero",
          "Febrero",
          "Febrero",
          "Febrero",
          "Febrero",
          "Febrero",
          "Marzo",
          "Marzo",
          "Marzo",
          "Marzo",
          "Marzo",
          "Marzo",
          "Abril",
          "Abril",
          "Abril",
          "Abril",
          "Abril",
          "Abril",
          "Mayo",
          "Mayo",
          "Mayo",
          "Mayo",
          "Mayo",
          "Mayo",
          "Junio",
          "Junio",
          "Junio",
          "Junio",
          "Junio",
          "Junio"
         ],
         "x0": " ",
         "xaxis": "x",
         "y": [
          -1.5,
          -1.7,
          -1.6,
          -1.4,
          -1,
          -1,
          -1.3,
          -1.4,
          -1.5,
          -1.2,
          -0.9,
          -0.9,
          -1.1,
          -1.1,
          -1.3,
          -0.9,
          -0.8,
          -1,
          -1,
          -0.8,
          -1,
          -0.7,
          -0.7,
          -1.1,
          -1,
          -0.7,
          -0.8,
          -0.6,
          -0.5,
          -1,
          -1,
          -0.6,
          -0.6,
          -0.4,
          -0.4,
          -0.9
         ],
         "y0": " ",
         "yaxis": "y"
        },
        {
         "alignmentgroup": "True",
         "hovertemplate": "Cluster=Cluster2<br>Mes=%{x}<br>anomalia pacifico=%{y}<extra></extra>",
         "legendgroup": "Cluster2",
         "marker": {
          "color": "#00cc96"
         },
         "name": "Cluster2",
         "notched": false,
         "offsetgroup": "Cluster2",
         "orientation": "v",
         "showlegend": true,
         "type": "box",
         "x": [
          "Enero",
          "Enero",
          "Enero",
          "Enero",
          "Enero",
          "Enero",
          "Enero",
          "Enero",
          "Enero",
          "Enero",
          "Febrero",
          "Febrero",
          "Febrero",
          "Febrero",
          "Febrero",
          "Febrero",
          "Febrero",
          "Febrero",
          "Febrero",
          "Febrero",
          "Marzo",
          "Marzo",
          "Marzo",
          "Marzo",
          "Marzo",
          "Marzo",
          "Marzo",
          "Marzo",
          "Marzo",
          "Marzo",
          "Abril",
          "Abril",
          "Abril",
          "Abril",
          "Abril",
          "Abril",
          "Abril",
          "Abril",
          "Abril",
          "Abril",
          "Mayo",
          "Mayo",
          "Mayo",
          "Mayo",
          "Mayo",
          "Mayo",
          "Mayo",
          "Mayo",
          "Mayo",
          "Mayo",
          "Junio",
          "Junio",
          "Junio",
          "Junio",
          "Junio",
          "Junio",
          "Junio",
          "Junio",
          "Junio",
          "Junio"
         ],
         "x0": " ",
         "xaxis": "x",
         "y": [
          -0.7,
          -0.1,
          -0.9,
          -0.8,
          -0.9,
          -0.4,
          -0.4,
          -0.3,
          -0.9,
          -0.7,
          -0.5,
          0,
          -0.8,
          -0.8,
          -0.7,
          -0.4,
          -0.5,
          -0.2,
          -0.9,
          -0.4,
          -0.4,
          0.1,
          -0.6,
          -0.6,
          -0.6,
          -0.3,
          -0.3,
          0.1,
          -0.7,
          -0.1,
          -0.3,
          0.2,
          -0.4,
          -0.3,
          -0.5,
          -0.3,
          0,
          0.2,
          -0.5,
          0.2,
          -0.3,
          0.4,
          -0.1,
          0,
          -0.3,
          -0.4,
          0.2,
          0.3,
          -0.2,
          0.5,
          -0.1,
          0.7,
          0,
          0.3,
          0,
          -0.4,
          0.2,
          0.3,
          0,
          0.8
         ],
         "y0": " ",
         "yaxis": "y"
        },
        {
         "alignmentgroup": "True",
         "hovertemplate": "Cluster=Cluster5<br>Mes=%{x}<br>anomalia pacifico=%{y}<extra></extra>",
         "legendgroup": "Cluster5",
         "marker": {
          "color": "#ab63fa"
         },
         "name": "Cluster5",
         "notched": false,
         "offsetgroup": "Cluster5",
         "orientation": "v",
         "showlegend": true,
         "type": "box",
         "x": [
          "Enero",
          "Enero",
          "Enero",
          "Enero",
          "Enero",
          "Enero",
          "Febrero",
          "Febrero",
          "Febrero",
          "Febrero",
          "Febrero",
          "Febrero",
          "Marzo",
          "Marzo",
          "Marzo",
          "Marzo",
          "Marzo",
          "Marzo",
          "Abril",
          "Abril",
          "Abril",
          "Abril",
          "Abril",
          "Abril",
          "Mayo",
          "Mayo",
          "Mayo",
          "Mayo",
          "Mayo",
          "Mayo",
          "Junio",
          "Junio",
          "Junio",
          "Junio",
          "Junio",
          "Junio"
         ],
         "x0": " ",
         "xaxis": "x",
         "y": [
          0.9,
          0.4,
          0.6,
          0.7,
          0.7,
          0.5,
          0.6,
          0.3,
          0.6,
          0.2,
          0.7,
          0.5,
          0.4,
          0.2,
          0.4,
          -0.1,
          0.7,
          0.4,
          0,
          0.2,
          0.4,
          -0.3,
          0.7,
          0.2,
          -0.3,
          0.2,
          0.3,
          -0.4,
          0.5,
          -0.1,
          -0.2,
          0.3,
          0.1,
          -0.5,
          0.5,
          -0.3
         ],
         "y0": " ",
         "yaxis": "y"
        },
        {
         "alignmentgroup": "True",
         "hovertemplate": "Cluster=Cluster4<br>Mes=%{x}<br>anomalia pacifico=%{y}<extra></extra>",
         "legendgroup": "Cluster4",
         "marker": {
          "color": "#FFA15A"
         },
         "name": "Cluster4",
         "notched": false,
         "offsetgroup": "Cluster4",
         "orientation": "v",
         "showlegend": true,
         "type": "box",
         "x": [
          "Enero",
          "Febrero",
          "Marzo",
          "Abril",
          "Mayo",
          "Junio"
         ],
         "x0": " ",
         "xaxis": "x",
         "y": [
          1.5,
          1.2,
          0.8,
          0.4,
          -0.2,
          -0.7
         ],
         "y0": " ",
         "yaxis": "y"
        },
        {
         "alignmentgroup": "True",
         "hovertemplate": "Cluster=Cluster6<br>Mes=%{x}<br>anomalia pacifico=%{y}<extra></extra>",
         "legendgroup": "Cluster6",
         "marker": {
          "color": "#19d3f3"
         },
         "name": "Cluster6",
         "notched": false,
         "offsetgroup": "Cluster6",
         "orientation": "v",
         "showlegend": true,
         "type": "box",
         "x": [
          "Enero",
          "Febrero",
          "Marzo",
          "Abril",
          "Mayo",
          "Junio"
         ],
         "x0": " ",
         "xaxis": "x",
         "y": [
          0.5,
          0.5,
          0.5,
          0.7,
          0.9,
          1.2
         ],
         "y0": " ",
         "yaxis": "y"
        }
       ],
       "layout": {
        "boxmode": "group",
        "legend": {
         "title": {
          "text": "Cluster"
         },
         "tracegroupgap": 0
        },
        "template": {
         "data": {
          "bar": [
           {
            "error_x": {
             "color": "#2a3f5f"
            },
            "error_y": {
             "color": "#2a3f5f"
            },
            "marker": {
             "line": {
              "color": "#E5ECF6",
              "width": 0.5
             },
             "pattern": {
              "fillmode": "overlay",
              "size": 10,
              "solidity": 0.2
             }
            },
            "type": "bar"
           }
          ],
          "barpolar": [
           {
            "marker": {
             "line": {
              "color": "#E5ECF6",
              "width": 0.5
             },
             "pattern": {
              "fillmode": "overlay",
              "size": 10,
              "solidity": 0.2
             }
            },
            "type": "barpolar"
           }
          ],
          "carpet": [
           {
            "aaxis": {
             "endlinecolor": "#2a3f5f",
             "gridcolor": "white",
             "linecolor": "white",
             "minorgridcolor": "white",
             "startlinecolor": "#2a3f5f"
            },
            "baxis": {
             "endlinecolor": "#2a3f5f",
             "gridcolor": "white",
             "linecolor": "white",
             "minorgridcolor": "white",
             "startlinecolor": "#2a3f5f"
            },
            "type": "carpet"
           }
          ],
          "choropleth": [
           {
            "colorbar": {
             "outlinewidth": 0,
             "ticks": ""
            },
            "type": "choropleth"
           }
          ],
          "contour": [
           {
            "colorbar": {
             "outlinewidth": 0,
             "ticks": ""
            },
            "colorscale": [
             [
              0,
              "#0d0887"
             ],
             [
              0.1111111111111111,
              "#46039f"
             ],
             [
              0.2222222222222222,
              "#7201a8"
             ],
             [
              0.3333333333333333,
              "#9c179e"
             ],
             [
              0.4444444444444444,
              "#bd3786"
             ],
             [
              0.5555555555555556,
              "#d8576b"
             ],
             [
              0.6666666666666666,
              "#ed7953"
             ],
             [
              0.7777777777777778,
              "#fb9f3a"
             ],
             [
              0.8888888888888888,
              "#fdca26"
             ],
             [
              1,
              "#f0f921"
             ]
            ],
            "type": "contour"
           }
          ],
          "contourcarpet": [
           {
            "colorbar": {
             "outlinewidth": 0,
             "ticks": ""
            },
            "type": "contourcarpet"
           }
          ],
          "heatmap": [
           {
            "colorbar": {
             "outlinewidth": 0,
             "ticks": ""
            },
            "colorscale": [
             [
              0,
              "#0d0887"
             ],
             [
              0.1111111111111111,
              "#46039f"
             ],
             [
              0.2222222222222222,
              "#7201a8"
             ],
             [
              0.3333333333333333,
              "#9c179e"
             ],
             [
              0.4444444444444444,
              "#bd3786"
             ],
             [
              0.5555555555555556,
              "#d8576b"
             ],
             [
              0.6666666666666666,
              "#ed7953"
             ],
             [
              0.7777777777777778,
              "#fb9f3a"
             ],
             [
              0.8888888888888888,
              "#fdca26"
             ],
             [
              1,
              "#f0f921"
             ]
            ],
            "type": "heatmap"
           }
          ],
          "heatmapgl": [
           {
            "colorbar": {
             "outlinewidth": 0,
             "ticks": ""
            },
            "colorscale": [
             [
              0,
              "#0d0887"
             ],
             [
              0.1111111111111111,
              "#46039f"
             ],
             [
              0.2222222222222222,
              "#7201a8"
             ],
             [
              0.3333333333333333,
              "#9c179e"
             ],
             [
              0.4444444444444444,
              "#bd3786"
             ],
             [
              0.5555555555555556,
              "#d8576b"
             ],
             [
              0.6666666666666666,
              "#ed7953"
             ],
             [
              0.7777777777777778,
              "#fb9f3a"
             ],
             [
              0.8888888888888888,
              "#fdca26"
             ],
             [
              1,
              "#f0f921"
             ]
            ],
            "type": "heatmapgl"
           }
          ],
          "histogram": [
           {
            "marker": {
             "pattern": {
              "fillmode": "overlay",
              "size": 10,
              "solidity": 0.2
             }
            },
            "type": "histogram"
           }
          ],
          "histogram2d": [
           {
            "colorbar": {
             "outlinewidth": 0,
             "ticks": ""
            },
            "colorscale": [
             [
              0,
              "#0d0887"
             ],
             [
              0.1111111111111111,
              "#46039f"
             ],
             [
              0.2222222222222222,
              "#7201a8"
             ],
             [
              0.3333333333333333,
              "#9c179e"
             ],
             [
              0.4444444444444444,
              "#bd3786"
             ],
             [
              0.5555555555555556,
              "#d8576b"
             ],
             [
              0.6666666666666666,
              "#ed7953"
             ],
             [
              0.7777777777777778,
              "#fb9f3a"
             ],
             [
              0.8888888888888888,
              "#fdca26"
             ],
             [
              1,
              "#f0f921"
             ]
            ],
            "type": "histogram2d"
           }
          ],
          "histogram2dcontour": [
           {
            "colorbar": {
             "outlinewidth": 0,
             "ticks": ""
            },
            "colorscale": [
             [
              0,
              "#0d0887"
             ],
             [
              0.1111111111111111,
              "#46039f"
             ],
             [
              0.2222222222222222,
              "#7201a8"
             ],
             [
              0.3333333333333333,
              "#9c179e"
             ],
             [
              0.4444444444444444,
              "#bd3786"
             ],
             [
              0.5555555555555556,
              "#d8576b"
             ],
             [
              0.6666666666666666,
              "#ed7953"
             ],
             [
              0.7777777777777778,
              "#fb9f3a"
             ],
             [
              0.8888888888888888,
              "#fdca26"
             ],
             [
              1,
              "#f0f921"
             ]
            ],
            "type": "histogram2dcontour"
           }
          ],
          "mesh3d": [
           {
            "colorbar": {
             "outlinewidth": 0,
             "ticks": ""
            },
            "type": "mesh3d"
           }
          ],
          "parcoords": [
           {
            "line": {
             "colorbar": {
              "outlinewidth": 0,
              "ticks": ""
             }
            },
            "type": "parcoords"
           }
          ],
          "pie": [
           {
            "automargin": true,
            "type": "pie"
           }
          ],
          "scatter": [
           {
            "fillpattern": {
             "fillmode": "overlay",
             "size": 10,
             "solidity": 0.2
            },
            "type": "scatter"
           }
          ],
          "scatter3d": [
           {
            "line": {
             "colorbar": {
              "outlinewidth": 0,
              "ticks": ""
             }
            },
            "marker": {
             "colorbar": {
              "outlinewidth": 0,
              "ticks": ""
             }
            },
            "type": "scatter3d"
           }
          ],
          "scattercarpet": [
           {
            "marker": {
             "colorbar": {
              "outlinewidth": 0,
              "ticks": ""
             }
            },
            "type": "scattercarpet"
           }
          ],
          "scattergeo": [
           {
            "marker": {
             "colorbar": {
              "outlinewidth": 0,
              "ticks": ""
             }
            },
            "type": "scattergeo"
           }
          ],
          "scattergl": [
           {
            "marker": {
             "colorbar": {
              "outlinewidth": 0,
              "ticks": ""
             }
            },
            "type": "scattergl"
           }
          ],
          "scattermapbox": [
           {
            "marker": {
             "colorbar": {
              "outlinewidth": 0,
              "ticks": ""
             }
            },
            "type": "scattermapbox"
           }
          ],
          "scatterpolar": [
           {
            "marker": {
             "colorbar": {
              "outlinewidth": 0,
              "ticks": ""
             }
            },
            "type": "scatterpolar"
           }
          ],
          "scatterpolargl": [
           {
            "marker": {
             "colorbar": {
              "outlinewidth": 0,
              "ticks": ""
             }
            },
            "type": "scatterpolargl"
           }
          ],
          "scatterternary": [
           {
            "marker": {
             "colorbar": {
              "outlinewidth": 0,
              "ticks": ""
             }
            },
            "type": "scatterternary"
           }
          ],
          "surface": [
           {
            "colorbar": {
             "outlinewidth": 0,
             "ticks": ""
            },
            "colorscale": [
             [
              0,
              "#0d0887"
             ],
             [
              0.1111111111111111,
              "#46039f"
             ],
             [
              0.2222222222222222,
              "#7201a8"
             ],
             [
              0.3333333333333333,
              "#9c179e"
             ],
             [
              0.4444444444444444,
              "#bd3786"
             ],
             [
              0.5555555555555556,
              "#d8576b"
             ],
             [
              0.6666666666666666,
              "#ed7953"
             ],
             [
              0.7777777777777778,
              "#fb9f3a"
             ],
             [
              0.8888888888888888,
              "#fdca26"
             ],
             [
              1,
              "#f0f921"
             ]
            ],
            "type": "surface"
           }
          ],
          "table": [
           {
            "cells": {
             "fill": {
              "color": "#EBF0F8"
             },
             "line": {
              "color": "white"
             }
            },
            "header": {
             "fill": {
              "color": "#C8D4E3"
             },
             "line": {
              "color": "white"
             }
            },
            "type": "table"
           }
          ]
         },
         "layout": {
          "annotationdefaults": {
           "arrowcolor": "#2a3f5f",
           "arrowhead": 0,
           "arrowwidth": 1
          },
          "autotypenumbers": "strict",
          "coloraxis": {
           "colorbar": {
            "outlinewidth": 0,
            "ticks": ""
           }
          },
          "colorscale": {
           "diverging": [
            [
             0,
             "#8e0152"
            ],
            [
             0.1,
             "#c51b7d"
            ],
            [
             0.2,
             "#de77ae"
            ],
            [
             0.3,
             "#f1b6da"
            ],
            [
             0.4,
             "#fde0ef"
            ],
            [
             0.5,
             "#f7f7f7"
            ],
            [
             0.6,
             "#e6f5d0"
            ],
            [
             0.7,
             "#b8e186"
            ],
            [
             0.8,
             "#7fbc41"
            ],
            [
             0.9,
             "#4d9221"
            ],
            [
             1,
             "#276419"
            ]
           ],
           "sequential": [
            [
             0,
             "#0d0887"
            ],
            [
             0.1111111111111111,
             "#46039f"
            ],
            [
             0.2222222222222222,
             "#7201a8"
            ],
            [
             0.3333333333333333,
             "#9c179e"
            ],
            [
             0.4444444444444444,
             "#bd3786"
            ],
            [
             0.5555555555555556,
             "#d8576b"
            ],
            [
             0.6666666666666666,
             "#ed7953"
            ],
            [
             0.7777777777777778,
             "#fb9f3a"
            ],
            [
             0.8888888888888888,
             "#fdca26"
            ],
            [
             1,
             "#f0f921"
            ]
           ],
           "sequentialminus": [
            [
             0,
             "#0d0887"
            ],
            [
             0.1111111111111111,
             "#46039f"
            ],
            [
             0.2222222222222222,
             "#7201a8"
            ],
            [
             0.3333333333333333,
             "#9c179e"
            ],
            [
             0.4444444444444444,
             "#bd3786"
            ],
            [
             0.5555555555555556,
             "#d8576b"
            ],
            [
             0.6666666666666666,
             "#ed7953"
            ],
            [
             0.7777777777777778,
             "#fb9f3a"
            ],
            [
             0.8888888888888888,
             "#fdca26"
            ],
            [
             1,
             "#f0f921"
            ]
           ]
          },
          "colorway": [
           "#636efa",
           "#EF553B",
           "#00cc96",
           "#ab63fa",
           "#FFA15A",
           "#19d3f3",
           "#FF6692",
           "#B6E880",
           "#FF97FF",
           "#FECB52"
          ],
          "font": {
           "color": "#2a3f5f"
          },
          "geo": {
           "bgcolor": "white",
           "lakecolor": "white",
           "landcolor": "#E5ECF6",
           "showlakes": true,
           "showland": true,
           "subunitcolor": "white"
          },
          "hoverlabel": {
           "align": "left"
          },
          "hovermode": "closest",
          "mapbox": {
           "style": "light"
          },
          "paper_bgcolor": "white",
          "plot_bgcolor": "#E5ECF6",
          "polar": {
           "angularaxis": {
            "gridcolor": "white",
            "linecolor": "white",
            "ticks": ""
           },
           "bgcolor": "#E5ECF6",
           "radialaxis": {
            "gridcolor": "white",
            "linecolor": "white",
            "ticks": ""
           }
          },
          "scene": {
           "xaxis": {
            "backgroundcolor": "#E5ECF6",
            "gridcolor": "white",
            "gridwidth": 2,
            "linecolor": "white",
            "showbackground": true,
            "ticks": "",
            "zerolinecolor": "white"
           },
           "yaxis": {
            "backgroundcolor": "#E5ECF6",
            "gridcolor": "white",
            "gridwidth": 2,
            "linecolor": "white",
            "showbackground": true,
            "ticks": "",
            "zerolinecolor": "white"
           },
           "zaxis": {
            "backgroundcolor": "#E5ECF6",
            "gridcolor": "white",
            "gridwidth": 2,
            "linecolor": "white",
            "showbackground": true,
            "ticks": "",
            "zerolinecolor": "white"
           }
          },
          "shapedefaults": {
           "line": {
            "color": "#2a3f5f"
           }
          },
          "ternary": {
           "aaxis": {
            "gridcolor": "white",
            "linecolor": "white",
            "ticks": ""
           },
           "baxis": {
            "gridcolor": "white",
            "linecolor": "white",
            "ticks": ""
           },
           "bgcolor": "#E5ECF6",
           "caxis": {
            "gridcolor": "white",
            "linecolor": "white",
            "ticks": ""
           }
          },
          "title": {
           "x": 0.05
          },
          "xaxis": {
           "automargin": true,
           "gridcolor": "white",
           "linecolor": "white",
           "ticks": "",
           "title": {
            "standoff": 15
           },
           "zerolinecolor": "white",
           "zerolinewidth": 2
          },
          "yaxis": {
           "automargin": true,
           "gridcolor": "white",
           "linecolor": "white",
           "ticks": "",
           "title": {
            "standoff": 15
           },
           "zerolinecolor": "white",
           "zerolinewidth": 2
          }
         }
        },
        "title": {
         "text": "Comportamiento de anomalias pacifico por Cluster"
        },
        "xaxis": {
         "anchor": "y",
         "domain": [
          0,
          1
         ],
         "title": {
          "text": "Mes"
         }
        },
        "yaxis": {
         "anchor": "x",
         "domain": [
          0,
          1
         ],
         "title": {
          "text": "anomalia pacifico"
         }
        }
       }
      }
     },
     "metadata": {},
     "output_type": "display_data"
    }
   ],
   "source": [
    "meses_orden = [\"Enero\", \"Febrero\", \"Marzo\", \"Abril\", \"Mayo\", \"Junio\"]\n",
    "df_melted['Mes'] = pd.Categorical(df_melted['Mes'], categories=meses_orden, ordered=True)\n",
    "\n",
    "# Graficar la serie de tiempo\n",
    "fig = px.box(df_melted, x='Mes', y='a_pacifico', color='ClusterPacifico', \n",
    "              labels={'Mes': 'Mes', 'a_pacifico': 'anomalia pacifico', 'ClusterPacifico': 'Cluster'},\n",
    "              title='Comportamiento de anomalias pacifico por Cluster')\n",
    "\n",
    "fig.show()"
   ]
  },
  {
   "cell_type": "markdown",
   "metadata": {},
   "source": [
    "# Caracterización de clusters pacifico"
   ]
  },
  {
   "cell_type": "markdown",
   "metadata": {},
   "source": [
    "### Entendimiento \n",
    "Las anomalías de temperatura de los océanos se interpretan de la siguiente manera:\n",
    "\n",
    "* Definición: Una anomalía es la desviación de la temperatura observada respecto a un promedio a largo plazo para esa ubicación y época del año.\n",
    "\n",
    "\n",
    "Valores:\n",
    "\n",
    "* Positivos: Indican temperaturas más cálidas que el promedio.\n",
    "* Negativos: Indican temperaturas más frías que el promedio.\n",
    "* Cero: Representa temperaturas cercanas al promedio histórico.\n",
    "\n",
    "\n",
    "Magnitud: Valores más alejados de cero (en ambas direcciones) indican anomalías más fuertes.\n",
    "\n",
    "\n",
    "* Importancia:\n",
    "\n",
    "Ayudan a identificar patrones climáticos como El Niño o La Niña.\n",
    "Son indicadores de cambios climáticos a largo plazo.\n",
    "Pueden influir en patrones meteorológicos, ecosistemas marinos y ciclos de pesca."
   ]
  },
  {
   "cell_type": "markdown",
   "metadata": {},
   "source": [
    "### Clusters\n",
    "* Cluster 1: 1999,2000,2008,2011,2021,2022\n",
    "* Cluster 2: 2001,2002,2006,2009,2012,2013,2014,2017,2018,2023\n",
    "* Cluster 3: 1998, 2016,2024 \n",
    "* Cluster 4: 2010\n",
    "* Cluster 5: 2003,2004,2005,2007,2019,2020\n",
    "* Cluster 6: 2015"
   ]
  },
  {
   "cell_type": "markdown",
   "metadata": {},
   "source": [
    "### Interpretación \n",
    "* Cluster 1: Este grupo muestra anomalías mayormente negativas durante todo el año, con una ligera tendencia al calentamiento hacia junio. Estos años probablemente representan condiciones de La Niña leve o neutras.\n",
    "* Cluster 2: Este cluster exhibe condiciones casi neutrales, con anomalías cercanas a cero. Hay una ligera tendencia al calentamiento de enero a junio.\n",
    "* Cluster 3: Este grupo muestra fuertes anomalías positivas durante todo el período, particularmente en los primeros meses. Estos años probablemente representan condiciones fuertes de El Niño.\n",
    "* Cluster 4: Este año único muestra un patrón singular con anomalías positivas muy altas, especialmente de enero a abril, sugiriendo un evento de El Niño excepcionalmente fuerte.\n",
    "* Cluster 5: Este cluster muestra anomalías ligeramente positivas, con más variabilidad que el Cluster 2. Estos podrían representar condiciones de El Niño débiles a moderadas.\n",
    "* Cluster 6: Otro cluster de un solo año, que muestra anomalías moderadamente positivas que aumentan hacia junio. Esto probablemente representa el desarrollo de un evento significativo de El Niño."
   ]
  },
  {
   "cell_type": "markdown",
   "metadata": {},
   "source": [
    "###############################################################################\n",
    "# Ponderación de clusters - ICC\n",
    "###############################################################################"
   ]
  },
  {
   "cell_type": "markdown",
   "metadata": {},
   "source": [
    "\\begin{equation}\n",
    "Z = M_1 + M_2 + M_3\n",
    "\\end{equation}\n",
    "\n",
    "\\begin{equation}\n",
    "M = (N - n) \\times p\n",
    "\\end{equation}\n",
    "\n",
    "* M: Factor de ponderación.\n",
    "* N: Cantidad de eventos.\n",
    "* n: Posición con respecto al año actual (2024).\n",
    "* p: Peso.\n",
    "\n",
    "Peso de las variables\n",
    "* Lluvia (L): p = 0.4\n",
    "* Atlántico (A): p = 0.25\n",
    "* Pacífico (P): p = 0.35\n"
   ]
  },
  {
   "cell_type": "code",
   "execution_count": 10,
   "metadata": {},
   "outputs": [],
   "source": [
    "lluvia = lluvia.melt(var_name='ClusterLluvia', value_name='Año').dropna().set_index('Año')\n",
    "atlantico = atlantico.melt(var_name='ClusterAtlantico', value_name='Año').dropna().set_index('Año')\n",
    "pacifico = pacifico.melt(var_name='ClusterPacifico', value_name='Año').dropna().set_index('Año')\n"
   ]
  },
  {
   "cell_type": "code",
   "execution_count": 13,
   "metadata": {},
   "outputs": [],
   "source": [
    "df_combined = lluvia.join(atlantico, how='outer').join(pacifico, how='outer').reset_index()\n",
    "df_combined = df_combined.fillna('NaN')"
   ]
  },
  {
   "cell_type": "code",
   "execution_count": 14,
   "metadata": {},
   "outputs": [
    {
     "data": {
      "text/html": [
       "<div>\n",
       "<style scoped>\n",
       "    .dataframe tbody tr th:only-of-type {\n",
       "        vertical-align: middle;\n",
       "    }\n",
       "\n",
       "    .dataframe tbody tr th {\n",
       "        vertical-align: top;\n",
       "    }\n",
       "\n",
       "    .dataframe thead th {\n",
       "        text-align: right;\n",
       "    }\n",
       "</style>\n",
       "<table border=\"1\" class=\"dataframe\">\n",
       "  <thead>\n",
       "    <tr style=\"text-align: right;\">\n",
       "      <th></th>\n",
       "      <th>Año</th>\n",
       "      <th>ClusterLluvia</th>\n",
       "      <th>ClusterAtlantico</th>\n",
       "      <th>ClusterPacifico</th>\n",
       "    </tr>\n",
       "  </thead>\n",
       "  <tbody>\n",
       "    <tr>\n",
       "      <th>0</th>\n",
       "      <td>1998.0</td>\n",
       "      <td>Cluster4</td>\n",
       "      <td>Cluster3</td>\n",
       "      <td>Cluster3</td>\n",
       "    </tr>\n",
       "    <tr>\n",
       "      <th>1</th>\n",
       "      <td>1999.0</td>\n",
       "      <td>Cluster1</td>\n",
       "      <td>Cluster5</td>\n",
       "      <td>Cluster1</td>\n",
       "    </tr>\n",
       "    <tr>\n",
       "      <th>2</th>\n",
       "      <td>2000.0</td>\n",
       "      <td>Cluster1</td>\n",
       "      <td>Cluster5</td>\n",
       "      <td>Cluster1</td>\n",
       "    </tr>\n",
       "    <tr>\n",
       "      <th>3</th>\n",
       "      <td>2001.0</td>\n",
       "      <td>Cluster1</td>\n",
       "      <td>Cluster4</td>\n",
       "      <td>Cluster2</td>\n",
       "    </tr>\n",
       "    <tr>\n",
       "      <th>4</th>\n",
       "      <td>2002.0</td>\n",
       "      <td>Cluster1</td>\n",
       "      <td>Cluster5</td>\n",
       "      <td>Cluster2</td>\n",
       "    </tr>\n",
       "    <tr>\n",
       "      <th>5</th>\n",
       "      <td>2003.0</td>\n",
       "      <td>Cluster5</td>\n",
       "      <td>Cluster5</td>\n",
       "      <td>Cluster5</td>\n",
       "    </tr>\n",
       "    <tr>\n",
       "      <th>6</th>\n",
       "      <td>2004.0</td>\n",
       "      <td>Cluster2</td>\n",
       "      <td>Cluster5</td>\n",
       "      <td>Cluster5</td>\n",
       "    </tr>\n",
       "    <tr>\n",
       "      <th>7</th>\n",
       "      <td>2005.0</td>\n",
       "      <td>Cluster6</td>\n",
       "      <td>Cluster4</td>\n",
       "      <td>Cluster5</td>\n",
       "    </tr>\n",
       "    <tr>\n",
       "      <th>8</th>\n",
       "      <td>2006.0</td>\n",
       "      <td>Cluster1</td>\n",
       "      <td>Cluster4</td>\n",
       "      <td>Cluster2</td>\n",
       "    </tr>\n",
       "    <tr>\n",
       "      <th>9</th>\n",
       "      <td>2007.0</td>\n",
       "      <td>Cluster1</td>\n",
       "      <td>Cluster5</td>\n",
       "      <td>Cluster5</td>\n",
       "    </tr>\n",
       "    <tr>\n",
       "      <th>10</th>\n",
       "      <td>2008.0</td>\n",
       "      <td>Cluster1</td>\n",
       "      <td>Cluster3</td>\n",
       "      <td>Cluster1</td>\n",
       "    </tr>\n",
       "    <tr>\n",
       "      <th>11</th>\n",
       "      <td>2009.0</td>\n",
       "      <td>Cluster2</td>\n",
       "      <td>Cluster5</td>\n",
       "      <td>Cluster2</td>\n",
       "    </tr>\n",
       "    <tr>\n",
       "      <th>12</th>\n",
       "      <td>2010.0</td>\n",
       "      <td>Cluster3</td>\n",
       "      <td>Cluster1</td>\n",
       "      <td>Cluster4</td>\n",
       "    </tr>\n",
       "    <tr>\n",
       "      <th>13</th>\n",
       "      <td>2011.0</td>\n",
       "      <td>Cluster1</td>\n",
       "      <td>Cluster5</td>\n",
       "      <td>Cluster1</td>\n",
       "    </tr>\n",
       "    <tr>\n",
       "      <th>14</th>\n",
       "      <td>2012.0</td>\n",
       "      <td>Cluster1</td>\n",
       "      <td>Cluster3</td>\n",
       "      <td>Cluster2</td>\n",
       "    </tr>\n",
       "    <tr>\n",
       "      <th>15</th>\n",
       "      <td>2013.0</td>\n",
       "      <td>Cluster1</td>\n",
       "      <td>Cluster4</td>\n",
       "      <td>Cluster2</td>\n",
       "    </tr>\n",
       "    <tr>\n",
       "      <th>16</th>\n",
       "      <td>2014.0</td>\n",
       "      <td>Cluster1</td>\n",
       "      <td>Cluster5</td>\n",
       "      <td>Cluster2</td>\n",
       "    </tr>\n",
       "    <tr>\n",
       "      <th>17</th>\n",
       "      <td>2015.0</td>\n",
       "      <td>Cluster1</td>\n",
       "      <td>Cluster5</td>\n",
       "      <td>Cluster6</td>\n",
       "    </tr>\n",
       "    <tr>\n",
       "      <th>18</th>\n",
       "      <td>2016.0</td>\n",
       "      <td>Cluster1</td>\n",
       "      <td>Cluster5</td>\n",
       "      <td>Cluster3</td>\n",
       "    </tr>\n",
       "    <tr>\n",
       "      <th>19</th>\n",
       "      <td>2017.0</td>\n",
       "      <td>Cluster1</td>\n",
       "      <td>Cluster3</td>\n",
       "      <td>Cluster2</td>\n",
       "    </tr>\n",
       "    <tr>\n",
       "      <th>20</th>\n",
       "      <td>2018.0</td>\n",
       "      <td>Cluster1</td>\n",
       "      <td>Cluster6</td>\n",
       "      <td>Cluster2</td>\n",
       "    </tr>\n",
       "    <tr>\n",
       "      <th>21</th>\n",
       "      <td>2019.0</td>\n",
       "      <td>Cluster1</td>\n",
       "      <td>Cluster3</td>\n",
       "      <td>Cluster5</td>\n",
       "    </tr>\n",
       "    <tr>\n",
       "      <th>22</th>\n",
       "      <td>2020.0</td>\n",
       "      <td>Cluster1</td>\n",
       "      <td>Cluster5</td>\n",
       "      <td>Cluster5</td>\n",
       "    </tr>\n",
       "    <tr>\n",
       "      <th>23</th>\n",
       "      <td>2021.0</td>\n",
       "      <td>Cluster1</td>\n",
       "      <td>Cluster2</td>\n",
       "      <td>Cluster1</td>\n",
       "    </tr>\n",
       "    <tr>\n",
       "      <th>24</th>\n",
       "      <td>2022.0</td>\n",
       "      <td>Cluster1</td>\n",
       "      <td>Cluster5</td>\n",
       "      <td>Cluster1</td>\n",
       "    </tr>\n",
       "    <tr>\n",
       "      <th>25</th>\n",
       "      <td>2023.0</td>\n",
       "      <td>Cluster1</td>\n",
       "      <td>Cluster4</td>\n",
       "      <td>Cluster2</td>\n",
       "    </tr>\n",
       "    <tr>\n",
       "      <th>26</th>\n",
       "      <td>2024.0</td>\n",
       "      <td>Cluster1</td>\n",
       "      <td>Cluster5</td>\n",
       "      <td>Cluster3</td>\n",
       "    </tr>\n",
       "  </tbody>\n",
       "</table>\n",
       "</div>"
      ],
      "text/plain": [
       "       Año ClusterLluvia ClusterAtlantico ClusterPacifico\n",
       "0   1998.0      Cluster4         Cluster3        Cluster3\n",
       "1   1999.0      Cluster1         Cluster5        Cluster1\n",
       "2   2000.0      Cluster1         Cluster5        Cluster1\n",
       "3   2001.0      Cluster1         Cluster4        Cluster2\n",
       "4   2002.0      Cluster1         Cluster5        Cluster2\n",
       "5   2003.0      Cluster5         Cluster5        Cluster5\n",
       "6   2004.0      Cluster2         Cluster5        Cluster5\n",
       "7   2005.0      Cluster6         Cluster4        Cluster5\n",
       "8   2006.0      Cluster1         Cluster4        Cluster2\n",
       "9   2007.0      Cluster1         Cluster5        Cluster5\n",
       "10  2008.0      Cluster1         Cluster3        Cluster1\n",
       "11  2009.0      Cluster2         Cluster5        Cluster2\n",
       "12  2010.0      Cluster3         Cluster1        Cluster4\n",
       "13  2011.0      Cluster1         Cluster5        Cluster1\n",
       "14  2012.0      Cluster1         Cluster3        Cluster2\n",
       "15  2013.0      Cluster1         Cluster4        Cluster2\n",
       "16  2014.0      Cluster1         Cluster5        Cluster2\n",
       "17  2015.0      Cluster1         Cluster5        Cluster6\n",
       "18  2016.0      Cluster1         Cluster5        Cluster3\n",
       "19  2017.0      Cluster1         Cluster3        Cluster2\n",
       "20  2018.0      Cluster1         Cluster6        Cluster2\n",
       "21  2019.0      Cluster1         Cluster3        Cluster5\n",
       "22  2020.0      Cluster1         Cluster5        Cluster5\n",
       "23  2021.0      Cluster1         Cluster2        Cluster1\n",
       "24  2022.0      Cluster1         Cluster5        Cluster1\n",
       "25  2023.0      Cluster1         Cluster4        Cluster2\n",
       "26  2024.0      Cluster1         Cluster5        Cluster3"
      ]
     },
     "execution_count": 14,
     "metadata": {},
     "output_type": "execute_result"
    }
   ],
   "source": [
    "df_combined"
   ]
  },
  {
   "cell_type": "code",
   "execution_count": 15,
   "metadata": {},
   "outputs": [],
   "source": [
    "# Definir los pesos\n",
    "peso_lluvia = 0.4\n",
    "peso_atlantico = 0.25\n",
    "peso_pacifico = 0.35"
   ]
  },
  {
   "cell_type": "code",
   "execution_count": 18,
   "metadata": {},
   "outputs": [
    {
     "data": {
      "text/plain": [
       "27"
      ]
     },
     "execution_count": 18,
     "metadata": {},
     "output_type": "execute_result"
    }
   ],
   "source": [
    "# Cantidad de eventos\n",
    "N = len(df_combined)\n",
    "N"
   ]
  },
  {
   "cell_type": "code",
   "execution_count": 19,
   "metadata": {},
   "outputs": [],
   "source": [
    "# Calcular el factor de ponderación\n",
    "df_combined['n'] = 2024 - df_combined['Año']\n",
    "df_combined['M_lluvia'] = (N - df_combined['n']) * peso_lluvia\n",
    "df_combined['M_atlantico'] = (N - df_combined['n']) * peso_atlantico\n",
    "df_combined['M_pacifico'] = (N - df_combined['n']) * peso_pacifico"
   ]
  },
  {
   "cell_type": "code",
   "execution_count": 20,
   "metadata": {},
   "outputs": [],
   "source": [
    "df_combined['Z'] = df_combined['M_lluvia'] + df_combined['M_atlantico'] + df_combined['M_pacifico']"
   ]
  },
  {
   "cell_type": "code",
   "execution_count": 21,
   "metadata": {},
   "outputs": [],
   "source": [
    "df_combined = df_combined.sort_values(by='Z', ascending=False)"
   ]
  },
  {
   "cell_type": "code",
   "execution_count": 22,
   "metadata": {},
   "outputs": [
    {
     "data": {
      "text/html": [
       "<div>\n",
       "<style scoped>\n",
       "    .dataframe tbody tr th:only-of-type {\n",
       "        vertical-align: middle;\n",
       "    }\n",
       "\n",
       "    .dataframe tbody tr th {\n",
       "        vertical-align: top;\n",
       "    }\n",
       "\n",
       "    .dataframe thead th {\n",
       "        text-align: right;\n",
       "    }\n",
       "</style>\n",
       "<table border=\"1\" class=\"dataframe\">\n",
       "  <thead>\n",
       "    <tr style=\"text-align: right;\">\n",
       "      <th></th>\n",
       "      <th>Año</th>\n",
       "      <th>ClusterLluvia</th>\n",
       "      <th>ClusterAtlantico</th>\n",
       "      <th>ClusterPacifico</th>\n",
       "      <th>n</th>\n",
       "      <th>M_lluvia</th>\n",
       "      <th>M_atlantico</th>\n",
       "      <th>M_pacifico</th>\n",
       "      <th>Z</th>\n",
       "    </tr>\n",
       "  </thead>\n",
       "  <tbody>\n",
       "    <tr>\n",
       "      <th>26</th>\n",
       "      <td>2024.0</td>\n",
       "      <td>Cluster1</td>\n",
       "      <td>Cluster5</td>\n",
       "      <td>Cluster3</td>\n",
       "      <td>0.0</td>\n",
       "      <td>10.8</td>\n",
       "      <td>6.75</td>\n",
       "      <td>9.45</td>\n",
       "      <td>27.0</td>\n",
       "    </tr>\n",
       "    <tr>\n",
       "      <th>25</th>\n",
       "      <td>2023.0</td>\n",
       "      <td>Cluster1</td>\n",
       "      <td>Cluster4</td>\n",
       "      <td>Cluster2</td>\n",
       "      <td>1.0</td>\n",
       "      <td>10.4</td>\n",
       "      <td>6.50</td>\n",
       "      <td>9.10</td>\n",
       "      <td>26.0</td>\n",
       "    </tr>\n",
       "    <tr>\n",
       "      <th>24</th>\n",
       "      <td>2022.0</td>\n",
       "      <td>Cluster1</td>\n",
       "      <td>Cluster5</td>\n",
       "      <td>Cluster1</td>\n",
       "      <td>2.0</td>\n",
       "      <td>10.0</td>\n",
       "      <td>6.25</td>\n",
       "      <td>8.75</td>\n",
       "      <td>25.0</td>\n",
       "    </tr>\n",
       "    <tr>\n",
       "      <th>23</th>\n",
       "      <td>2021.0</td>\n",
       "      <td>Cluster1</td>\n",
       "      <td>Cluster2</td>\n",
       "      <td>Cluster1</td>\n",
       "      <td>3.0</td>\n",
       "      <td>9.6</td>\n",
       "      <td>6.00</td>\n",
       "      <td>8.40</td>\n",
       "      <td>24.0</td>\n",
       "    </tr>\n",
       "    <tr>\n",
       "      <th>22</th>\n",
       "      <td>2020.0</td>\n",
       "      <td>Cluster1</td>\n",
       "      <td>Cluster5</td>\n",
       "      <td>Cluster5</td>\n",
       "      <td>4.0</td>\n",
       "      <td>9.2</td>\n",
       "      <td>5.75</td>\n",
       "      <td>8.05</td>\n",
       "      <td>23.0</td>\n",
       "    </tr>\n",
       "    <tr>\n",
       "      <th>21</th>\n",
       "      <td>2019.0</td>\n",
       "      <td>Cluster1</td>\n",
       "      <td>Cluster3</td>\n",
       "      <td>Cluster5</td>\n",
       "      <td>5.0</td>\n",
       "      <td>8.8</td>\n",
       "      <td>5.50</td>\n",
       "      <td>7.70</td>\n",
       "      <td>22.0</td>\n",
       "    </tr>\n",
       "    <tr>\n",
       "      <th>20</th>\n",
       "      <td>2018.0</td>\n",
       "      <td>Cluster1</td>\n",
       "      <td>Cluster6</td>\n",
       "      <td>Cluster2</td>\n",
       "      <td>6.0</td>\n",
       "      <td>8.4</td>\n",
       "      <td>5.25</td>\n",
       "      <td>7.35</td>\n",
       "      <td>21.0</td>\n",
       "    </tr>\n",
       "    <tr>\n",
       "      <th>19</th>\n",
       "      <td>2017.0</td>\n",
       "      <td>Cluster1</td>\n",
       "      <td>Cluster3</td>\n",
       "      <td>Cluster2</td>\n",
       "      <td>7.0</td>\n",
       "      <td>8.0</td>\n",
       "      <td>5.00</td>\n",
       "      <td>7.00</td>\n",
       "      <td>20.0</td>\n",
       "    </tr>\n",
       "    <tr>\n",
       "      <th>18</th>\n",
       "      <td>2016.0</td>\n",
       "      <td>Cluster1</td>\n",
       "      <td>Cluster5</td>\n",
       "      <td>Cluster3</td>\n",
       "      <td>8.0</td>\n",
       "      <td>7.6</td>\n",
       "      <td>4.75</td>\n",
       "      <td>6.65</td>\n",
       "      <td>19.0</td>\n",
       "    </tr>\n",
       "    <tr>\n",
       "      <th>17</th>\n",
       "      <td>2015.0</td>\n",
       "      <td>Cluster1</td>\n",
       "      <td>Cluster5</td>\n",
       "      <td>Cluster6</td>\n",
       "      <td>9.0</td>\n",
       "      <td>7.2</td>\n",
       "      <td>4.50</td>\n",
       "      <td>6.30</td>\n",
       "      <td>18.0</td>\n",
       "    </tr>\n",
       "    <tr>\n",
       "      <th>16</th>\n",
       "      <td>2014.0</td>\n",
       "      <td>Cluster1</td>\n",
       "      <td>Cluster5</td>\n",
       "      <td>Cluster2</td>\n",
       "      <td>10.0</td>\n",
       "      <td>6.8</td>\n",
       "      <td>4.25</td>\n",
       "      <td>5.95</td>\n",
       "      <td>17.0</td>\n",
       "    </tr>\n",
       "    <tr>\n",
       "      <th>15</th>\n",
       "      <td>2013.0</td>\n",
       "      <td>Cluster1</td>\n",
       "      <td>Cluster4</td>\n",
       "      <td>Cluster2</td>\n",
       "      <td>11.0</td>\n",
       "      <td>6.4</td>\n",
       "      <td>4.00</td>\n",
       "      <td>5.60</td>\n",
       "      <td>16.0</td>\n",
       "    </tr>\n",
       "    <tr>\n",
       "      <th>14</th>\n",
       "      <td>2012.0</td>\n",
       "      <td>Cluster1</td>\n",
       "      <td>Cluster3</td>\n",
       "      <td>Cluster2</td>\n",
       "      <td>12.0</td>\n",
       "      <td>6.0</td>\n",
       "      <td>3.75</td>\n",
       "      <td>5.25</td>\n",
       "      <td>15.0</td>\n",
       "    </tr>\n",
       "    <tr>\n",
       "      <th>13</th>\n",
       "      <td>2011.0</td>\n",
       "      <td>Cluster1</td>\n",
       "      <td>Cluster5</td>\n",
       "      <td>Cluster1</td>\n",
       "      <td>13.0</td>\n",
       "      <td>5.6</td>\n",
       "      <td>3.50</td>\n",
       "      <td>4.90</td>\n",
       "      <td>14.0</td>\n",
       "    </tr>\n",
       "    <tr>\n",
       "      <th>12</th>\n",
       "      <td>2010.0</td>\n",
       "      <td>Cluster3</td>\n",
       "      <td>Cluster1</td>\n",
       "      <td>Cluster4</td>\n",
       "      <td>14.0</td>\n",
       "      <td>5.2</td>\n",
       "      <td>3.25</td>\n",
       "      <td>4.55</td>\n",
       "      <td>13.0</td>\n",
       "    </tr>\n",
       "    <tr>\n",
       "      <th>11</th>\n",
       "      <td>2009.0</td>\n",
       "      <td>Cluster2</td>\n",
       "      <td>Cluster5</td>\n",
       "      <td>Cluster2</td>\n",
       "      <td>15.0</td>\n",
       "      <td>4.8</td>\n",
       "      <td>3.00</td>\n",
       "      <td>4.20</td>\n",
       "      <td>12.0</td>\n",
       "    </tr>\n",
       "    <tr>\n",
       "      <th>10</th>\n",
       "      <td>2008.0</td>\n",
       "      <td>Cluster1</td>\n",
       "      <td>Cluster3</td>\n",
       "      <td>Cluster1</td>\n",
       "      <td>16.0</td>\n",
       "      <td>4.4</td>\n",
       "      <td>2.75</td>\n",
       "      <td>3.85</td>\n",
       "      <td>11.0</td>\n",
       "    </tr>\n",
       "    <tr>\n",
       "      <th>9</th>\n",
       "      <td>2007.0</td>\n",
       "      <td>Cluster1</td>\n",
       "      <td>Cluster5</td>\n",
       "      <td>Cluster5</td>\n",
       "      <td>17.0</td>\n",
       "      <td>4.0</td>\n",
       "      <td>2.50</td>\n",
       "      <td>3.50</td>\n",
       "      <td>10.0</td>\n",
       "    </tr>\n",
       "    <tr>\n",
       "      <th>8</th>\n",
       "      <td>2006.0</td>\n",
       "      <td>Cluster1</td>\n",
       "      <td>Cluster4</td>\n",
       "      <td>Cluster2</td>\n",
       "      <td>18.0</td>\n",
       "      <td>3.6</td>\n",
       "      <td>2.25</td>\n",
       "      <td>3.15</td>\n",
       "      <td>9.0</td>\n",
       "    </tr>\n",
       "    <tr>\n",
       "      <th>7</th>\n",
       "      <td>2005.0</td>\n",
       "      <td>Cluster6</td>\n",
       "      <td>Cluster4</td>\n",
       "      <td>Cluster5</td>\n",
       "      <td>19.0</td>\n",
       "      <td>3.2</td>\n",
       "      <td>2.00</td>\n",
       "      <td>2.80</td>\n",
       "      <td>8.0</td>\n",
       "    </tr>\n",
       "    <tr>\n",
       "      <th>6</th>\n",
       "      <td>2004.0</td>\n",
       "      <td>Cluster2</td>\n",
       "      <td>Cluster5</td>\n",
       "      <td>Cluster5</td>\n",
       "      <td>20.0</td>\n",
       "      <td>2.8</td>\n",
       "      <td>1.75</td>\n",
       "      <td>2.45</td>\n",
       "      <td>7.0</td>\n",
       "    </tr>\n",
       "    <tr>\n",
       "      <th>5</th>\n",
       "      <td>2003.0</td>\n",
       "      <td>Cluster5</td>\n",
       "      <td>Cluster5</td>\n",
       "      <td>Cluster5</td>\n",
       "      <td>21.0</td>\n",
       "      <td>2.4</td>\n",
       "      <td>1.50</td>\n",
       "      <td>2.10</td>\n",
       "      <td>6.0</td>\n",
       "    </tr>\n",
       "    <tr>\n",
       "      <th>4</th>\n",
       "      <td>2002.0</td>\n",
       "      <td>Cluster1</td>\n",
       "      <td>Cluster5</td>\n",
       "      <td>Cluster2</td>\n",
       "      <td>22.0</td>\n",
       "      <td>2.0</td>\n",
       "      <td>1.25</td>\n",
       "      <td>1.75</td>\n",
       "      <td>5.0</td>\n",
       "    </tr>\n",
       "    <tr>\n",
       "      <th>3</th>\n",
       "      <td>2001.0</td>\n",
       "      <td>Cluster1</td>\n",
       "      <td>Cluster4</td>\n",
       "      <td>Cluster2</td>\n",
       "      <td>23.0</td>\n",
       "      <td>1.6</td>\n",
       "      <td>1.00</td>\n",
       "      <td>1.40</td>\n",
       "      <td>4.0</td>\n",
       "    </tr>\n",
       "    <tr>\n",
       "      <th>2</th>\n",
       "      <td>2000.0</td>\n",
       "      <td>Cluster1</td>\n",
       "      <td>Cluster5</td>\n",
       "      <td>Cluster1</td>\n",
       "      <td>24.0</td>\n",
       "      <td>1.2</td>\n",
       "      <td>0.75</td>\n",
       "      <td>1.05</td>\n",
       "      <td>3.0</td>\n",
       "    </tr>\n",
       "    <tr>\n",
       "      <th>1</th>\n",
       "      <td>1999.0</td>\n",
       "      <td>Cluster1</td>\n",
       "      <td>Cluster5</td>\n",
       "      <td>Cluster1</td>\n",
       "      <td>25.0</td>\n",
       "      <td>0.8</td>\n",
       "      <td>0.50</td>\n",
       "      <td>0.70</td>\n",
       "      <td>2.0</td>\n",
       "    </tr>\n",
       "    <tr>\n",
       "      <th>0</th>\n",
       "      <td>1998.0</td>\n",
       "      <td>Cluster4</td>\n",
       "      <td>Cluster3</td>\n",
       "      <td>Cluster3</td>\n",
       "      <td>26.0</td>\n",
       "      <td>0.4</td>\n",
       "      <td>0.25</td>\n",
       "      <td>0.35</td>\n",
       "      <td>1.0</td>\n",
       "    </tr>\n",
       "  </tbody>\n",
       "</table>\n",
       "</div>"
      ],
      "text/plain": [
       "       Año ClusterLluvia ClusterAtlantico ClusterPacifico     n  M_lluvia  \\\n",
       "26  2024.0      Cluster1         Cluster5        Cluster3   0.0      10.8   \n",
       "25  2023.0      Cluster1         Cluster4        Cluster2   1.0      10.4   \n",
       "24  2022.0      Cluster1         Cluster5        Cluster1   2.0      10.0   \n",
       "23  2021.0      Cluster1         Cluster2        Cluster1   3.0       9.6   \n",
       "22  2020.0      Cluster1         Cluster5        Cluster5   4.0       9.2   \n",
       "21  2019.0      Cluster1         Cluster3        Cluster5   5.0       8.8   \n",
       "20  2018.0      Cluster1         Cluster6        Cluster2   6.0       8.4   \n",
       "19  2017.0      Cluster1         Cluster3        Cluster2   7.0       8.0   \n",
       "18  2016.0      Cluster1         Cluster5        Cluster3   8.0       7.6   \n",
       "17  2015.0      Cluster1         Cluster5        Cluster6   9.0       7.2   \n",
       "16  2014.0      Cluster1         Cluster5        Cluster2  10.0       6.8   \n",
       "15  2013.0      Cluster1         Cluster4        Cluster2  11.0       6.4   \n",
       "14  2012.0      Cluster1         Cluster3        Cluster2  12.0       6.0   \n",
       "13  2011.0      Cluster1         Cluster5        Cluster1  13.0       5.6   \n",
       "12  2010.0      Cluster3         Cluster1        Cluster4  14.0       5.2   \n",
       "11  2009.0      Cluster2         Cluster5        Cluster2  15.0       4.8   \n",
       "10  2008.0      Cluster1         Cluster3        Cluster1  16.0       4.4   \n",
       "9   2007.0      Cluster1         Cluster5        Cluster5  17.0       4.0   \n",
       "8   2006.0      Cluster1         Cluster4        Cluster2  18.0       3.6   \n",
       "7   2005.0      Cluster6         Cluster4        Cluster5  19.0       3.2   \n",
       "6   2004.0      Cluster2         Cluster5        Cluster5  20.0       2.8   \n",
       "5   2003.0      Cluster5         Cluster5        Cluster5  21.0       2.4   \n",
       "4   2002.0      Cluster1         Cluster5        Cluster2  22.0       2.0   \n",
       "3   2001.0      Cluster1         Cluster4        Cluster2  23.0       1.6   \n",
       "2   2000.0      Cluster1         Cluster5        Cluster1  24.0       1.2   \n",
       "1   1999.0      Cluster1         Cluster5        Cluster1  25.0       0.8   \n",
       "0   1998.0      Cluster4         Cluster3        Cluster3  26.0       0.4   \n",
       "\n",
       "    M_atlantico  M_pacifico     Z  \n",
       "26         6.75        9.45  27.0  \n",
       "25         6.50        9.10  26.0  \n",
       "24         6.25        8.75  25.0  \n",
       "23         6.00        8.40  24.0  \n",
       "22         5.75        8.05  23.0  \n",
       "21         5.50        7.70  22.0  \n",
       "20         5.25        7.35  21.0  \n",
       "19         5.00        7.00  20.0  \n",
       "18         4.75        6.65  19.0  \n",
       "17         4.50        6.30  18.0  \n",
       "16         4.25        5.95  17.0  \n",
       "15         4.00        5.60  16.0  \n",
       "14         3.75        5.25  15.0  \n",
       "13         3.50        4.90  14.0  \n",
       "12         3.25        4.55  13.0  \n",
       "11         3.00        4.20  12.0  \n",
       "10         2.75        3.85  11.0  \n",
       "9          2.50        3.50  10.0  \n",
       "8          2.25        3.15   9.0  \n",
       "7          2.00        2.80   8.0  \n",
       "6          1.75        2.45   7.0  \n",
       "5          1.50        2.10   6.0  \n",
       "4          1.25        1.75   5.0  \n",
       "3          1.00        1.40   4.0  \n",
       "2          0.75        1.05   3.0  \n",
       "1          0.50        0.70   2.0  \n",
       "0          0.25        0.35   1.0  "
      ]
     },
     "execution_count": 22,
     "metadata": {},
     "output_type": "execute_result"
    }
   ],
   "source": [
    "df_combined\n"
   ]
  },
  {
   "cell_type": "markdown",
   "metadata": {},
   "source": [
    "### Clasificacion final"
   ]
  },
  {
   "cell_type": "code",
   "execution_count": 27,
   "metadata": {},
   "outputs": [
    {
     "data": {
      "text/html": [
       "<div>\n",
       "<style scoped>\n",
       "    .dataframe tbody tr th:only-of-type {\n",
       "        vertical-align: middle;\n",
       "    }\n",
       "\n",
       "    .dataframe tbody tr th {\n",
       "        vertical-align: top;\n",
       "    }\n",
       "\n",
       "    .dataframe thead th {\n",
       "        text-align: right;\n",
       "    }\n",
       "</style>\n",
       "<table border=\"1\" class=\"dataframe\">\n",
       "  <thead>\n",
       "    <tr style=\"text-align: right;\">\n",
       "      <th></th>\n",
       "      <th>Cluster1</th>\n",
       "      <th>Cluster2</th>\n",
       "      <th>Cluster3</th>\n",
       "      <th>Cluster4</th>\n",
       "      <th>Cluster5</th>\n",
       "      <th>Cluster6</th>\n",
       "    </tr>\n",
       "  </thead>\n",
       "  <tbody>\n",
       "    <tr>\n",
       "      <th>0</th>\n",
       "      <td>2008.0</td>\n",
       "      <td>2004.0</td>\n",
       "      <td>2024.0</td>\n",
       "      <td>2020.0</td>\n",
       "      <td>2016.0</td>\n",
       "      <td>2012.0</td>\n",
       "    </tr>\n",
       "    <tr>\n",
       "      <th>1</th>\n",
       "      <td>2007.0</td>\n",
       "      <td>2003.0</td>\n",
       "      <td>2023.0</td>\n",
       "      <td>2019.0</td>\n",
       "      <td>2015.0</td>\n",
       "      <td>2011.0</td>\n",
       "    </tr>\n",
       "    <tr>\n",
       "      <th>2</th>\n",
       "      <td>2006.0</td>\n",
       "      <td>2002.0</td>\n",
       "      <td>2022.0</td>\n",
       "      <td>2018.0</td>\n",
       "      <td>2014.0</td>\n",
       "      <td>2010.0</td>\n",
       "    </tr>\n",
       "    <tr>\n",
       "      <th>3</th>\n",
       "      <td>2005.0</td>\n",
       "      <td>2001.0</td>\n",
       "      <td>2021.0</td>\n",
       "      <td>2017.0</td>\n",
       "      <td>2013.0</td>\n",
       "      <td>2009.0</td>\n",
       "    </tr>\n",
       "    <tr>\n",
       "      <th>4</th>\n",
       "      <td>NaN</td>\n",
       "      <td>2000.0</td>\n",
       "      <td>NaN</td>\n",
       "      <td>NaN</td>\n",
       "      <td>NaN</td>\n",
       "      <td>NaN</td>\n",
       "    </tr>\n",
       "    <tr>\n",
       "      <th>5</th>\n",
       "      <td>NaN</td>\n",
       "      <td>1999.0</td>\n",
       "      <td>NaN</td>\n",
       "      <td>NaN</td>\n",
       "      <td>NaN</td>\n",
       "      <td>NaN</td>\n",
       "    </tr>\n",
       "    <tr>\n",
       "      <th>6</th>\n",
       "      <td>NaN</td>\n",
       "      <td>1998.0</td>\n",
       "      <td>NaN</td>\n",
       "      <td>NaN</td>\n",
       "      <td>NaN</td>\n",
       "      <td>NaN</td>\n",
       "    </tr>\n",
       "  </tbody>\n",
       "</table>\n",
       "</div>"
      ],
      "text/plain": [
       "   Cluster1  Cluster2  Cluster3  Cluster4  Cluster5  Cluster6\n",
       "0    2008.0    2004.0    2024.0    2020.0    2016.0    2012.0\n",
       "1    2007.0    2003.0    2023.0    2019.0    2015.0    2011.0\n",
       "2    2006.0    2002.0    2022.0    2018.0    2014.0    2010.0\n",
       "3    2005.0    2001.0    2021.0    2017.0    2013.0    2009.0\n",
       "4       NaN    2000.0       NaN       NaN       NaN       NaN\n",
       "5       NaN    1999.0       NaN       NaN       NaN       NaN\n",
       "6       NaN    1998.0       NaN       NaN       NaN       NaN"
      ]
     },
     "execution_count": 27,
     "metadata": {},
     "output_type": "execute_result"
    }
   ],
   "source": [
    "# Aplicar clustering jerárquico\n",
    "Z = linkage(df_combined['Z'].values.reshape(-1, 1), method='ward')\n",
    "max_clusters = 6\n",
    "clusters = fcluster(Z, max_clusters, criterion='maxclust')\n",
    "\n",
    "df_combined['Cluster'] = clusters\n",
    "\n",
    "# Agrupar los años por cada clúster\n",
    "cluster_groups = df_combined.groupby('Cluster')['Año'].apply(list).reset_index()\n",
    "\n",
    "# Crear un diccionario con los resultados de los clústeres\n",
    "cluster_results = {}\n",
    "for index, row in cluster_groups.iterrows():\n",
    "    cluster_results[f'Cluster{row[\"Cluster\"]}'] = row['Año']\n",
    "\n",
    "final_clusters = pd.DataFrame(dict([(k, pd.Series(v)) for k, v in cluster_results.items()]))\n",
    "\n",
    "\n",
    "final_clusters"
   ]
  },
  {
   "cell_type": "markdown",
   "metadata": {},
   "source": [
    "## Segunda parte"
   ]
  },
  {
   "cell_type": "markdown",
   "metadata": {},
   "source": [
    "Para la segunda parte, se probarán otros métodos de conglomerados con el objetivo de realizar una clasificación de periodos agrupando las tres variables. Además, se procederá a normalizar los datos. Normalizar los datos es una práctica fundamental antes de aplicar cualquier método de análisis, y en este caso, es especialmente crucial. Dado que se realizará el análisis de conglomerados utilizando las tres variables, la estandarización de los datos es esencial para garantizar que cada variable contribuya de manera equitativa al proceso de agrupamiento."
   ]
  },
  {
   "cell_type": "markdown",
   "metadata": {},
   "source": [
    "### Unir las tres bases de datos"
   ]
  },
  {
   "cell_type": "code",
   "execution_count": 73,
   "metadata": {},
   "outputs": [],
   "source": [
    "df = pd.merge(df_atlantico, df_pacifico, on='Año', suffixes=('_atlantico', '_pacifico'))\n"
   ]
  },
  {
   "cell_type": "code",
   "execution_count": 74,
   "metadata": {},
   "outputs": [],
   "source": [
    "df = pd.merge(df, df_lluvia, on='Año', suffixes=('', '_lluvia'))"
   ]
  },
  {
   "cell_type": "code",
   "execution_count": 77,
   "metadata": {},
   "outputs": [
    {
     "data": {
      "text/html": [
       "<div>\n",
       "<style scoped>\n",
       "    .dataframe tbody tr th:only-of-type {\n",
       "        vertical-align: middle;\n",
       "    }\n",
       "\n",
       "    .dataframe tbody tr th {\n",
       "        vertical-align: top;\n",
       "    }\n",
       "\n",
       "    .dataframe thead th {\n",
       "        text-align: right;\n",
       "    }\n",
       "</style>\n",
       "<table border=\"1\" class=\"dataframe\">\n",
       "  <thead>\n",
       "    <tr style=\"text-align: right;\">\n",
       "      <th></th>\n",
       "      <th>Año</th>\n",
       "      <th>Enero_atlantico</th>\n",
       "      <th>Febrero_atlantico</th>\n",
       "      <th>Marzo_atlantico</th>\n",
       "      <th>Abril_atlantico</th>\n",
       "      <th>Mayo_atlantico</th>\n",
       "      <th>Junio_atlantico</th>\n",
       "      <th>Cluster</th>\n",
       "      <th>Enero_pacifico</th>\n",
       "      <th>Febrero_pacifico</th>\n",
       "      <th>Marzo_pacifico</th>\n",
       "      <th>Abril_pacifico</th>\n",
       "      <th>Mayo_pacifico</th>\n",
       "      <th>Junio_pacifico</th>\n",
       "      <th>Enero_lluvia</th>\n",
       "      <th>Febrero_lluvia</th>\n",
       "      <th>Marzo_lluvia</th>\n",
       "      <th>Abril_lluvia</th>\n",
       "      <th>Mayo_lluvia</th>\n",
       "      <th>Junio_lluvia</th>\n",
       "    </tr>\n",
       "  </thead>\n",
       "  <tbody>\n",
       "    <tr>\n",
       "      <th>0</th>\n",
       "      <td>1998</td>\n",
       "      <td>0.39</td>\n",
       "      <td>-0.11</td>\n",
       "      <td>0.87</td>\n",
       "      <td>-0.68</td>\n",
       "      <td>-1.32</td>\n",
       "      <td>-2.72</td>\n",
       "      <td>1</td>\n",
       "      <td>2.2</td>\n",
       "      <td>1.9</td>\n",
       "      <td>1.4</td>\n",
       "      <td>1.0</td>\n",
       "      <td>0.50</td>\n",
       "      <td>-0.10</td>\n",
       "      <td>0.0</td>\n",
       "      <td>0.0</td>\n",
       "      <td>0.0</td>\n",
       "      <td>4.8</td>\n",
       "      <td>23.8</td>\n",
       "      <td>84.8</td>\n",
       "    </tr>\n",
       "    <tr>\n",
       "      <th>1</th>\n",
       "      <td>1999</td>\n",
       "      <td>0.77</td>\n",
       "      <td>0.29</td>\n",
       "      <td>0.23</td>\n",
       "      <td>-0.95</td>\n",
       "      <td>0.92</td>\n",
       "      <td>1.12</td>\n",
       "      <td>2</td>\n",
       "      <td>-1.5</td>\n",
       "      <td>-1.3</td>\n",
       "      <td>-1.1</td>\n",
       "      <td>-1.0</td>\n",
       "      <td>-1.00</td>\n",
       "      <td>-1.00</td>\n",
       "      <td>0.4</td>\n",
       "      <td>49.6</td>\n",
       "      <td>47.8</td>\n",
       "      <td>294.0</td>\n",
       "      <td>494.2</td>\n",
       "      <td>662.4</td>\n",
       "    </tr>\n",
       "    <tr>\n",
       "      <th>2</th>\n",
       "      <td>2000</td>\n",
       "      <td>0.60</td>\n",
       "      <td>1.70</td>\n",
       "      <td>0.77</td>\n",
       "      <td>-0.03</td>\n",
       "      <td>1.58</td>\n",
       "      <td>-0.03</td>\n",
       "      <td>1</td>\n",
       "      <td>-1.7</td>\n",
       "      <td>-1.4</td>\n",
       "      <td>-1.1</td>\n",
       "      <td>-0.8</td>\n",
       "      <td>-0.70</td>\n",
       "      <td>-0.60</td>\n",
       "      <td>12.0</td>\n",
       "      <td>12.0</td>\n",
       "      <td>7.4</td>\n",
       "      <td>21.4</td>\n",
       "      <td>319.4</td>\n",
       "      <td>405.4</td>\n",
       "    </tr>\n",
       "    <tr>\n",
       "      <th>3</th>\n",
       "      <td>2001</td>\n",
       "      <td>0.25</td>\n",
       "      <td>0.45</td>\n",
       "      <td>-1.26</td>\n",
       "      <td>0.00</td>\n",
       "      <td>-0.02</td>\n",
       "      <td>-0.20</td>\n",
       "      <td>2</td>\n",
       "      <td>-0.7</td>\n",
       "      <td>-0.5</td>\n",
       "      <td>-0.4</td>\n",
       "      <td>-0.3</td>\n",
       "      <td>-0.30</td>\n",
       "      <td>-0.10</td>\n",
       "      <td>1.4</td>\n",
       "      <td>68.0</td>\n",
       "      <td>25.2</td>\n",
       "      <td>91.8</td>\n",
       "      <td>501.8</td>\n",
       "      <td>633.8</td>\n",
       "    </tr>\n",
       "    <tr>\n",
       "      <th>4</th>\n",
       "      <td>2002</td>\n",
       "      <td>0.44</td>\n",
       "      <td>1.10</td>\n",
       "      <td>0.69</td>\n",
       "      <td>1.18</td>\n",
       "      <td>-0.22</td>\n",
       "      <td>0.38</td>\n",
       "      <td>1</td>\n",
       "      <td>-0.1</td>\n",
       "      <td>0.0</td>\n",
       "      <td>0.1</td>\n",
       "      <td>0.2</td>\n",
       "      <td>0.40</td>\n",
       "      <td>0.70</td>\n",
       "      <td>27.0</td>\n",
       "      <td>6.8</td>\n",
       "      <td>44.4</td>\n",
       "      <td>46.8</td>\n",
       "      <td>389.0</td>\n",
       "      <td>425.5</td>\n",
       "    </tr>\n",
       "    <tr>\n",
       "      <th>5</th>\n",
       "      <td>2003</td>\n",
       "      <td>0.16</td>\n",
       "      <td>0.62</td>\n",
       "      <td>0.32</td>\n",
       "      <td>-0.18</td>\n",
       "      <td>0.01</td>\n",
       "      <td>-0.07</td>\n",
       "      <td>1</td>\n",
       "      <td>0.9</td>\n",
       "      <td>0.6</td>\n",
       "      <td>0.4</td>\n",
       "      <td>0.0</td>\n",
       "      <td>-0.30</td>\n",
       "      <td>-0.20</td>\n",
       "      <td>0.0</td>\n",
       "      <td>39.7</td>\n",
       "      <td>85.6</td>\n",
       "      <td>283.3</td>\n",
       "      <td>1260.8</td>\n",
       "      <td>1122.0</td>\n",
       "    </tr>\n",
       "    <tr>\n",
       "      <th>6</th>\n",
       "      <td>2004</td>\n",
       "      <td>-0.29</td>\n",
       "      <td>-0.14</td>\n",
       "      <td>1.02</td>\n",
       "      <td>1.15</td>\n",
       "      <td>0.19</td>\n",
       "      <td>-0.89</td>\n",
       "      <td>1</td>\n",
       "      <td>0.4</td>\n",
       "      <td>0.3</td>\n",
       "      <td>0.2</td>\n",
       "      <td>0.2</td>\n",
       "      <td>0.20</td>\n",
       "      <td>0.30</td>\n",
       "      <td>12.0</td>\n",
       "      <td>24.6</td>\n",
       "      <td>108.4</td>\n",
       "      <td>70.9</td>\n",
       "      <td>757.6</td>\n",
       "      <td>505.8</td>\n",
       "    </tr>\n",
       "    <tr>\n",
       "      <th>7</th>\n",
       "      <td>2005</td>\n",
       "      <td>1.52</td>\n",
       "      <td>-0.06</td>\n",
       "      <td>-1.83</td>\n",
       "      <td>-0.30</td>\n",
       "      <td>-1.25</td>\n",
       "      <td>-0.05</td>\n",
       "      <td>2</td>\n",
       "      <td>0.6</td>\n",
       "      <td>0.6</td>\n",
       "      <td>0.4</td>\n",
       "      <td>0.4</td>\n",
       "      <td>0.30</td>\n",
       "      <td>0.10</td>\n",
       "      <td>34.0</td>\n",
       "      <td>1.8</td>\n",
       "      <td>60.0</td>\n",
       "      <td>162.2</td>\n",
       "      <td>581.0</td>\n",
       "      <td>1290.8</td>\n",
       "    </tr>\n",
       "    <tr>\n",
       "      <th>8</th>\n",
       "      <td>2006</td>\n",
       "      <td>1.27</td>\n",
       "      <td>-0.51</td>\n",
       "      <td>-1.28</td>\n",
       "      <td>1.24</td>\n",
       "      <td>-1.14</td>\n",
       "      <td>0.84</td>\n",
       "      <td>2</td>\n",
       "      <td>-0.9</td>\n",
       "      <td>-0.8</td>\n",
       "      <td>-0.6</td>\n",
       "      <td>-0.4</td>\n",
       "      <td>-0.10</td>\n",
       "      <td>0.00</td>\n",
       "      <td>23.7</td>\n",
       "      <td>0.0</td>\n",
       "      <td>0.0</td>\n",
       "      <td>196.0</td>\n",
       "      <td>433.0</td>\n",
       "      <td>289.3</td>\n",
       "    </tr>\n",
       "    <tr>\n",
       "      <th>9</th>\n",
       "      <td>2007</td>\n",
       "      <td>0.22</td>\n",
       "      <td>-0.47</td>\n",
       "      <td>1.44</td>\n",
       "      <td>0.17</td>\n",
       "      <td>0.66</td>\n",
       "      <td>-1.31</td>\n",
       "      <td>1</td>\n",
       "      <td>0.7</td>\n",
       "      <td>0.2</td>\n",
       "      <td>-0.1</td>\n",
       "      <td>-0.3</td>\n",
       "      <td>-0.40</td>\n",
       "      <td>-0.50</td>\n",
       "      <td>0.0</td>\n",
       "      <td>18.0</td>\n",
       "      <td>44.2</td>\n",
       "      <td>265.2</td>\n",
       "      <td>484.8</td>\n",
       "      <td>587.4</td>\n",
       "    </tr>\n",
       "    <tr>\n",
       "      <th>10</th>\n",
       "      <td>2008</td>\n",
       "      <td>0.89</td>\n",
       "      <td>0.73</td>\n",
       "      <td>0.08</td>\n",
       "      <td>-1.07</td>\n",
       "      <td>-1.73</td>\n",
       "      <td>-1.39</td>\n",
       "      <td>1</td>\n",
       "      <td>-1.6</td>\n",
       "      <td>-1.5</td>\n",
       "      <td>-1.3</td>\n",
       "      <td>-1.0</td>\n",
       "      <td>-0.80</td>\n",
       "      <td>-0.60</td>\n",
       "      <td>0.0</td>\n",
       "      <td>73.4</td>\n",
       "      <td>66.4</td>\n",
       "      <td>176.0</td>\n",
       "      <td>208.6</td>\n",
       "      <td>654.6</td>\n",
       "    </tr>\n",
       "    <tr>\n",
       "      <th>11</th>\n",
       "      <td>2009</td>\n",
       "      <td>-0.01</td>\n",
       "      <td>0.06</td>\n",
       "      <td>0.57</td>\n",
       "      <td>-0.20</td>\n",
       "      <td>1.68</td>\n",
       "      <td>-1.21</td>\n",
       "      <td>1</td>\n",
       "      <td>-0.8</td>\n",
       "      <td>-0.8</td>\n",
       "      <td>-0.6</td>\n",
       "      <td>-0.3</td>\n",
       "      <td>0.00</td>\n",
       "      <td>0.30</td>\n",
       "      <td>46.3</td>\n",
       "      <td>5.8</td>\n",
       "      <td>36.6</td>\n",
       "      <td>54.2</td>\n",
       "      <td>671.6</td>\n",
       "      <td>689.2</td>\n",
       "    </tr>\n",
       "    <tr>\n",
       "      <th>12</th>\n",
       "      <td>2010</td>\n",
       "      <td>-1.11</td>\n",
       "      <td>-1.98</td>\n",
       "      <td>-0.88</td>\n",
       "      <td>-0.72</td>\n",
       "      <td>-1.49</td>\n",
       "      <td>-0.82</td>\n",
       "      <td>4</td>\n",
       "      <td>1.5</td>\n",
       "      <td>1.2</td>\n",
       "      <td>0.8</td>\n",
       "      <td>0.4</td>\n",
       "      <td>-0.20</td>\n",
       "      <td>-0.70</td>\n",
       "      <td>26.2</td>\n",
       "      <td>2.6</td>\n",
       "      <td>7.0</td>\n",
       "      <td>301.0</td>\n",
       "      <td>859.6</td>\n",
       "      <td>782.4</td>\n",
       "    </tr>\n",
       "    <tr>\n",
       "      <th>13</th>\n",
       "      <td>2011</td>\n",
       "      <td>-0.88</td>\n",
       "      <td>0.70</td>\n",
       "      <td>0.61</td>\n",
       "      <td>2.48</td>\n",
       "      <td>-0.06</td>\n",
       "      <td>-1.28</td>\n",
       "      <td>1</td>\n",
       "      <td>-1.4</td>\n",
       "      <td>-1.2</td>\n",
       "      <td>-0.9</td>\n",
       "      <td>-0.7</td>\n",
       "      <td>-0.60</td>\n",
       "      <td>-0.40</td>\n",
       "      <td>69.0</td>\n",
       "      <td>79.8</td>\n",
       "      <td>82.6</td>\n",
       "      <td>251.0</td>\n",
       "      <td>530.8</td>\n",
       "      <td>449.0</td>\n",
       "    </tr>\n",
       "    <tr>\n",
       "      <th>14</th>\n",
       "      <td>2012</td>\n",
       "      <td>1.17</td>\n",
       "      <td>0.42</td>\n",
       "      <td>1.27</td>\n",
       "      <td>0.47</td>\n",
       "      <td>-0.91</td>\n",
       "      <td>-2.53</td>\n",
       "      <td>1</td>\n",
       "      <td>-0.9</td>\n",
       "      <td>-0.7</td>\n",
       "      <td>-0.6</td>\n",
       "      <td>-0.5</td>\n",
       "      <td>-0.30</td>\n",
       "      <td>0.00</td>\n",
       "      <td>27.6</td>\n",
       "      <td>21.6</td>\n",
       "      <td>137.4</td>\n",
       "      <td>308.2</td>\n",
       "      <td>500.8</td>\n",
       "      <td>282.8</td>\n",
       "    </tr>\n",
       "    <tr>\n",
       "      <th>15</th>\n",
       "      <td>2013</td>\n",
       "      <td>0.35</td>\n",
       "      <td>-0.45</td>\n",
       "      <td>-1.61</td>\n",
       "      <td>0.69</td>\n",
       "      <td>0.57</td>\n",
       "      <td>0.52</td>\n",
       "      <td>2</td>\n",
       "      <td>-0.4</td>\n",
       "      <td>-0.4</td>\n",
       "      <td>-0.3</td>\n",
       "      <td>-0.3</td>\n",
       "      <td>-0.40</td>\n",
       "      <td>-0.40</td>\n",
       "      <td>7.0</td>\n",
       "      <td>106.2</td>\n",
       "      <td>21.2</td>\n",
       "      <td>112.0</td>\n",
       "      <td>470.0</td>\n",
       "      <td>565.0</td>\n",
       "    </tr>\n",
       "    <tr>\n",
       "      <th>16</th>\n",
       "      <td>2014</td>\n",
       "      <td>0.29</td>\n",
       "      <td>1.34</td>\n",
       "      <td>0.80</td>\n",
       "      <td>0.31</td>\n",
       "      <td>-0.92</td>\n",
       "      <td>-0.97</td>\n",
       "      <td>1</td>\n",
       "      <td>-0.4</td>\n",
       "      <td>-0.5</td>\n",
       "      <td>-0.3</td>\n",
       "      <td>0.0</td>\n",
       "      <td>0.20</td>\n",
       "      <td>0.20</td>\n",
       "      <td>3.6</td>\n",
       "      <td>112.8</td>\n",
       "      <td>112.4</td>\n",
       "      <td>279.6</td>\n",
       "      <td>642.2</td>\n",
       "      <td>445.0</td>\n",
       "    </tr>\n",
       "    <tr>\n",
       "      <th>17</th>\n",
       "      <td>2015</td>\n",
       "      <td>1.79</td>\n",
       "      <td>1.32</td>\n",
       "      <td>1.45</td>\n",
       "      <td>0.73</td>\n",
       "      <td>0.15</td>\n",
       "      <td>-0.07</td>\n",
       "      <td>1</td>\n",
       "      <td>0.5</td>\n",
       "      <td>0.5</td>\n",
       "      <td>0.5</td>\n",
       "      <td>0.7</td>\n",
       "      <td>0.90</td>\n",
       "      <td>1.20</td>\n",
       "      <td>61.2</td>\n",
       "      <td>0.4</td>\n",
       "      <td>134.2</td>\n",
       "      <td>198.8</td>\n",
       "      <td>268.4</td>\n",
       "      <td>302.8</td>\n",
       "    </tr>\n",
       "    <tr>\n",
       "      <th>18</th>\n",
       "      <td>2016</td>\n",
       "      <td>0.12</td>\n",
       "      <td>1.58</td>\n",
       "      <td>0.73</td>\n",
       "      <td>0.38</td>\n",
       "      <td>-0.77</td>\n",
       "      <td>-0.43</td>\n",
       "      <td>1</td>\n",
       "      <td>2.5</td>\n",
       "      <td>2.1</td>\n",
       "      <td>1.6</td>\n",
       "      <td>0.9</td>\n",
       "      <td>0.40</td>\n",
       "      <td>-0.10</td>\n",
       "      <td>33.4</td>\n",
       "      <td>43.6</td>\n",
       "      <td>36.0</td>\n",
       "      <td>196.2</td>\n",
       "      <td>304.4</td>\n",
       "      <td>507.0</td>\n",
       "    </tr>\n",
       "    <tr>\n",
       "      <th>19</th>\n",
       "      <td>2017</td>\n",
       "      <td>0.48</td>\n",
       "      <td>1.00</td>\n",
       "      <td>0.74</td>\n",
       "      <td>1.73</td>\n",
       "      <td>-1.91</td>\n",
       "      <td>0.05</td>\n",
       "      <td>1</td>\n",
       "      <td>-0.3</td>\n",
       "      <td>-0.2</td>\n",
       "      <td>0.1</td>\n",
       "      <td>0.2</td>\n",
       "      <td>0.30</td>\n",
       "      <td>0.30</td>\n",
       "      <td>10.8</td>\n",
       "      <td>10.8</td>\n",
       "      <td>20.0</td>\n",
       "      <td>137.0</td>\n",
       "      <td>473.6</td>\n",
       "      <td>420.4</td>\n",
       "    </tr>\n",
       "    <tr>\n",
       "      <th>20</th>\n",
       "      <td>2018</td>\n",
       "      <td>1.44</td>\n",
       "      <td>1.58</td>\n",
       "      <td>-0.93</td>\n",
       "      <td>1.24</td>\n",
       "      <td>2.12</td>\n",
       "      <td>1.09</td>\n",
       "      <td>3</td>\n",
       "      <td>-0.9</td>\n",
       "      <td>-0.9</td>\n",
       "      <td>-0.7</td>\n",
       "      <td>-0.5</td>\n",
       "      <td>-0.20</td>\n",
       "      <td>0.00</td>\n",
       "      <td>38.2</td>\n",
       "      <td>30.6</td>\n",
       "      <td>73.6</td>\n",
       "      <td>219.6</td>\n",
       "      <td>548.0</td>\n",
       "      <td>284.4</td>\n",
       "    </tr>\n",
       "    <tr>\n",
       "      <th>21</th>\n",
       "      <td>2019</td>\n",
       "      <td>0.59</td>\n",
       "      <td>0.29</td>\n",
       "      <td>1.23</td>\n",
       "      <td>0.47</td>\n",
       "      <td>-2.62</td>\n",
       "      <td>-1.09</td>\n",
       "      <td>1</td>\n",
       "      <td>0.7</td>\n",
       "      <td>0.7</td>\n",
       "      <td>0.7</td>\n",
       "      <td>0.7</td>\n",
       "      <td>0.50</td>\n",
       "      <td>0.50</td>\n",
       "      <td>18.0</td>\n",
       "      <td>13.6</td>\n",
       "      <td>90.0</td>\n",
       "      <td>55.6</td>\n",
       "      <td>597.6</td>\n",
       "      <td>332.6</td>\n",
       "    </tr>\n",
       "    <tr>\n",
       "      <th>22</th>\n",
       "      <td>2020</td>\n",
       "      <td>1.34</td>\n",
       "      <td>1.26</td>\n",
       "      <td>1.01</td>\n",
       "      <td>-1.02</td>\n",
       "      <td>-0.41</td>\n",
       "      <td>-0.15</td>\n",
       "      <td>1</td>\n",
       "      <td>0.5</td>\n",
       "      <td>0.5</td>\n",
       "      <td>0.4</td>\n",
       "      <td>0.2</td>\n",
       "      <td>-0.10</td>\n",
       "      <td>-0.30</td>\n",
       "      <td>21.6</td>\n",
       "      <td>50.6</td>\n",
       "      <td>18.8</td>\n",
       "      <td>141.0</td>\n",
       "      <td>508.6</td>\n",
       "      <td>594.0</td>\n",
       "    </tr>\n",
       "    <tr>\n",
       "      <th>23</th>\n",
       "      <td>2021</td>\n",
       "      <td>-1.11</td>\n",
       "      <td>0.14</td>\n",
       "      <td>0.73</td>\n",
       "      <td>-1.43</td>\n",
       "      <td>-1.24</td>\n",
       "      <td>0.77</td>\n",
       "      <td>2</td>\n",
       "      <td>-1.0</td>\n",
       "      <td>-0.9</td>\n",
       "      <td>-0.8</td>\n",
       "      <td>-0.7</td>\n",
       "      <td>-0.50</td>\n",
       "      <td>-0.40</td>\n",
       "      <td>80.0</td>\n",
       "      <td>44.0</td>\n",
       "      <td>108.2</td>\n",
       "      <td>249.4</td>\n",
       "      <td>633.4</td>\n",
       "      <td>447.8</td>\n",
       "    </tr>\n",
       "    <tr>\n",
       "      <th>24</th>\n",
       "      <td>2022</td>\n",
       "      <td>1.08</td>\n",
       "      <td>1.68</td>\n",
       "      <td>0.77</td>\n",
       "      <td>-0.36</td>\n",
       "      <td>0.71</td>\n",
       "      <td>-0.12</td>\n",
       "      <td>1</td>\n",
       "      <td>-1.0</td>\n",
       "      <td>-0.9</td>\n",
       "      <td>-1.0</td>\n",
       "      <td>-1.1</td>\n",
       "      <td>-1.00</td>\n",
       "      <td>-0.90</td>\n",
       "      <td>42.4</td>\n",
       "      <td>1.0</td>\n",
       "      <td>58.2</td>\n",
       "      <td>357.4</td>\n",
       "      <td>456.8</td>\n",
       "      <td>545.6</td>\n",
       "    </tr>\n",
       "    <tr>\n",
       "      <th>25</th>\n",
       "      <td>2023</td>\n",
       "      <td>1.25</td>\n",
       "      <td>0.92</td>\n",
       "      <td>-1.11</td>\n",
       "      <td>-0.63</td>\n",
       "      <td>0.39</td>\n",
       "      <td>-0.58</td>\n",
       "      <td>2</td>\n",
       "      <td>-0.7</td>\n",
       "      <td>-0.4</td>\n",
       "      <td>-0.1</td>\n",
       "      <td>0.2</td>\n",
       "      <td>0.50</td>\n",
       "      <td>0.80</td>\n",
       "      <td>43.2</td>\n",
       "      <td>0.4</td>\n",
       "      <td>216.0</td>\n",
       "      <td>113.2</td>\n",
       "      <td>247.2</td>\n",
       "      <td>474.2</td>\n",
       "    </tr>\n",
       "    <tr>\n",
       "      <th>26</th>\n",
       "      <td>2024</td>\n",
       "      <td>0.21</td>\n",
       "      <td>1.09</td>\n",
       "      <td>-0.21</td>\n",
       "      <td>-0.78</td>\n",
       "      <td>-0.44</td>\n",
       "      <td>1.70</td>\n",
       "      <td>2</td>\n",
       "      <td>1.8</td>\n",
       "      <td>1.5</td>\n",
       "      <td>1.1</td>\n",
       "      <td>0.7</td>\n",
       "      <td>0.44</td>\n",
       "      <td>0.05</td>\n",
       "      <td>2.6</td>\n",
       "      <td>11.6</td>\n",
       "      <td>0.0</td>\n",
       "      <td>141.6</td>\n",
       "      <td>239.4</td>\n",
       "      <td>650.0</td>\n",
       "    </tr>\n",
       "  </tbody>\n",
       "</table>\n",
       "</div>"
      ],
      "text/plain": [
       "     Año  Enero_atlantico  Febrero_atlantico  Marzo_atlantico  \\\n",
       "0   1998             0.39              -0.11             0.87   \n",
       "1   1999             0.77               0.29             0.23   \n",
       "2   2000             0.60               1.70             0.77   \n",
       "3   2001             0.25               0.45            -1.26   \n",
       "4   2002             0.44               1.10             0.69   \n",
       "5   2003             0.16               0.62             0.32   \n",
       "6   2004            -0.29              -0.14             1.02   \n",
       "7   2005             1.52              -0.06            -1.83   \n",
       "8   2006             1.27              -0.51            -1.28   \n",
       "9   2007             0.22              -0.47             1.44   \n",
       "10  2008             0.89               0.73             0.08   \n",
       "11  2009            -0.01               0.06             0.57   \n",
       "12  2010            -1.11              -1.98            -0.88   \n",
       "13  2011            -0.88               0.70             0.61   \n",
       "14  2012             1.17               0.42             1.27   \n",
       "15  2013             0.35              -0.45            -1.61   \n",
       "16  2014             0.29               1.34             0.80   \n",
       "17  2015             1.79               1.32             1.45   \n",
       "18  2016             0.12               1.58             0.73   \n",
       "19  2017             0.48               1.00             0.74   \n",
       "20  2018             1.44               1.58            -0.93   \n",
       "21  2019             0.59               0.29             1.23   \n",
       "22  2020             1.34               1.26             1.01   \n",
       "23  2021            -1.11               0.14             0.73   \n",
       "24  2022             1.08               1.68             0.77   \n",
       "25  2023             1.25               0.92            -1.11   \n",
       "26  2024             0.21               1.09            -0.21   \n",
       "\n",
       "    Abril_atlantico  Mayo_atlantico  Junio_atlantico  Cluster  Enero_pacifico  \\\n",
       "0             -0.68           -1.32            -2.72        1             2.2   \n",
       "1             -0.95            0.92             1.12        2            -1.5   \n",
       "2             -0.03            1.58            -0.03        1            -1.7   \n",
       "3              0.00           -0.02            -0.20        2            -0.7   \n",
       "4              1.18           -0.22             0.38        1            -0.1   \n",
       "5             -0.18            0.01            -0.07        1             0.9   \n",
       "6              1.15            0.19            -0.89        1             0.4   \n",
       "7             -0.30           -1.25            -0.05        2             0.6   \n",
       "8              1.24           -1.14             0.84        2            -0.9   \n",
       "9              0.17            0.66            -1.31        1             0.7   \n",
       "10            -1.07           -1.73            -1.39        1            -1.6   \n",
       "11            -0.20            1.68            -1.21        1            -0.8   \n",
       "12            -0.72           -1.49            -0.82        4             1.5   \n",
       "13             2.48           -0.06            -1.28        1            -1.4   \n",
       "14             0.47           -0.91            -2.53        1            -0.9   \n",
       "15             0.69            0.57             0.52        2            -0.4   \n",
       "16             0.31           -0.92            -0.97        1            -0.4   \n",
       "17             0.73            0.15            -0.07        1             0.5   \n",
       "18             0.38           -0.77            -0.43        1             2.5   \n",
       "19             1.73           -1.91             0.05        1            -0.3   \n",
       "20             1.24            2.12             1.09        3            -0.9   \n",
       "21             0.47           -2.62            -1.09        1             0.7   \n",
       "22            -1.02           -0.41            -0.15        1             0.5   \n",
       "23            -1.43           -1.24             0.77        2            -1.0   \n",
       "24            -0.36            0.71            -0.12        1            -1.0   \n",
       "25            -0.63            0.39            -0.58        2            -0.7   \n",
       "26            -0.78           -0.44             1.70        2             1.8   \n",
       "\n",
       "    Febrero_pacifico  Marzo_pacifico  Abril_pacifico  Mayo_pacifico  \\\n",
       "0                1.9             1.4             1.0           0.50   \n",
       "1               -1.3            -1.1            -1.0          -1.00   \n",
       "2               -1.4            -1.1            -0.8          -0.70   \n",
       "3               -0.5            -0.4            -0.3          -0.30   \n",
       "4                0.0             0.1             0.2           0.40   \n",
       "5                0.6             0.4             0.0          -0.30   \n",
       "6                0.3             0.2             0.2           0.20   \n",
       "7                0.6             0.4             0.4           0.30   \n",
       "8               -0.8            -0.6            -0.4          -0.10   \n",
       "9                0.2            -0.1            -0.3          -0.40   \n",
       "10              -1.5            -1.3            -1.0          -0.80   \n",
       "11              -0.8            -0.6            -0.3           0.00   \n",
       "12               1.2             0.8             0.4          -0.20   \n",
       "13              -1.2            -0.9            -0.7          -0.60   \n",
       "14              -0.7            -0.6            -0.5          -0.30   \n",
       "15              -0.4            -0.3            -0.3          -0.40   \n",
       "16              -0.5            -0.3             0.0           0.20   \n",
       "17               0.5             0.5             0.7           0.90   \n",
       "18               2.1             1.6             0.9           0.40   \n",
       "19              -0.2             0.1             0.2           0.30   \n",
       "20              -0.9            -0.7            -0.5          -0.20   \n",
       "21               0.7             0.7             0.7           0.50   \n",
       "22               0.5             0.4             0.2          -0.10   \n",
       "23              -0.9            -0.8            -0.7          -0.50   \n",
       "24              -0.9            -1.0            -1.1          -1.00   \n",
       "25              -0.4            -0.1             0.2           0.50   \n",
       "26               1.5             1.1             0.7           0.44   \n",
       "\n",
       "    Junio_pacifico  Enero_lluvia  Febrero_lluvia  Marzo_lluvia  Abril_lluvia  \\\n",
       "0            -0.10           0.0             0.0           0.0           4.8   \n",
       "1            -1.00           0.4            49.6          47.8         294.0   \n",
       "2            -0.60          12.0            12.0           7.4          21.4   \n",
       "3            -0.10           1.4            68.0          25.2          91.8   \n",
       "4             0.70          27.0             6.8          44.4          46.8   \n",
       "5            -0.20           0.0            39.7          85.6         283.3   \n",
       "6             0.30          12.0            24.6         108.4          70.9   \n",
       "7             0.10          34.0             1.8          60.0         162.2   \n",
       "8             0.00          23.7             0.0           0.0         196.0   \n",
       "9            -0.50           0.0            18.0          44.2         265.2   \n",
       "10           -0.60           0.0            73.4          66.4         176.0   \n",
       "11            0.30          46.3             5.8          36.6          54.2   \n",
       "12           -0.70          26.2             2.6           7.0         301.0   \n",
       "13           -0.40          69.0            79.8          82.6         251.0   \n",
       "14            0.00          27.6            21.6         137.4         308.2   \n",
       "15           -0.40           7.0           106.2          21.2         112.0   \n",
       "16            0.20           3.6           112.8         112.4         279.6   \n",
       "17            1.20          61.2             0.4         134.2         198.8   \n",
       "18           -0.10          33.4            43.6          36.0         196.2   \n",
       "19            0.30          10.8            10.8          20.0         137.0   \n",
       "20            0.00          38.2            30.6          73.6         219.6   \n",
       "21            0.50          18.0            13.6          90.0          55.6   \n",
       "22           -0.30          21.6            50.6          18.8         141.0   \n",
       "23           -0.40          80.0            44.0         108.2         249.4   \n",
       "24           -0.90          42.4             1.0          58.2         357.4   \n",
       "25            0.80          43.2             0.4         216.0         113.2   \n",
       "26            0.05           2.6            11.6           0.0         141.6   \n",
       "\n",
       "    Mayo_lluvia  Junio_lluvia  \n",
       "0          23.8          84.8  \n",
       "1         494.2         662.4  \n",
       "2         319.4         405.4  \n",
       "3         501.8         633.8  \n",
       "4         389.0         425.5  \n",
       "5        1260.8        1122.0  \n",
       "6         757.6         505.8  \n",
       "7         581.0        1290.8  \n",
       "8         433.0         289.3  \n",
       "9         484.8         587.4  \n",
       "10        208.6         654.6  \n",
       "11        671.6         689.2  \n",
       "12        859.6         782.4  \n",
       "13        530.8         449.0  \n",
       "14        500.8         282.8  \n",
       "15        470.0         565.0  \n",
       "16        642.2         445.0  \n",
       "17        268.4         302.8  \n",
       "18        304.4         507.0  \n",
       "19        473.6         420.4  \n",
       "20        548.0         284.4  \n",
       "21        597.6         332.6  \n",
       "22        508.6         594.0  \n",
       "23        633.4         447.8  \n",
       "24        456.8         545.6  \n",
       "25        247.2         474.2  \n",
       "26        239.4         650.0  "
      ]
     },
     "execution_count": 77,
     "metadata": {},
     "output_type": "execute_result"
    }
   ],
   "source": [
    "columns_to_rename = {\n",
    "    'Enero': 'Enero_lluvia',\n",
    "    'Febrero': 'Febrero_lluvia',\n",
    "    'Marzo': 'Marzo_lluvia',\n",
    "    'Abril': 'Abril_lluvia',\n",
    "    'Mayo': 'Mayo_lluvia',\n",
    "    'Junio': 'Junio_lluvia'\n",
    "}\n",
    "\n",
    "df.rename(columns=columns_to_rename, inplace=True)\n",
    "df"
   ]
  },
  {
   "cell_type": "markdown",
   "metadata": {},
   "source": [
    "### Se aplica el método de cluster jerarquico teniendo en cuenta las tres variables "
   ]
  },
  {
   "cell_type": "code",
   "execution_count": 165,
   "metadata": {},
   "outputs": [
    {
     "data": {
      "image/png": "[encoded data removed]",
      "text/plain": [
       "<Figure size 1000x700 with 1 Axes>"
      ]
     },
     "metadata": {},
     "output_type": "display_data"
    },
    {
     "data": {
      "text/html": [
       "<div>\n",
       "<style scoped>\n",
       "    .dataframe tbody tr th:only-of-type {\n",
       "        vertical-align: middle;\n",
       "    }\n",
       "\n",
       "    .dataframe tbody tr th {\n",
       "        vertical-align: top;\n",
       "    }\n",
       "\n",
       "    .dataframe thead th {\n",
       "        text-align: right;\n",
       "    }\n",
       "</style>\n",
       "<table border=\"1\" class=\"dataframe\">\n",
       "  <thead>\n",
       "    <tr style=\"text-align: right;\">\n",
       "      <th></th>\n",
       "      <th>Cluster1</th>\n",
       "      <th>Cluster2</th>\n",
       "      <th>Cluster3</th>\n",
       "      <th>Cluster4</th>\n",
       "      <th>Cluster5</th>\n",
       "      <th>Cluster6</th>\n",
       "    </tr>\n",
       "  </thead>\n",
       "  <tbody>\n",
       "    <tr>\n",
       "      <th>0</th>\n",
       "      <td>1998</td>\n",
       "      <td>2003</td>\n",
       "      <td>2002</td>\n",
       "      <td>2011</td>\n",
       "      <td>1999</td>\n",
       "      <td>2010</td>\n",
       "    </tr>\n",
       "    <tr>\n",
       "      <th>1</th>\n",
       "      <td>2016</td>\n",
       "      <td>2005</td>\n",
       "      <td>2004</td>\n",
       "      <td>2021</td>\n",
       "      <td>2000</td>\n",
       "      <td>NaN</td>\n",
       "    </tr>\n",
       "    <tr>\n",
       "      <th>2</th>\n",
       "      <td>2024</td>\n",
       "      <td>NaN</td>\n",
       "      <td>2007</td>\n",
       "      <td>NaN</td>\n",
       "      <td>2001</td>\n",
       "      <td>NaN</td>\n",
       "    </tr>\n",
       "    <tr>\n",
       "      <th>3</th>\n",
       "      <td>NaN</td>\n",
       "      <td>NaN</td>\n",
       "      <td>2009</td>\n",
       "      <td>NaN</td>\n",
       "      <td>2006</td>\n",
       "      <td>NaN</td>\n",
       "    </tr>\n",
       "    <tr>\n",
       "      <th>4</th>\n",
       "      <td>NaN</td>\n",
       "      <td>NaN</td>\n",
       "      <td>2012</td>\n",
       "      <td>NaN</td>\n",
       "      <td>2008</td>\n",
       "      <td>NaN</td>\n",
       "    </tr>\n",
       "    <tr>\n",
       "      <th>5</th>\n",
       "      <td>NaN</td>\n",
       "      <td>NaN</td>\n",
       "      <td>2014</td>\n",
       "      <td>NaN</td>\n",
       "      <td>2013</td>\n",
       "      <td>NaN</td>\n",
       "    </tr>\n",
       "    <tr>\n",
       "      <th>6</th>\n",
       "      <td>NaN</td>\n",
       "      <td>NaN</td>\n",
       "      <td>2015</td>\n",
       "      <td>NaN</td>\n",
       "      <td>2018</td>\n",
       "      <td>NaN</td>\n",
       "    </tr>\n",
       "    <tr>\n",
       "      <th>7</th>\n",
       "      <td>NaN</td>\n",
       "      <td>NaN</td>\n",
       "      <td>2017</td>\n",
       "      <td>NaN</td>\n",
       "      <td>2022</td>\n",
       "      <td>NaN</td>\n",
       "    </tr>\n",
       "    <tr>\n",
       "      <th>8</th>\n",
       "      <td>NaN</td>\n",
       "      <td>NaN</td>\n",
       "      <td>2019</td>\n",
       "      <td>NaN</td>\n",
       "      <td>NaN</td>\n",
       "      <td>NaN</td>\n",
       "    </tr>\n",
       "    <tr>\n",
       "      <th>9</th>\n",
       "      <td>NaN</td>\n",
       "      <td>NaN</td>\n",
       "      <td>2020</td>\n",
       "      <td>NaN</td>\n",
       "      <td>NaN</td>\n",
       "      <td>NaN</td>\n",
       "    </tr>\n",
       "    <tr>\n",
       "      <th>10</th>\n",
       "      <td>NaN</td>\n",
       "      <td>NaN</td>\n",
       "      <td>2023</td>\n",
       "      <td>NaN</td>\n",
       "      <td>NaN</td>\n",
       "      <td>NaN</td>\n",
       "    </tr>\n",
       "  </tbody>\n",
       "</table>\n",
       "</div>"
      ],
      "text/plain": [
       "   Cluster1 Cluster2 Cluster3 Cluster4 Cluster5 Cluster6\n",
       "0      1998     2003     2002     2011     1999     2010\n",
       "1      2016     2005     2004     2021     2000      NaN\n",
       "2      2024      NaN     2007      NaN     2001      NaN\n",
       "3       NaN      NaN     2009      NaN     2006      NaN\n",
       "4       NaN      NaN     2012      NaN     2008      NaN\n",
       "5       NaN      NaN     2014      NaN     2013      NaN\n",
       "6       NaN      NaN     2015      NaN     2018      NaN\n",
       "7       NaN      NaN     2017      NaN     2022      NaN\n",
       "8       NaN      NaN     2019      NaN      NaN      NaN\n",
       "9       NaN      NaN     2020      NaN      NaN      NaN\n",
       "10      NaN      NaN     2023      NaN      NaN      NaN"
      ]
     },
     "execution_count": 165,
     "metadata": {},
     "output_type": "execute_result"
    }
   ],
   "source": [
    "# columnas a normalizar\n",
    "\n",
    "df_st= df.copy()\n",
    "df_st['Año']= df_st['Año'].astype('string')\n",
    "\n",
    "columns_to_normalize = df_st.columns.difference(['Año'])\n",
    "\n",
    "# Normalizar las columnas\n",
    "df_st[columns_to_normalize] = (df_st[columns_to_normalize] - df_st[columns_to_normalize].mean()) / df_st[columns_to_normalize].std()\n",
    "\n",
    "#scaler = StandardScaler()\n",
    "#data_normalized = scaler.fit_transform(df.drop(columns=['Año']))\n",
    "\n",
    "# matriz de distancias\n",
    "dist_matrix = pdist(df_st[columns_to_normalize], metric='euclidean')\n",
    "\n",
    "# algoritmo de clustering jerárquico usando Average Linkage\n",
    "Z = linkage(dist_matrix, method='average')\n",
    "\n",
    "# dendrograma\n",
    "plt.figure(figsize=(10, 7))\n",
    "dendrogram(Z, labels=df_st['Año'].values, leaf_rotation=90)\n",
    "plt.title('Dendrograma de Clustering Jerárquico (Average Linkage)')\n",
    "plt.xlabel('Año')\n",
    "plt.ylabel('Distancia')\n",
    "plt.show()\n",
    "\n",
    "\n",
    "#  criterio para el número máximo de clusters\n",
    "max_clusters = 6  # máximo de clusters\n",
    "clusters = fcluster(Z, max_clusters, criterion='maxclust')\n",
    "\n",
    "df_st['Cluster'] = clusters\n",
    "\n",
    "df_st[['Año', 'Cluster']]\n",
    "\n",
    "\n",
    "# Agrupar los años por cada cluster\n",
    "cluster_groups = df_st.groupby('Cluster')['Año'].apply(list).reset_index()\n",
    "\n",
    "\n",
    "cluster_results = {}\n",
    "for index, row in cluster_groups.iterrows():\n",
    "    cluster_results[f'Cluster{row[\"Cluster\"]}'] = row['Año']\n",
    "\n",
    "cluster_df = pd.DataFrame(dict([(k, pd.Series(v)) for k, v in cluster_results.items()]))\n",
    "\n",
    "\n",
    "cluster_df"
   ]
  },
  {
   "cell_type": "markdown",
   "metadata": {},
   "source": [
    "### Método DBSCAN"
   ]
  },
  {
   "cell_type": "markdown",
   "metadata": {},
   "source": [
    "no resultó ser un buen método para clasificar los periodos\n"
   ]
  },
  {
   "cell_type": "code",
   "execution_count": 151,
   "metadata": {},
   "outputs": [
    {
     "name": "stdout",
     "output_type": "stream",
     "text": [
      "Mejores parámetros:  {'eps': 0.1, 'min_samples': 2}\n",
      "     Año  Cluster_DBSCAN\n",
      "0   1998              -1\n",
      "1   1999              -1\n",
      "2   2000              -1\n",
      "3   2001              -1\n",
      "4   2002              -1\n",
      "5   2003              -1\n",
      "6   2004              -1\n",
      "7   2005              -1\n",
      "8   2006              -1\n",
      "9   2007              -1\n",
      "10  2008              -1\n",
      "11  2009              -1\n",
      "12  2010              -1\n",
      "13  2011              -1\n",
      "14  2012              -1\n",
      "15  2013              -1\n",
      "16  2014              -1\n",
      "17  2015              -1\n",
      "18  2016              -1\n",
      "19  2017              -1\n",
      "20  2018              -1\n",
      "21  2019              -1\n",
      "22  2020              -1\n",
      "23  2021              -1\n",
      "24  2022              -1\n",
      "25  2023              -1\n",
      "26  2024              -1\n"
     ]
    },
    {
     "data": {
      "image/png": "[encoded data removed]",
      "text/plain": [
       "<Figure size 640x480 with 1 Axes>"
      ]
     },
     "metadata": {},
     "output_type": "display_data"
    }
   ],
   "source": [
    "\n",
    "df_st = df.copy()\n",
    "df_st['Año'] = df_st['Año'].astype('string')\n",
    "\n",
    "# Seleccionar las columnas a normalizar (todas menos 'Año')\n",
    "columns_to_normalize = df_st.columns.difference(['Año'])\n",
    "\n",
    "# Normalizar las columnas\n",
    "scaler = StandardScaler()\n",
    "df_st[columns_to_normalize] = scaler.fit_transform(df_st[columns_to_normalize])\n",
    "\n",
    "# Crear una clase envoltorio para DBSCAN para usar con GridSearchCV\n",
    "class DBSCANWrapper(BaseEstimator, ClusterMixin):\n",
    "    def __init__(self, eps=0.5, min_samples=5):\n",
    "        self.eps = eps\n",
    "        self.min_samples = min_samples\n",
    "        self.dbscan = DBSCAN(eps=self.eps, min_samples=self.min_samples)\n",
    "\n",
    "    def fit(self, X, y=None):\n",
    "        self.dbscan.set_params(eps=self.eps, min_samples=self.min_samples)\n",
    "        self.dbscan.fit(X)\n",
    "        return self\n",
    "\n",
    "    def fit_predict(self, X, y=None):\n",
    "        self.fit(X)\n",
    "        return self.dbscan.labels_\n",
    "\n",
    "# Definir el grid de parámetros\n",
    "param_grid = {\n",
    "    'eps': np.arange(0.1, 2.0, 0.1),\n",
    "    'min_samples': np.arange(2, 10)\n",
    "}\n",
    "\n",
    "# Definir la función de scoring\n",
    "def silhouette_scorer(estimator, X):\n",
    "    labels = estimator.fit_predict(X)\n",
    "    if len(set(labels)) > 1:\n",
    "        return silhouette_score(X, labels)\n",
    "    else:\n",
    "        return -1  # Si sólo hay un clúster, la puntuación es no válida\n",
    "\n",
    "# Crear el objeto GridSearchCV\n",
    "grid_search = GridSearchCV(DBSCANWrapper(), param_grid, scoring=make_scorer(silhouette_scorer), cv=3)\n",
    "\n",
    "# Realizar la búsqueda en malla\n",
    "grid_search.fit(df_st[columns_to_normalize])\n",
    "\n",
    "# Obtener los mejores parámetros\n",
    "best_params = grid_search.best_params_\n",
    "print(\"Mejores parámetros: \", best_params)\n",
    "\n",
    "# Aplicar DBSCAN con los mejores parámetros\n",
    "dbscan = DBSCAN(eps=best_params['eps'], min_samples=best_params['min_samples'])\n",
    "df_st['Cluster_DBSCAN'] = dbscan.fit_predict(df_st[columns_to_normalize])\n",
    "\n",
    "# Verificar los clústeres asignados\n",
    "print(df_st[['Año', 'Cluster_DBSCAN']])\n",
    "\n",
    "# Visualizar los resultados (opcional)\n",
    "plt.scatter(df_st['Año'].astype(int), df_st['Cluster_DBSCAN'])\n",
    "plt.title('DBSCAN Clustering Results')\n",
    "plt.xlabel('Año')\n",
    "plt.ylabel('Cluster')\n",
    "plt.show()"
   ]
  },
  {
   "cell_type": "markdown",
   "metadata": {},
   "source": [
    "### Método de kmeans"
   ]
  },
  {
   "cell_type": "code",
   "execution_count": 169,
   "metadata": {},
   "outputs": [
    {
     "data": {
      "text/html": [
       "<div>\n",
       "<style scoped>\n",
       "    .dataframe tbody tr th:only-of-type {\n",
       "        vertical-align: middle;\n",
       "    }\n",
       "\n",
       "    .dataframe tbody tr th {\n",
       "        vertical-align: top;\n",
       "    }\n",
       "\n",
       "    .dataframe thead th {\n",
       "        text-align: right;\n",
       "    }\n",
       "</style>\n",
       "<table border=\"1\" class=\"dataframe\">\n",
       "  <thead>\n",
       "    <tr style=\"text-align: right;\">\n",
       "      <th></th>\n",
       "      <th>Cluster1</th>\n",
       "      <th>Cluster2</th>\n",
       "      <th>Cluster3</th>\n",
       "      <th>Cluster4</th>\n",
       "      <th>Cluster5</th>\n",
       "      <th>Cluster6</th>\n",
       "    </tr>\n",
       "  </thead>\n",
       "  <tbody>\n",
       "    <tr>\n",
       "      <th>0</th>\n",
       "      <td>2008</td>\n",
       "      <td>2010</td>\n",
       "      <td>1999</td>\n",
       "      <td>2001</td>\n",
       "      <td>1998</td>\n",
       "      <td>2004</td>\n",
       "    </tr>\n",
       "    <tr>\n",
       "      <th>1</th>\n",
       "      <td>2012</td>\n",
       "      <td>2016</td>\n",
       "      <td>2000</td>\n",
       "      <td>2003</td>\n",
       "      <td>2002</td>\n",
       "      <td>2007</td>\n",
       "    </tr>\n",
       "    <tr>\n",
       "      <th>2</th>\n",
       "      <td>NaN</td>\n",
       "      <td>2024</td>\n",
       "      <td>2006</td>\n",
       "      <td>2005</td>\n",
       "      <td>2015</td>\n",
       "      <td>2009</td>\n",
       "    </tr>\n",
       "    <tr>\n",
       "      <th>3</th>\n",
       "      <td>NaN</td>\n",
       "      <td>NaN</td>\n",
       "      <td>2013</td>\n",
       "      <td>2014</td>\n",
       "      <td>2017</td>\n",
       "      <td>2011</td>\n",
       "    </tr>\n",
       "    <tr>\n",
       "      <th>4</th>\n",
       "      <td>NaN</td>\n",
       "      <td>NaN</td>\n",
       "      <td>2018</td>\n",
       "      <td>2020</td>\n",
       "      <td>2019</td>\n",
       "      <td>2023</td>\n",
       "    </tr>\n",
       "    <tr>\n",
       "      <th>5</th>\n",
       "      <td>NaN</td>\n",
       "      <td>NaN</td>\n",
       "      <td>2021</td>\n",
       "      <td>NaN</td>\n",
       "      <td>NaN</td>\n",
       "      <td>NaN</td>\n",
       "    </tr>\n",
       "    <tr>\n",
       "      <th>6</th>\n",
       "      <td>NaN</td>\n",
       "      <td>NaN</td>\n",
       "      <td>2022</td>\n",
       "      <td>NaN</td>\n",
       "      <td>NaN</td>\n",
       "      <td>NaN</td>\n",
       "    </tr>\n",
       "  </tbody>\n",
       "</table>\n",
       "</div>"
      ],
      "text/plain": [
       "  Cluster1 Cluster2 Cluster3 Cluster4 Cluster5 Cluster6\n",
       "0     2008     2010     1999     2001     1998     2004\n",
       "1     2012     2016     2000     2003     2002     2007\n",
       "2      NaN     2024     2006     2005     2015     2009\n",
       "3      NaN      NaN     2013     2014     2017     2011\n",
       "4      NaN      NaN     2018     2020     2019     2023\n",
       "5      NaN      NaN     2021      NaN      NaN      NaN\n",
       "6      NaN      NaN     2022      NaN      NaN      NaN"
      ]
     },
     "execution_count": 169,
     "metadata": {},
     "output_type": "execute_result"
    }
   ],
   "source": [
    "df_st = df.copy()\n",
    "df_st['Año'] = df_st['Año'].astype('string')\n",
    "\n",
    "\n",
    "columns_to_normalize = df_st.columns.difference(['Año'])\n",
    "\n",
    "scaler = StandardScaler()\n",
    "df_st[columns_to_normalize] = scaler.fit_transform(df_st[columns_to_normalize])\n",
    "\n",
    "\n",
    "kmeans = KMeans(n_clusters=6, random_state=42)\n",
    "df_st['Cluster_KMeans'] = kmeans.fit_predict(df_st[columns_to_normalize])\n",
    "\n",
    "# Crear un DataFrame vacío para los resultados\n",
    "df_result = pd.DataFrame(index=range(max(df_st['Cluster_KMeans'].value_counts())), \n",
    "                         columns=[f'Cluster{i+1}' for i in range(6)])\n",
    "\n",
    "# Iterar sobre cada clúster y asignar los años\n",
    "for cluster in range(6):\n",
    "    years = df_st[df_st['Cluster_KMeans'] == cluster]['Año'].values\n",
    "    df_result[f'Cluster{cluster + 1}'][:len(years)] = sorted(years)\n",
    "\n",
    "# Mostrar el DataFrame final\n",
    "df_result"
   ]
  },
  {
   "cell_type": "code",
   "execution_count": null,
   "metadata": {},
   "outputs": [],
   "source": []
  }
 ],
 "metadata": {
  "kernelspec": {
   "display_name": "Python 3",
   "language": "python",
   "name": "python3"
  },
  "language_info": {
   "codemirror_mode": {
    "name": "ipython",
    "version": 3
   },
   "file_extension": ".py",
   "mimetype": "text/x-python",
   "name": "python",
   "nbconvert_exporter": "python",
   "pygments_lexer": "ipython3",
   "version": "3.9.12"
  }
 },
 "nbformat": 4,
 "nbformat_minor": 2
}
